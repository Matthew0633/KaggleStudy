{
  "nbformat": 4,
  "nbformat_minor": 0,
  "metadata": {
    "kernelspec": {
      "name": "python3",
      "display_name": "Python 3",
      "language": "python"
    },
    "language_info": {
      "name": "python",
      "version": "3.7.9",
      "mimetype": "text/x-python",
      "codemirror_mode": {
        "name": "ipython",
        "version": 3
      },
      "pygments_lexer": "ipython3",
      "nbconvert_exporter": "python",
      "file_extension": ".py"
    },
    "colab": {
      "name": "D6_DL5_A Deeper Understanding of Deep Learning.ipynb",
      "provenance": []
    }
  },
  "cells": [
    {
      "cell_type": "markdown",
      "metadata": {
        "id": "fd0sI4x9rh-m"
      },
      "source": [
        "**This notebook is an exercise in the [Deep Learning for Computer Vision](https://www.kaggle.com/learn/deep-learning-for-computer-vision) course.  You can reference the tutorial at [this link](https://www.kaggle.com/dansbecker/deep-learning-from-scratch).**\n",
        "\n",
        "---\n"
      ]
    },
    {
      "cell_type": "markdown",
      "metadata": {
        "id": "NIETkOUirh-s"
      },
      "source": [
        "# Introduction\n",
        "\n",
        "You've seen how to build a model from scratch to identify handwritten digits.  You'll now build a model to identify different types of clothing.  To make models that train quickly, we'll work with very small (low-resolution) images. \n",
        "\n",
        "As an example, your model will take an images like this and identify it as a shoe:\n",
        "\n",
        "![Imgur](https://i.imgur.com/GyXOnSB.png)"
      ]
    },
    {
      "cell_type": "markdown",
      "metadata": {
        "id": "s24EZrJyrh-s"
      },
      "source": [
        "# Data Preparation\n",
        "This code is supplied, and you don't need to change it. Just run the cell below."
      ]
    },
    {
      "cell_type": "code",
      "metadata": {
        "trusted": true,
        "id": "eWbaAouwrh-t",
        "outputId": "9cd5e95c-ae15-498e-c75a-92c6ec18c0fa"
      },
      "source": [
        "import numpy as np\n",
        "from sklearn.model_selection import train_test_split\n",
        "from tensorflow import keras\n",
        "\n",
        "img_rows, img_cols = 28, 28\n",
        "num_classes = 10\n",
        "\n",
        "def prep_data(raw):\n",
        "    y = raw[:, 0]\n",
        "    out_y = keras.utils.to_categorical(y, num_classes)\n",
        "    \n",
        "    x = raw[:,1:]\n",
        "    num_images = raw.shape[0]\n",
        "    out_x = x.reshape(num_images, img_rows, img_cols, 1)\n",
        "    out_x = out_x / 255\n",
        "    return out_x, out_y\n",
        "\n",
        "fashion_file = \"../input/fashionmnist/fashion-mnist_train.csv\"\n",
        "fashion_data = np.loadtxt(fashion_file, skiprows=1, delimiter=',')\n",
        "x, y = prep_data(fashion_data)\n",
        "\n",
        "# Set up code checking\n",
        "from learntools.core import binder\n",
        "binder.bind(globals())\n",
        "from learntools.deep_learning.exercise_7 import *\n",
        "print(\"Setup Complete\")"
      ],
      "execution_count": null,
      "outputs": [
        {
          "output_type": "stream",
          "text": [
            "Using TensorFlow version 2.4.0\n",
            "Setup Complete\n"
          ],
          "name": "stdout"
        }
      ]
    },
    {
      "cell_type": "markdown",
      "metadata": {
        "id": "dKbQFi5Wrh-u"
      },
      "source": [
        "# 1) Start the model\n",
        "Create a `Sequential` model called `fashion_model`. Don't add layers yet."
      ]
    },
    {
      "cell_type": "code",
      "metadata": {
        "trusted": true,
        "id": "BByshuTqrh-u",
        "outputId": "83bafff2-14fd-48ae-c986-6d9138fb6b6a"
      },
      "source": [
        "from tensorflow import keras\n",
        "from tensorflow.keras.models import Sequential\n",
        "from tensorflow.keras.layers import Dense, Flatten, Conv2D\n",
        "\n",
        "# Your Code Here\n",
        "fashion_model = Sequential()\n",
        "\n",
        "# Check your answer\n",
        "q_1.check()"
      ],
      "execution_count": null,
      "outputs": [
        {
          "output_type": "display_data",
          "data": {
            "text/plain": [
              "<IPython.core.display.Javascript object>"
            ],
            "application/javascript": [
              "parent.postMessage({\"jupyterEvent\": \"custom.exercise_interaction\", \"data\": {\"outcomeType\": 1, \"valueTowardsCompletion\": 0.16666666666666666, \"interactionType\": 1, \"questionType\": 2, \"questionId\": \"1_StartSequentialModel\", \"learnToolsVersion\": \"0.3.4\", \"failureMessage\": \"\", \"exceptionClass\": \"\", \"trace\": \"\"}}, \"*\")"
            ]
          },
          "metadata": {
            "tags": []
          }
        },
        {
          "output_type": "display_data",
          "data": {
            "text/plain": [
              "Correct"
            ],
            "text/markdown": "<span style=\"color:#33cc33\">Correct</span>"
          },
          "metadata": {
            "tags": []
          }
        }
      ]
    },
    {
      "cell_type": "markdown",
      "metadata": {
        "id": "hMDn5k_Yrh-v"
      },
      "source": [
        "# 2) Add the first layer\n",
        "\n",
        "Add the first `Conv2D` layer to `fashion_model`. It should have 12 filters, a kernel_size of 3 and the `relu` activation function. The first layer always requires that you specify the `input_shape`.  We have saved the number of rows and columns to the variables `img_rows` and `img_cols` respectively, so the input shape in this case is `(img_rows, img_cols, 1)`."
      ]
    },
    {
      "cell_type": "code",
      "metadata": {
        "trusted": true,
        "id": "AAGYh9iarh-w",
        "outputId": "20403dbf-bf6e-4568-b501-a0d8ffb6bbb9"
      },
      "source": [
        "# Your code here\n",
        "fashion_model.add(Conv2D(12,\n",
        "                         activation='relu',\n",
        "                         kernel_size=3,\n",
        "                         input_shape = (img_rows, img_cols, 1)))\n",
        "# Check your answer\n",
        "q_2.check()"
      ],
      "execution_count": null,
      "outputs": [
        {
          "output_type": "display_data",
          "data": {
            "text/plain": [
              "<IPython.core.display.Javascript object>"
            ],
            "application/javascript": [
              "parent.postMessage({\"jupyterEvent\": \"custom.exercise_interaction\", \"data\": {\"outcomeType\": 1, \"valueTowardsCompletion\": 0.16666666666666666, \"interactionType\": 1, \"questionType\": 2, \"questionId\": \"2_AddFirstLayer\", \"learnToolsVersion\": \"0.3.4\", \"failureMessage\": \"\", \"exceptionClass\": \"\", \"trace\": \"\"}}, \"*\")"
            ]
          },
          "metadata": {
            "tags": []
          }
        },
        {
          "output_type": "display_data",
          "data": {
            "text/plain": [
              "Correct"
            ],
            "text/markdown": "<span style=\"color:#33cc33\">Correct</span>"
          },
          "metadata": {
            "tags": []
          }
        }
      ]
    },
    {
      "cell_type": "markdown",
      "metadata": {
        "id": "vZtIm_6lrh-w"
      },
      "source": [
        "# 3) Add the remaining layers\n",
        "\n",
        "1. Add 2 more convolutional (`Conv2D layers`) with 20 filters each, 'relu' activation, and a kernel size of 3. Follow that with a `Flatten` layer, and then a `Dense` layer with 100 neurons. \n",
        "2. Add your prediction layer to `fashion_model`.  This is a `Dense` layer.  We alrady have a variable called `num_classes`.  Use this variable when specifying the number of nodes in this layer. The activation should be `softmax` (or you will have problems later)."
      ]
    },
    {
      "cell_type": "code",
      "metadata": {
        "trusted": true,
        "id": "JAwK8_CTrh-x",
        "outputId": "44379051-ed33-4518-f791-c69b7e48b74b"
      },
      "source": [
        "# Your code here\n",
        "fashion_model.add(Conv2D(20, activation='relu', kernel_size=3))\n",
        "fashion_model.add(Conv2D(20, activation='relu', kernel_size=3))\n",
        "fashion_model.add(Flatten())\n",
        "fashion_model.add(Dense(100, activation='relu'))\n",
        "fashion_model.add(Dense(10, activation='softmax'))\n",
        "\n",
        "# Check your answer\n",
        "q_3.check()"
      ],
      "execution_count": null,
      "outputs": [
        {
          "output_type": "display_data",
          "data": {
            "text/plain": [
              "<IPython.core.display.Javascript object>"
            ],
            "application/javascript": [
              "parent.postMessage({\"jupyterEvent\": \"custom.exercise_interaction\", \"data\": {\"outcomeType\": 1, \"valueTowardsCompletion\": 0.16666666666666666, \"interactionType\": 1, \"questionType\": 2, \"questionId\": \"3_AddMoreLayers\", \"learnToolsVersion\": \"0.3.4\", \"failureMessage\": \"\", \"exceptionClass\": \"\", \"trace\": \"\"}}, \"*\")"
            ]
          },
          "metadata": {
            "tags": []
          }
        },
        {
          "output_type": "display_data",
          "data": {
            "text/plain": [
              "Correct"
            ],
            "text/markdown": "<span style=\"color:#33cc33\">Correct</span>"
          },
          "metadata": {
            "tags": []
          }
        }
      ]
    },
    {
      "cell_type": "markdown",
      "metadata": {
        "id": "ijHd86vQrh-x"
      },
      "source": [
        "# 4) Compile Your Model\n",
        "Compile fashion_model with the `compile` method.  Specify the following arguments:\n",
        "1. `loss = \"categorical_crossentropy\"`\n",
        "2. `optimizer = 'adam'`\n",
        "3. `metrics = ['accuracy']`"
      ]
    },
    {
      "cell_type": "code",
      "metadata": {
        "trusted": true,
        "id": "eMZQP_cTrh-x",
        "outputId": "613dce48-6440-4dce-da2c-d8ddbee0218f"
      },
      "source": [
        "# Your code to compile the model in this cell\n",
        "fashion_model.compile(loss='categorical_crossentropy',\n",
        "                      optimizer='adam',\n",
        "                      metrics=['accuracy'])\n",
        "# Check your answer\n",
        "q_4.check()"
      ],
      "execution_count": null,
      "outputs": [
        {
          "output_type": "display_data",
          "data": {
            "text/plain": [
              "<IPython.core.display.Javascript object>"
            ],
            "application/javascript": [
              "parent.postMessage({\"jupyterEvent\": \"custom.exercise_interaction\", \"data\": {\"outcomeType\": 1, \"valueTowardsCompletion\": 0.16666666666666666, \"interactionType\": 1, \"questionType\": 2, \"questionId\": \"4_CompileModel\", \"learnToolsVersion\": \"0.3.4\", \"failureMessage\": \"\", \"exceptionClass\": \"\", \"trace\": \"\"}}, \"*\")"
            ]
          },
          "metadata": {
            "tags": []
          }
        },
        {
          "output_type": "display_data",
          "data": {
            "text/plain": [
              "Correct"
            ],
            "text/markdown": "<span style=\"color:#33cc33\">Correct</span>"
          },
          "metadata": {
            "tags": []
          }
        }
      ]
    },
    {
      "cell_type": "markdown",
      "metadata": {
        "id": "ob5DjtY6rh-y"
      },
      "source": [
        "# 5) Fit The Model\n",
        "Run the command `fashion_model.fit`. The arguments you will use are\n",
        "1. The data used to fit the model. First comes the data holding the images, and second is the data with the class labels to be predicted. Look at the first code cell (which was supplied to you) where we called `prep_data` to find the variable names for these.\n",
        "2. `batch_size = 100`\n",
        "3. `epochs = 4`\n",
        "4. `validation_split = 0.2`\n",
        "\n",
        "When you run this command, you can watch your model start improving.  You will see validation accuracies after each epoch."
      ]
    },
    {
      "cell_type": "code",
      "metadata": {
        "trusted": true,
        "id": "yLkSXUdjrh-y",
        "outputId": "8bd764f1-800d-4a74-979c-324e86f70494"
      },
      "source": [
        "# Your code to fit the model here\n",
        "fashion_model.fit(x, y, batch_size=100, epochs=4, validation_split=0.2)\n",
        "\n",
        "# Check your answer\n",
        "q_5.check()"
      ],
      "execution_count": null,
      "outputs": [
        {
          "output_type": "stream",
          "text": [
            "Epoch 1/4\n",
            "480/480 [==============================] - 6s 5ms/step - loss: 0.6741 - accuracy: 0.7605 - val_loss: 0.3882 - val_accuracy: 0.8571\n",
            "Epoch 2/4\n",
            "480/480 [==============================] - 2s 4ms/step - loss: 0.3185 - accuracy: 0.8851 - val_loss: 0.3033 - val_accuracy: 0.8914\n",
            "Epoch 3/4\n",
            "480/480 [==============================] - 2s 4ms/step - loss: 0.2635 - accuracy: 0.9039 - val_loss: 0.2713 - val_accuracy: 0.9038\n",
            "Epoch 4/4\n",
            "480/480 [==============================] - 2s 4ms/step - loss: 0.2120 - accuracy: 0.9223 - val_loss: 0.2628 - val_accuracy: 0.9063\n"
          ],
          "name": "stdout"
        },
        {
          "output_type": "display_data",
          "data": {
            "text/plain": [
              "<IPython.core.display.Javascript object>"
            ],
            "application/javascript": [
              "parent.postMessage({\"jupyterEvent\": \"custom.exercise_interaction\", \"data\": {\"outcomeType\": 1, \"valueTowardsCompletion\": 0.16666666666666666, \"interactionType\": 1, \"questionType\": 2, \"questionId\": \"5_FitFullDLModel\", \"learnToolsVersion\": \"0.3.4\", \"failureMessage\": \"\", \"exceptionClass\": \"\", \"trace\": \"\"}}, \"*\")"
            ]
          },
          "metadata": {
            "tags": []
          }
        },
        {
          "output_type": "display_data",
          "data": {
            "text/plain": [
              "Correct"
            ],
            "text/markdown": "<span style=\"color:#33cc33\">Correct</span>"
          },
          "metadata": {
            "tags": []
          }
        }
      ]
    },
    {
      "cell_type": "markdown",
      "metadata": {
        "id": "RRBmPe_2rh-y"
      },
      "source": [
        "# 6) Create A New Model\n",
        "\n",
        "Create a new model called `second_fashion_model` in the cell below.  Make some changes so it is different than `fashion_model` that you've trained above. The change could be using a different number of layers, different number of convolutions in the layers, etc.\n",
        "\n",
        "Define the model, compile it and fit it in the cell below.  See how its validation score compares to that of the original model."
      ]
    },
    {
      "cell_type": "code",
      "metadata": {
        "trusted": false,
        "id": "5UO-HBOrrh-z"
      },
      "source": [
        "# Your code below\n",
        "second_fashion_model = Sequential()\n",
        "second_fashion_model.add(Conv2D(12,\n",
        "                         activation='relu',\n",
        "                         kernel_size=3,\n",
        "                         input_shape = (img_rows, img_cols, 1)))\n",
        "\n",
        "# Changed kernel sizes to be 2\n",
        "second_fashion_model.add(Conv2D(20, activation='relu', kernel_size=2))\n",
        "second_fashion_model.add(Conv2D(20, activation='relu', kernel_size=2))\n",
        "\n",
        "# added an addition Conv2D layer\n",
        "second_fashion_model.add(Conv2D(20, activation='relu', kernel_size=2))\n",
        "second_fashion_model.add(Flatten())\n",
        "second_fashion_model.add(Dense(100, activation='relu'))\n",
        "\n",
        "# It is important not to change the last layer. First argument matches number of classes. Softmax guarantees we get reasonable probabilities\n",
        "second_fashion_model.add(Dense(10, activation='softmax'))\n",
        "\n",
        "second_fashion_model.compile(loss='categorical_crossentropy',\n",
        "                             optimizer='adam',\n",
        "                             metrics=['accuracy'])\n",
        "\n",
        "second_fashion_model.fit(x, y, batch_size=100, epochs=4, validation_split=0.2)\n",
        "\n",
        "# Don't remove this line (ensures comptibility with tensorflow 2.0)\n",
        "second_fashion_model.history.history['val_acc'] = second_fashion_model.history.history['val_accuracy']\n",
        "\n",
        "# Check your answer\n",
        "q_6.check()"
      ],
      "execution_count": null,
      "outputs": []
    },
    {
      "cell_type": "markdown",
      "metadata": {
        "id": "q2mZWoA2rh-z"
      },
      "source": [
        "# Keep Going\n",
        "You are ready to learn about **[strides and dropout](https://www.kaggle.com/dansbecker/dropout-and-strides-for-larger-models)**, which become important as you start using bigger and more powerful models.\n"
      ]
    },
    {
      "cell_type": "markdown",
      "metadata": {
        "id": "tSlfpTY1rh-0"
      },
      "source": [
        "---\n",
        "\n",
        "\n",
        "\n",
        "\n",
        "*Have questions or comments? Visit the [Learn Discussion forum](https://www.kaggle.com/learn-forum/161321) to chat with other Learners.*"
      ]
    }
  ]
}