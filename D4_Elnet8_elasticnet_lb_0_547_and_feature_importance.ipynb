{
  "nbformat": 4,
  "nbformat_minor": 0,
  "metadata": {
    "_change_revision": 2,
    "_is_fork": false,
    "kernelspec": {
      "display_name": "Python 3",
      "language": "python",
      "name": "python3"
    },
    "language_info": {
      "codemirror_mode": {
        "name": "ipython",
        "version": 3
      },
      "file_extension": ".py",
      "mimetype": "text/x-python",
      "name": "python",
      "nbconvert_exporter": "python",
      "pygments_lexer": "ipython3",
      "version": "3.6.0"
    },
    "colab": {
      "name": "Elnet8_elasticnet-lb-0-547-and-feature-importance.ipynb",
      "provenance": [],
      "collapsed_sections": []
    }
  },
  "cells": [
    {
      "cell_type": "markdown",
      "metadata": {
        "id": "nVu1MKxyPCcz"
      },
      "source": [
        "## Impressions and Reviews  \r\n",
        "- Elasticnet CV -> Elasticnet fit을 통해 최적의 alpha와 l1_ratio를 찾을 수 있다\r\n",
        "- ElasticnetCV 를 통해 알아낸 l1 또는 l2 혹은 mix를 사용해서 feature selection을 수행할 수 있다 (다중공선성이 있을 때는 Ridge가 Lasso보다 낫기도 하다)"
      ]
    },
    {
      "cell_type": "markdown",
      "metadata": {
        "_cell_guid": "ab037723-587e-a537-97c7-fcdf577f40af",
        "id": "QGDrAmVrS6iu"
      },
      "source": [
        "- ### **Dataset에 의한 과적합을 방지하기 위해 feature selection을 하는 것이 바람직해보이고 이에 Elasticnet 사용 (Ridge + Lasso)**\n",
        "\n",
        "- ### **l1_ratio 가 1이면 Lasso, 0이면 Ridge, 0과1사이면 Mix**\n",
        "- ### **alpha 는 regularization amount 의미**\n",
        "\n",
        "- ###  **l2 비중을 높일 때 덜중요한 변수의 계수는 0에 가까워지고, feature selection의 technique으로 사용 가능**\n",
        "- ### **다중공선성 존재할 때도 Ridge가 lasso보다 나은 성능을 보인다**\n",
        "\n",
        "\n",
        "Hello there everyone!\n",
        "\n",
        "I am new to this competition but it looks like this dataset leads to overfitting problems. In addition, it seems like Mercedes is interested in reducing the dataset to a few meaningful variables. Therefore, I thought it was a good idea to try one of the best linear models I know for tackling overfitting that works also as a feature selection method: **Elastic Nets**.  \n",
        "\n",
        "Elastic Nets are essentially a **Lasso/Ridge** hybrid, that entails the minimization of an objective function that includes both **L1** (Lasso) and **L2** (Ridge) norms. You can find more about ElasticNets [here][1].  \n",
        "\n",
        "For the sake of this notebook it is important to notice that Elastic nets depends on two parameters: \n",
        "\n",
        "* the **l1_ratio**, i.e. the tradeoff between the two norms (l1_ratio = 0 --> Ridge,  l1_ratio = 1 --> Lasso, 0<l1_ration<1 --> Mix of the two);\n",
        "* **alpha**, that regulates the amount of penalty applied.\n",
        "\n",
        "It is important to know that minimizing the L1 norm will force some coefficients to shrink to zero, and that's why Elastic Nets can be used as feature selection techniques. Besides, when there's a high degree of collinearity in the data, the cross-validation procedure used to determine these two parameters will return low l1_ratio since Ridge tends to outperform Lasso in these cases.\n",
        "\n",
        "Ok... let's use scikit-learn and see how these methods perfom and which features they select!\n",
        "\n",
        "  [1]: http://www.onthelambda.com/2015/08/19/kickin-it-with-elastic-net-regression/"
      ]
    },
    {
      "cell_type": "markdown",
      "metadata": {
        "_cell_guid": "daa3a95f-f785-c953-0dd0-25b5108166de",
        "id": "qMeJ_k9IS6iy"
      },
      "source": [
        "# Initialization"
      ]
    },
    {
      "cell_type": "code",
      "metadata": {
        "_cell_guid": "5c25d1c7-7d5d-23a5-f48e-1ca72e6065c4",
        "id": "64XSe3hBS6iz"
      },
      "source": [
        "# load modules\n",
        "import pandas as pd\n",
        "import numpy as np\n",
        "from sklearn import preprocessing\n",
        "from sklearn.metrics import r2_score\n",
        "\n",
        "import matplotlib.pyplot as plt\n",
        "%matplotlib inline"
      ],
      "execution_count": 2,
      "outputs": []
    },
    {
      "cell_type": "code",
      "metadata": {
        "_cell_guid": "15316c87-5ea9-3c9b-4d55-5a254a9d06ef",
        "id": "Ag4mHhyNS6i0"
      },
      "source": [
        "# load data\n",
        "train_df  = pd.read_csv('/content/train.csv')\n",
        "test_df  = pd.read_csv('/content/test.csv')"
      ],
      "execution_count": 4,
      "outputs": []
    },
    {
      "cell_type": "code",
      "metadata": {
        "colab": {
          "base_uri": "https://localhost:8080/",
          "height": 262
        },
        "id": "TCj_SwcKV5hz",
        "outputId": "15e6b6bf-de63-4264-c45c-ffa7956591ce"
      },
      "source": [
        "print(train_df.shape)\r\n",
        "train_df.head()"
      ],
      "execution_count": 10,
      "outputs": [
        {
          "output_type": "stream",
          "text": [
            "(4209, 377)\n"
          ],
          "name": "stdout"
        },
        {
          "output_type": "execute_result",
          "data": {
            "text/html": [
              "<div>\n",
              "<style scoped>\n",
              "    .dataframe tbody tr th:only-of-type {\n",
              "        vertical-align: middle;\n",
              "    }\n",
              "\n",
              "    .dataframe tbody tr th {\n",
              "        vertical-align: top;\n",
              "    }\n",
              "\n",
              "    .dataframe thead th {\n",
              "        text-align: right;\n",
              "    }\n",
              "</style>\n",
              "<table border=\"1\" class=\"dataframe\">\n",
              "  <thead>\n",
              "    <tr style=\"text-align: right;\">\n",
              "      <th></th>\n",
              "      <th>ID</th>\n",
              "      <th>X0</th>\n",
              "      <th>X1</th>\n",
              "      <th>X2</th>\n",
              "      <th>X3</th>\n",
              "      <th>X4</th>\n",
              "      <th>X5</th>\n",
              "      <th>X6</th>\n",
              "      <th>X8</th>\n",
              "      <th>X10</th>\n",
              "      <th>X11</th>\n",
              "      <th>X12</th>\n",
              "      <th>X13</th>\n",
              "      <th>X14</th>\n",
              "      <th>X15</th>\n",
              "      <th>X16</th>\n",
              "      <th>X17</th>\n",
              "      <th>X18</th>\n",
              "      <th>X19</th>\n",
              "      <th>X20</th>\n",
              "      <th>X21</th>\n",
              "      <th>X22</th>\n",
              "      <th>X23</th>\n",
              "      <th>X24</th>\n",
              "      <th>X26</th>\n",
              "      <th>X27</th>\n",
              "      <th>X28</th>\n",
              "      <th>X29</th>\n",
              "      <th>X30</th>\n",
              "      <th>X31</th>\n",
              "      <th>X32</th>\n",
              "      <th>X33</th>\n",
              "      <th>X34</th>\n",
              "      <th>X35</th>\n",
              "      <th>X36</th>\n",
              "      <th>X37</th>\n",
              "      <th>X38</th>\n",
              "      <th>X39</th>\n",
              "      <th>X40</th>\n",
              "      <th>X41</th>\n",
              "      <th>...</th>\n",
              "      <th>X345</th>\n",
              "      <th>X346</th>\n",
              "      <th>X347</th>\n",
              "      <th>X348</th>\n",
              "      <th>X349</th>\n",
              "      <th>X350</th>\n",
              "      <th>X351</th>\n",
              "      <th>X352</th>\n",
              "      <th>X353</th>\n",
              "      <th>X354</th>\n",
              "      <th>X355</th>\n",
              "      <th>X356</th>\n",
              "      <th>X357</th>\n",
              "      <th>X358</th>\n",
              "      <th>X359</th>\n",
              "      <th>X360</th>\n",
              "      <th>X361</th>\n",
              "      <th>X362</th>\n",
              "      <th>X363</th>\n",
              "      <th>X364</th>\n",
              "      <th>X365</th>\n",
              "      <th>X366</th>\n",
              "      <th>X367</th>\n",
              "      <th>X368</th>\n",
              "      <th>X369</th>\n",
              "      <th>X370</th>\n",
              "      <th>X371</th>\n",
              "      <th>X372</th>\n",
              "      <th>X373</th>\n",
              "      <th>X374</th>\n",
              "      <th>X375</th>\n",
              "      <th>X376</th>\n",
              "      <th>X377</th>\n",
              "      <th>X378</th>\n",
              "      <th>X379</th>\n",
              "      <th>X380</th>\n",
              "      <th>X382</th>\n",
              "      <th>X383</th>\n",
              "      <th>X384</th>\n",
              "      <th>X385</th>\n",
              "    </tr>\n",
              "  </thead>\n",
              "  <tbody>\n",
              "    <tr>\n",
              "      <th>0</th>\n",
              "      <td>0</td>\n",
              "      <td>k</td>\n",
              "      <td>v</td>\n",
              "      <td>at</td>\n",
              "      <td>a</td>\n",
              "      <td>d</td>\n",
              "      <td>u</td>\n",
              "      <td>j</td>\n",
              "      <td>o</td>\n",
              "      <td>0</td>\n",
              "      <td>0</td>\n",
              "      <td>0</td>\n",
              "      <td>1</td>\n",
              "      <td>0</td>\n",
              "      <td>0</td>\n",
              "      <td>0</td>\n",
              "      <td>0</td>\n",
              "      <td>1</td>\n",
              "      <td>0</td>\n",
              "      <td>0</td>\n",
              "      <td>1</td>\n",
              "      <td>0</td>\n",
              "      <td>0</td>\n",
              "      <td>0</td>\n",
              "      <td>0</td>\n",
              "      <td>0</td>\n",
              "      <td>0</td>\n",
              "      <td>0</td>\n",
              "      <td>0</td>\n",
              "      <td>1</td>\n",
              "      <td>0</td>\n",
              "      <td>0</td>\n",
              "      <td>0</td>\n",
              "      <td>1</td>\n",
              "      <td>0</td>\n",
              "      <td>1</td>\n",
              "      <td>0</td>\n",
              "      <td>0</td>\n",
              "      <td>0</td>\n",
              "      <td>0</td>\n",
              "      <td>...</td>\n",
              "      <td>0</td>\n",
              "      <td>0</td>\n",
              "      <td>0</td>\n",
              "      <td>0</td>\n",
              "      <td>0</td>\n",
              "      <td>0</td>\n",
              "      <td>0</td>\n",
              "      <td>0</td>\n",
              "      <td>0</td>\n",
              "      <td>1</td>\n",
              "      <td>0</td>\n",
              "      <td>0</td>\n",
              "      <td>0</td>\n",
              "      <td>0</td>\n",
              "      <td>0</td>\n",
              "      <td>0</td>\n",
              "      <td>1</td>\n",
              "      <td>0</td>\n",
              "      <td>0</td>\n",
              "      <td>0</td>\n",
              "      <td>0</td>\n",
              "      <td>0</td>\n",
              "      <td>0</td>\n",
              "      <td>0</td>\n",
              "      <td>0</td>\n",
              "      <td>0</td>\n",
              "      <td>0</td>\n",
              "      <td>0</td>\n",
              "      <td>0</td>\n",
              "      <td>0</td>\n",
              "      <td>0</td>\n",
              "      <td>0</td>\n",
              "      <td>1</td>\n",
              "      <td>0</td>\n",
              "      <td>0</td>\n",
              "      <td>0</td>\n",
              "      <td>0</td>\n",
              "      <td>0</td>\n",
              "      <td>0</td>\n",
              "      <td>0</td>\n",
              "    </tr>\n",
              "    <tr>\n",
              "      <th>1</th>\n",
              "      <td>6</td>\n",
              "      <td>k</td>\n",
              "      <td>t</td>\n",
              "      <td>av</td>\n",
              "      <td>e</td>\n",
              "      <td>d</td>\n",
              "      <td>y</td>\n",
              "      <td>l</td>\n",
              "      <td>o</td>\n",
              "      <td>0</td>\n",
              "      <td>0</td>\n",
              "      <td>0</td>\n",
              "      <td>0</td>\n",
              "      <td>0</td>\n",
              "      <td>0</td>\n",
              "      <td>0</td>\n",
              "      <td>0</td>\n",
              "      <td>1</td>\n",
              "      <td>0</td>\n",
              "      <td>0</td>\n",
              "      <td>0</td>\n",
              "      <td>0</td>\n",
              "      <td>0</td>\n",
              "      <td>0</td>\n",
              "      <td>0</td>\n",
              "      <td>1</td>\n",
              "      <td>0</td>\n",
              "      <td>0</td>\n",
              "      <td>0</td>\n",
              "      <td>1</td>\n",
              "      <td>0</td>\n",
              "      <td>0</td>\n",
              "      <td>0</td>\n",
              "      <td>1</td>\n",
              "      <td>0</td>\n",
              "      <td>1</td>\n",
              "      <td>0</td>\n",
              "      <td>0</td>\n",
              "      <td>0</td>\n",
              "      <td>0</td>\n",
              "      <td>...</td>\n",
              "      <td>0</td>\n",
              "      <td>0</td>\n",
              "      <td>0</td>\n",
              "      <td>1</td>\n",
              "      <td>0</td>\n",
              "      <td>0</td>\n",
              "      <td>0</td>\n",
              "      <td>0</td>\n",
              "      <td>0</td>\n",
              "      <td>0</td>\n",
              "      <td>0</td>\n",
              "      <td>0</td>\n",
              "      <td>0</td>\n",
              "      <td>0</td>\n",
              "      <td>0</td>\n",
              "      <td>0</td>\n",
              "      <td>1</td>\n",
              "      <td>0</td>\n",
              "      <td>1</td>\n",
              "      <td>0</td>\n",
              "      <td>0</td>\n",
              "      <td>0</td>\n",
              "      <td>0</td>\n",
              "      <td>0</td>\n",
              "      <td>0</td>\n",
              "      <td>0</td>\n",
              "      <td>0</td>\n",
              "      <td>0</td>\n",
              "      <td>0</td>\n",
              "      <td>0</td>\n",
              "      <td>1</td>\n",
              "      <td>0</td>\n",
              "      <td>0</td>\n",
              "      <td>0</td>\n",
              "      <td>0</td>\n",
              "      <td>0</td>\n",
              "      <td>0</td>\n",
              "      <td>0</td>\n",
              "      <td>0</td>\n",
              "      <td>0</td>\n",
              "    </tr>\n",
              "    <tr>\n",
              "      <th>2</th>\n",
              "      <td>7</td>\n",
              "      <td>az</td>\n",
              "      <td>w</td>\n",
              "      <td>n</td>\n",
              "      <td>c</td>\n",
              "      <td>d</td>\n",
              "      <td>x</td>\n",
              "      <td>j</td>\n",
              "      <td>x</td>\n",
              "      <td>0</td>\n",
              "      <td>0</td>\n",
              "      <td>0</td>\n",
              "      <td>0</td>\n",
              "      <td>0</td>\n",
              "      <td>0</td>\n",
              "      <td>0</td>\n",
              "      <td>1</td>\n",
              "      <td>0</td>\n",
              "      <td>0</td>\n",
              "      <td>0</td>\n",
              "      <td>0</td>\n",
              "      <td>0</td>\n",
              "      <td>0</td>\n",
              "      <td>0</td>\n",
              "      <td>0</td>\n",
              "      <td>1</td>\n",
              "      <td>1</td>\n",
              "      <td>1</td>\n",
              "      <td>0</td>\n",
              "      <td>1</td>\n",
              "      <td>0</td>\n",
              "      <td>0</td>\n",
              "      <td>0</td>\n",
              "      <td>1</td>\n",
              "      <td>0</td>\n",
              "      <td>1</td>\n",
              "      <td>0</td>\n",
              "      <td>0</td>\n",
              "      <td>0</td>\n",
              "      <td>0</td>\n",
              "      <td>...</td>\n",
              "      <td>0</td>\n",
              "      <td>0</td>\n",
              "      <td>0</td>\n",
              "      <td>1</td>\n",
              "      <td>0</td>\n",
              "      <td>1</td>\n",
              "      <td>0</td>\n",
              "      <td>0</td>\n",
              "      <td>0</td>\n",
              "      <td>1</td>\n",
              "      <td>0</td>\n",
              "      <td>0</td>\n",
              "      <td>0</td>\n",
              "      <td>1</td>\n",
              "      <td>0</td>\n",
              "      <td>0</td>\n",
              "      <td>1</td>\n",
              "      <td>0</td>\n",
              "      <td>1</td>\n",
              "      <td>0</td>\n",
              "      <td>0</td>\n",
              "      <td>0</td>\n",
              "      <td>0</td>\n",
              "      <td>0</td>\n",
              "      <td>0</td>\n",
              "      <td>0</td>\n",
              "      <td>0</td>\n",
              "      <td>0</td>\n",
              "      <td>0</td>\n",
              "      <td>0</td>\n",
              "      <td>0</td>\n",
              "      <td>0</td>\n",
              "      <td>0</td>\n",
              "      <td>0</td>\n",
              "      <td>0</td>\n",
              "      <td>0</td>\n",
              "      <td>1</td>\n",
              "      <td>0</td>\n",
              "      <td>0</td>\n",
              "      <td>0</td>\n",
              "    </tr>\n",
              "    <tr>\n",
              "      <th>3</th>\n",
              "      <td>9</td>\n",
              "      <td>az</td>\n",
              "      <td>t</td>\n",
              "      <td>n</td>\n",
              "      <td>f</td>\n",
              "      <td>d</td>\n",
              "      <td>x</td>\n",
              "      <td>l</td>\n",
              "      <td>e</td>\n",
              "      <td>0</td>\n",
              "      <td>0</td>\n",
              "      <td>0</td>\n",
              "      <td>0</td>\n",
              "      <td>0</td>\n",
              "      <td>0</td>\n",
              "      <td>0</td>\n",
              "      <td>0</td>\n",
              "      <td>0</td>\n",
              "      <td>0</td>\n",
              "      <td>0</td>\n",
              "      <td>0</td>\n",
              "      <td>0</td>\n",
              "      <td>0</td>\n",
              "      <td>0</td>\n",
              "      <td>0</td>\n",
              "      <td>1</td>\n",
              "      <td>1</td>\n",
              "      <td>1</td>\n",
              "      <td>0</td>\n",
              "      <td>1</td>\n",
              "      <td>0</td>\n",
              "      <td>0</td>\n",
              "      <td>0</td>\n",
              "      <td>1</td>\n",
              "      <td>0</td>\n",
              "      <td>1</td>\n",
              "      <td>0</td>\n",
              "      <td>0</td>\n",
              "      <td>0</td>\n",
              "      <td>0</td>\n",
              "      <td>...</td>\n",
              "      <td>0</td>\n",
              "      <td>0</td>\n",
              "      <td>0</td>\n",
              "      <td>1</td>\n",
              "      <td>0</td>\n",
              "      <td>1</td>\n",
              "      <td>0</td>\n",
              "      <td>0</td>\n",
              "      <td>0</td>\n",
              "      <td>0</td>\n",
              "      <td>0</td>\n",
              "      <td>0</td>\n",
              "      <td>0</td>\n",
              "      <td>1</td>\n",
              "      <td>0</td>\n",
              "      <td>0</td>\n",
              "      <td>1</td>\n",
              "      <td>0</td>\n",
              "      <td>1</td>\n",
              "      <td>0</td>\n",
              "      <td>0</td>\n",
              "      <td>0</td>\n",
              "      <td>0</td>\n",
              "      <td>0</td>\n",
              "      <td>0</td>\n",
              "      <td>0</td>\n",
              "      <td>0</td>\n",
              "      <td>1</td>\n",
              "      <td>0</td>\n",
              "      <td>0</td>\n",
              "      <td>0</td>\n",
              "      <td>0</td>\n",
              "      <td>0</td>\n",
              "      <td>0</td>\n",
              "      <td>0</td>\n",
              "      <td>0</td>\n",
              "      <td>0</td>\n",
              "      <td>0</td>\n",
              "      <td>0</td>\n",
              "      <td>0</td>\n",
              "    </tr>\n",
              "    <tr>\n",
              "      <th>4</th>\n",
              "      <td>13</td>\n",
              "      <td>az</td>\n",
              "      <td>v</td>\n",
              "      <td>n</td>\n",
              "      <td>f</td>\n",
              "      <td>d</td>\n",
              "      <td>h</td>\n",
              "      <td>d</td>\n",
              "      <td>n</td>\n",
              "      <td>0</td>\n",
              "      <td>0</td>\n",
              "      <td>0</td>\n",
              "      <td>0</td>\n",
              "      <td>0</td>\n",
              "      <td>0</td>\n",
              "      <td>0</td>\n",
              "      <td>0</td>\n",
              "      <td>0</td>\n",
              "      <td>0</td>\n",
              "      <td>0</td>\n",
              "      <td>0</td>\n",
              "      <td>0</td>\n",
              "      <td>0</td>\n",
              "      <td>0</td>\n",
              "      <td>0</td>\n",
              "      <td>1</td>\n",
              "      <td>1</td>\n",
              "      <td>1</td>\n",
              "      <td>0</td>\n",
              "      <td>1</td>\n",
              "      <td>0</td>\n",
              "      <td>0</td>\n",
              "      <td>0</td>\n",
              "      <td>1</td>\n",
              "      <td>0</td>\n",
              "      <td>1</td>\n",
              "      <td>0</td>\n",
              "      <td>0</td>\n",
              "      <td>0</td>\n",
              "      <td>0</td>\n",
              "      <td>...</td>\n",
              "      <td>0</td>\n",
              "      <td>0</td>\n",
              "      <td>0</td>\n",
              "      <td>1</td>\n",
              "      <td>0</td>\n",
              "      <td>1</td>\n",
              "      <td>0</td>\n",
              "      <td>0</td>\n",
              "      <td>0</td>\n",
              "      <td>0</td>\n",
              "      <td>0</td>\n",
              "      <td>0</td>\n",
              "      <td>0</td>\n",
              "      <td>1</td>\n",
              "      <td>0</td>\n",
              "      <td>0</td>\n",
              "      <td>1</td>\n",
              "      <td>0</td>\n",
              "      <td>1</td>\n",
              "      <td>0</td>\n",
              "      <td>0</td>\n",
              "      <td>0</td>\n",
              "      <td>0</td>\n",
              "      <td>0</td>\n",
              "      <td>0</td>\n",
              "      <td>0</td>\n",
              "      <td>1</td>\n",
              "      <td>0</td>\n",
              "      <td>0</td>\n",
              "      <td>0</td>\n",
              "      <td>0</td>\n",
              "      <td>0</td>\n",
              "      <td>0</td>\n",
              "      <td>0</td>\n",
              "      <td>0</td>\n",
              "      <td>0</td>\n",
              "      <td>0</td>\n",
              "      <td>0</td>\n",
              "      <td>0</td>\n",
              "      <td>0</td>\n",
              "    </tr>\n",
              "  </tbody>\n",
              "</table>\n",
              "<p>5 rows × 377 columns</p>\n",
              "</div>"
            ],
            "text/plain": [
              "   ID  X0 X1  X2 X3 X4 X5 X6  ... X377  X378  X379  X380  X382  X383  X384  X385\n",
              "0   0   k  v  at  a  d  u  j  ...    1     0     0     0     0     0     0     0\n",
              "1   6   k  t  av  e  d  y  l  ...    0     0     0     0     0     0     0     0\n",
              "2   7  az  w   n  c  d  x  j  ...    0     0     0     0     1     0     0     0\n",
              "3   9  az  t   n  f  d  x  l  ...    0     0     0     0     0     0     0     0\n",
              "4  13  az  v   n  f  d  h  d  ...    0     0     0     0     0     0     0     0\n",
              "\n",
              "[5 rows x 377 columns]"
            ]
          },
          "metadata": {
            "tags": []
          },
          "execution_count": 10
        }
      ]
    },
    {
      "cell_type": "code",
      "metadata": {
        "_cell_guid": "e39bfe7d-2054-024d-c349-288104bde187",
        "id": "NHnihxcCS6i1"
      },
      "source": [
        "# X, y 분리 후 dataset 통합\n",
        "train_y = train_df['y']\n",
        "train_df.drop('y', axis = 1, inplace = True)\n",
        "test_ids = test_df.ID.values\n",
        "all_df = pd.concat([train_df,test_df], axis = 0)\n",
        "\n",
        "# 명목형 ohe 수행\n",
        "categorical =  [\"X0\", \"X1\", \"X2\", \"X3\", \"X4\", \"X5\", \"X6\", \"X8\"]\n",
        "for f in categorical:\n",
        "    dummies = pd.get_dummies(all_df[f], prefix = f, prefix_sep = '_')\n",
        "    all_df = pd.concat([all_df, dummies], axis = 1)\n",
        "\n",
        "# ordinal 명목형 변수 drop\n",
        "all_df.drop(categorical, axis = 1, inplace = True)"
      ],
      "execution_count": 5,
      "outputs": []
    },
    {
      "cell_type": "code",
      "metadata": {
        "_cell_guid": "f88fb001-8efc-bd59-f34b-ba4b5a06b7f9",
        "id": "bTPkg-nPS6i2"
      },
      "source": [
        "# 'id' drop 후 train test 분리\n",
        "train_X = all_df.drop([\"ID\"], axis=1).iloc[:len(train_df),:]\n",
        "test_X = all_df.drop([\"ID\"], axis=1).iloc[len(train_df):,:]"
      ],
      "execution_count": 7,
      "outputs": []
    },
    {
      "cell_type": "code",
      "metadata": {
        "_cell_guid": "3c322d7e-774b-93e4-b600-d7d76d44332a",
        "colab": {
          "base_uri": "https://localhost:8080/"
        },
        "id": "g7ubEY0vS6i2",
        "outputId": "991d062c-9c56-42a1-8620-f49ff4af45fb"
      },
      "source": [
        "print(train_X.head())\n",
        "print(test_X.head())"
      ],
      "execution_count": 8,
      "outputs": [
        {
          "output_type": "stream",
          "text": [
            "   X10  X11  X12  X13  X14  X15  X16  ...  X8_s  X8_t  X8_u  X8_v  X8_w  X8_x  X8_y\n",
            "0    0    0    0    1    0    0    0  ...     0     0     0     0     0     0     0\n",
            "1    0    0    0    0    0    0    0  ...     0     0     0     0     0     0     0\n",
            "2    0    0    0    0    0    0    0  ...     0     0     0     0     0     1     0\n",
            "3    0    0    0    0    0    0    0  ...     0     0     0     0     0     0     0\n",
            "4    0    0    0    0    0    0    0  ...     0     0     0     0     0     0     0\n",
            "\n",
            "[5 rows x 579 columns]\n",
            "   X10  X11  X12  X13  X14  X15  X16  ...  X8_s  X8_t  X8_u  X8_v  X8_w  X8_x  X8_y\n",
            "0    0    0    0    0    0    0    0  ...     0     0     0     0     1     0     0\n",
            "1    0    0    0    0    0    0    0  ...     0     0     0     0     0     0     1\n",
            "2    0    0    0    0    1    0    0  ...     0     0     0     0     0     0     0\n",
            "3    0    0    0    0    0    0    0  ...     0     0     0     0     0     0     0\n",
            "4    0    0    0    0    1    0    0  ...     0     0     0     0     0     0     0\n",
            "\n",
            "[5 rows x 579 columns]\n"
          ],
          "name": "stdout"
        }
      ]
    },
    {
      "cell_type": "markdown",
      "metadata": {
        "_cell_guid": "fccc4896-c86a-25ce-1133-1ff4a363f665",
        "id": "ModEPyxgS6i5"
      },
      "source": [
        "# Model development and testing"
      ]
    },
    {
      "cell_type": "code",
      "metadata": {
        "_cell_guid": "f132b2ad-edd0-4456-5fd8-739463066d77",
        "id": "1YzWMBaBS6i5"
      },
      "source": [
        "# alpha와 l1_ratio 최적 조합을 cv를 통해 찾는다\n",
        "# ElasticnetCV모델을 Elasticnet Regression모델 안에 넣고 fit\n",
        "from sklearn.linear_model import ElasticNetCV, ElasticNet\n",
        "\n",
        "cv_model = ElasticNetCV(l1_ratio=[.1, .5, .7, .9, .95, .99, .995, 1], eps=0.001, n_alphas=100, fit_intercept=True, \n",
        "                        normalize=True, precompute='auto', max_iter=2000, tol=0.0001, cv=5, \n",
        "                        copy_X=True, verbose=0, n_jobs=-1, positive=False, random_state=None, selection='cyclic')"
      ],
      "execution_count": null,
      "outputs": []
    },
    {
      "cell_type": "code",
      "metadata": {
        "_cell_guid": "b19e6690-9303-d270-66e5-4b2ae164592c",
        "id": "kJWThoKKS6i6",
        "outputId": "93801bb9-4ccb-43e6-f705-147a5e457ff3"
      },
      "source": [
        "cv_model.fit(train_X, train_y)"
      ],
      "execution_count": null,
      "outputs": [
        {
          "output_type": "execute_result",
          "data": {
            "text/plain": [
              "ElasticNetCV(alphas=None, copy_X=True, cv=5, eps=0.001, fit_intercept=True,\n",
              "       l1_ratio=[0.1, 0.5, 0.7, 0.9, 0.95, 0.99, 0.995, 1], max_iter=2000,\n",
              "       n_alphas=100, n_jobs=-1, normalize=True, positive=False,\n",
              "       precompute='auto', random_state=None, selection='cyclic',\n",
              "       tol=0.0001, verbose=0)"
            ]
          },
          "metadata": {
            "tags": []
          },
          "execution_count": 7
        }
      ]
    },
    {
      "cell_type": "code",
      "metadata": {
        "_cell_guid": "d7ba4139-bdec-6d31-87fc-d6a0ab051893",
        "id": "wRYxthcaS6i7",
        "outputId": "e2f65ee1-9421-4dba-b171-2465ce57b5ce"
      },
      "source": [
        "# 최적의 l1_ratio는 1로 Lasso를 \n",
        "print('Optimal alpha: %.8f'%cv_model.alpha_)\n",
        "print('Optimal l1_ratio: %.3f'%cv_model.l1_ratio_)\n",
        "print('Number of iterations %d'%cv_model.n_iter_)"
      ],
      "execution_count": null,
      "outputs": [
        {
          "output_type": "stream",
          "text": [
            "Optimal alpha: 0.00314540\n",
            "Optimal l1_ratio: 1.000\n",
            "Number of iterations 603\n"
          ],
          "name": "stdout"
        }
      ]
    },
    {
      "cell_type": "markdown",
      "metadata": {
        "_cell_guid": "7459711f-92f4-b381-a006-53c9ff327471",
        "id": "SkoHN2wkS6i8"
      },
      "source": [
        "**l1_ratio = 1**, that means we are just using Lasso."
      ]
    },
    {
      "cell_type": "code",
      "metadata": {
        "_cell_guid": "c84f21b4-7b47-1df5-e3d5-e579b97101d9",
        "id": "s1dvvmjAS6i9",
        "outputId": "0ca83f10-2e28-46d0-d422-8342f3918ef0"
      },
      "source": [
        "# l1_ratio 가 1.0 이 최적이므로  Lasso 사용\n",
        "# train model with best parameters from CV\n",
        "model = ElasticNet(l1_ratio=cv_model.l1_ratio_, alpha = cv_model.alpha_, max_iter=cv_model.n_iter_, fit_intercept=True, normalize = True)\n",
        "model.fit(train_X, train_y)"
      ],
      "execution_count": null,
      "outputs": [
        {
          "output_type": "execute_result",
          "data": {
            "text/plain": [
              "ElasticNet(alpha=0.0031453993038814206, copy_X=True, fit_intercept=True,\n",
              "      l1_ratio=1.0, max_iter=603, normalize=True, positive=False,\n",
              "      precompute=False, random_state=None, selection='cyclic', tol=0.0001,\n",
              "      warm_start=False)"
            ]
          },
          "metadata": {
            "tags": []
          },
          "execution_count": 9
        }
      ]
    },
    {
      "cell_type": "code",
      "metadata": {
        "_cell_guid": "5d4a9cb7-7b13-0144-91da-32f7eac249cd",
        "id": "tzu4YJBSS6i-",
        "outputId": "aa464da3-202b-4250-e4f0-36f6dce81bcf"
      },
      "source": [
        "# r2 score on training dataset\n",
        "print(r2_score(train_y, model.predict(train_X)))"
      ],
      "execution_count": null,
      "outputs": [
        {
          "output_type": "stream",
          "text": [
            "0.586978770942\n"
          ],
          "name": "stdout"
        }
      ]
    },
    {
      "cell_type": "markdown",
      "metadata": {
        "_cell_guid": "27142b96-4827-7d39-74d9-babf075bb6c7",
        "id": "S__UEfaQS6i_"
      },
      "source": [
        "Uncomment below if you want the predictions on the test dataset (LB 0.547+)"
      ]
    },
    {
      "cell_type": "code",
      "metadata": {
        "_cell_guid": "5eeac2c9-ee1c-2c79-80af-059a273361c7",
        "id": "BFR-sHNUS6i_"
      },
      "source": [
        "# preds = model.predict(test_X)\n",
        "# df_sub = pd.DataFrame({'ID': test_ids, 'y': preds})\n",
        "# df_sub.to_csv('elnet_submission_dummies.csv', index=False)"
      ],
      "execution_count": null,
      "outputs": []
    },
    {
      "cell_type": "markdown",
      "metadata": {
        "_cell_guid": "465a432e-5ae8-44e0-6ffe-9df98ead799e",
        "id": "FqZsRTG9S6i_"
      },
      "source": [
        "# Feature importance\n",
        "Let's see the importance of each feature based on the absolute value of their coefficients "
      ]
    },
    {
      "cell_type": "code",
      "metadata": {
        "_cell_guid": "add0d507-8417-48df-fb03-33014339a073",
        "id": "PBKJhOdIS6jA",
        "outputId": "fe97ddd5-aed0-446f-815a-97304aecec70"
      },
      "source": [
        "# model의 coef_를 통해 feature importance 확인\n",
        "feature_importance = pd.Series(index = train_X.columns, data = np.abs(model.coef_))\n",
        "\n",
        "n_selected_features = (feature_importance>0).sum()\n",
        "print('{0:d} features, reduction of {1:2.2f}%'.format(\n",
        "    n_selected_features,(1-n_selected_features/len(feature_importance))*100)) # 0이상의 coef가진 변수만 추출 (88%감소 -> 68개)\n",
        "\n",
        "feature_importance.sort_values().tail(30).plot(kind = 'bar', figsize = (18,6))"
      ],
      "execution_count": null,
      "outputs": [
        {
          "output_type": "stream",
          "text": [
            "68 features, reduction of 88.26%\n"
          ],
          "name": "stdout"
        },
        {
          "output_type": "execute_result",
          "data": {
            "text/plain": [
              "<matplotlib.axes._subplots.AxesSubplot at 0x7fcc78a53a58>"
            ]
          },
          "metadata": {
            "tags": []
          },
          "execution_count": 12
        },
        {
          "output_type": "display_data",
          "data": {
            "image/png": "[encoded data removed]",
            "text/plain": [
              "<matplotlib.figure.Figure at 0x7fcc78a53898>"
            ]
          },
          "metadata": {
            "tags": []
          }
        }
      ]
    },
    {
      "cell_type": "markdown",
      "metadata": {
        "_cell_guid": "be991a61-5efb-b616-f645-003bb1820758",
        "id": "67WrGxskS6jB"
      },
      "source": [
        "## It's nice to see how these features compares with those selected by xgboost or other nonlinear methods. Anyway, 88.26% features reduction (with respect to dataset with dummies) looks nice. Besides, the performance on the LB of this linear method seems to be close to those of more sophisticated ones. \n",
        "\n",
        "Vote this notebook if you liked it :P\n",
        "\n",
        "Cheers"
      ]
    }
  ]
}