{
  "nbformat": 4,
  "nbformat_minor": 0,
  "metadata": {
    "colab": {
      "name": "D6_DL6_Deep learning support [.9663].ipynb",
      "provenance": [],
      "collapsed_sections": [],
      "authorship_tag": "ABX9TyPOVoTcPZxWjSa9cp7Upmld"
    },
    "kernelspec": {
      "name": "python3",
      "display_name": "Python 3"
    }
  },
  "cells": [
    {
      "cell_type": "markdown",
      "metadata": {
        "id": "ZJBTjS__454w"
      },
      "source": [
        "## Impressions and Reviews  \r\n",
        "- ip-app 당 channel, ip-day-hour 당 channel, ip-app-os 당 channel 변수 생성\r\n",
        "- embedding 후 concat을 통하여 binary cls pred"
      ]
    },
    {
      "cell_type": "code",
      "metadata": {
        "id": "OJBqC90w2NxI"
      },
      "source": [
        "# good day, my friends\r\n",
        "# in this kernel we try to continue development of DL models\r\n",
        "# thanks for people who share his works. i hope together we can create smth interest\r\n",
        "\r\n",
        "# https://www.kaggle.com/baomengjiao/embedding-with-neural-network\r\n",
        "# https://www.kaggle.com/gpradk/keras-starter-nn-with-embeddings\r\n",
        "# https://www.kaggle.com/pranav84/lightgbm-fixing-unbalanced-data-auc-0-9787\r\n",
        "# https://www.kaggle.com/rteja1113/lightgbm-with-count-features\r\n",
        "# https://www.kaggle.com/knowledgegrappler/a-simple-nn-solution-with-keras-0-48611-pl\r\n",
        "# https://www.kaggle.com/isaienkov/rnn-with-keras-ridge-sgdr-0-43553\r\n",
        "# https://www.kaggle.com/valkling/mercari-rnn-2ridge-models-with-notes-0-42755/versions#base=2202774&new=2519287\r\n",
        "\r\n",
        "print ('Good luck')\r\n",
        "\r\n",
        "import pandas as pd\r\n",
        "import numpy as np\r\n",
        "import warnings\r\n",
        "warnings.filterwarnings('ignore')\r\n",
        "import os\r\n",
        "os.environ['OMP_NUM_THREADS'] = '4'\r\n",
        "import gc\r\n",
        "\r\n",
        "path = '../input/'\r\n",
        "dtypes = {\r\n",
        "        'ip'            : 'uint32',\r\n",
        "        'app'           : 'uint16',\r\n",
        "        'device'        : 'uint16',\r\n",
        "        'os'            : 'uint16',\r\n",
        "        'channel'       : 'uint16',\r\n",
        "        'is_attributed' : 'uint8',\r\n",
        "        'click_id'      : 'uint32'\r\n",
        "        }\r\n",
        "print('load train....')\r\n",
        "# we save only day 9\r\n",
        "train_df = pd.read_csv(path+\"train.csv\", dtype=dtypes, skiprows = range(1, 131886954), usecols=['ip','app','device','os', 'channel', 'click_time', 'is_attributed'])\r\n",
        "print('load test....')\r\n",
        "test_df = pd.read_csv(path+\"test.csv\", dtype=dtypes, usecols=['ip','app','device','os', 'channel', 'click_time', 'click_id'])\r\n",
        "len_train = len(train_df)\r\n",
        "train_df=train_df.append(test_df)\r\n",
        "del test_df; gc.collect()\r\n",
        "\r\n",
        "# 시간, 날짜 변수\r\n",
        "print('hour, day, wday....')\r\n",
        "train_df['hour'] = pd.to_datetime(train_df.click_time).dt.hour.astype('uint8')\r\n",
        "train_df['day'] = pd.to_datetime(train_df.click_time).dt.day.astype('uint8')\r\n",
        "train_df['wday']  = pd.to_datetime(train_df.click_time).dt.dayofweek.astype('uint8')\r\n",
        "\r\n",
        "# ip-day-hour 당 channel 변수\r\n",
        "print('grouping by ip-day-hour combination....')\r\n",
        "gp = train_df[['ip','day','hour','channel']].groupby(by=['ip','day','hour'])[['channel']].count().reset_index().rename(index=str, columns={'channel': 'qty'})\r\n",
        "train_df = train_df.merge(gp, on=['ip','day','hour'], how='left')\r\n",
        "del gp; gc.collect()\r\n",
        "\r\n",
        "# ip-app 당 channel 변수\r\n",
        "print('group by ip-app combination....')\r\n",
        "gp = train_df[['ip','app', 'channel']].groupby(by=['ip', 'app'])[['channel']].count().reset_index().rename(index=str, columns={'channel': 'ip_app_count'})\r\n",
        "train_df = train_df.merge(gp, on=['ip','app'], how='left')\r\n",
        "del gp; gc.collect()\r\n",
        "\r\n",
        "# ip-app-os 당 channel 변수\r\n",
        "print('group by ip-app-os combination....')\r\n",
        "gp = train_df[['ip','app', 'os', 'channel']].groupby(by=['ip', 'app', 'os'])[['channel']].count().reset_index().rename(index=str, columns={'channel': 'ip_app_os_count'})\r\n",
        "train_df = train_df.merge(gp, on=['ip','app', 'os'], how='left')\r\n",
        "del gp; gc.collect()\r\n",
        "\r\n",
        "# uint16으로 변경\r\n",
        "print(\"vars and data type....\")\r\n",
        "train_df['qty'] = train_df['qty'].astype('uint16')\r\n",
        "train_df['ip_app_count'] = train_df['ip_app_count'].astype('uint16')\r\n",
        "train_df['ip_app_os_count'] = train_df['ip_app_os_count'].astype('uint16')\r\n",
        "\r\n",
        "# 기본변수들을 label encoding\r\n",
        "print(\"label encoding....\")\r\n",
        "from sklearn.preprocessing import LabelEncoder\r\n",
        "train_df[['app','device','os', 'channel', 'hour', 'day', 'wday']].apply(LabelEncoder().fit_transform)\r\n",
        "\r\n",
        "print ('final part of preparation....')\r\n",
        "test_df = train_df[len_train:]\r\n",
        "train_df = train_df[:len_train]\r\n",
        "y_train = train_df['is_attributed'].values\r\n",
        "train_df.drop(['click_id', 'click_time','ip','is_attributed'],1,inplace=True)"
      ],
      "execution_count": null,
      "outputs": []
    },
    {
      "cell_type": "code",
      "metadata": {
        "id": "fFKLfVYX2GvQ"
      },
      "source": [
        "# 변수들 embedding -> concat -> dnn (binary cls)\r\n",
        "print ('neural network....')\r\n",
        "from keras.layers import Input, Embedding, Dense, Flatten, Dropout, concatenate\r\n",
        "from keras.layers import BatchNormalization, SpatialDropout1D\r\n",
        "from keras.callbacks import Callback\r\n",
        "from keras.models import Model\r\n",
        "from keras.optimizers import Adam\r\n",
        "\r\n",
        "max_app = np.max([train_df['app'].max(), test_df['app'].max()])+1\r\n",
        "max_ch = np.max([train_df['channel'].max(), test_df['channel'].max()])+1\r\n",
        "max_dev = np.max([train_df['device'].max(), test_df['device'].max()])+1\r\n",
        "max_os = np.max([train_df['os'].max(), test_df['os'].max()])+1\r\n",
        "max_h = np.max([train_df['hour'].max(), test_df['hour'].max()])+1\r\n",
        "max_d = np.max([train_df['day'].max(), test_df['day'].max()])+1\r\n",
        "max_wd = np.max([train_df['wday'].max(), test_df['wday'].max()])+1\r\n",
        "max_qty = np.max([train_df['qty'].max(), test_df['qty'].max()])+1\r\n",
        "max_c1 = np.max([train_df['ip_app_count'].max(), test_df['ip_app_count'].max()])+1\r\n",
        "max_c2 = np.max([train_df['ip_app_os_count'].max(), test_df['ip_app_os_count'].max()])+1\r\n",
        "\r\n",
        "def get_keras_data(dataset):\r\n",
        "    X = {\r\n",
        "        'app': np.array(dataset.app),\r\n",
        "        'ch': np.array(dataset.channel),\r\n",
        "        'dev': np.array(dataset.device),\r\n",
        "        'os': np.array(dataset.os),\r\n",
        "        'h': np.array(dataset.hour),\r\n",
        "        'd': np.array(dataset.day),\r\n",
        "        'wd': np.array(dataset.wday),\r\n",
        "        'qty': np.array(dataset.qty),\r\n",
        "        'c1': np.array(dataset.ip_app_count),\r\n",
        "        'c2': np.array(dataset.ip_app_os_count)\r\n",
        "    }\r\n",
        "    return X\r\n",
        "train_df = get_keras_data(train_df)\r\n",
        "\r\n",
        "emb_n = 50\r\n",
        "dense_n = 1000\r\n",
        "in_app = Input(shape=[1], name = 'app')\r\n",
        "emb_app = Embedding(max_app, emb_n)(in_app)\r\n",
        "in_ch = Input(shape=[1], name = 'ch')\r\n",
        "emb_ch = Embedding(max_ch, emb_n)(in_ch)\r\n",
        "in_dev = Input(shape=[1], name = 'dev')\r\n",
        "emb_dev = Embedding(max_dev, emb_n)(in_dev)\r\n",
        "in_os = Input(shape=[1], name = 'os')\r\n",
        "emb_os = Embedding(max_os, emb_n)(in_os)\r\n",
        "in_h = Input(shape=[1], name = 'h')\r\n",
        "emb_h = Embedding(max_h, emb_n)(in_h) \r\n",
        "in_d = Input(shape=[1], name = 'd')\r\n",
        "emb_d = Embedding(max_d, emb_n)(in_d) \r\n",
        "in_wd = Input(shape=[1], name = 'wd')\r\n",
        "emb_wd = Embedding(max_wd, emb_n)(in_wd) \r\n",
        "in_qty = Input(shape=[1], name = 'qty')\r\n",
        "emb_qty = Embedding(max_qty, emb_n)(in_qty) \r\n",
        "in_c1 = Input(shape=[1], name = 'c1')\r\n",
        "emb_c1 = Embedding(max_c1, emb_n)(in_c1) \r\n",
        "in_c2 = Input(shape=[1], name = 'c2')\r\n",
        "emb_c2 = Embedding(max_c2, emb_n)(in_c2) \r\n",
        "\r\n",
        "fe = concatenate([(emb_app), (emb_ch), (emb_dev), (emb_os), (emb_h), \r\n",
        "                 (emb_d), (emb_wd), (emb_qty), (emb_c1), (emb_c2)])\r\n",
        "\r\n",
        "s_dout = SpatialDropout1D(0.2)(fe)\r\n",
        "\r\n",
        "x = Flatten()(s_dout)\r\n",
        "x = Dropout(0.2)(Dense(dense_n,activation='relu')(x))\r\n",
        "x = Dropout(0.2)(Dense(dense_n,activation='relu')(x))\r\n",
        "outp = Dense(1,activation='sigmoid')(x)\r\n",
        "model = Model(inputs=[in_app,in_ch,in_dev,in_os,in_h,in_d,in_wd,in_qty,in_c1,in_c2], outputs=outp)\r\n",
        "\r\n",
        "batch_size = 20000\r\n",
        "epochs = 2\r\n",
        "exp_decay = lambda init, fin, steps: (init/fin)**(1/(steps-1)) - 1\r\n",
        "\r\n",
        "steps = int(len(train_df) / batch_size) * epochs\r\n",
        "lr_init, lr_fin = 0.001, 0.0001\r\n",
        "\r\n",
        "lr_decay = exp_decay(lr_init, lr_fin, steps)\r\n",
        "\r\n",
        "optimizer_adam = Adam(lr=0.001, decay=lr_decay)\r\n",
        "\r\n",
        "model.compile(loss='binary_crossentropy',optimizer=optimizer_adam,metrics=['accuracy'])\r\n",
        "\r\n",
        "model.summary()\r\n",
        "\r\n",
        "model.fit(train_df, y_train, batch_size=batch_size, epochs=2, shuffle=True, verbose=2)\r\n",
        "del train_df, y_train; gc.collect()\r\n",
        "model.save_weights('dl_support.h5')\r\n"
      ],
      "execution_count": null,
      "outputs": []
    },
    {
      "cell_type": "code",
      "metadata": {
        "id": "1zh6axgv2Zsx"
      },
      "source": [
        "sub = pd.DataFrame()\r\n",
        "sub['click_id'] = test_df['click_id'].astype('int')\r\n",
        "test_df.drop(['click_id', 'click_time','ip','is_attributed'],1,inplace=True)\r\n",
        "test_df = get_keras_data(test_df)\r\n",
        "\r\n",
        "print(\"predicting....\")\r\n",
        "sub['is_attributed'] = model.predict(test_df, batch_size=batch_size, verbose=2)\r\n",
        "del test_df; gc.collect()\r\n",
        "print(\"writing....\")\r\n",
        "sub.to_csv('dl_support.csv',index=False)\r\n",
        "\r\n",
        "\r\n",
        "\r\n",
        "# write now i don't use validation set\r\n",
        "# since the data is imbalanced, i can't understand how we can separate data the right way\r\n"
      ],
      "execution_count": null,
      "outputs": []
    },
    {
      "cell_type": "code",
      "metadata": {
        "colab": {
          "base_uri": "https://localhost:8080/",
          "height": 317
        },
        "id": "Wje9WyTe2gHW",
        "outputId": "db1d29f5-079a-45e6-a7f4-fd955b32ef0b"
      },
      "source": [
        "import matplotlib.pyplot as plt\r\n",
        "import numpy as np\r\n",
        "steps= np.array([i for i in range(50)])\r\n",
        "lr_init, lr_fin = 0.001, 0.0001\r\n",
        "plt.plot(steps, np.array((lr_init/lr_fin)**(1/(steps-1)) - 1))"
      ],
      "execution_count": 6,
      "outputs": [
        {
          "output_type": "stream",
          "text": [
            "/usr/local/lib/python3.6/dist-packages/ipykernel_launcher.py:5: RuntimeWarning: divide by zero encountered in true_divide\n",
            "  \"\"\"\n"
          ],
          "name": "stderr"
        },
        {
          "output_type": "execute_result",
          "data": {
            "text/plain": [
              "[<matplotlib.lines.Line2D at 0x7f7ad05f8e80>]"
            ]
          },
          "metadata": {
            "tags": []
          },
          "execution_count": 6
        },
        {
          "output_type": "display_data",
          "data": {
            "image/png": "[encoded data removed]",
            "text/plain": [
              "<Figure size 432x288 with 1 Axes>"
            ]
          },
          "metadata": {
            "tags": [],
            "needs_background": "light"
          }
        }
      ]
    },
    {
      "cell_type": "code",
      "metadata": {
        "id": "_acpq9ed24BS"
      },
      "source": [
        ""
      ],
      "execution_count": null,
      "outputs": []
    }
  ]
}