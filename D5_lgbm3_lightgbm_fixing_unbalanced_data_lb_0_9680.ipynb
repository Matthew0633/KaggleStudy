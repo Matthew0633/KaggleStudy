{
  "nbformat": 4,
  "nbformat_minor": 0,
  "metadata": {
    "colab": {
      "name": "D5_lgbm3_lightgbm_fixing_unbalanced_data_lb_0_9680.ipynb",
      "provenance": [],
      "collapsed_sections": [],
      "toc_visible": true,
      "authorship_tag": "ABX9TyMAgANo4MiW0d6mA6FhbEvV"
    },
    "kernelspec": {
      "name": "python3",
      "display_name": "Python 3"
    }
  },
  "cells": [
    {
      "cell_type": "markdown",
      "metadata": {
        "id": "EwIYejZNruHK"
      },
      "source": [
        "## Impressions and Reviews  \r\n",
        "- log dataset 특성상 channel 이나 hour 변수에 대해 다른 feature값들의 조합별 통계값을 사용하고 merge\r\n",
        "- lgb.Dataset과 lgb.train에 대한 neat code"
      ]
    },
    {
      "cell_type": "code",
      "metadata": {
        "id": "hGwekqu2y1IN"
      },
      "source": [
        "\"\"\"\r\n",
        "This version has improvements based on new feature engg techniques observed from different kernels. Below are few of them:\r\n",
        "- https://www.kaggle.com/graf10a/lightgbm-lb-0-9675\r\n",
        "- https://www.kaggle.com/rteja1113/lightgbm-with-count-features?scriptVersionId=2815638\r\n",
        "- https://www.kaggle.com/nuhsikander/lgbm-new-features-corrected?scriptVersionId=2852561\r\n",
        "- https://www.kaggle.com/aloisiodn/lgbm-starter-early-stopping-0-9539 (Original script)\r\n",
        "\"\"\"\r\n",
        "\r\n",
        "import pandas as pd\r\n",
        "import time\r\n",
        "import numpy as np\r\n",
        "#from sklearn.cross_validation import train_test_split\r\n",
        "from sklearn.model_selection import train_test_split\r\n",
        "import lightgbm as lgb\r\n",
        "import gc"
      ],
      "execution_count": 1,
      "outputs": []
    },
    {
      "cell_type": "code",
      "metadata": {
        "id": "Kn7hguLZy2Sf"
      },
      "source": [
        "def lgb_modelfit_nocv(params, dtrain, dvalid, predictors, target='target', objective='binary', metrics='auc',\r\n",
        "                 feval=None, early_stopping_rounds=20, num_boost_round=3000, verbose_eval=10, categorical_features=None):\r\n",
        "    lgb_params = {\r\n",
        "        'boosting_type': 'gbdt',\r\n",
        "        'objective': objective,\r\n",
        "        'metric':metrics,\r\n",
        "        'learning_rate': 0.01,\r\n",
        "        #'is_unbalance': 'true',  # scale_pos_weight를 대신 사용 - class imbalance\r\n",
        "        'num_leaves': 31,  # 2^(max_depth)보다 작아야함\r\n",
        "        'max_depth': -1,  # \r\n",
        "        'min_child_samples': 20,  # Minimum number of data need in a child(min_data_in_leaf)\r\n",
        "        'max_bin': 255,  # Number of bucketed bin for feature values\r\n",
        "        'subsample': 0.6,  # Subsample ratio of the training instance.\r\n",
        "        'subsample_freq': 0,  # frequence of subsample, <=0 means no enable\r\n",
        "        'colsample_bytree': 0.3,  # Subsample ratio of columns when constructing each tree.\r\n",
        "        'min_child_weight': 5,  # Minimum sum of instance weight(hessian) needed in a child(leaf)\r\n",
        "        'subsample_for_bin': 200000,  # Number of samples for constructing bin\r\n",
        "        'min_split_gain': 0,  # lambda_l1, lambda_l2 and min_gain_to_split to regularization\r\n",
        "        'reg_alpha': 0,  # L1 reg\r\n",
        "        'reg_lambda': 0,  # L2 reg\r\n",
        "        'nthread': 4,\r\n",
        "        'verbose': 0,\r\n",
        "        'metric':metrics\r\n",
        "    }\r\n",
        "\r\n",
        "    lgb_params.update(params)\r\n",
        "\r\n",
        "    print(\"preparing validation datasets\")\r\n",
        "\r\n",
        "    xgtrain = lgb.Dataset(dtrain[predictors].values, \r\n",
        "                          label=dtrain[target].values,\r\n",
        "                          feature_name=predictors,\r\n",
        "                          categorical_feature=categorical_features\r\n",
        "                          )\r\n",
        "    xgvalid = lgb.Dataset(dvalid[predictors].values, label=dvalid[target].values,\r\n",
        "                          feature_name=predictors,\r\n",
        "                          categorical_feature=categorical_features\r\n",
        "                          )\r\n",
        "\r\n",
        "    evals_results = {}\r\n",
        "\r\n",
        "    bst1 = lgb.train(lgb_params, \r\n",
        "                     xgtrain, \r\n",
        "                     valid_sets=[xgtrain, xgvalid], \r\n",
        "                     valid_names=['train','valid'], \r\n",
        "                     evals_result=evals_results, \r\n",
        "                     num_boost_round=num_boost_round,\r\n",
        "                     early_stopping_rounds=early_stopping_rounds,\r\n",
        "                     verbose_eval=10, \r\n",
        "                     feval=feval)\r\n",
        "\r\n",
        "    n_estimators = bst1.best_iteration\r\n",
        "    print(\"\\nModel Report\")\r\n",
        "    print(\"n_estimators : \", n_estimators)\r\n",
        "    print(metrics+\":\", evals_results['valid'][metrics][n_estimators-1])\r\n",
        "\r\n",
        "    return bst1"
      ],
      "execution_count": 2,
      "outputs": []
    },
    {
      "cell_type": "code",
      "metadata": {
        "colab": {
          "base_uri": "https://localhost:8080/"
        },
        "id": "qB6Gk0eN6Ab8",
        "outputId": "c1be5006-6b6c-4561-a0be-0e7792ea1fff"
      },
      "source": [
        "path = '/content/'\r\n",
        "\r\n",
        "dtypes = {\r\n",
        "        'ip'            : 'uint32',\r\n",
        "        'app'           : 'uint16',\r\n",
        "        'device'        : 'uint16',\r\n",
        "        'os'            : 'uint16',\r\n",
        "        'channel'       : 'uint16',\r\n",
        "        'is_attributed' : 'uint8',\r\n",
        "        'click_id'      : 'uint32'\r\n",
        "        }\r\n",
        "\r\n",
        "print('loading train data...')\r\n",
        "train_df = pd.read_csv(path+\"train.csv\", skiprows=range(1,144903891), nrows=40000000, dtype=dtypes, usecols=['ip','app','device','os', 'channel', 'click_time', 'is_attributed'])\r\n",
        "\r\n",
        "print('loading test data...')\r\n",
        "test_df = pd.read_csv(path+\"test.csv\", dtype=dtypes, usecols=['ip','app','device','os', 'channel', 'click_time', 'click_id'])\r\n",
        "\r\n",
        "len_train = len(train_df)\r\n",
        "train_df=train_df.append(test_df)\r\n",
        "\r\n",
        "del test_df\r\n",
        "gc.collect()"
      ],
      "execution_count": 3,
      "outputs": [
        {
          "output_type": "stream",
          "text": [
            "loading train data...\n",
            "loading test data...\n"
          ],
          "name": "stdout"
        },
        {
          "output_type": "execute_result",
          "data": {
            "text/plain": [
              "11"
            ]
          },
          "metadata": {
            "tags": []
          },
          "execution_count": 3
        }
      ]
    },
    {
      "cell_type": "code",
      "metadata": {
        "colab": {
          "base_uri": "https://localhost:8080/",
          "height": 214
        },
        "id": "bzMlePaA_9eR",
        "outputId": "298b7cf3-43fa-47b2-f3b6-bfb27c436234"
      },
      "source": [
        "print(train_df.shape)\r\n",
        "train_df.head()"
      ],
      "execution_count": 6,
      "outputs": [
        {
          "output_type": "stream",
          "text": [
            "(58790469, 8)\n"
          ],
          "name": "stdout"
        },
        {
          "output_type": "execute_result",
          "data": {
            "text/html": [
              "<div>\n",
              "<style scoped>\n",
              "    .dataframe tbody tr th:only-of-type {\n",
              "        vertical-align: middle;\n",
              "    }\n",
              "\n",
              "    .dataframe tbody tr th {\n",
              "        vertical-align: top;\n",
              "    }\n",
              "\n",
              "    .dataframe thead th {\n",
              "        text-align: right;\n",
              "    }\n",
              "</style>\n",
              "<table border=\"1\" class=\"dataframe\">\n",
              "  <thead>\n",
              "    <tr style=\"text-align: right;\">\n",
              "      <th></th>\n",
              "      <th>ip</th>\n",
              "      <th>app</th>\n",
              "      <th>device</th>\n",
              "      <th>os</th>\n",
              "      <th>channel</th>\n",
              "      <th>click_time</th>\n",
              "      <th>is_attributed</th>\n",
              "      <th>click_id</th>\n",
              "    </tr>\n",
              "  </thead>\n",
              "  <tbody>\n",
              "    <tr>\n",
              "      <th>0</th>\n",
              "      <td>33924</td>\n",
              "      <td>15</td>\n",
              "      <td>1</td>\n",
              "      <td>19</td>\n",
              "      <td>111</td>\n",
              "      <td>2017-11-09 04:03:08</td>\n",
              "      <td>0.0</td>\n",
              "      <td>NaN</td>\n",
              "    </tr>\n",
              "    <tr>\n",
              "      <th>1</th>\n",
              "      <td>37383</td>\n",
              "      <td>3</td>\n",
              "      <td>1</td>\n",
              "      <td>13</td>\n",
              "      <td>280</td>\n",
              "      <td>2017-11-09 04:03:08</td>\n",
              "      <td>0.0</td>\n",
              "      <td>NaN</td>\n",
              "    </tr>\n",
              "    <tr>\n",
              "      <th>2</th>\n",
              "      <td>122294</td>\n",
              "      <td>15</td>\n",
              "      <td>1</td>\n",
              "      <td>10</td>\n",
              "      <td>245</td>\n",
              "      <td>2017-11-09 04:03:08</td>\n",
              "      <td>0.0</td>\n",
              "      <td>NaN</td>\n",
              "    </tr>\n",
              "    <tr>\n",
              "      <th>3</th>\n",
              "      <td>73258</td>\n",
              "      <td>9</td>\n",
              "      <td>1</td>\n",
              "      <td>25</td>\n",
              "      <td>145</td>\n",
              "      <td>2017-11-09 04:03:08</td>\n",
              "      <td>0.0</td>\n",
              "      <td>NaN</td>\n",
              "    </tr>\n",
              "    <tr>\n",
              "      <th>4</th>\n",
              "      <td>73347</td>\n",
              "      <td>15</td>\n",
              "      <td>1</td>\n",
              "      <td>13</td>\n",
              "      <td>430</td>\n",
              "      <td>2017-11-09 04:03:08</td>\n",
              "      <td>0.0</td>\n",
              "      <td>NaN</td>\n",
              "    </tr>\n",
              "  </tbody>\n",
              "</table>\n",
              "</div>"
            ],
            "text/plain": [
              "       ip  app  device  ...           click_time  is_attributed click_id\n",
              "0   33924   15       1  ...  2017-11-09 04:03:08            0.0      NaN\n",
              "1   37383    3       1  ...  2017-11-09 04:03:08            0.0      NaN\n",
              "2  122294   15       1  ...  2017-11-09 04:03:08            0.0      NaN\n",
              "3   73258    9       1  ...  2017-11-09 04:03:08            0.0      NaN\n",
              "4   73347   15       1  ...  2017-11-09 04:03:08            0.0      NaN\n",
              "\n",
              "[5 rows x 8 columns]"
            ]
          },
          "metadata": {
            "tags": []
          },
          "execution_count": 6
        }
      ]
    },
    {
      "cell_type": "code",
      "metadata": {
        "colab": {
          "base_uri": "https://localhost:8080/"
        },
        "id": "Nq5KPe6fK0rE",
        "outputId": "e3fda0e7-ec32-4f55-fccf-cb556934fccd"
      },
      "source": [
        "# click_time을 hour과 day로 나누어 파생변수 생성\r\n",
        "print('Extracting new features...')\r\n",
        "train_df['hour'] = pd.to_datetime(train_df.click_time).dt.hour.astype('uint8')\r\n",
        "train_df['day'] = pd.to_datetime(train_df.click_time).dt.day.astype('uint8')\r\n",
        "\r\n",
        "gc.collect()"
      ],
      "execution_count": 4,
      "outputs": [
        {
          "output_type": "stream",
          "text": [
            "Extracting new features...\n"
          ],
          "name": "stdout"
        },
        {
          "output_type": "execute_result",
          "data": {
            "text/plain": [
              "20"
            ]
          },
          "metadata": {
            "tags": []
          },
          "execution_count": 4
        }
      ]
    },
    {
      "cell_type": "code",
      "metadata": {
        "colab": {
          "base_uri": "https://localhost:8080/"
        },
        "id": "l9XFD00oL4Z_",
        "outputId": "b7c97d41-012e-42ac-a801-25c973c62060"
      },
      "source": [
        "# 'ip','day','hour' 조합별 channel 개수 변수 추가 - 아래 셀 참고\r\n",
        "\r\n",
        "print('grouping by ip-day-hour combination...')\r\n",
        "gp = train_df[['ip','day','hour','channel']].groupby(by=['ip','day','hour'])[['channel']] \\\r\n",
        "                                            .count() \\\r\n",
        "                                            .reset_index()                        \\\r\n",
        "                                            .rename(index=str, columns={'channel': 'ip_tcount'})\r\n",
        "train_df = train_df.merge(gp, on=['ip','day','hour'], how='left')\r\n",
        "del gp\r\n",
        "gc.collect()"
      ],
      "execution_count": 5,
      "outputs": [
        {
          "output_type": "stream",
          "text": [
            "grouping by ip-day-hour combination...\n"
          ],
          "name": "stdout"
        },
        {
          "output_type": "execute_result",
          "data": {
            "text/plain": [
              "0"
            ]
          },
          "metadata": {
            "tags": []
          },
          "execution_count": 5
        }
      ]
    },
    {
      "cell_type": "code",
      "metadata": {
        "colab": {
          "base_uri": "https://localhost:8080/",
          "height": 434
        },
        "id": "nJJSvrZhDI1T",
        "outputId": "7a35523a-074f-48ee-da41-b5b990683c95"
      },
      "source": [
        "# 'ip','day','hour' 조합으로 이루어진 index들이 column으로 이동(reset_index)하고 이 3개 컬럼으로 merge가 일어난다\r\n",
        "train_df[['ip','day','hour','channel']].groupby(by=['ip','day','hour'])[['channel']] \\\r\n",
        "                                            .count() \\\r\n",
        "                                           # .reset_index()                        \\\r\n",
        "                                           # .rename(index=str, columns={'channel': 'ip_tcount'})"
      ],
      "execution_count": 11,
      "outputs": [
        {
          "output_type": "execute_result",
          "data": {
            "text/html": [
              "<div>\n",
              "<style scoped>\n",
              "    .dataframe tbody tr th:only-of-type {\n",
              "        vertical-align: middle;\n",
              "    }\n",
              "\n",
              "    .dataframe tbody tr th {\n",
              "        vertical-align: top;\n",
              "    }\n",
              "\n",
              "    .dataframe thead th {\n",
              "        text-align: right;\n",
              "    }\n",
              "</style>\n",
              "<table border=\"1\" class=\"dataframe\">\n",
              "  <thead>\n",
              "    <tr style=\"text-align: right;\">\n",
              "      <th></th>\n",
              "      <th></th>\n",
              "      <th></th>\n",
              "      <th>channel</th>\n",
              "    </tr>\n",
              "    <tr>\n",
              "      <th>ip</th>\n",
              "      <th>day</th>\n",
              "      <th>hour</th>\n",
              "      <th></th>\n",
              "    </tr>\n",
              "  </thead>\n",
              "  <tbody>\n",
              "    <tr>\n",
              "      <th>0</th>\n",
              "      <th>10</th>\n",
              "      <th>4</th>\n",
              "      <td>2</td>\n",
              "    </tr>\n",
              "    <tr>\n",
              "      <th rowspan=\"4\" valign=\"top\">1</th>\n",
              "      <th rowspan=\"4\" valign=\"top\">9</th>\n",
              "      <th>10</th>\n",
              "      <td>11</td>\n",
              "    </tr>\n",
              "    <tr>\n",
              "      <th>12</th>\n",
              "      <td>2</td>\n",
              "    </tr>\n",
              "    <tr>\n",
              "      <th>13</th>\n",
              "      <td>1</td>\n",
              "    </tr>\n",
              "    <tr>\n",
              "      <th>14</th>\n",
              "      <td>6</td>\n",
              "    </tr>\n",
              "    <tr>\n",
              "      <th>...</th>\n",
              "      <th>...</th>\n",
              "      <th>...</th>\n",
              "      <td>...</td>\n",
              "    </tr>\n",
              "    <tr>\n",
              "      <th rowspan=\"2\" valign=\"top\">364776</th>\n",
              "      <th rowspan=\"2\" valign=\"top\">9</th>\n",
              "      <th>14</th>\n",
              "      <td>18</td>\n",
              "    </tr>\n",
              "    <tr>\n",
              "      <th>15</th>\n",
              "      <td>23</td>\n",
              "    </tr>\n",
              "    <tr>\n",
              "      <th>364777</th>\n",
              "      <th>9</th>\n",
              "      <th>13</th>\n",
              "      <td>4</td>\n",
              "    </tr>\n",
              "    <tr>\n",
              "      <th rowspan=\"2\" valign=\"top\">364778</th>\n",
              "      <th rowspan=\"2\" valign=\"top\">9</th>\n",
              "      <th>8</th>\n",
              "      <td>1</td>\n",
              "    </tr>\n",
              "    <tr>\n",
              "      <th>14</th>\n",
              "      <td>15</td>\n",
              "    </tr>\n",
              "  </tbody>\n",
              "</table>\n",
              "<p>972729 rows × 1 columns</p>\n",
              "</div>"
            ],
            "text/plain": [
              "                 channel\n",
              "ip     day hour         \n",
              "0      10  4           2\n",
              "1      9   10         11\n",
              "           12          2\n",
              "           13          1\n",
              "           14          6\n",
              "...                  ...\n",
              "364776 9   14         18\n",
              "           15         23\n",
              "364777 9   13          4\n",
              "364778 9   8           1\n",
              "           14         15\n",
              "\n",
              "[972729 rows x 1 columns]"
            ]
          },
          "metadata": {
            "tags": []
          },
          "execution_count": 11
        }
      ]
    },
    {
      "cell_type": "code",
      "metadata": {
        "colab": {
          "base_uri": "https://localhost:8080/"
        },
        "id": "pMhsbkZz_wv6",
        "outputId": "0eb32630-147c-4a4e-cc16-a4d500ff1311"
      },
      "source": [
        "# 'ip', 'app' 조합별 channel 개수 변수 추가\r\n",
        "print('grouping by ip-app combination...')\r\n",
        "gp = train_df[['ip', 'app', 'channel']].groupby(by=['ip', 'app'])[['channel']].count().reset_index().rename(index=str, columns={'channel': 'ip_app_count'})\r\n",
        "train_df = train_df.merge(gp, on=['ip','app'], how='left')\r\n",
        "del gp\r\n",
        "gc.collect()\r\n",
        "\r\n",
        "# 'ip','app', 'os' 조합별 channel 개수 변수 추가\r\n",
        "print('grouping by ip-app-os combination...')\r\n",
        "gp = train_df[['ip','app', 'os', 'channel']].groupby(by=['ip', 'app', 'os'])[['channel']].count().reset_index().rename(index=str, columns={'channel': 'ip_app_os_count'})\r\n",
        "train_df = train_df.merge(gp, on=['ip','app', 'os'], how='left')\r\n",
        "del gp\r\n",
        "gc.collect()\r\n",
        "\r\n",
        "# 'ip','day','hour' 별 hour 분산 변수 추가\r\n",
        "# Adding features with var and mean hour (inspired from nuhsikander's script)\r\n",
        "print('grouping by : ip_day_chl_var_hour')\r\n",
        "gp = train_df[['ip','day','hour','channel']].groupby(by=['ip','day','channel'])[['hour']].var().reset_index().rename(index=str, columns={'hour': 'ip_tchan_count'})\r\n",
        "train_df = train_df.merge(gp, on=['ip','day','channel'], how='left')\r\n",
        "del gp\r\n",
        "gc.collect()\r\n",
        "\r\n",
        "# 'ip','app','os' 별 hour 분산 변수 추가\r\n",
        "print('grouping by : ip_app_os_var_hour')\r\n",
        "gp = train_df[['ip','app', 'os', 'hour']].groupby(by=['ip', 'app', 'os'])[['hour']].var().reset_index().rename(index=str, columns={'hour': 'ip_app_os_var'})\r\n",
        "train_df = train_df.merge(gp, on=['ip','app', 'os'], how='left')\r\n",
        "del gp\r\n",
        "gc.collect()\r\n",
        "\r\n",
        "# 'ip','app', 'channel' 별 hour 분산 변수 추가\r\n",
        "print('grouping by : ip_app_channel_var_day')\r\n",
        "gp = train_df[['ip','app', 'channel', 'day']].groupby(by=['ip', 'app', 'channel'])[['day']].var().reset_index().rename(index=str, columns={'day': 'ip_app_channel_var_day'})\r\n",
        "train_df = train_df.merge(gp, on=['ip','app', 'channel'], how='left')\r\n",
        "del gp\r\n",
        "gc.collect()\r\n",
        "\r\n",
        "# 'ip','app', 'channel' 별 hour 평균 변수 추가\r\n",
        "print('grouping by : ip_app_chl_mean_hour')\r\n",
        "gp = train_df[['ip','app', 'channel','hour']].groupby(by=['ip', 'app', 'channel'])[['hour']].mean().reset_index().rename(index=str, columns={'hour': 'ip_app_channel_mean_hour'})\r\n",
        "print(\"merging...\")\r\n",
        "train_df = train_df.merge(gp, on=['ip','app', 'channel'], how='left')\r\n",
        "del gp\r\n",
        "gc.collect()"
      ],
      "execution_count": null,
      "outputs": [
        {
          "output_type": "stream",
          "text": [
            "grouping by ip-app combination...\n",
            "grouping by ip-app-os combination...\n",
            "grouping by : ip_day_chl_var_hour\n",
            "grouping by : ip_app_os_var_hour\n"
          ],
          "name": "stdout"
        }
      ]
    },
    {
      "cell_type": "code",
      "metadata": {
        "id": "_mV6o49uM9TE"
      },
      "source": [
        "## data type 변환 및 train_test_split 실시\r\n",
        "\r\n",
        "print(\"vars and data type: \")\r\n",
        "train_df.info()\r\n",
        "train_df['ip_tcount'] = train_df['ip_tcount'].astype('uint16')\r\n",
        "train_df['ip_app_count'] = train_df['ip_app_count'].astype('uint16')\r\n",
        "train_df['ip_app_os_count'] = train_df['ip_app_os_count'].astype('uint16')\r\n",
        "\r\n",
        "\r\n",
        "test_df = train_df[len_train:]\r\n",
        "val_df = train_df[(len_train-2500000):len_train]\r\n",
        "train_df = train_df[:(len_train-2500000)]\r\n",
        "\r\n",
        "print(\"train size: \", len(train_df))\r\n",
        "print(\"valid size: \", len(val_df))\r\n",
        "print(\"test size : \", len(test_df))"
      ],
      "execution_count": null,
      "outputs": []
    },
    {
      "cell_type": "code",
      "metadata": {
        "id": "Xal7lW9TruRO"
      },
      "source": [
        "# feature명 분류: target, feature_names, categorical - lgb_modelfit_nocv(lgb.Dataset) 함수에 사용\r\n",
        "target = 'is_attributed'\r\n",
        "predictors = ['app','device','os', 'channel', 'hour', 'day', \r\n",
        "              'ip_tcount', 'ip_tchan_count', 'ip_app_count',\r\n",
        "              'ip_app_os_count', 'ip_app_os_var',\r\n",
        "              'ip_app_channel_var_day','ip_app_channel_mean_hour']\r\n",
        "categorical = ['app', 'device', 'os', 'channel', 'hour', 'day']\r\n",
        "\r\n",
        "sub = pd.DataFrame()\r\n",
        "sub['click_id'] = test_df['click_id'].astype('int')\r\n",
        "\r\n",
        "gc.collect()\r\n",
        "\r\n",
        "print(\"Training...\")\r\n",
        "start_time = time.time()\r\n",
        "\r\n",
        "\r\n",
        "params = {\r\n",
        "    'learning_rate': 0.15,\r\n",
        "    #'is_unbalance': 'true', # replaced with scale_pos_weight argument\r\n",
        "    'num_leaves': 7,  # 2^max_depth - 1\r\n",
        "    'max_depth': 3,  # -1 means no limit\r\n",
        "    'min_child_samples': 100,  # Minimum number of data need in a child(min_data_in_leaf)\r\n",
        "    'max_bin': 100,  # Number of bucketed bin for feature values\r\n",
        "    'subsample': 0.7,  # Subsample ratio of the training instance.\r\n",
        "    'subsample_freq': 1,  # frequence of subsample, <=0 means no enable\r\n",
        "    'colsample_bytree': 0.9,  # Subsample ratio of columns when constructing each tree.\r\n",
        "    'min_child_weight': 0,  # Minimum sum of instance weight(hessian) needed in a child(leaf)\r\n",
        "    'scale_pos_weight':99 # unbalance labels in train data\r\n",
        "}\r\n",
        "bst = lgb_modelfit_nocv(params, \r\n",
        "                        train_df, \r\n",
        "                        val_df, \r\n",
        "                        predictors, \r\n",
        "                        target, \r\n",
        "                        objective='binary', \r\n",
        "                        metrics='auc',\r\n",
        "                        early_stopping_rounds=30, \r\n",
        "                        verbose_eval=True, \r\n",
        "                        num_boost_round=500, \r\n",
        "                        categorical_features=categorical)\r\n",
        "\r\n",
        "print('[{}]: model training time'.format(time.time() - start_time))\r\n",
        "del train_df\r\n",
        "del val_df\r\n",
        "gc.collect()"
      ],
      "execution_count": null,
      "outputs": []
    },
    {
      "cell_type": "code",
      "metadata": {
        "id": "zoz1FX99rvIx"
      },
      "source": [
        "# predict 실행\r\n",
        "print(\"Predicting...\")\r\n",
        "sub['is_attributed'] = bst.predict(test_df[predictors])\r\n",
        "print(\"writing...\")\r\n",
        "sub.to_csv('sub_lgb_balanced99.csv',index=False)\r\n",
        "print(\"done...\")"
      ],
      "execution_count": null,
      "outputs": []
    }
  ]
}