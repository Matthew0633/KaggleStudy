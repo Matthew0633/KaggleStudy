{
  "nbformat": 4,
  "nbformat_minor": 0,
  "metadata": {
    "language_info": {
      "name": "python",
      "version": "3.7.6",
      "mimetype": "text/x-python",
      "codemirror_mode": {
        "name": "ipython",
        "version": 3
      },
      "pygments_lexer": "ipython3",
      "nbconvert_exporter": "python",
      "file_extension": ".py"
    },
    "kernelspec": {
      "name": "python3",
      "display_name": "Python 3",
      "language": "python"
    },
    "colab": {
      "name": "Ridge7_ridge-lb-0-0100659.ipynb",
      "provenance": [],
      "collapsed_sections": []
    }
  },
  "cells": [
    {
      "cell_type": "markdown",
      "metadata": {
        "id": "pDMnFRH17pKS"
      },
      "source": [
        "## Impressions and Reviews  \r\n",
        "- y값을 median을 mix해주는 preprocesing 시도\r\n",
        "- pred값에 계속 median을 5%씩 mix하며 결과변화를 관측"
      ]
    },
    {
      "cell_type": "code",
      "metadata": {
        "id": "QuVNw8557tLu"
      },
      "source": [
        "import kagglegym\r\n",
        "import numpy as np\r\n",
        "import pandas as pd\r\n",
        "# from sklearn import linear_model as lm\r\n",
        "from sklearn.linear_model import Ridge\r\n",
        "\r\n",
        "target = 'y'\r\n",
        "\r\n",
        "# The \"environment\" is our interface for code competitions\r\n",
        "env = kagglegym.make()\r\n",
        "\r\n",
        "# We get our initial observation by calling \"reset\"\r\n",
        "observation = env.reset()\r\n",
        "\r\n",
        "# Get the train dataframe\r\n",
        "train = observation.train\r\n",
        "mean_values = train.mean(axis=0)\r\n",
        "train.fillna(mean_values, inplace=True) # 평균으로 결측치 대입\r\n",
        "\r\n",
        "# cols_to_use = ['technical_30', 'technical_20', 'fundamental_11']"
      ],
      "execution_count": null,
      "outputs": []
    },
    {
      "cell_type": "code",
      "metadata": {
        "id": "38kZzq817wPR"
      },
      "source": [
        "# Observed with histograns:\r\n",
        "low_y_cut = -0.086093\r\n",
        "high_y_cut = 0.093497\r\n",
        "\r\n",
        "\r\n",
        "y_is_above_cut = (train.y > high_y_cut)\r\n",
        "y_is_below_cut = (train.y < low_y_cut)\r\n",
        "y_is_within_cut = (~y_is_above_cut & ~y_is_below_cut)\r\n",
        "\r\n",
        "ridge1 = Ridge() ## f11 only\r\n",
        "ridge2 = Ridge() ## t30 and f11\r\n",
        "ridge3 = Ridge() ## t20 and f11\r\n",
        "ridge4 = Ridge() ## t30, t20, f11\r\n",
        "\r\n",
        "train = train.loc[y_is_within_cut] # cut 사이 구간\r\n",
        "\r\n",
        "index1 = train.query(\"technical_30 == 0.0 & technical_20 == 0.0\").index\r\n",
        "index2 = train.query(\"technical_30 != 0.0 & technical_20 == 0.0\").index\r\n",
        "index3 = train.query(\"technical_30 == 0.0 & technical_20 != 0.0\").index\r\n",
        "index4 = train.query(\"technical_30 != 0.0 & technical_20 != 0.0\").index\r\n",
        "\r\n",
        "ridge1.fit(train.loc[index1, [\"fundamental_11\"]].values, train.loc[index1].y)\r\n",
        "ridge2.fit(train.loc[index2, ['technical_30', 'fundamental_11']].values, train.loc[index2].y)\r\n",
        "ridge3.fit(train.loc[index3, ['technical_20', 'fundamental_11']].values, train.loc[index3].y)\r\n",
        "ridge4.fit(train.loc[index4, ['technical_30', 'technical_20', 'fundamental_11']].values, train.loc[index4].y)\r\n",
        "\r\n",
        "\r\n",
        "# model = Ridge()\r\n",
        "# model.fit(np.array(train.loc[y_is_within_cut, cols_to_use].values), train.loc[y_is_within_cut, target])\r\n",
        "\r\n",
        "\r\n",
        "ymedian_dict = dict(train.groupby([\"id\"])[\"y\"].median()) # id별 target의 중간값\r\n",
        "\r\n",
        "\r\n",
        "def get_weighted_y(series):\r\n",
        "    id, y = series[\"id\"], series[\"y\"]\r\n",
        "    \r\n",
        "    # 실제y값 * 95% + y의 중간값*0.05\r\n",
        "    return 0.95 * y + 0.05 * ymedian_dict[id] if id in ymedian_dict else y"
      ],
      "execution_count": null,
      "outputs": []
    },
    {
      "cell_type": "code",
      "metadata": {
        "_kg_hide-input": false,
        "trusted": false,
        "id": "FNKrDHgV6Ahr"
      },
      "source": [
        "while True:\n",
        "    observation.features.fillna(mean_values, inplace=True)\n",
        "    # test_x = np.array(observation.features[cols_to_use].values)\n",
        "    # observation.target.y = model.predict(test_x).clip(low_y_cut, high_y_cut)\n",
        "    \n",
        "    index1 = observation.features.query(\"technical_30 == 0.0 & technical_20 == 0.0\").index\n",
        "    index2 = observation.features.query(\"technical_30 != 0.0 & technical_20 == 0.0\").index\n",
        "    index3 = observation.features.query(\"technical_30 == 0.0 & technical_20 != 0.0\").index\n",
        "    index4 = observation.features.query(\"technical_30 != 0.0 & technical_20 != 0.0\").index\n",
        "    \n",
        "    # np.clip() : 주어진 구간에 속하지 않는 원소들은 해당 최소 및 최대값으로 변환\n",
        "    if len(index1) > 0:\n",
        "        observation.target.loc[index1, 'y'] = ridge1.predict(observation.features.loc[index1, [\"fundamental_11\"]].values).clip(low_y_cut, high_y_cut)\n",
        "    if len(index2) > 0:\n",
        "        observation.target.loc[index2, 'y'] = ridge2.predict(observation.features.loc[index2, ['technical_30', 'fundamental_11']].values).clip(low_y_cut, high_y_cut)\n",
        "    if len(index3) > 0:\n",
        "        observation.target.loc[index3, 'y'] = ridge3.predict(observation.features.loc[index3, ['technical_20', 'fundamental_11']].values).clip(low_y_cut, high_y_cut)\n",
        "    if len(index4) > 0:\n",
        "        observation.target.loc[index4, 'y'] = ridge4.predict(observation.features.loc[index4, ['technical_30', 'technical_20', 'fundamental_11']].values).clip(low_y_cut, high_y_cut)\n",
        "\n",
        "    ## weighted y using average value\n",
        "    observation.target.y = observation.target.apply(get_weighted_y, axis = 1)\n",
        "    \n",
        "    #observation.target.fillna(0, inplace=True)\n",
        "    target = observation.target\n",
        "    timestamp = observation.features[\"timestamp\"][0]\n",
        "    if timestamp % 100 == 0:\n",
        "        print(\"Timestamp #{}\".format(timestamp))\n",
        "\n",
        "    observation, reward, done, info = env.step(target)\n",
        "    if done:\n",
        "        break\n",
        "    \n",
        "print(info)"
      ],
      "execution_count": null,
      "outputs": []
    }
  ]
}