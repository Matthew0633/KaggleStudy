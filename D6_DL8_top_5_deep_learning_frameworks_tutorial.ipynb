{
  "nbformat": 4,
  "nbformat_minor": 0,
  "metadata": {
    "kernelspec": {
      "display_name": "Python 3",
      "language": "python",
      "name": "python3"
    },
    "language_info": {
      "codemirror_mode": {
        "name": "ipython",
        "version": 3
      },
      "file_extension": ".py",
      "mimetype": "text/x-python",
      "name": "python",
      "nbconvert_exporter": "python",
      "pygments_lexer": "ipython3",
      "version": "3.6.6"
    },
    "colab": {
      "name": "D6_DL8_top-5-deep-learning-frameworks-tutorial.ipynb",
      "provenance": []
    }
  },
  "cells": [
    {
      "cell_type": "markdown",
      "metadata": {
        "id": "_XcQswEYtrLC"
      },
      "source": [
        "## Impressions and Reviews  \r\n",
        "- image predict, lable별 confidence 시각화 제공\r\n",
        "- theano 예시"
      ]
    },
    {
      "cell_type": "markdown",
      "metadata": {
        "_uuid": "a8f9622945156d6337ba73c481da2de7efef7384",
        "id": "4pBILUdop_Fr"
      },
      "source": [
        "# <div style=\"text-align: center\">Top 5 Deep Learning Frameworks Tutorial </div>\n",
        " ### <div align=\"center\"><b>CLEAR DATA. MADE MODEL.</b></div>\n",
        " <div align=\"center\">Each framework is built in a different manner for different purposes. In this Notebook, we look at the 5 deep learning frameworks to give you a better idea of which framework will be the perfect fit or come handy in solving your **business challenges**.</div>"
      ]
    },
    {
      "cell_type": "markdown",
      "metadata": {
        "_uuid": "cda11210a88d6484112cbe2c3624225328326c6a",
        "id": "-v3n__Smp_Fs"
      },
      "source": [
        " <a id=\"top\"></a> <br>\n",
        "## Notebook  Content\n",
        "1. [Introduction](#1)\n",
        "    1. [Courses](#2)\n",
        "    1. [Kaggle kernels](#3)\n",
        "    1. [Ebooks](#4)\n",
        "    1. [Cheat Sheets](#5)\n",
        "    1. [Deep Learning vs Machine Learning](#6)\n",
        "1. [Loading Packages & Data](#7)\n",
        "    1. [Version](#8)\n",
        "    1. [Setup](#9)\n",
        "    1. [Loading Data](#10)\n",
        "        1. [Data fields](#11)\n",
        "    1. [EDA](#12)\n",
        "1. [Python Deep Learning Packages](#31)\n",
        "    1. [Keras](#33)\n",
        "        1. [Analysis](#34)\n",
        "        1. [Text Classification with Keras](#331)\n",
        "    1. [TensorFlow](#35)\n",
        "        1. [Import the Fashion MNIST dataset](#36)\n",
        "        1. [Explore the data](#37)\n",
        "        1. [Preprocess the data](#38)\n",
        "        1. [Build the model](#39)\n",
        "            1. [Setup the layers](#40)\n",
        "        1. [Compile the model](#41)\n",
        "        1. [Train the model](#42)\n",
        "        1. [Evaluate accuracy](#43)\n",
        "        1. [Make predictions](#44)\n",
        "    1. [Theano](#45)\n",
        "        1. [Theano( example)](#46)\n",
        "        1. [Calculating multiple results at once](#47)\n",
        "    1. [Pytroch](#48)\n",
        "        1. [Tensors](#49)\n",
        "        1. [Operations](#50)\n",
        "    1. [CNTK](#51)\n",
        "1. [Conclusion](#51)\n",
        "1. [References](#52)"
      ]
    },
    {
      "cell_type": "markdown",
      "metadata": {
        "_uuid": "750903cc2679d39058f56df6c6c040be02b748df",
        "id": "296UZGKXp_Ft"
      },
      "source": [
        " <a id=\"1\"></a> <br>\n",
        "## 1- Introduction\n",
        "This is a **comprehensive Deep Learning techniques with python**, it is clear that everyone in this community is familiar with **MNIST dataset**  and other data sets that I want to use in this kernel sach as **Quora** but if you need to review your information about the dataset please visit [MNIST](https://en.wikipedia.org/wiki/MNIST_database), [Quora](https://www.kaggle.com/c/quora-insincere-questions-classification).\n",
        "\n",
        "I have tried to help  Kaggle users  how to face deep learning problems. and I think it is a great opportunity for who want to learn deep learning workflow with python completely.\n",
        "<a id=\"2\"></a> <br>\n",
        "## 1-1 Courses\n",
        "There are a lot of online courses that can help you develop your knowledge, here I have just  listed some of them that I have used in my Kernel:\n",
        "\n",
        "1. [Deep Learning Certification by Andrew Ng from deeplearning.ai (Coursera)](https://www.coursera.org/specializations/deep-learning)\n",
        "1. [Deep Learning A-Z™: Hands-On Artificial Neural Networks](https://www.udemy.com/deeplearning/)\n",
        "\n",
        "1. [Creative Applications of Deep Learning with TensorFlow](https://www.class-central.com/course/kadenze-creative-applications-of-deep-learning-with-tensorflow-6679)\n",
        "1. [Neural Networks for Machine Learning](https://www.class-central.com/mooc/398/coursera-neural-networks-for-machine-learning)\n",
        "1. [Practical Deep Learning For Coders, Part 1](https://www.class-central.com/mooc/7887/practical-deep-learning-for-coders-part-1)\n",
        "1. [cs231n](http://cs231n.stanford.edu/)\n",
        "<a id=\"3\"></a> <br>\n",
        "\n",
        "## 1-2 Kaggle kernels\n",
        "I want to thanks **Kaggle team**  and  all of the **kernel's authors**  who develop this huge resources for Data scientists. I have learned from The work of others and I have just listed some more important kernels that inspired my work and I've used them in this kernel:\n",
        "\n",
        "1. [Deep Learning Tutorial for Beginners](https://www.kaggle.com/kanncaa1/deep-learning-tutorial-for-beginners)\n",
        "1. [introduction-to-cnn-keras-0-997-top-6](https://www.kaggle.com/yassineghouzam/introduction-to-cnn-keras-0-997-top-6)\n",
        "\n",
        "<a id=\"4\"></a> <br>\n",
        "## 1-3 Ebooks\n",
        "So you love reading , here is **10 free machine learning books**\n",
        "1. [Probability and Statistics for Programmers](http://www.greenteapress.com/thinkstats/)\n",
        "2. [Bayesian Reasoning and Machine Learning](http://web4.cs.ucl.ac.uk/staff/D.Barber/textbook/091117.pdf)\n",
        "2. [An Introduction to Statistical Learning](http://www-bcf.usc.edu/~gareth/ISL/)\n",
        "2. [Understanding Machine Learning](http://www.cs.huji.ac.il/~shais/UnderstandingMachineLearning/index.html)\n",
        "2. [A Programmer’s Guide to Data Mining](http://guidetodatamining.com/)\n",
        "2. [Mining of Massive Datasets](http://infolab.stanford.edu/~ullman/mmds/book.pdf)\n",
        "2. [A Brief Introduction to Neural Networks](http://www.dkriesel.com/_media/science/neuronalenetze-en-zeta2-2col-dkrieselcom.pdf)\n",
        "2. [Deep Learning](http://www.deeplearningbook.org/)\n",
        "2. [Natural Language Processing with Python](https://www.researchgate.net/publication/220691633_Natural_Language_Processing_with_Python)\n",
        "2. [Machine Learning Yearning](http://www.mlyearning.org/)\n",
        "<a id=\"5\"></a> <br>\n",
        "\n",
        "## 1-4 Cheat Sheets\n",
        "Data Science is an ever-growing field, there are numerous tools & techniques to remember. It is not possible for anyone to remember all the functions, operations and formulas of each concept. That’s why we have cheat sheets. But there are a plethora of cheat sheets available out there, choosing the right cheat sheet is a tough task. So, I decided to write this article.\n",
        "\n",
        "Here I have selected the cheat sheets on the following criteria: comprehensiveness, clarity, and content [26]:\n",
        "1. [Quick Guide to learn Python for Data Science ](https://github.com/mjbahmani/10-steps-to-become-a-data-scientist/blob/master/cheatsheets/Data-Science-in-Python.pdf)\n",
        "1. [Python for Data Science Cheat sheet ](https://github.com/mjbahmani/10-steps-to-become-a-data-scientist/blob/master/cheatsheets/beginners_python_cheat_sheet.pdf)\n",
        "1. [Python For Data Science Cheat Sheet NumPy](https://github.com/mjbahmani/10-steps-to-become-a-data-scientist/blob/master/cheatsheets/Numpy_Python_Cheat_Sheet.pdf)\n",
        "1. [Exploratory Data Analysis in Python]()\n",
        "1. [Data Exploration using Pandas in Python](https://github.com/mjbahmani/10-steps-to-become-a-data-scientist/blob/master/cheatsheets/Data-Exploration-in-Python.pdf)\n",
        "1. [Data Visualisation in Python](https://github.com/mjbahmani/10-steps-to-become-a-data-scientist/blob/master/cheatsheets/data-visualisation-infographics1.jpg)\n",
        "1. [Python For Data Science Cheat Sheet Bokeh](https://github.com/mjbahmani/10-steps-to-become-a-data-scientist/blob/master/cheatsheets/Python_Bokeh_Cheat_Sheet.pdf)\n",
        "1. [Cheat Sheet: Scikit Learn ](https://github.com/mjbahmani/10-steps-to-become-a-data-scientist/blob/master/cheatsheets/Scikit-Learn-Infographic.pdf)\n",
        "1. [MLalgorithms CheatSheet](https://github.com/mjbahmani/10-steps-to-become-a-data-scientist/blob/master/cheatsheets/MLalgorithms-.pdf)\n",
        "1. [Probability Basics  Cheat Sheet ](https://github.com/mjbahmani/10-steps-to-become-a-data-scientist/blob/master/cheatsheets/probability_cheatsheet.pdf)\n",
        "<a id=\"6\"></a> <br>\n",
        "\n",
        "## 1-5 Deep Learning vs Machine Learning\n",
        "We use a **machine algorithm** to parse data, learn from that data, and make informed decisions based on what it has learned. Basically, **Deep Learning** is used in layers to create an **Artificial Neural Network** that can learn and make intelligent decisions on its own. We can say **Deep Learning is a sub-field of Machine Learning**.\n",
        "\n",
        "<img src =\"http://blog.thinkwik.com/wp-content/uploads/2018/07/Insights-of-The-Machine-Learning-and-The-Deep-Learning.png\">\n",
        "[image Credits](http://blog.thinkwik.com/insights-of-the-machine-learning-and-the-deep-learning/)\n",
        "\n",
        "I am open to getting your feedback for improving this **kernel**\n",
        "\n",
        "###### [Go to top](#top)"
      ]
    },
    {
      "cell_type": "markdown",
      "metadata": {
        "_uuid": "fbedcae8843986c2139f18dad4b5f313e6535ac5",
        "id": "O6wKXNo8p_Fu"
      },
      "source": [
        "<a id=\"7\"></a> <br>\n",
        "# 2 Loading Packages & Data\n",
        "In this kernel we are using the following packages:"
      ]
    },
    {
      "cell_type": "code",
      "metadata": {
        "_cell_guid": "b1076dfc-b9ad-4769-8c92-a6c4dae69d19",
        "_kg_hide-input": true,
        "_uuid": "8f2839f25d086af736a60e9eeb907d3b93b6e0e5",
        "id": "qSknW7O9p_Fv",
        "outputId": "80b98bbe-efbc-4149-a49d-fc49fee90e22"
      },
      "source": [
        "from pandas import get_dummies\n",
        "import matplotlib as mpl\n",
        "import matplotlib.pyplot as plt\n",
        "import tensorflow as tf\n",
        "import seaborn as sns\n",
        "import pandas as pd\n",
        "import numpy as np\n",
        "import matplotlib\n",
        "import warnings\n",
        "import sklearn\n",
        "import keras\n",
        "import scipy\n",
        "import numpy\n",
        "import sys\n",
        "import csv\n",
        "import os"
      ],
      "execution_count": null,
      "outputs": [
        {
          "output_type": "stream",
          "text": [
            "Using TensorFlow backend.\n"
          ],
          "name": "stderr"
        }
      ]
    },
    {
      "cell_type": "markdown",
      "metadata": {
        "_uuid": "351fe6ee8f49be819107ae6c7e6d7abddeef32f9",
        "id": "dStQ92zup_Fw"
      },
      "source": [
        "<a id=\"8\"></a> <br>\n",
        "## 2-1 Version\n",
        "Print version of each package.\n",
        "###### [Go to top](#top)"
      ]
    },
    {
      "cell_type": "code",
      "metadata": {
        "_kg_hide-input": true,
        "_uuid": "b0fd91e925371ef73755d20d6232d0842206eb10",
        "id": "9flTsEsLp_Fw",
        "outputId": "319284a9-fb5c-4856-e805-bf9cbdb96f1d"
      },
      "source": [
        "print('matplotlib: {}'.format(matplotlib.__version__))\n",
        "print('sklearn: {}'.format(sklearn.__version__))\n",
        "print('scipy: {}'.format(scipy.__version__))\n",
        "print('seaborn: {}'.format(sns.__version__))\n",
        "print('pandas: {}'.format(pd.__version__))\n",
        "print('numpy: {}'.format(np.__version__))\n",
        "print('Python: {}'.format(sys.version))\n",
        "print('Keras: {}'.format(keras.__version__))\n",
        "print('tensorflow: {}'.format(tf.__version__))"
      ],
      "execution_count": null,
      "outputs": [
        {
          "output_type": "stream",
          "text": [
            "matplotlib: 2.2.3\n",
            "sklearn: 0.20.2\n",
            "scipy: 1.1.0\n",
            "seaborn: 0.9.0\n",
            "pandas: 0.23.4\n",
            "numpy: 1.16.1\n",
            "Python: 3.6.6 |Anaconda, Inc.| (default, Oct  9 2018, 12:34:16) \n",
            "[GCC 7.3.0]\n",
            "Keras: 2.2.4\n",
            "tensorflow: 1.12.0\n"
          ],
          "name": "stdout"
        }
      ]
    },
    {
      "cell_type": "markdown",
      "metadata": {
        "_uuid": "187f8389fd6e034a5bb1555e3ed2fff5184a8f44",
        "id": "0uzi0wlip_Fx"
      },
      "source": [
        "<a id=\"9\"></a> <br>\n",
        "## 2-2 Setup\n",
        "\n",
        "A few tiny adjustments for better **code readability**"
      ]
    },
    {
      "cell_type": "code",
      "metadata": {
        "_kg_hide-input": true,
        "_uuid": "cb7e4af0977f267f0055ef6c7b9d7081cbaeb889",
        "id": "WbgpSbEvp_Fx"
      },
      "source": [
        "sns.set(style='white', context='notebook', palette='deep')\n",
        "warnings.filterwarnings('ignore')\n",
        "mpl.style.use('ggplot')\n",
        "sns.set_style('white')\n",
        "np.random.seed(1337)\n",
        "%matplotlib inline"
      ],
      "execution_count": null,
      "outputs": []
    },
    {
      "cell_type": "markdown",
      "metadata": {
        "_uuid": "edeb7838411714fe81d00bc60301cb57b535281c",
        "id": "gan0j6GUp_Fx"
      },
      "source": [
        "<a id=\"10\"></a> <br>\n",
        "## 2-3 Loading Data\n",
        "Data collection is the process of gathering and measuring data, information or any variables of interest in a standardized and established manner that enables the collector to answer or test hypothesis and evaluate outcomes of the particular collection.[techopedia](https://www.techopedia.com/definition/30318/data-collection) I start Collection Data by the training and testing datasets into Pandas DataFrames. Each row is an observation (also known as : sample, example, instance, record) Each column is a feature (also known as: Predictor, attribute, Independent Variable, input, regressor, Covariate).\n",
        "### 2-3-1 What is a insincere question?\n",
        "is defined as a question intended to make a **statement** rather than look for helpful **answers**. \n",
        "### 2-3-2 how can we find  insincere question?\n",
        "Some **characteristics** that can signify that a question is **insincere**:\n",
        "\n",
        "1. **Has a non-neutral tone**\n",
        "    1. Has an exaggerated tone to underscore a point about a group of people\n",
        "    1. Is rhetorical and meant to imply a statement about a group of people\n",
        "1. **Is disparaging or inflammatory**\n",
        "    1. Suggests a discriminatory idea against a protected class of people, or seeks confirmation of a stereotype\n",
        "    1. Makes disparaging attacks/insults against a specific person or group of people\n",
        "    1. Based on an outlandish premise about a group of people\n",
        "    1. Disparages against a characteristic that is not fixable and not measurable\n",
        "1. **Isn't grounded in reality**\n",
        "    1. Based on false information, or contains absurd assumptions\n",
        "1. **Uses sexual content** (incest, bestiality, pedophilia) for shock value, and not to seek genuine answers\n",
        "\n",
        "After loading the data via pandas, we should checkout what the content is, description and via the following:\n",
        "###### [Go to top](#top)"
      ]
    },
    {
      "cell_type": "code",
      "metadata": {
        "_uuid": "d8e8443cecc7e4a9250e49dce79e0962e4a3ff6f",
        "id": "sRqb24gdp_Fy",
        "outputId": "6fc7d5c1-1470-44f3-9288-495d69b139d1"
      },
      "source": [
        "print(os.listdir(\"../input\"))"
      ],
      "execution_count": null,
      "outputs": [
        {
          "output_type": "stream",
          "text": [
            "['test.csv', 'train.csv', 'embeddings.zip', 'sample_submission.csv']\n"
          ],
          "name": "stdout"
        }
      ]
    },
    {
      "cell_type": "markdown",
      "metadata": {
        "_uuid": "b1726925f6db14c1f851380541178dba553eb3c3",
        "id": "xs6DozO3p_Fz"
      },
      "source": [
        "<a id=\"11\"></a> <br>\n",
        "### 2-3-1 Data fields\n",
        "1. qid - unique question identifier\n",
        "1. question_text - Quora question text\n",
        "1. target - a question labeled \"insincere\" has a value of 1, otherwise 0"
      ]
    },
    {
      "cell_type": "code",
      "metadata": {
        "_uuid": "25e57422e63164b80709d9352866f59a8264d29d",
        "id": "2Kk_jYx0p_Fz"
      },
      "source": [
        "train = pd.read_csv('../input/train.csv')\n",
        "test = pd.read_csv('../input/test.csv')"
      ],
      "execution_count": null,
      "outputs": []
    },
    {
      "cell_type": "code",
      "metadata": {
        "_uuid": "e11494ec5201b90e5c404b6f9d27877d8e866f3a",
        "id": "5gvvQ9Ybp_Fz",
        "outputId": "985797c3-3405-4ddc-bdf0-90947beb21e9"
      },
      "source": [
        "type(train)"
      ],
      "execution_count": null,
      "outputs": [
        {
          "output_type": "execute_result",
          "data": {
            "text/plain": [
              "pandas.core.frame.DataFrame"
            ]
          },
          "metadata": {
            "tags": []
          },
          "execution_count": 6
        }
      ]
    },
    {
      "cell_type": "markdown",
      "metadata": {
        "_uuid": "64c63d1c4b687c90b96a8f5218aa3a17ddf756d1",
        "id": "l8jGcJcJp_F0"
      },
      "source": [
        "To check the first 5 rows of the data set, we can use head(5)."
      ]
    },
    {
      "cell_type": "code",
      "metadata": {
        "_uuid": "3480a17f080f98ff7a2b168da5b5b51893c881b4",
        "id": "aNvXQTjEp_F0",
        "outputId": "f091d8b1-8908-4be9-8e03-fdb607139957"
      },
      "source": [
        "train.head(5) "
      ],
      "execution_count": null,
      "outputs": [
        {
          "output_type": "execute_result",
          "data": {
            "text/html": [
              "<div>\n",
              "<style scoped>\n",
              "    .dataframe tbody tr th:only-of-type {\n",
              "        vertical-align: middle;\n",
              "    }\n",
              "\n",
              "    .dataframe tbody tr th {\n",
              "        vertical-align: top;\n",
              "    }\n",
              "\n",
              "    .dataframe thead th {\n",
              "        text-align: right;\n",
              "    }\n",
              "</style>\n",
              "<table border=\"1\" class=\"dataframe\">\n",
              "  <thead>\n",
              "    <tr style=\"text-align: right;\">\n",
              "      <th></th>\n",
              "      <th>qid</th>\n",
              "      <th>question_text</th>\n",
              "      <th>target</th>\n",
              "    </tr>\n",
              "  </thead>\n",
              "  <tbody>\n",
              "    <tr>\n",
              "      <th>0</th>\n",
              "      <td>00002165364db923c7e6</td>\n",
              "      <td>How did Quebec nationalists see their province...</td>\n",
              "      <td>0</td>\n",
              "    </tr>\n",
              "    <tr>\n",
              "      <th>1</th>\n",
              "      <td>000032939017120e6e44</td>\n",
              "      <td>Do you have an adopted dog, how would you enco...</td>\n",
              "      <td>0</td>\n",
              "    </tr>\n",
              "    <tr>\n",
              "      <th>2</th>\n",
              "      <td>0000412ca6e4628ce2cf</td>\n",
              "      <td>Why does velocity affect time? Does velocity a...</td>\n",
              "      <td>0</td>\n",
              "    </tr>\n",
              "    <tr>\n",
              "      <th>3</th>\n",
              "      <td>000042bf85aa498cd78e</td>\n",
              "      <td>How did Otto von Guericke used the Magdeburg h...</td>\n",
              "      <td>0</td>\n",
              "    </tr>\n",
              "    <tr>\n",
              "      <th>4</th>\n",
              "      <td>0000455dfa3e01eae3af</td>\n",
              "      <td>Can I convert montra helicon D to a mountain b...</td>\n",
              "      <td>0</td>\n",
              "    </tr>\n",
              "  </tbody>\n",
              "</table>\n",
              "</div>"
            ],
            "text/plain": [
              "                    qid  ...   target\n",
              "0  00002165364db923c7e6  ...        0\n",
              "1  000032939017120e6e44  ...        0\n",
              "2  0000412ca6e4628ce2cf  ...        0\n",
              "3  000042bf85aa498cd78e  ...        0\n",
              "4  0000455dfa3e01eae3af  ...        0\n",
              "\n",
              "[5 rows x 3 columns]"
            ]
          },
          "metadata": {
            "tags": []
          },
          "execution_count": 7
        }
      ]
    },
    {
      "cell_type": "markdown",
      "metadata": {
        "_uuid": "d3e463743678b24042db613aa689f5e2d5aef0db",
        "id": "5al0L75Np_F0"
      },
      "source": [
        "<a id=\"11\"></a> <br>\n",
        "### 2-3-2 Target\n",
        "You will be predicting whether a question asked on **Quora** is sincere or not."
      ]
    },
    {
      "cell_type": "markdown",
      "metadata": {
        "_uuid": "54c2884d6777cac8a94d034ad1d112a3ffab4ca0",
        "id": "9M7JAaaDp_F1"
      },
      "source": [
        "<a id=\"12\"></a> <br>\n",
        "## 2-4 EDA\n",
        "In this section, you'll learn how to use graphical and numerical techniques to begin uncovering the structure of your data.\n",
        "1. Which variables suggest interesting relationships?\n",
        "1. Which observations are unusual?\n",
        "1. Analysis of the features! By the end of the section, you'll be able to answer these questions and more, while generating. "
      ]
    },
    {
      "cell_type": "code",
      "metadata": {
        "_kg_hide-input": true,
        "_uuid": "57c67feb26a1c058151facc84145339f8bc89cfc",
        "id": "su_wfOo-p_F1",
        "outputId": "d07fd029-fca2-4b63-f637-6a19133f7153"
      },
      "source": [
        "train.sample(5)"
      ],
      "execution_count": null,
      "outputs": [
        {
          "output_type": "execute_result",
          "data": {
            "text/html": [
              "<div>\n",
              "<style scoped>\n",
              "    .dataframe tbody tr th:only-of-type {\n",
              "        vertical-align: middle;\n",
              "    }\n",
              "\n",
              "    .dataframe tbody tr th {\n",
              "        vertical-align: top;\n",
              "    }\n",
              "\n",
              "    .dataframe thead th {\n",
              "        text-align: right;\n",
              "    }\n",
              "</style>\n",
              "<table border=\"1\" class=\"dataframe\">\n",
              "  <thead>\n",
              "    <tr style=\"text-align: right;\">\n",
              "      <th></th>\n",
              "      <th>qid</th>\n",
              "      <th>question_text</th>\n",
              "      <th>target</th>\n",
              "    </tr>\n",
              "  </thead>\n",
              "  <tbody>\n",
              "    <tr>\n",
              "      <th>1076478</th>\n",
              "      <td>d2f28f5cff321c05cf53</td>\n",
              "      <td>What do you think of Craig Wright's speech at ...</td>\n",
              "      <td>0</td>\n",
              "    </tr>\n",
              "    <tr>\n",
              "      <th>349883</th>\n",
              "      <td>44925e2a8bef806842be</td>\n",
              "      <td>What is the difference between the words antib...</td>\n",
              "      <td>0</td>\n",
              "    </tr>\n",
              "    <tr>\n",
              "      <th>786017</th>\n",
              "      <td>99fb65611b65194d951f</td>\n",
              "      <td>Is it true that once Peshawar was known as Pur...</td>\n",
              "      <td>0</td>\n",
              "    </tr>\n",
              "    <tr>\n",
              "      <th>821289</th>\n",
              "      <td>a0edeae4c2730a0606eb</td>\n",
              "      <td>What is the buyer's most concerned about barco...</td>\n",
              "      <td>0</td>\n",
              "    </tr>\n",
              "    <tr>\n",
              "      <th>126291</th>\n",
              "      <td>18b6ead236921ddf9565</td>\n",
              "      <td>How do I get -91 in the JEE Main?</td>\n",
              "      <td>1</td>\n",
              "    </tr>\n",
              "  </tbody>\n",
              "</table>\n",
              "</div>"
            ],
            "text/plain": [
              "                          qid  ...   target\n",
              "1076478  d2f28f5cff321c05cf53  ...        0\n",
              "349883   44925e2a8bef806842be  ...        0\n",
              "786017   99fb65611b65194d951f  ...        0\n",
              "821289   a0edeae4c2730a0606eb  ...        0\n",
              "126291   18b6ead236921ddf9565  ...        1\n",
              "\n",
              "[5 rows x 3 columns]"
            ]
          },
          "metadata": {
            "tags": []
          },
          "execution_count": 8
        }
      ]
    },
    {
      "cell_type": "markdown",
      "metadata": {
        "_uuid": "40a7cd1995977c500bcfd47e2b792cd8d6f9ae92",
        "id": "x7WF-GN4p_F1"
      },
      "source": [
        "To pop up 5 random rows from the data set, we can use **sample(5**) function."
      ]
    },
    {
      "cell_type": "code",
      "metadata": {
        "_kg_hide-input": true,
        "_uuid": "9d26d55e5ea4ff0255499c3bba01940a73a116f7",
        "id": "AAzPHFWMp_F1",
        "outputId": "4867c8fa-5c07-4630-e435-f49ffc53d2b1"
      },
      "source": [
        "test.sample(5)"
      ],
      "execution_count": null,
      "outputs": [
        {
          "output_type": "execute_result",
          "data": {
            "text/html": [
              "<div>\n",
              "<style scoped>\n",
              "    .dataframe tbody tr th:only-of-type {\n",
              "        vertical-align: middle;\n",
              "    }\n",
              "\n",
              "    .dataframe tbody tr th {\n",
              "        vertical-align: top;\n",
              "    }\n",
              "\n",
              "    .dataframe thead th {\n",
              "        text-align: right;\n",
              "    }\n",
              "</style>\n",
              "<table border=\"1\" class=\"dataframe\">\n",
              "  <thead>\n",
              "    <tr style=\"text-align: right;\">\n",
              "      <th></th>\n",
              "      <th>qid</th>\n",
              "      <th>question_text</th>\n",
              "    </tr>\n",
              "  </thead>\n",
              "  <tbody>\n",
              "    <tr>\n",
              "      <th>155408</th>\n",
              "      <td>69bfca6a7505268c29e2</td>\n",
              "      <td>Where can I apply for Computer Science interns...</td>\n",
              "    </tr>\n",
              "    <tr>\n",
              "      <th>282112</th>\n",
              "      <td>c02460b92f9944bc0767</td>\n",
              "      <td>How was CLAMP able to get away with queer cont...</td>\n",
              "    </tr>\n",
              "    <tr>\n",
              "      <th>280065</th>\n",
              "      <td>bebb4b02eaed8a3b9db0</td>\n",
              "      <td>Why does Quora's editor lag so bad in a mobile...</td>\n",
              "    </tr>\n",
              "    <tr>\n",
              "      <th>200439</th>\n",
              "      <td>884cbcdcbc8654dd96b0</td>\n",
              "      <td>What are some of Isaac Asimov's major accompli...</td>\n",
              "    </tr>\n",
              "    <tr>\n",
              "      <th>315221</th>\n",
              "      <td>d6ab60e0f84e9e3bd917</td>\n",
              "      <td>If a girl is not my classmate or belong to sam...</td>\n",
              "    </tr>\n",
              "  </tbody>\n",
              "</table>\n",
              "</div>"
            ],
            "text/plain": [
              "                         qid                                      question_text\n",
              "155408  69bfca6a7505268c29e2  Where can I apply for Computer Science interns...\n",
              "282112  c02460b92f9944bc0767  How was CLAMP able to get away with queer cont...\n",
              "280065  bebb4b02eaed8a3b9db0  Why does Quora's editor lag so bad in a mobile...\n",
              "200439  884cbcdcbc8654dd96b0  What are some of Isaac Asimov's major accompli...\n",
              "315221  d6ab60e0f84e9e3bd917  If a girl is not my classmate or belong to sam..."
            ]
          },
          "metadata": {
            "tags": []
          },
          "execution_count": 9
        }
      ]
    },
    {
      "cell_type": "markdown",
      "metadata": {
        "_uuid": "1079234af07e56378d1c436a2f3127ccd4ecaec8",
        "id": "tOtsTLIGp_F2"
      },
      "source": [
        "To check out last 5 row of the data set, we use tail() function."
      ]
    },
    {
      "cell_type": "code",
      "metadata": {
        "_kg_hide-input": true,
        "_uuid": "986660265598c78d177d6b1028abaa9e4bbf0d56",
        "id": "nVNsTxFdp_F2",
        "outputId": "47a91951-eb61-41e1-aef4-d1e2f25f6c9a"
      },
      "source": [
        "train.tail()"
      ],
      "execution_count": null,
      "outputs": [
        {
          "output_type": "execute_result",
          "data": {
            "text/html": [
              "<div>\n",
              "<style scoped>\n",
              "    .dataframe tbody tr th:only-of-type {\n",
              "        vertical-align: middle;\n",
              "    }\n",
              "\n",
              "    .dataframe tbody tr th {\n",
              "        vertical-align: top;\n",
              "    }\n",
              "\n",
              "    .dataframe thead th {\n",
              "        text-align: right;\n",
              "    }\n",
              "</style>\n",
              "<table border=\"1\" class=\"dataframe\">\n",
              "  <thead>\n",
              "    <tr style=\"text-align: right;\">\n",
              "      <th></th>\n",
              "      <th>qid</th>\n",
              "      <th>question_text</th>\n",
              "      <th>target</th>\n",
              "    </tr>\n",
              "  </thead>\n",
              "  <tbody>\n",
              "    <tr>\n",
              "      <th>1306117</th>\n",
              "      <td>ffffcc4e2331aaf1e41e</td>\n",
              "      <td>What other technical skills do you need as a c...</td>\n",
              "      <td>0</td>\n",
              "    </tr>\n",
              "    <tr>\n",
              "      <th>1306118</th>\n",
              "      <td>ffffd431801e5a2f4861</td>\n",
              "      <td>Does MS in ECE have good job prospects in USA ...</td>\n",
              "      <td>0</td>\n",
              "    </tr>\n",
              "    <tr>\n",
              "      <th>1306119</th>\n",
              "      <td>ffffd48fb36b63db010c</td>\n",
              "      <td>Is foam insulation toxic?</td>\n",
              "      <td>0</td>\n",
              "    </tr>\n",
              "    <tr>\n",
              "      <th>1306120</th>\n",
              "      <td>ffffec519fa37cf60c78</td>\n",
              "      <td>How can one start a research project based on ...</td>\n",
              "      <td>0</td>\n",
              "    </tr>\n",
              "    <tr>\n",
              "      <th>1306121</th>\n",
              "      <td>ffffed09fedb5088744a</td>\n",
              "      <td>Who wins in a battle between a Wolverine and a...</td>\n",
              "      <td>0</td>\n",
              "    </tr>\n",
              "  </tbody>\n",
              "</table>\n",
              "</div>"
            ],
            "text/plain": [
              "                          qid  ...   target\n",
              "1306117  ffffcc4e2331aaf1e41e  ...        0\n",
              "1306118  ffffd431801e5a2f4861  ...        0\n",
              "1306119  ffffd48fb36b63db010c  ...        0\n",
              "1306120  ffffec519fa37cf60c78  ...        0\n",
              "1306121  ffffed09fedb5088744a  ...        0\n",
              "\n",
              "[5 rows x 3 columns]"
            ]
          },
          "metadata": {
            "tags": []
          },
          "execution_count": 10
        }
      ]
    },
    {
      "cell_type": "code",
      "metadata": {
        "_uuid": "744f1cc507d8fec6ca85d2d36c5ae85a2cd7237a",
        "id": "LMh_U625p_F2",
        "outputId": "c145076d-e1fb-4522-a399-68be9ed5e7f8"
      },
      "source": [
        "print(train.shape)\n",
        "print(test.shape)"
      ],
      "execution_count": null,
      "outputs": [
        {
          "output_type": "stream",
          "text": [
            "(1306122, 3)\n",
            "(375806, 2)\n"
          ],
          "name": "stdout"
        }
      ]
    },
    {
      "cell_type": "markdown",
      "metadata": {
        "_uuid": "5bf7fbd5cc4a2118740c30436eed151dc10f579a",
        "id": "EDZPo1Thp_F3"
      },
      "source": [
        "To check out how many null info are on the dataset, we can use **isnull().sum()**."
      ]
    },
    {
      "cell_type": "code",
      "metadata": {
        "_kg_hide-input": true,
        "_uuid": "ca2228b14d432b7e6e3a66babc6a8c292ca72fbf",
        "id": "N295lINvp_F3",
        "outputId": "e4ff4ac1-cde3-49c2-ee68-127696b20767"
      },
      "source": [
        "train.isnull().sum()"
      ],
      "execution_count": null,
      "outputs": [
        {
          "output_type": "execute_result",
          "data": {
            "text/plain": [
              "qid              0\n",
              "question_text    0\n",
              "target           0\n",
              "dtype: int64"
            ]
          },
          "metadata": {
            "tags": []
          },
          "execution_count": 12
        }
      ]
    },
    {
      "cell_type": "code",
      "metadata": {
        "_kg_hide-input": true,
        "_uuid": "b956b1a917722a01b06135be457b92f4e226243a",
        "id": "NRqV9XO8p_F3",
        "outputId": "58fb5465-d8c6-4b69-d67e-f1097eb3ed47"
      },
      "source": [
        "test.isnull().sum()"
      ],
      "execution_count": null,
      "outputs": [
        {
          "output_type": "execute_result",
          "data": {
            "text/plain": [
              "qid              0\n",
              "question_text    0\n",
              "dtype: int64"
            ]
          },
          "metadata": {
            "tags": []
          },
          "execution_count": 13
        }
      ]
    },
    {
      "cell_type": "markdown",
      "metadata": {
        "_uuid": "61a7dea9e3435ac6ef19935621af5baf33c6124e",
        "id": "byRXilnUp_F3"
      },
      "source": [
        "### 2-4-1 About Quora\n",
        "Quora is a platform that empowers people to learn from each other. On Quora, people can ask questions and connect with others who contribute unique insights and quality answers. A key challenge is to weed out insincere questions -- those founded upon false premises, or that intend to make a statement rather than look for helpful answers."
      ]
    },
    {
      "cell_type": "code",
      "metadata": {
        "_kg_hide-input": true,
        "_uuid": "468755c147347cfea72cc9cf21e50541a55d347e",
        "id": "NCDV2uOGp_F3",
        "outputId": "1eaabd32-80f3-466c-c4ff-2b9f2d2a8b43"
      },
      "source": [
        "print(train.info())"
      ],
      "execution_count": null,
      "outputs": [
        {
          "output_type": "stream",
          "text": [
            "<class 'pandas.core.frame.DataFrame'>\n",
            "RangeIndex: 1306122 entries, 0 to 1306121\n",
            "Data columns (total 3 columns):\n",
            "qid              1306122 non-null object\n",
            "question_text    1306122 non-null object\n",
            "target           1306122 non-null int64\n",
            "dtypes: int64(1), object(2)\n",
            "memory usage: 29.9+ MB\n",
            "None\n"
          ],
          "name": "stdout"
        }
      ]
    },
    {
      "cell_type": "markdown",
      "metadata": {
        "_uuid": "8e4f6d001e1c959f034a0497c09fb18b309b2816",
        "id": "_wPM1eY9p_F4"
      },
      "source": [
        "to give a statistical summary about the dataset, we can use **describe()**."
      ]
    },
    {
      "cell_type": "code",
      "metadata": {
        "_kg_hide-input": true,
        "_uuid": "a242adcee764b28ed57f49111a5b94c1a19ba9f0",
        "id": "ixfal2Wip_F4",
        "outputId": "7fe41e64-f866-48e2-9eb9-d7cde96036fc"
      },
      "source": [
        "train.describe() \n"
      ],
      "execution_count": null,
      "outputs": [
        {
          "output_type": "execute_result",
          "data": {
            "text/html": [
              "<div>\n",
              "<style scoped>\n",
              "    .dataframe tbody tr th:only-of-type {\n",
              "        vertical-align: middle;\n",
              "    }\n",
              "\n",
              "    .dataframe tbody tr th {\n",
              "        vertical-align: top;\n",
              "    }\n",
              "\n",
              "    .dataframe thead th {\n",
              "        text-align: right;\n",
              "    }\n",
              "</style>\n",
              "<table border=\"1\" class=\"dataframe\">\n",
              "  <thead>\n",
              "    <tr style=\"text-align: right;\">\n",
              "      <th></th>\n",
              "      <th>target</th>\n",
              "    </tr>\n",
              "  </thead>\n",
              "  <tbody>\n",
              "    <tr>\n",
              "      <th>count</th>\n",
              "      <td>1.306122e+06</td>\n",
              "    </tr>\n",
              "    <tr>\n",
              "      <th>mean</th>\n",
              "      <td>6.187018e-02</td>\n",
              "    </tr>\n",
              "    <tr>\n",
              "      <th>std</th>\n",
              "      <td>2.409197e-01</td>\n",
              "    </tr>\n",
              "    <tr>\n",
              "      <th>min</th>\n",
              "      <td>0.000000e+00</td>\n",
              "    </tr>\n",
              "    <tr>\n",
              "      <th>25%</th>\n",
              "      <td>0.000000e+00</td>\n",
              "    </tr>\n",
              "    <tr>\n",
              "      <th>50%</th>\n",
              "      <td>0.000000e+00</td>\n",
              "    </tr>\n",
              "    <tr>\n",
              "      <th>75%</th>\n",
              "      <td>0.000000e+00</td>\n",
              "    </tr>\n",
              "    <tr>\n",
              "      <th>max</th>\n",
              "      <td>1.000000e+00</td>\n",
              "    </tr>\n",
              "  </tbody>\n",
              "</table>\n",
              "</div>"
            ],
            "text/plain": [
              "             target\n",
              "count  1.306122e+06\n",
              "mean   6.187018e-02\n",
              "std    2.409197e-01\n",
              "min    0.000000e+00\n",
              "25%    0.000000e+00\n",
              "50%    0.000000e+00\n",
              "75%    0.000000e+00\n",
              "max    1.000000e+00"
            ]
          },
          "metadata": {
            "tags": []
          },
          "execution_count": 15
        }
      ]
    },
    {
      "cell_type": "markdown",
      "metadata": {
        "_uuid": "bca11ce44f7ebdd1de3868fb2f6c50b0e7c7cb16",
        "id": "PHU2daGWp_F4"
      },
      "source": [
        "###### [Go to top](#top)"
      ]
    },
    {
      "cell_type": "markdown",
      "metadata": {
        "_uuid": "2d96fedf1a2fa6344990cb07b8d98d17a3a7b504",
        "id": "8t8b7a9hp_F5"
      },
      "source": [
        "<a id=\"31\"></a> <br>\n",
        "# 3- Python Deep Learning Packages\n",
        "<img src='https://cdn-images-1.medium.com/max/800/1*dYjDEI0mLpsCOySKUuX1VA.png'>\n",
        "*State of open source deep learning frameworks in 2017* [**towardsdatascience**](https://towardsdatascience.com/battle-of-the-deep-learning-frameworks-part-i-cff0e3841750)\n",
        "1. **keras**[11]\n",
        ">Well known for being minimalistic, the Keras neural network library (with a supporting interface of Python) supports both convolutional and recurrent networks that are capable of running on either TensorFlow or Theano. The library is written in Python and was developed keeping quick experimentation as its USP.\n",
        "1. **TensorFlow**\n",
        "> TensorFlow is arguably one of the best deep learning frameworks and has been adopted by several giants such as Airbus, Twitter, IBM, and others mainly due to its highly flexible system architecture.\n",
        "1. **Caffe**\n",
        "> Caffe is a deep learning framework that is supported with interfaces like C, C++, Python, and MATLAB as well as the command line interface. It is well known for its speed and transposability and its applicability in modeling convolution neural networks (CNN).\n",
        "1. **Microsoft Cognitive Toolkit/CNTK**\n",
        "> Popularly known for easy training and the combination of popular model types across servers, the Microsoft Cognitive Toolkit (previously known as CNTK) is an open-source deep learning framework to train deep learning models. It performs efficient convolution neural networks and training for image, speech, and text-based data. Similar to Caffe, it is supported by interfaces such as Python, C++, and the command line interface.\n",
        "1. **Torch/PyTorch**\n",
        "> Torch is a scientific computing framework that offers wide support for machine learning algorithms. It is a Lua-based deep learning framework and is used widely amongst industry giants such as Facebook, Twitter, and Google. It employs CUDA along with C/C++ libraries for processing and was basically made to scale the production of building models and provide overall flexibility.\n",
        "1. **MXNet**\n",
        "> Designed specifically for the purpose of high efficiency, productivity, and flexibility, MXNet(pronounced as mix-net) is a deep learning framework supported by Python, R, C++, and Julia.\n",
        "1. **Chainer**\n",
        ">Highly powerful, dynamic and intuitive, Chainer is a Python-based deep learning framework for neural networks that is designed by the run strategy. Compared to other frameworks that use the same strategy, you can modify the networks during runtime, allowing you to execute arbitrary control flow statements.\n",
        "1. **Deeplearning4j**\n",
        ">Parallel training through iterative reduce, microservice architecture adaptation, and distributed CPUs and GPUs are some of the salient features of the Deeplearning4j deep learning framework. It is developed in Java as well as Scala and supports other JVM languages, too.\n",
        "1. **Theano**\n",
        ">Theano is beautiful. Without Theano, we wouldn’t have anywhere near the amount of deep learning libraries (specifically in Python) that we do today. In the same way that without NumPy, we couldn’t have SciPy, scikit-learn, and scikit-image, the same can be said about Theano and higher-level abstractions of deep learning.\n",
        "1. **Lasagne**\n",
        ">Lasagne is a lightweight library used to construct and train networks in Theano. The key term here is lightweight — it is not meant to be a heavy wrapper around Theano like Keras is. While this leads to your code being more verbose, it does free you from any restraints, while still giving you modular building blocks based on Theano.\n",
        "1. **PaddlePaddle**\n",
        ">PaddlePaddle (PArallel Distributed Deep LEarning) is an easy-to-use, efficient, flexible and scalable deep learning platform, which is originally developed by Baidu scientists and engineers for the purpose of applying deep learning to many products at Baidu.\n",
        "\n",
        "###### [Go to top](#top)"
      ]
    },
    {
      "cell_type": "markdown",
      "metadata": {
        "_uuid": "0560fa84a64ddeac53a4a10aaaa04a1424ad50f9",
        "id": "90NXERuMp_F5"
      },
      "source": [
        "<a id=\"32\"></a> <br>\n",
        "# 4- Frameworks\n",
        "Let's Start Learning, in this section we intrduce 5 deep learning frameworks."
      ]
    },
    {
      "cell_type": "markdown",
      "metadata": {
        "_uuid": "cc17ec452b22997c92948c59852e319960f8de48",
        "id": "Zr3fnGJbp_F5"
      },
      "source": [
        "<a id=\"33\"></a> <br>\n",
        "## 4-1 Keras\n",
        "Our workflow will be as follow[10] [deep-learning-with-python-notebooks](https://github.com/fchollet/deep-learning-with-python-notebooks):\n",
        "1. first we will present our neural network with the training data, `train_images` and `train_labels`. \n",
        "1. The network will then learn to associate images and labels. \n",
        "1. Finally, we will ask the network to produce predictions for `test_images`, \n",
        "1. and we  will verify if these predictions match the labels from `test_labels`.\n",
        "\n",
        "**Let's build our network **\n",
        "\n",
        "###### [Go to top](#top)"
      ]
    },
    {
      "cell_type": "code",
      "metadata": {
        "_kg_hide-input": true,
        "_uuid": "c1d0fd821b1058f2f0f3a60bca814a199472bab8",
        "id": "lBqnZm1kp_F5",
        "outputId": "957e67c3-5512-46d0-d99c-dc75aa7a8d0b"
      },
      "source": [
        "# import Dataset to play with it\n",
        "from keras.datasets import mnist\n",
        "\n",
        "(train_images, train_labels), (test_images, test_labels) = mnist.load_data()"
      ],
      "execution_count": null,
      "outputs": [
        {
          "output_type": "stream",
          "text": [
            "Downloading data from https://s3.amazonaws.com/img-datasets/mnist.npz\n",
            "11493376/11490434 [==============================] - 0s 0us/step\n"
          ],
          "name": "stdout"
        }
      ]
    },
    {
      "cell_type": "code",
      "metadata": {
        "_kg_hide-input": true,
        "_uuid": "372dc6b32cdfdd8cdcec96ecd7589c6c2b8f857d",
        "id": "cxY5T_WNp_F6"
      },
      "source": [
        "from keras import models\n",
        "from keras import layers\n",
        "\n",
        "network = models.Sequential()\n",
        "network.add(layers.Dense(512, activation='relu', input_shape=(28 * 28,)))\n",
        "network.add(layers.Dense(10, activation='softmax'))"
      ],
      "execution_count": null,
      "outputs": []
    },
    {
      "cell_type": "markdown",
      "metadata": {
        "_uuid": "bb4af579abbb2d8de84c8799bbca2a9129166b75",
        "id": "E31BsAeTp_F6"
      },
      "source": [
        "<a id=\"34\"></a> <br>\n",
        "## 4-1-1 Analysis\n",
        "The core building block of neural networks is the \"**layer**\", a data-processing module which you can conceive as a \"**filter**\" for data. Some  data comes in, and comes out in a more useful form. Precisely, layers extract _representations_ out of the data fed into them -- hopefully  representations that are more meaningful for the problem at hand. Most of deep learning really consists of chaining together simple layers which will implement a form of progressive \"**data distillation**\". [colab.research.google](https://colab.research.google.com/github/alzayats/Google_Colab/blob/master/2_1_a_first_look_at_a_neural_network.ipynb)\n",
        "A deep learning model is like a sieve for data processing, made of a succession of increasingly refined data filters -- the \"layers\".\n",
        "Here our network consists of a sequence of two `Dense` layers, which are densely-connected (also called \"fully-connected\") neural layers. \n",
        "The second (and last) layer is a 10-way \"**softmax**\" layer, which means it will return an array of 10 probability scores (summing to 1). Each score will be the probability that the current digit image belongs to one of our 10 digit classes.\n",
        "To make our network ready for training, we need to pick three more things, as part of \"compilation\" step:\n",
        "\n",
        "1. A loss function: the is how the network will be able to measure how good a job it is doing on its training data, and thus how it will be able to steer itself in the right direction.\n",
        "1. An optimizer: this is the mechanism through which the network will update itself based on the data it sees and its loss function.\n",
        "1. Metrics to monitor during training and testing. Here we will only care about accuracy (the fraction of the images that were correctly classified).\n",
        "\n",
        "###### [Go to top](#top)"
      ]
    },
    {
      "cell_type": "code",
      "metadata": {
        "_kg_hide-input": true,
        "_uuid": "f1c5dde77030c5917a6192452a9b27d93aafc04f",
        "id": "5ohVrEu6p_F6"
      },
      "source": [
        "network.compile(optimizer='rmsprop',\n",
        "                loss='categorical_crossentropy',\n",
        "                metrics=['accuracy'])"
      ],
      "execution_count": null,
      "outputs": []
    },
    {
      "cell_type": "markdown",
      "metadata": {
        "_uuid": "4512d98c72019135dd41f9f0521be6ece298be24",
        "id": "ccB4K2pPp_F6"
      },
      "source": [
        "\n",
        "Before training, we will **preprocess** our data by reshaping it into the shape that the network expects, and **scaling** it so that all values are in \n",
        "the `[0, 1]` interval. Previously, our training images for instance were stored in an array of shape `(60000, 28, 28)` of type `uint8` with \n",
        "values in the `[0, 255]` interval. We transform it into a `float32` array of shape `(60000, 28 * 28)` with values between 0 and 1.\n",
        "\n",
        "###### [Go to top](#top)"
      ]
    },
    {
      "cell_type": "code",
      "metadata": {
        "_kg_hide-input": true,
        "_uuid": "11ab3b8562444b8af7c342c36a45fefa20387e3b",
        "id": "UXE5TT3Fp_F6"
      },
      "source": [
        "train_images = train_images.reshape((60000, 28 * 28))\n",
        "train_images = train_images.astype('float32') / 255\n",
        "\n",
        "test_images = test_images.reshape((10000, 28 * 28))\n",
        "test_images = test_images.astype('float32') / 255"
      ],
      "execution_count": null,
      "outputs": []
    },
    {
      "cell_type": "markdown",
      "metadata": {
        "_uuid": "ff688de9ee4e5ec11da63bb2f3ef48a49d7b2dd7",
        "id": "G1Unt_9Zp_F6"
      },
      "source": [
        "We also need to **categorically encode** the labels"
      ]
    },
    {
      "cell_type": "code",
      "metadata": {
        "_kg_hide-input": true,
        "_uuid": "fc813e561b55b29d1e0ba7f620ae29bf43293b57",
        "id": "_SMgR1S7p_F7"
      },
      "source": [
        "from keras.utils import to_categorical\n",
        "\n",
        "train_labels = to_categorical(train_labels)\n",
        "test_labels = to_categorical(test_labels)"
      ],
      "execution_count": null,
      "outputs": []
    },
    {
      "cell_type": "markdown",
      "metadata": {
        "_uuid": "fe77d9bdd7566b201e5be7fe54c67c7f9717c956",
        "id": "_0jrm4vAp_F7"
      },
      "source": [
        "We are now ready to train our network, which in **Keras** is done via a call to the `fit` method of the network: \n",
        "we \"fit\" the model to its training data.\n",
        "\n",
        "###### [Go to top](#top)"
      ]
    },
    {
      "cell_type": "code",
      "metadata": {
        "_kg_hide-input": true,
        "_uuid": "18dd966ba9e372810d2e6ef3950182a6fb91f779",
        "id": "NklBRVSTp_F7",
        "outputId": "6cb8d933-4f27-44d2-b711-7ba473194223"
      },
      "source": [
        "#please change epochs to 5\n",
        "network.fit(train_images, train_labels, epochs=1, batch_size=128)"
      ],
      "execution_count": null,
      "outputs": [
        {
          "output_type": "stream",
          "text": [
            "Epoch 1/1\n",
            "60000/60000 [==============================] - 3s 58us/step - loss: 0.2574 - acc: 0.9248\n"
          ],
          "name": "stdout"
        },
        {
          "output_type": "execute_result",
          "data": {
            "text/plain": [
              "<keras.callbacks.History at 0x7fe847e44748>"
            ]
          },
          "metadata": {
            "tags": []
          },
          "execution_count": 21
        }
      ]
    },
    {
      "cell_type": "markdown",
      "metadata": {
        "_uuid": "7542f033cbc2c6a14b406319e822b2482600bc55",
        "id": "T1aXWbg0p_F7"
      },
      "source": [
        "**Two quantities** are being displayed during training: the \"**loss**\" of the network over the training data, and the accuracy of the network over \n",
        "the training data.\n",
        "\n",
        "We quickly reach an accuracy of **0.989 (i.e. 98.9%)** on the training data. Now let's check that our model performs well on the test set too:\n",
        "\n",
        "###### [Go to top](#top)"
      ]
    },
    {
      "cell_type": "code",
      "metadata": {
        "_kg_hide-input": true,
        "_uuid": "b3ed834610a6f66f1e112a7c8288e84a0dd410b8",
        "id": "Fkd-Rrwip_F7",
        "outputId": "58dff250-7f19-4eae-f6ca-34bb0bccb5cb"
      },
      "source": [
        "test_loss, test_acc = network.evaluate(test_images, test_labels)"
      ],
      "execution_count": null,
      "outputs": [
        {
          "output_type": "stream",
          "text": [
            "10000/10000 [==============================] - 0s 41us/step\n"
          ],
          "name": "stdout"
        }
      ]
    },
    {
      "cell_type": "code",
      "metadata": {
        "_kg_hide-input": true,
        "_uuid": "0e00d4ca1dff83c73886044b8049d4fcc6930669",
        "id": "BX3SlbAop_F8",
        "outputId": "64cc61f4-583f-480d-c380-3d865ab811ca"
      },
      "source": [
        "print('test_acc:', test_acc)"
      ],
      "execution_count": null,
      "outputs": [
        {
          "output_type": "stream",
          "text": [
            "test_acc: 0.9608\n"
          ],
          "name": "stdout"
        }
      ]
    },
    {
      "cell_type": "markdown",
      "metadata": {
        "_uuid": "ac27321f82907d98f22b2ab6fee54a5885c7cbb1",
        "id": "tX9r19wFp_F8"
      },
      "source": [
        "\n",
        "**Our test set accuracy turns out to be 97.8%**"
      ]
    },
    {
      "cell_type": "markdown",
      "metadata": {
        "_uuid": "938b17914c9b6249a82dd3d8063d77511ec1ac5b",
        "id": "agqVwJfqp_F8"
      },
      "source": [
        "<a id=\"331\"></a> <br>\n",
        "## 4-1-2  Text Classification with Keras\n",
        "A simple text classification from [16]."
      ]
    },
    {
      "cell_type": "code",
      "metadata": {
        "_uuid": "64017109bf27fb614934740111e705cae904ed13",
        "id": "MICl2fjUp_F8"
      },
      "source": [
        "from keras.preprocessing import sequence\n",
        "from keras.models import Sequential\n",
        "from keras.layers import Dense, Embedding, GlobalAveragePooling1D\n",
        "from keras.datasets import imdb"
      ],
      "execution_count": null,
      "outputs": []
    },
    {
      "cell_type": "code",
      "metadata": {
        "_uuid": "516294053ae561832e9a7996844d9be1cef5f2cf",
        "id": "hKYmuMW7p_F8",
        "outputId": "823a4fd3-50ee-4247-beaa-c13f9431c595"
      },
      "source": [
        "max_features = 5000\n",
        "maxlen = 400\n",
        "batch_size = 32\n",
        "embedding_dims = 20\n",
        "\n",
        "(x_train, y_train), (x_test, y_test) = imdb.load_data(num_words=max_features)\n",
        "\n",
        "print(len(x_train), 'train sequences')\n",
        "print(len(x_test), 'test sequences')\n",
        "\n",
        "x_train = sequence.pad_sequences(x_train, maxlen=maxlen)\n",
        "x_test = sequence.pad_sequences(x_test, maxlen=maxlen)"
      ],
      "execution_count": null,
      "outputs": [
        {
          "output_type": "stream",
          "text": [
            "Downloading data from https://s3.amazonaws.com/text-datasets/imdb.npz\n",
            "17465344/17464789 [==============================] - 0s 0us/step\n",
            "25000 train sequences\n",
            "25000 test sequences\n"
          ],
          "name": "stdout"
        }
      ]
    },
    {
      "cell_type": "code",
      "metadata": {
        "_uuid": "513bce33a959a11c5a010c642f6353dc73db7200",
        "id": "emb-h42Ap_F9",
        "outputId": "9e4659c7-e978-487a-f80b-9c4a99b09dfa"
      },
      "source": [
        "model = Sequential()\n",
        "model.add(Embedding(input_dim=5000, output_dim=embedding_dims))\n",
        "model.add(GlobalAveragePooling1D())\n",
        "model.add(Dense(1, activation='sigmoid'))\n",
        "\n",
        "model.compile(loss='binary_crossentropy',\n",
        "              optimizer='adam',\n",
        "              metrics=['accuracy'])\n",
        "\n",
        "model.fit(x_train, y_train,\n",
        "          batch_size=batch_size,\n",
        "          validation_data=(x_test, y_test))"
      ],
      "execution_count": null,
      "outputs": [
        {
          "output_type": "stream",
          "text": [
            "Train on 25000 samples, validate on 25000 samples\n",
            "Epoch 1/1\n",
            "25000/25000 [==============================] - 5s 183us/step - loss: 0.6479 - acc: 0.7132 - val_loss: 0.5812 - val_acc: 0.7878\n"
          ],
          "name": "stdout"
        },
        {
          "output_type": "execute_result",
          "data": {
            "text/plain": [
              "<keras.callbacks.History at 0x7fe847c104e0>"
            ]
          },
          "metadata": {
            "tags": []
          },
          "execution_count": 26
        }
      ]
    },
    {
      "cell_type": "markdown",
      "metadata": {
        "_uuid": "2d318a6552c109d8880ce14659c90210eab060c0",
        "id": "-OeREYa-p_F9"
      },
      "source": [
        "<a id=\"35\"></a> <br>\n",
        "## 4-2 TensorFlow\n",
        "**TensorFlow** is an open-source machine learning library for research and production. TensorFlow offers **APIs** for beginners and experts to develop for desktop, mobile, web, and cloud. See the sections below to get started.[12] [tensorflow](https://www.tensorflow.org/tutorials)\n",
        "\n",
        "###### [Go to top](#top)"
      ]
    },
    {
      "cell_type": "code",
      "metadata": {
        "_kg_hide-input": true,
        "_uuid": "e5f85da49eb80ae47151b5b3308425b9184e1440",
        "id": "s2hh_16zp_F9",
        "outputId": "a1bbdc8d-f9d2-40bd-d113-b70439b23a5d"
      },
      "source": [
        "# Simple hello world using TensorFlow\n",
        "hello = tf.constant('Hello, TensorFlow!')\n",
        "# Start tf session\n",
        "sess = tf.Session()\n",
        "# Run graph\n",
        "print(sess.run(hello))\n",
        "mnist = tf.keras.datasets.mnist\n",
        "\n",
        "(x_train, y_train),(x_test, y_test) = mnist.load_data()\n",
        "x_train, x_test = x_train / 255.0, x_test / 255.0\n",
        "\n",
        "model = tf.keras.models.Sequential([\n",
        "  tf.keras.layers.Flatten(),\n",
        "  tf.keras.layers.Dense(512, activation=tf.nn.relu),\n",
        "  tf.keras.layers.Dropout(0.2),\n",
        "  tf.keras.layers.Dense(10, activation=tf.nn.softmax)\n",
        "])\n",
        "model.compile(optimizer='adam',\n",
        "              loss='sparse_categorical_crossentropy',\n",
        "              metrics=['accuracy'])\n",
        "#please change epochs to 5\n",
        "model.fit(x_train, y_train, epochs=1)\n",
        "model.evaluate(x_test, y_test)"
      ],
      "execution_count": null,
      "outputs": [
        {
          "output_type": "stream",
          "text": [
            "b'Hello, TensorFlow!'\n",
            "Epoch 1/1\n",
            "60000/60000 [==============================] - 9s 150us/step - loss: 0.1999 - acc: 0.9417\n",
            "10000/10000 [==============================] - 0s 46us/step\n"
          ],
          "name": "stdout"
        },
        {
          "output_type": "execute_result",
          "data": {
            "text/plain": [
              "[0.10278266978748142, 0.9663]"
            ]
          },
          "metadata": {
            "tags": []
          },
          "execution_count": 27
        }
      ]
    },
    {
      "cell_type": "markdown",
      "metadata": {
        "_uuid": "fbc9fbb67e838ea9ddf88845b688c8c1951f7512",
        "id": "l5YdXcCvp_F9"
      },
      "source": [
        "<a id=\"36\"></a> <br>\n",
        "## 4-2-1 Import the Fashion MNIST dataset\n"
      ]
    },
    {
      "cell_type": "code",
      "metadata": {
        "_kg_hide-input": true,
        "_uuid": "c85ca45a881ec8f85cf072cd8cc299e540e0b453",
        "id": "DFenFqxGp_F-",
        "outputId": "2010f073-29f5-4d1d-9a45-98f0539fe109"
      },
      "source": [
        "fashion_mnist = keras.datasets.fashion_mnist\n",
        "\n",
        "(train_images, train_labels), (test_images, test_labels) = fashion_mnist.load_data()"
      ],
      "execution_count": null,
      "outputs": [
        {
          "output_type": "stream",
          "text": [
            "Downloading data from http://fashion-mnist.s3-website.eu-central-1.amazonaws.com/train-labels-idx1-ubyte.gz\n",
            "32768/29515 [=================================] - 0s 4us/step\n",
            "Downloading data from http://fashion-mnist.s3-website.eu-central-1.amazonaws.com/train-images-idx3-ubyte.gz\n",
            "26427392/26421880 [==============================] - 2s 0us/step\n",
            "Downloading data from http://fashion-mnist.s3-website.eu-central-1.amazonaws.com/t10k-labels-idx1-ubyte.gz\n",
            "8192/5148 [===============================================] - 0s 0us/step\n",
            "Downloading data from http://fashion-mnist.s3-website.eu-central-1.amazonaws.com/t10k-images-idx3-ubyte.gz\n",
            "4423680/4422102 [==============================] - 1s 0us/step\n"
          ],
          "name": "stdout"
        }
      ]
    },
    {
      "cell_type": "markdown",
      "metadata": {
        "_uuid": "06829a241c328ba053315979757694774808e3c0",
        "id": "aL7oNvBhp_F-"
      },
      "source": [
        "Loading the dataset returns **four NumPy arrays**:\n",
        "\n",
        "1. The train_images and train_labels arrays are the training set—the data the model uses to learn.\n",
        "1. The model is tested against the test set, the test_images, and test_labels arrays.\n",
        "1. The images are 28x28 NumPy arrays, with pixel values ranging between 0 and 255.\n",
        "1. The labels are an array of integers, ranging from 0 to 9. These correspond to the class of clothing the image represents:\n",
        "\n",
        "###### [Go to top](#top)"
      ]
    },
    {
      "cell_type": "markdown",
      "metadata": {
        "_uuid": "ed1e9b140ee497c89ac5213787c157d412385ac6",
        "id": "7H0OXodgp_F-"
      },
      "source": [
        "<img src='https://tensorflow.org/images/fashion-mnist-sprite.png'>\n",
        "[image credit](https://tensorflow.org)"
      ]
    },
    {
      "cell_type": "markdown",
      "metadata": {
        "_uuid": "302664d8f9878c0c8ddb2a64bc00cd6ed58d4766",
        "id": "J1EEcpy_p_F-"
      },
      "source": [
        "Each image is **mapped** to a single label. Since the class names are not included with the dataset, store them here to use later when plotting the images:"
      ]
    },
    {
      "cell_type": "code",
      "metadata": {
        "_kg_hide-input": true,
        "_uuid": "0801170ba61fca12c2d39f246bcb4ece5f78f5df",
        "id": "l1njecNCp_F-"
      },
      "source": [
        "class_names = ['T-shirt/top', 'Trouser', 'Pullover', 'Dress', 'Coat', \n",
        "               'Sandal', 'Shirt', 'Sneaker', 'Bag', 'Ankle boot']"
      ],
      "execution_count": null,
      "outputs": []
    },
    {
      "cell_type": "markdown",
      "metadata": {
        "_uuid": "f2136d7bc6f8ef021e4d7f6ee69203baf43faabd",
        "id": "FMb68-Upp_F-"
      },
      "source": [
        "<a id=\"37\"></a> <br>\n",
        "## 4-2-2 Explore the data\n",
        "Let's explore the format of the dataset before training the model. The following shows there are **60,000** images in the training set, with each image represented as 28 x 28 pixels:\n",
        "\n",
        "###### [Go to top](#top)"
      ]
    },
    {
      "cell_type": "code",
      "metadata": {
        "_kg_hide-input": true,
        "_uuid": "1f4dc17d2affe5849b9a4e8ae81d2c9ffa5739c9",
        "id": "2r-m-JSUp_F_",
        "outputId": "b06e8fb8-2e67-48c0-aadd-5859e7d84362"
      },
      "source": [
        "train_images.shape"
      ],
      "execution_count": null,
      "outputs": [
        {
          "output_type": "execute_result",
          "data": {
            "text/plain": [
              "(60000, 28, 28)"
            ]
          },
          "metadata": {
            "tags": []
          },
          "execution_count": 30
        }
      ]
    },
    {
      "cell_type": "markdown",
      "metadata": {
        "_uuid": "9cbf875d1bb38ca779bf1ea9d081887889b18206",
        "id": "zEgrZY4Ip_F_"
      },
      "source": [
        "Likewise, there are 60,000 labels in the training set:\n",
        "\n"
      ]
    },
    {
      "cell_type": "code",
      "metadata": {
        "_kg_hide-input": true,
        "_uuid": "8dc01e76b4d061bacbfaca818dac4ac6f15c7a44",
        "id": "qtcW7Umqp_F_",
        "outputId": "0e2012eb-323a-446a-ef2d-e4a8c7b0e2c0"
      },
      "source": [
        "len(train_labels)\n"
      ],
      "execution_count": null,
      "outputs": [
        {
          "output_type": "execute_result",
          "data": {
            "text/plain": [
              "60000"
            ]
          },
          "metadata": {
            "tags": []
          },
          "execution_count": 31
        }
      ]
    },
    {
      "cell_type": "markdown",
      "metadata": {
        "_uuid": "dac4b85e6bbe9c6909ccaad22dfba927d8a95fe4",
        "id": "Tg_FCT93p_F_"
      },
      "source": [
        "Each label is an integer between 0 and 9:\n",
        "\n"
      ]
    },
    {
      "cell_type": "code",
      "metadata": {
        "_kg_hide-input": true,
        "_uuid": "9b1060a16ba153a47f8f9576281934d570b76a2b",
        "id": "q8x4V46Ip_F_",
        "outputId": "c3d1e6cb-de44-4637-dd96-4360715fd8ba"
      },
      "source": [
        "train_labels\n"
      ],
      "execution_count": null,
      "outputs": [
        {
          "output_type": "execute_result",
          "data": {
            "text/plain": [
              "array([9, 0, 0, ..., 3, 0, 5], dtype=uint8)"
            ]
          },
          "metadata": {
            "tags": []
          },
          "execution_count": 32
        }
      ]
    },
    {
      "cell_type": "markdown",
      "metadata": {
        "_uuid": "6b9524c3d082ba3d1fe08fc5117350d3831720ce",
        "id": "EFsk361fp_GA"
      },
      "source": [
        "There are 10,000 images in the test set. Again, each image is represented as 28 x 28 pixels:\n",
        "\n"
      ]
    },
    {
      "cell_type": "code",
      "metadata": {
        "_kg_hide-input": true,
        "_uuid": "11acf0145fd4293e8944da17db96ef0abf176fe2",
        "id": "iRXp6oeVp_GA",
        "outputId": "36611a53-9ebf-455b-fc35-5b3901575dbe"
      },
      "source": [
        "test_images.shape\n"
      ],
      "execution_count": null,
      "outputs": [
        {
          "output_type": "execute_result",
          "data": {
            "text/plain": [
              "(10000, 28, 28)"
            ]
          },
          "metadata": {
            "tags": []
          },
          "execution_count": 33
        }
      ]
    },
    {
      "cell_type": "markdown",
      "metadata": {
        "_uuid": "10d203635805eb675a08a1aa6cac8a18198bddb0",
        "id": "_w7PPuN2p_GA"
      },
      "source": [
        "And the test set contains 10,000 images labels:\n",
        "\n"
      ]
    },
    {
      "cell_type": "code",
      "metadata": {
        "_kg_hide-input": true,
        "_uuid": "fa2d61fe145d2040832162e2ab1cb42edb7aa3d1",
        "id": "PBIT6DM_p_GA",
        "outputId": "99c6ed17-358b-4425-be3c-29a8e82634f1"
      },
      "source": [
        "len(test_labels)\n"
      ],
      "execution_count": null,
      "outputs": [
        {
          "output_type": "execute_result",
          "data": {
            "text/plain": [
              "10000"
            ]
          },
          "metadata": {
            "tags": []
          },
          "execution_count": 34
        }
      ]
    },
    {
      "cell_type": "markdown",
      "metadata": {
        "_uuid": "aba35c08f64f4879210aaf6c8954e361cc34a6fb",
        "id": "vP-ypHbEp_GB"
      },
      "source": [
        "<a id=\"38\"></a> <br>\n",
        "## 4-2-3 Preprocess the data\n"
      ]
    },
    {
      "cell_type": "markdown",
      "metadata": {
        "_uuid": "3d2f80c0d183ef02499dfba9e1d91e98aa109ada",
        "id": "AZSEHgm5p_GE"
      },
      "source": [
        "The data must be preprocessed before training the network. If you inspect the first image in the training set, you will see that the pixel values fall in the range of 0 to 255:\n",
        "\n",
        "###### [Go to top](#top)\n"
      ]
    },
    {
      "cell_type": "code",
      "metadata": {
        "_kg_hide-input": true,
        "_uuid": "45f0894f5fbb16cfb153ab368db499f5ca3bf898",
        "id": "SjEarq2fp_GE",
        "outputId": "ed262b95-7779-4f0e-a428-9c0555ea2047"
      },
      "source": [
        "plt.figure()\n",
        "plt.imshow(train_images[0])\n",
        "plt.colorbar()\n",
        "plt.grid(False)"
      ],
      "execution_count": null,
      "outputs": [
        {
          "output_type": "display_data",
          "data": {
            "image/png": "[encoded data removed]",
            "text/plain": [
              "<Figure size 432x288 with 2 Axes>"
            ]
          },
          "metadata": {
            "tags": []
          }
        }
      ]
    },
    {
      "cell_type": "markdown",
      "metadata": {
        "_uuid": "d9d3aa056608f5ba327ade5a012a5732aa588a58",
        "id": "wflaw18Mp_GE"
      },
      "source": [
        "We scale these values to a range of 0 to 1 before feeding to the neural network model. For this, cast the datatype of the image components from an** integer to a float,** and divide by 255. Here's the function to preprocess the images:\n",
        "\n",
        "It's important that the training set and the testing set are preprocessed in the same way:"
      ]
    },
    {
      "cell_type": "code",
      "metadata": {
        "_kg_hide-input": true,
        "_uuid": "00845f727dea68873dd406f5eb70f4f6b47f8109",
        "id": "Dl9agnj9p_GE"
      },
      "source": [
        "train_images = train_images / 255.0\n",
        "\n",
        "test_images = test_images / 255.0"
      ],
      "execution_count": null,
      "outputs": []
    },
    {
      "cell_type": "markdown",
      "metadata": {
        "_uuid": "986c4006f09b115a8406c20f56b471ff99a77b7b",
        "id": "cfvA3xD5p_GF"
      },
      "source": [
        "Display the first 25 images from the training set and display the class name below each image. **Verify** that the data is in the correct format and we're ready to build and train the network."
      ]
    },
    {
      "cell_type": "code",
      "metadata": {
        "_kg_hide-input": true,
        "_uuid": "741d898b017fcbf4cda5f1db742cd9a0f88b4edd",
        "id": "-x8tM89dp_GF",
        "outputId": "837e0ffc-f3b3-4f25-993c-bbc7bc95f3ae"
      },
      "source": [
        "plt.figure(figsize=(10,10))\n",
        "for i in range(25):\n",
        "    plt.subplot(5,5,i+1)\n",
        "    plt.xticks([])\n",
        "    plt.yticks([])\n",
        "    plt.grid(False)\n",
        "    plt.imshow(train_images[i], cmap=plt.cm.binary)\n",
        "    plt.xlabel(class_names[train_labels[i]])"
      ],
      "execution_count": null,
      "outputs": [
        {
          "output_type": "display_data",
          "data": {
            "image/png": "[encoded data removed]",
            "text/plain": [
              "<Figure size 720x720 with 25 Axes>"
            ]
          },
          "metadata": {
            "tags": []
          }
        }
      ]
    },
    {
      "cell_type": "markdown",
      "metadata": {
        "_uuid": "2097815c69672cd1b9f56448acdf437339f568c9",
        "id": "ihVJy5aXp_GF"
      },
      "source": [
        "<a id=\"39\"></a> <br>\n",
        "## 4-2-4 Build the model\n"
      ]
    },
    {
      "cell_type": "markdown",
      "metadata": {
        "_uuid": "d7b5a268f8e1dc866e7a3fb3a2f6cca0e8523240",
        "id": "d_l7yK-Dp_GF"
      },
      "source": [
        "**Building the neural network requires configuring the layers of the model, then compiling the model.**\n",
        "<a id=\"40\"></a> <br>\n",
        "### 4-2-4-1 Setup the layers\n",
        "The basic building block of a neural network is the layer. **Layers** extract representations from the data fed into them. And, hopefully, these representations are more meaningful for the problem at hand.\n",
        "\n",
        "Most of deep learning consists of chaining together simple layers. Most layers, like tf.keras.layers.Dense, have parameters that are learned during training.\n",
        "\n",
        "###### [Go to top](#top)"
      ]
    },
    {
      "cell_type": "code",
      "metadata": {
        "_kg_hide-input": true,
        "_uuid": "2fb66496035a544a5e94106cb2b80e7bcb11d5d4",
        "id": "McNa6dN7p_GF"
      },
      "source": [
        "model = keras.Sequential([\n",
        "    keras.layers.Flatten(input_shape=(28, 28)),\n",
        "    keras.layers.Dense(128, activation=tf.nn.relu),\n",
        "    keras.layers.Dense(10, activation=tf.nn.softmax)\n",
        "])"
      ],
      "execution_count": null,
      "outputs": []
    },
    {
      "cell_type": "markdown",
      "metadata": {
        "_uuid": "891b791c682f6512cb837e4c9cd3bb3f96f255f7",
        "id": "UIrQy-T1p_GG"
      },
      "source": [
        "The **first layer** in this network, tf.keras.layers.Flatten, transforms the format of the images from a 2d-array (of 28 by 28 pixels), to a 1d-array of 28 * 28 = 784 pixels. Think of this layer as unstacking rows of pixels in the image and lining them up. This layer has no parameters to learn; it only reformats the data.\n",
        "\n",
        "After the pixels are flattened, the network consists of a sequence of two tf.keras.layers.Dense layers. These are densely-connected, or fully-connected, neural layers. The first Dense layer has 128 nodes (or neurons). **The second (and last) layer** is a 10-node softmax layer—this returns an array of 10 probability scores that sum to 1. Each node contains a score that indicates the probability that the current image belongs to one of the 10 classes.\n",
        "\n",
        "###### [Go to top](#top)"
      ]
    },
    {
      "cell_type": "markdown",
      "metadata": {
        "_uuid": "b8288c8b9365aaea1be7e3fc29f28ea099599337",
        "id": "6EYYPP9Sp_GG"
      },
      "source": [
        "<a id=\"41\"></a> <br>\n",
        "## 4-2-5 Compile the model\n",
        "Before the model is ready for training, it needs a few more settings. These are added during the model's compile step:\n",
        "\n",
        "1. **Loss function** —This measures how accurate the model is during training. We want to minimize this function to \"steer\" the model in the right direction.\n",
        "1. **Optimizer** —This is how the model is updated based on the data it sees and its loss function.\n",
        "1. **Metrics** —Used to monitor the training and testing steps. The following example uses accuracy, the fraction of the images that are correctly classified.\n",
        "\n",
        "###### [Go to top](#top)"
      ]
    },
    {
      "cell_type": "code",
      "metadata": {
        "_kg_hide-input": true,
        "_uuid": "147f6384ab4ac6ca1f4199c9e5fe5fc5de40ddcf",
        "id": "BX0YYwKip_GG"
      },
      "source": [
        "model.compile(optimizer=tf.train.AdamOptimizer(), \n",
        "              loss='sparse_categorical_crossentropy',\n",
        "              metrics=['accuracy'])"
      ],
      "execution_count": null,
      "outputs": []
    },
    {
      "cell_type": "markdown",
      "metadata": {
        "_uuid": "eb5ca06622460737f9270c0f8b44e4a9ec8ee46c",
        "id": "jfoJu2XUp_GG"
      },
      "source": [
        "<a id=\"42\"></a> <br>\n",
        "## 4-2-6 Train the model\n",
        "Training the neural network model requires the following steps:\n",
        "\n",
        "Feed the training data to the model—in this example, the train_images and train_labels arrays.\n",
        "The model learns to associate images and labels.\n",
        "We ask the model to make predictions about a test set—in this example, the test_images array. We verify that the predictions match the labels from the test_labels array.\n",
        "To start training, call the model.fit method—the model is \"fit\" to the training data:\n",
        "\n",
        "###### [Go to top](#top)"
      ]
    },
    {
      "cell_type": "code",
      "metadata": {
        "_kg_hide-input": true,
        "_uuid": "03987dc45cf8603ac85093b2e213b66414997307",
        "id": "9GbvD-uEp_GG",
        "outputId": "18723fac-e3af-4ade-acfc-b7d0a90f973b"
      },
      "source": [
        "#please change epochs to 5\n",
        "model.fit(train_images, train_labels, epochs=1)"
      ],
      "execution_count": null,
      "outputs": [
        {
          "output_type": "stream",
          "text": [
            "Epoch 1/1\n",
            "60000/60000 [==============================] - 4s 70us/step - loss: 0.4991 - acc: 0.8222\n"
          ],
          "name": "stdout"
        },
        {
          "output_type": "execute_result",
          "data": {
            "text/plain": [
              "<keras.callbacks.History at 0x7fe847be4fd0>"
            ]
          },
          "metadata": {
            "tags": []
          },
          "execution_count": 40
        }
      ]
    },
    {
      "cell_type": "markdown",
      "metadata": {
        "_uuid": "1ac81e58e42d648d321b830b224ab3519984ebf3",
        "id": "1FMGD4jrp_GH"
      },
      "source": [
        "As the model trains, the loss and accuracy metrics are displayed. This model reaches an accuracy of about 0.88 (or 88%) on the training data."
      ]
    },
    {
      "cell_type": "markdown",
      "metadata": {
        "_uuid": "87b748f0572109246d2867d3cbd0099279a8e14b",
        "id": "QsILtgA1p_GH"
      },
      "source": [
        "<a id=\"43\"></a> <br>\n",
        "## 4-2-7 Evaluate accuracy\n",
        "Next, compare how the model performs on the test dataset:\n",
        "\n",
        "###### [Go to top](#top)"
      ]
    },
    {
      "cell_type": "code",
      "metadata": {
        "_kg_hide-input": true,
        "_uuid": "6b058c57a1019bfe9eb5bb130821521b8fb60199",
        "id": "qjdigInLp_GH",
        "outputId": "a73b11a7-2490-4b10-dc7d-a5fe6bbec89f"
      },
      "source": [
        "test_loss, test_acc = model.evaluate(test_images, test_labels)\n",
        "\n",
        "print('Test accuracy:', test_acc)"
      ],
      "execution_count": null,
      "outputs": [
        {
          "output_type": "stream",
          "text": [
            "10000/10000 [==============================] - 0s 32us/step\n",
            "Test accuracy: 0.8478\n"
          ],
          "name": "stdout"
        }
      ]
    },
    {
      "cell_type": "markdown",
      "metadata": {
        "_uuid": "1e51ac16e784f873d188f3a7a9a97b77b80bc9fd",
        "id": "vGNH4_V4p_GI"
      },
      "source": [
        "It turns out, the accuracy on the test dataset is a little less than the accuracy on the training dataset. This gap between training accuracy and test accuracy is an example of overfitting. Overfitting is when a machine learning model performs worse on new data than on their training data."
      ]
    },
    {
      "cell_type": "markdown",
      "metadata": {
        "_uuid": "89b4451f22b40620f84d91776bc87f56c7035b56",
        "id": "LNEf_RcFp_GI"
      },
      "source": [
        "<a id=\"44\"></a> <br>\n",
        "## 4-2-8 Make predictions\n",
        "With the model trained, we can use it to make predictions about some images.\n",
        "###### [Go to top](#top)"
      ]
    },
    {
      "cell_type": "code",
      "metadata": {
        "_kg_hide-input": true,
        "_uuid": "41c87068a6d3a43561ea86165f0a06a2118a62d2",
        "id": "_L_6E0Lkp_GI"
      },
      "source": [
        "predictions = model.predict(test_images)\n"
      ],
      "execution_count": null,
      "outputs": []
    },
    {
      "cell_type": "markdown",
      "metadata": {
        "_uuid": "7c67111925e00718f02853fa0a2e075e57ca11a9",
        "id": "t3WzLz5Op_GI"
      },
      "source": [
        "Here, the model has predicted the label for each image in the testing set. Let's take a look at the first prediction:\n",
        "\n"
      ]
    },
    {
      "cell_type": "code",
      "metadata": {
        "_kg_hide-input": true,
        "_uuid": "b55b3fd88dcc23ad88449a3e4031c8cafb898eb0",
        "id": "GqSUdr30p_GJ",
        "outputId": "9af09dc1-4c88-4e89-adb3-09e3b1e5edef"
      },
      "source": [
        "predictions[0]\n"
      ],
      "execution_count": null,
      "outputs": [
        {
          "output_type": "execute_result",
          "data": {
            "text/plain": [
              "array([3.3822391e-05, 1.8082466e-06, 4.4079216e-06, 2.3483010e-06,\n",
              "       1.3914318e-05, 2.0266261e-02, 2.2356044e-05, 3.3198744e-02,\n",
              "       2.1387991e-03, 9.4431758e-01], dtype=float32)"
            ]
          },
          "metadata": {
            "tags": []
          },
          "execution_count": 43
        }
      ]
    },
    {
      "cell_type": "markdown",
      "metadata": {
        "_uuid": "133bc34cbb4d3f253c524f00e222928a3b13e4b4",
        "id": "SQXJtKShp_GJ"
      },
      "source": [
        "A prediction is an array of 10 numbers. These describe the \"confidence\" of the model that the image corresponds to each of the 10 different articles of clothing. We can see which label has the highest confidence value:\n",
        "\n"
      ]
    },
    {
      "cell_type": "code",
      "metadata": {
        "_kg_hide-input": true,
        "_uuid": "5d06c4e9c154f2a5b104fb40950caea662866928",
        "id": "eEtIm6MLp_GJ",
        "outputId": "f125d15e-6857-4418-c41a-b1584577df4a"
      },
      "source": [
        "np.argmax(predictions[0])\n"
      ],
      "execution_count": null,
      "outputs": [
        {
          "output_type": "execute_result",
          "data": {
            "text/plain": [
              "9"
            ]
          },
          "metadata": {
            "tags": []
          },
          "execution_count": 44
        }
      ]
    },
    {
      "cell_type": "markdown",
      "metadata": {
        "_uuid": "416bd6ab38af768e7ccbf84f2e4958edf57607a7",
        "id": "8ZvELC4Zp_GK"
      },
      "source": [
        "We can graph this to look at the full set of 10 channels\n",
        "\n"
      ]
    },
    {
      "cell_type": "code",
      "metadata": {
        "_kg_hide-input": true,
        "_uuid": "f47aca692a640ad3b80f8866d6008aba68ed0825",
        "id": "mYMt3gZlp_GK"
      },
      "source": [
        "def plot_image(i, predictions_array, true_label, img):\n",
        "  predictions_array, true_label, img = predictions_array[i], true_label[i], img[i]\n",
        "  plt.grid(False)\n",
        "  plt.xticks([])\n",
        "  plt.yticks([])\n",
        "  \n",
        "  plt.imshow(img, cmap=plt.cm.binary)\n",
        "\n",
        "  predicted_label = np.argmax(predictions_array)\n",
        "  if predicted_label == true_label:\n",
        "    color = 'blue'\n",
        "  else:\n",
        "    color = 'red'\n",
        "  \n",
        "  plt.xlabel(\"{} {:2.0f}% ({})\".format(class_names[predicted_label],\n",
        "                                100*np.max(predictions_array),\n",
        "                                class_names[true_label]),\n",
        "                                color=color)\n",
        "\n",
        "def plot_value_array(i, predictions_array, true_label):\n",
        "  predictions_array, true_label = predictions_array[i], true_label[i]\n",
        "  plt.grid(False)\n",
        "  plt.xticks([])\n",
        "  plt.yticks([])\n",
        "  thisplot = plt.bar(range(10), predictions_array, color=\"#777777\")\n",
        "  plt.ylim([0, 1]) \n",
        "  predicted_label = np.argmax(predictions_array)\n",
        " \n",
        "  thisplot[predicted_label].set_color('red')\n",
        "  thisplot[true_label].set_color('blue')"
      ],
      "execution_count": null,
      "outputs": []
    },
    {
      "cell_type": "markdown",
      "metadata": {
        "_uuid": "659d69546cc3ba435b279de4b3672a73b4c188c2",
        "id": "EBR56AT5p_GL"
      },
      "source": [
        "Let's look at the 0th image, predictions, and prediction array.\n",
        "\n",
        "###### [Go to top](#top)"
      ]
    },
    {
      "cell_type": "code",
      "metadata": {
        "_kg_hide-input": true,
        "_uuid": "6567c22e4a9e6f5bb08971148ec301d7851293c1",
        "id": "7P9K5H-7p_GL",
        "outputId": "211664dd-f9c3-4455-dd29-a89763eac97b"
      },
      "source": [
        "i = 0\n",
        "plt.figure(figsize=(6,3))\n",
        "plt.subplot(1,2,1)\n",
        "plot_image(i, predictions, test_labels, test_images)\n",
        "plt.subplot(1,2,2)\n",
        "plot_value_array(i, predictions,  test_labels)"
      ],
      "execution_count": null,
      "outputs": [
        {
          "output_type": "display_data",
          "data": {
            "image/png": "[encoded data removed]",
            "text/plain": [
              "<Figure size 432x216 with 2 Axes>"
            ]
          },
          "metadata": {
            "tags": []
          }
        }
      ]
    },
    {
      "cell_type": "code",
      "metadata": {
        "_kg_hide-input": true,
        "_uuid": "6d38e7cb0dafada9806aa9e97ea96b77f64c43da",
        "id": "qF0JTD_Fp_GL",
        "outputId": "d5af13b5-8c2a-4049-854e-748405bc449e"
      },
      "source": [
        "i = 12\n",
        "plt.figure(figsize=(6,3))\n",
        "plt.subplot(1,2,1)\n",
        "plot_image(i, predictions, test_labels, test_images)\n",
        "plt.subplot(1,2,2)\n",
        "plot_value_array(i, predictions,  test_labels)"
      ],
      "execution_count": null,
      "outputs": [
        {
          "output_type": "display_data",
          "data": {
            "image/png": "[encoded data removed]",
            "text/plain": [
              "<Figure size 432x216 with 2 Axes>"
            ]
          },
          "metadata": {
            "tags": []
          }
        }
      ]
    },
    {
      "cell_type": "markdown",
      "metadata": {
        "_uuid": "cb5e128f74d125f210335318f1caad4d9d57c93c",
        "id": "0rdZ-SzCp_GM"
      },
      "source": [
        "Let's plot several images with their predictions. Correct prediction labels are blue and incorrect prediction labels are red. The number gives the percent (out of 100) for the predicted label. Note that it can be wrong even when very confident.\n",
        "\n",
        "###### [Go to top](#top)"
      ]
    },
    {
      "cell_type": "code",
      "metadata": {
        "_kg_hide-input": true,
        "_uuid": "1bfd76dfc22dc76ccc17eaa2209144cb0571b0a4",
        "id": "qLSOkKNOp_GM",
        "outputId": "40aa3b0f-8c45-417a-f664-91a40c621a37"
      },
      "source": [
        "# Plot the first X test images, their predicted label, and the true label\n",
        "# Color correct predictions in blue, incorrect predictions in red\n",
        "num_rows = 5\n",
        "num_cols = 3\n",
        "num_images = num_rows*num_cols\n",
        "plt.figure(figsize=(2*2*num_cols, 2*num_rows))\n",
        "for i in range(num_images):\n",
        "  plt.subplot(num_rows, 2*num_cols, 2*i+1)\n",
        "  plot_image(i, predictions, test_labels, test_images)\n",
        "  plt.subplot(num_rows, 2*num_cols, 2*i+2)\n",
        "  plot_value_array(i, predictions, test_labels)"
      ],
      "execution_count": null,
      "outputs": [
        {
          "output_type": "display_data",
          "data": {
            "image/png": "[encoded data removed]",
            "text/plain": [
              "<Figure size 864x720 with 30 Axes>"
            ]
          },
          "metadata": {
            "tags": []
          }
        }
      ]
    },
    {
      "cell_type": "markdown",
      "metadata": {
        "_uuid": "aad0da875f601a4834cb339909d54f5e2c4a053f",
        "id": "oF8Ak_g8p_GM"
      },
      "source": [
        "Finally, use the trained model to make a **prediction** about a single image.\n",
        "\n",
        "###### [Go to top](#top)"
      ]
    },
    {
      "cell_type": "code",
      "metadata": {
        "_kg_hide-input": true,
        "_uuid": "afed032300abedc76b58a2356723ab6287873ded",
        "id": "YINFBLKnp_GM",
        "outputId": "61e159cc-e2db-447d-ea06-f13b5e5c5b8f"
      },
      "source": [
        "# Grab an image from the test dataset\n",
        "img = test_images[0]\n",
        "\n",
        "print(img.shape)"
      ],
      "execution_count": null,
      "outputs": [
        {
          "output_type": "stream",
          "text": [
            "(28, 28)\n"
          ],
          "name": "stdout"
        }
      ]
    },
    {
      "cell_type": "markdown",
      "metadata": {
        "_uuid": "488bcd1e9545884cef77acca23e278b337a5b39a",
        "id": "HTrxH9Brp_GN"
      },
      "source": [
        "**tf.keras** models are optimized to make predictions on a batch, or collection, of examples at once. So even though we're using a single image, we need to add it to a list:\n",
        "\n"
      ]
    },
    {
      "cell_type": "code",
      "metadata": {
        "_kg_hide-input": true,
        "_uuid": "dc0ad2cca369582a07a54298480d94c9e5505728",
        "id": "hRwnyty-p_GN",
        "outputId": "d64d0c67-6c95-452e-d135-9b1e6238d3b7"
      },
      "source": [
        "# Add the image to a batch where it's the only member.\n",
        "img = (np.expand_dims(img,0))\n",
        "\n",
        "print(img.shape)"
      ],
      "execution_count": null,
      "outputs": [
        {
          "output_type": "stream",
          "text": [
            "(1, 28, 28)\n"
          ],
          "name": "stdout"
        }
      ]
    },
    {
      "cell_type": "markdown",
      "metadata": {
        "_uuid": "013ac335e5e6815afed7467b8085d8900dfab7f2",
        "id": "V_2C8bVpp_GN"
      },
      "source": [
        "Now predict the image:\n",
        "\n",
        "###### [Go to top](#top)"
      ]
    },
    {
      "cell_type": "code",
      "metadata": {
        "_kg_hide-input": true,
        "_uuid": "49752739055f2c89268f0d7f08b2082759b9d1c4",
        "id": "LPIDQH0_p_GO",
        "outputId": "b9029108-394d-48e3-a9f5-f99c7cf1999e"
      },
      "source": [
        "predictions_single = model.predict(img)\n",
        "\n",
        "print(predictions_single)"
      ],
      "execution_count": null,
      "outputs": [
        {
          "output_type": "stream",
          "text": [
            "[[3.3822420e-05 1.8082449e-06 4.4079129e-06 2.3483010e-06 1.3914318e-05\n",
            "  2.0266267e-02 2.2356044e-05 3.3198722e-02 2.1387991e-03 9.4431758e-01]]\n"
          ],
          "name": "stdout"
        }
      ]
    },
    {
      "cell_type": "code",
      "metadata": {
        "_kg_hide-input": true,
        "_uuid": "29f7bf38561a2e2fe1cfa1e9b3d578d47a9bb225",
        "id": "XAcOBC2-p_GO",
        "outputId": "7ed35d12-9e46-4dfa-999c-0b987bcc79d9"
      },
      "source": [
        "plot_value_array(0, predictions_single, test_labels)\n",
        "_ = plt.xticks(range(10), class_names, rotation=45)"
      ],
      "execution_count": null,
      "outputs": [
        {
          "output_type": "display_data",
          "data": {
            "image/png": "[encoded data removed]",
            "text/plain": [
              "<Figure size 432x288 with 1 Axes>"
            ]
          },
          "metadata": {
            "tags": []
          }
        }
      ]
    },
    {
      "cell_type": "markdown",
      "metadata": {
        "_uuid": "cb26de113c9d2c8728a1bee7086638d29578d144",
        "id": "vY3CpBaXp_GP"
      },
      "source": [
        "<a id=\"45\"></a> <br>\n",
        "# 4-3 Theano \n",
        "**Theano** is a numerical computation library for Python. It is a common choice for implementing neural network models as it allows you to efficiently define, optimize and evaluate mathematical expressions, including multi-dimensional arrays (numpy.ndaray).[13] [ Credits to journaldev](https://www.journaldev.com/17840/theano-python-tutorial)\n",
        "\n",
        "###### [Go to top](#top)"
      ]
    },
    {
      "cell_type": "markdown",
      "metadata": {
        "_uuid": "46237310b57b3d39536d6ab2efc3ca2ebf01afd7",
        "id": "ljL1nMPsp_GP"
      },
      "source": [
        "Theano has got an amazing compiler which can do various optimizations of varying complexity. A few of such optimizations are:\n",
        "\n",
        "1. Arithmetic simplification (e.g: --x -> x; x + y - x -> y)\n",
        "1. Using memory aliasing to avoid calculation\n",
        "1. Constant folding\n",
        "1. Merging similar subgraphs, to avoid redundant calculation\n",
        "1. Loop fusion for elementwise sub-expressions\n",
        "1. GPU computations"
      ]
    },
    {
      "cell_type": "code",
      "metadata": {
        "_kg_hide-input": true,
        "_uuid": "8dbf39c20e9dacae59144b638c678656fd0b9019",
        "id": "L5v7Ksegp_GP",
        "outputId": "1067c813-ad15-416a-8b6a-9c52576c526c"
      },
      "source": [
        "import theano\n",
        "from theano import tensor\n",
        "\n",
        "x = tensor.dscalar()\n",
        "y = tensor.dscalar()\n",
        "\n",
        "z = x + y\n",
        "f = theano.function([x,y], z)\n",
        "print(f(1.5, 2.5))"
      ],
      "execution_count": null,
      "outputs": [
        {
          "output_type": "stream",
          "text": [
            "WARNING (theano.tensor.blas): Using NumPy C-API based implementation for BLAS functions.\n"
          ],
          "name": "stderr"
        },
        {
          "output_type": "stream",
          "text": [
            "4.0\n"
          ],
          "name": "stdout"
        }
      ]
    },
    {
      "cell_type": "markdown",
      "metadata": {
        "_uuid": "2fcb791936664cf4a967fef79d0cdf8bbd418af1",
        "id": "uy1IqQskp_GP"
      },
      "source": [
        "<a id=\"46\"></a> <br>\n",
        "## 4-3-1 Theano( example)"
      ]
    },
    {
      "cell_type": "markdown",
      "metadata": {
        "_uuid": "fdbc14bdda90fbb00590a05d6226f48f234ef2e6",
        "id": "5in9-dXxp_GP"
      },
      "source": [
        "Let’s have a look at rather more elaborate example than just adding two numbers. Let’s try to compute the **logistic** curve, which is given by:"
      ]
    },
    {
      "cell_type": "markdown",
      "metadata": {
        "_uuid": "55ce83795011853f33834e9f511cd621bf8e2dcf",
        "id": "qFbXvGC_p_GP"
      },
      "source": [
        "<img src='https://cdn.journaldev.com/wp-content/uploads/2018/01/logistic-curve.png'>"
      ]
    },
    {
      "cell_type": "markdown",
      "metadata": {
        "_uuid": "a327f3d9d841defc3cc8e4405d813eea6eb23517",
        "id": "fvn7kZJhp_GQ"
      },
      "source": [
        "If we plot a graph for this equation, it will look like:\n"
      ]
    },
    {
      "cell_type": "markdown",
      "metadata": {
        "_uuid": "67a46003e16d368f8d70f236fbed7457c7377bf6",
        "id": "Wvj7cPj0p_GQ"
      },
      "source": [
        "<img src='https://cdn.journaldev.com/wp-content/uploads/2018/01/logistic-curve-1.png'>"
      ]
    },
    {
      "cell_type": "markdown",
      "metadata": {
        "_uuid": "bdae0bbac7a40ee20481147a352ec92d7e9e4c28",
        "id": "yXFJYM3mp_GQ"
      },
      "source": [
        "Logistic function is applied to each element of matrix. Let’s write a code snippet to demonstrate this:\n",
        "\n",
        "###### [Go to top](#top)"
      ]
    },
    {
      "cell_type": "code",
      "metadata": {
        "_kg_hide-input": true,
        "_uuid": "fc2bfb69b0c193493ef561d82e3228e2dae2db83",
        "id": "OVtinWP-p_GQ",
        "outputId": "c4d1c97c-22a1-4990-c777-41ae580b9ed6"
      },
      "source": [
        "# declare a variable\n",
        "x = tensor.dmatrix('x')\n",
        "\n",
        "# create the expression\n",
        "s = 1 / (1 + tensor.exp(-x))\n",
        "\n",
        "# convert the expression into a callable object which takes\n",
        "# a matrix as parameter and returns s(x)\n",
        "logistic = theano.function([x], s)\n",
        "\n",
        "# call the function with a test matrix and print the result\n",
        "print(logistic([[0, 1], [-1, -2]]))"
      ],
      "execution_count": null,
      "outputs": [
        {
          "output_type": "stream",
          "text": [
            "[[0.5        0.73105858]\n",
            " [0.26894142 0.11920292]]\n"
          ],
          "name": "stdout"
        }
      ]
    },
    {
      "cell_type": "markdown",
      "metadata": {
        "_uuid": "21b7f9353ef201f9c93af63020898209513c46c4",
        "id": "W01vVCttp_GQ"
      },
      "source": [
        "<a id=\"47\"></a> <br>\n",
        "## 4-3-2 Calculating multiple results at once\n",
        "Let’s say we have to compute elementwise difference, absolute difference and difference squared between two matrices ‘x’ and ‘y’. Doing this at same time optimizes program with significant duration as we don’t have to go to each element again and again for each operation.\n",
        "\n",
        "###### [Go to top](#top)"
      ]
    },
    {
      "cell_type": "code",
      "metadata": {
        "_kg_hide-input": true,
        "_uuid": "31737f220690dc8b8ab0106cb548af479696a3f3",
        "id": "eWRwWNVvp_GQ",
        "outputId": "516668df-b2a8-49e8-f28a-c0d7879df5ba"
      },
      "source": [
        "# declare variables\n",
        "x, y = tensor.dmatrices('x', 'y')\n",
        "\n",
        "# create simple expression for each operation\n",
        "diff = x - y\n",
        "\n",
        "abs_diff = abs(diff)\n",
        "diff_squared = diff**2\n",
        "\n",
        "# convert the expression into callable object\n",
        "f = theano.function([x, y], [diff, abs_diff, diff_squared])\n",
        "\n",
        "# call the function and store the result in a variable\n",
        "result= f([[1, 1], [1, 1]], [[0, 1], [2, 3]])\n",
        "\n",
        "# format print for readability\n",
        "print('Difference: ')\n",
        "print(result[0])"
      ],
      "execution_count": null,
      "outputs": [
        {
          "output_type": "stream",
          "text": [
            "Difference: \n",
            "[[ 1.  0.]\n",
            " [-1. -2.]]\n"
          ],
          "name": "stdout"
        }
      ]
    },
    {
      "cell_type": "markdown",
      "metadata": {
        "_uuid": "2a2e5fa1faaffea49f7e57d3ba1d56ce4ff659d9",
        "id": "RHgjlDRmp_GR"
      },
      "source": [
        "<a id=\"48\"></a> <br>\n",
        "## 4-4 Pytroch"
      ]
    },
    {
      "cell_type": "markdown",
      "metadata": {
        "_uuid": "210f3ecc8793a0f5c5d6f05c63d1cf1f443c194f",
        "id": "nUopg1hwp_GR"
      },
      "source": [
        "It’s a **Python-based** scientific computing package targeted at two sets of audiences:[Credits to pytorch-dynamic-computational](https://medium.com/intuitionmachine/pytorch-dynamic-computational-graphs-and-modular-deep-learning-7e7f89f18d1)\n",
        "\n",
        "1. A replacement for NumPy to use the power of GPUs.\n",
        "1. A deep learning research platform that provides maximum flexibility and speed.\n",
        "<img src='https://cdn-images-1.medium.com/max/800/1*5PLIVNA5fIqEC8-kZ260KQ.gif'>\n",
        "*PyTorch dynamic computational graph — source: http://pytorch.org/about/*\n",
        "\n",
        "###### [Go to top](#top)"
      ]
    },
    {
      "cell_type": "markdown",
      "metadata": {
        "_uuid": "fb4dee7a83d3fd5c6528b6acb6deb3ede07917c9",
        "id": "ByZ1cVXlp_GR"
      },
      "source": [
        "<a id=\"49\"></a> <br>\n",
        "## 4-4-1 Tensors\n",
        "**Tensors** are similar to NumPy’s ndarrays, with the addition being that Tensors can also be used on a GPU to accelerate computing."
      ]
    },
    {
      "cell_type": "code",
      "metadata": {
        "_kg_hide-input": true,
        "_uuid": "c9fa542c5e81368bf67ba10968825778888cb9ed",
        "id": "T098XX16p_GR"
      },
      "source": [
        "from __future__ import print_function\n",
        "import torch"
      ],
      "execution_count": null,
      "outputs": []
    },
    {
      "cell_type": "markdown",
      "metadata": {
        "_uuid": "428a61e2f48669f3eda674ed89cadd52983d8f07",
        "id": "4PvTfstLp_GR"
      },
      "source": [
        "Construct a 5x3 matrix, uninitialized:"
      ]
    },
    {
      "cell_type": "code",
      "metadata": {
        "_kg_hide-input": true,
        "_uuid": "1367d89d0910e7ebbb474dd1f857f83b4ff4aece",
        "id": "MvXU87m7p_GS",
        "outputId": "23c1c906-eebf-494f-cb6c-2058b1ddb63a"
      },
      "source": [
        "x = torch.empty(5, 3)\n",
        "print(x)"
      ],
      "execution_count": null,
      "outputs": [
        {
          "output_type": "stream",
          "text": [
            "tensor([[-4.0061e-14,  4.5884e-41, -4.0061e-14],\n",
            "        [ 4.5884e-41,  0.0000e+00,  0.0000e+00],\n",
            "        [ 0.0000e+00,  0.0000e+00,  0.0000e+00],\n",
            "        [ 0.0000e+00,  0.0000e+00,  0.0000e+00],\n",
            "        [ 0.0000e+00,  0.0000e+00,  1.3593e-43]])\n"
          ],
          "name": "stdout"
        }
      ]
    },
    {
      "cell_type": "markdown",
      "metadata": {
        "_uuid": "984addcd6041b2b34506522bccea8efd3f27bf1e",
        "id": "Dk0p6Fq3p_GS"
      },
      "source": [
        "Construct a randomly initialized matrix:\n",
        "\n"
      ]
    },
    {
      "cell_type": "code",
      "metadata": {
        "_kg_hide-input": true,
        "_uuid": "4410ff53288dfc7790cc40eb209df552d35487d6",
        "id": "KSdup6ZRp_GS",
        "outputId": "4f5bd6d7-c121-4b53-f57a-74925ca65167"
      },
      "source": [
        "x = torch.rand(5, 3)\n",
        "print(x)"
      ],
      "execution_count": null,
      "outputs": [
        {
          "output_type": "stream",
          "text": [
            "tensor([[0.2371, 0.2013, 0.6818],\n",
            "        [0.2555, 0.2651, 0.4382],\n",
            "        [0.4026, 0.9721, 0.6997],\n",
            "        [0.5690, 0.4240, 0.1609],\n",
            "        [0.0243, 0.2671, 0.4604]])\n"
          ],
          "name": "stdout"
        }
      ]
    },
    {
      "cell_type": "markdown",
      "metadata": {
        "_uuid": "e0023c417e35ebeabf4bbcd9a3801fd381de4407",
        "id": "tFg312tBp_GS"
      },
      "source": [
        "Construct a matrix filled zeros and of dtype long:\n",
        "\n",
        "###### [Go to top](#top)"
      ]
    },
    {
      "cell_type": "code",
      "metadata": {
        "_kg_hide-input": true,
        "_uuid": "827868be4fe401a9651ffc9bf95d37812dacb478",
        "id": "Mkr_pmsMp_GS",
        "outputId": "7714bf75-a828-48b9-d6f6-4c96164c2208"
      },
      "source": [
        "x = torch.zeros(5, 3, dtype=torch.long)\n",
        "print(x)"
      ],
      "execution_count": null,
      "outputs": [
        {
          "output_type": "stream",
          "text": [
            "tensor([[0, 0, 0],\n",
            "        [0, 0, 0],\n",
            "        [0, 0, 0],\n",
            "        [0, 0, 0],\n",
            "        [0, 0, 0]])\n"
          ],
          "name": "stdout"
        }
      ]
    },
    {
      "cell_type": "markdown",
      "metadata": {
        "_uuid": "40eaebdbaa6cbf7f36e77891789bc1c05274bfb3",
        "id": "PVg2Yap2p_GT"
      },
      "source": [
        "Construct a tensor directly from data:\n",
        "\n"
      ]
    },
    {
      "cell_type": "code",
      "metadata": {
        "_kg_hide-input": true,
        "_uuid": "21956cadded8ec22cb21b2d02ea99132fd016e6a",
        "id": "qYwwKBxLp_GT",
        "outputId": "68545cdd-937b-4632-bda1-40ee7600fb07"
      },
      "source": [
        "x = torch.tensor([5.5, 3])\n",
        "print(x)"
      ],
      "execution_count": null,
      "outputs": [
        {
          "output_type": "stream",
          "text": [
            "tensor([5.5000, 3.0000])\n"
          ],
          "name": "stdout"
        }
      ]
    },
    {
      "cell_type": "markdown",
      "metadata": {
        "_uuid": "885dbbc02d2e452f03c059e52303c6157064134d",
        "id": "Qjc4pTAXp_GT"
      },
      "source": [
        "Or create a tensor based on an existing tensor. These methods will reuse properties of the input tensor, e.g. dtype, unless new values are provided by user.\n",
        "\n",
        "###### [Go to top](#top)"
      ]
    },
    {
      "cell_type": "code",
      "metadata": {
        "_kg_hide-input": true,
        "_uuid": "a649ed5e927a0d723397fc89627bb79ff777e221",
        "id": "_cC6i1sWp_GT",
        "outputId": "761ec9c8-886b-4351-8500-7ddf25cf2fb8"
      },
      "source": [
        "x = x.new_ones(5, 3, dtype=torch.double)      # new_* methods take in sizes\n",
        "print(x)\n",
        "\n",
        "x = torch.randn_like(x, dtype=torch.float)    # override dtype!\n",
        "print(x)                                      # result has the same size"
      ],
      "execution_count": null,
      "outputs": [
        {
          "output_type": "stream",
          "text": [
            "tensor([[1., 1., 1.],\n",
            "        [1., 1., 1.],\n",
            "        [1., 1., 1.],\n",
            "        [1., 1., 1.],\n",
            "        [1., 1., 1.]], dtype=torch.float64)\n",
            "tensor([[ 0.3797,  0.8249,  0.0111],\n",
            "        [-0.2944,  1.4941,  0.3546],\n",
            "        [ 0.2863, -1.3447,  1.0127],\n",
            "        [-0.9724,  1.0395, -1.2187],\n",
            "        [-0.7675,  0.7232,  1.5642]])\n"
          ],
          "name": "stdout"
        }
      ]
    },
    {
      "cell_type": "markdown",
      "metadata": {
        "_uuid": "bab1c6447f5062d5a931c5e642b0f409d472fda7",
        "id": "1AfIUfNKp_GT"
      },
      "source": [
        "Get its size:"
      ]
    },
    {
      "cell_type": "code",
      "metadata": {
        "_kg_hide-input": true,
        "_uuid": "62961e53b2bb3f99762d659902f10ef6a3c97332",
        "id": "EzsatOiEp_GT",
        "outputId": "33ee4e04-3035-438b-8b14-96023b221a70"
      },
      "source": [
        "print(x.size())\n"
      ],
      "execution_count": null,
      "outputs": [
        {
          "output_type": "stream",
          "text": [
            "torch.Size([5, 3])\n"
          ],
          "name": "stdout"
        }
      ]
    },
    {
      "cell_type": "markdown",
      "metadata": {
        "_uuid": "0a6e5752f4585ad9ae0e0592c33c56b1675626cb",
        "id": "mrFzWJ--p_GU"
      },
      "source": [
        "<a id=\"50\"></a> <br>\n",
        "## 4-4-2 Operations\n",
        "There are multiple syntaxes for operations. In the following example, we will take a look at the addition operation.\n",
        "\n",
        "Addition: syntax 1.\n",
        "\n",
        "###### [Go to top](#top)"
      ]
    },
    {
      "cell_type": "code",
      "metadata": {
        "_kg_hide-input": true,
        "_uuid": "aeffc489a8e0c446c7c8532054e1892021b1bfcd",
        "id": "2gNA0kL1p_GU",
        "outputId": "39e9e85d-abcf-474f-c21d-48949011c629"
      },
      "source": [
        "y = torch.rand(5, 3)\n",
        "print(x + y)"
      ],
      "execution_count": null,
      "outputs": [
        {
          "output_type": "stream",
          "text": [
            "tensor([[ 0.6124,  0.9859,  0.2368],\n",
            "        [ 0.1199,  2.4558,  0.7835],\n",
            "        [ 1.0313, -1.3193,  1.5126],\n",
            "        [-0.9431,  1.1289, -0.5369],\n",
            "        [-0.2224,  0.8215,  1.6562]])\n"
          ],
          "name": "stdout"
        }
      ]
    },
    {
      "cell_type": "markdown",
      "metadata": {
        "_uuid": "92344324d330a3adbe7ac2c4f612fb55953249b2",
        "id": "En29go-2p_GU"
      },
      "source": [
        "Addition: syntax 2\n",
        "\n"
      ]
    },
    {
      "cell_type": "code",
      "metadata": {
        "_kg_hide-input": true,
        "_uuid": "75b4d2d34207835bd33382894e86416cb7257dbe",
        "id": "TsMhZoKup_GU",
        "outputId": "f698ecc7-6ab4-4f5e-aa5c-6293594b303c"
      },
      "source": [
        "print(torch.add(x, y))\n"
      ],
      "execution_count": null,
      "outputs": [
        {
          "output_type": "stream",
          "text": [
            "tensor([[ 0.6124,  0.9859,  0.2368],\n",
            "        [ 0.1199,  2.4558,  0.7835],\n",
            "        [ 1.0313, -1.3193,  1.5126],\n",
            "        [-0.9431,  1.1289, -0.5369],\n",
            "        [-0.2224,  0.8215,  1.6562]])\n"
          ],
          "name": "stdout"
        }
      ]
    },
    {
      "cell_type": "markdown",
      "metadata": {
        "_uuid": "f062bcc0e8a5d5c927ad8cde707bced9c569054d",
        "id": "yWkviJisp_GU"
      },
      "source": [
        "Addition: providing an output **tensor** as argument.\n",
        "\n"
      ]
    },
    {
      "cell_type": "code",
      "metadata": {
        "_kg_hide-input": true,
        "_uuid": "65caf77ef11dde7550d2ee7b19f9acec6d101840",
        "id": "hZo4i0gcp_GV",
        "outputId": "bedea823-cd6c-459f-9e2f-75925bd9fb7a"
      },
      "source": [
        "result = torch.empty(5, 3)\n",
        "torch.add(x, y, out=result)\n",
        "print(result)"
      ],
      "execution_count": null,
      "outputs": [
        {
          "output_type": "stream",
          "text": [
            "tensor([[ 0.6124,  0.9859,  0.2368],\n",
            "        [ 0.1199,  2.4558,  0.7835],\n",
            "        [ 1.0313, -1.3193,  1.5126],\n",
            "        [-0.9431,  1.1289, -0.5369],\n",
            "        [-0.2224,  0.8215,  1.6562]])\n"
          ],
          "name": "stdout"
        }
      ]
    },
    {
      "cell_type": "markdown",
      "metadata": {
        "_uuid": "0cb16fa384dea2e2f02cc2169be3f2eed37fa3fd",
        "id": "1zRi15uJp_GV"
      },
      "source": [
        "<a id=\"52\"></a> <br>\n",
        "# 5- Conclusion\n",
        "In this kernel we have just tried to create a **comprehensive deep learning workflow** for helping you to  start your jounery in DL.\n",
        "surly it is not **completed yet**!! also I want to hear your voice to improve kernel together."
      ]
    }
  ]
}