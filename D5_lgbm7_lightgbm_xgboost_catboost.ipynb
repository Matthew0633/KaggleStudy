{
  "nbformat": 4,
  "nbformat_minor": 0,
  "metadata": {
    "kernelspec": {
      "display_name": "Python 3",
      "language": "python",
      "name": "python3"
    },
    "language_info": {
      "codemirror_mode": {
        "name": "ipython",
        "version": 3
      },
      "file_extension": ".py",
      "mimetype": "text/x-python",
      "name": "python",
      "nbconvert_exporter": "python",
      "pygments_lexer": "ipython3",
      "version": "3.6.6"
    },
    "colab": {
      "name": "D5_lgbm7_lightgbm-xgboost-catboost.ipynb",
      "provenance": [],
      "collapsed_sections": [],
      "toc_visible": true
    }
  },
  "cells": [
    {
      "cell_type": "markdown",
      "metadata": {
        "id": "qYiCWy1sRwd0"
      },
      "source": [
        "## Impressions and Reviews  \r\n",
        "- preprocessing : sparse(nunique<2), duplicate한 feature drop\r\n",
        "- lgbm, xgb, cat 을 blending (ensemble)\r\n",
        "\r\n"
      ]
    },
    {
      "cell_type": "markdown",
      "metadata": {
        "_uuid": "425ecf639b2198264f2e750af0d90bc607bc2292",
        "id": "oW6Y9nmbQeOz"
      },
      "source": [
        "## Load Required Libraries"
      ]
    },
    {
      "cell_type": "code",
      "metadata": {
        "_cell_guid": "b1076dfc-b9ad-4769-8c92-a6c4dae69d19",
        "_uuid": "8f2839f25d086af736a60e9eeb907d3b93b6e0e5",
        "collapsed": true,
        "id": "qoO7O_taQeO7"
      },
      "source": [
        "import numpy as np\n",
        "import pandas as pd\n",
        "import gc\n",
        "\n",
        "import matplotlib.pyplot as plt\n",
        "import seaborn as sns\n",
        "%matplotlib inline\n",
        "\n",
        "from sklearn import model_selection\n",
        "from sklearn.model_selection import train_test_split\n",
        "from sklearn.preprocessing import RobustScaler\n",
        "\n",
        "import lightgbm as lgb\n",
        "import xgboost as xgb\n",
        "from catboost import CatBoostRegressor\n",
        "\n",
        "from IPython.display import display # Allows the use of display() for DataFrames\n",
        "\n",
        "import warnings\n",
        "warnings.filterwarnings('ignore')"
      ],
      "execution_count": 10,
      "outputs": []
    },
    {
      "cell_type": "markdown",
      "metadata": {
        "_uuid": "b4ac026a5ff23e6b25484a94843774bc143bb328",
        "id": "HRFaZ4KqQeO8"
      },
      "source": [
        "## Load Train and Test Data"
      ]
    },
    {
      "cell_type": "code",
      "metadata": {
        "_cell_guid": "79c7e3d0-c299-4dcb-8224-4455121ee9b0",
        "_uuid": "d629ff2d2480ee46fbb7e2d37f6b5fab8052498a",
        "collapsed": true,
        "id": "FhNCuW6ZQeO8"
      },
      "source": [
        "# Read train and test files\n",
        "train_df = pd.read_csv('/content/train.csv')\n",
        "test_df = pd.read_csv('/content/test.csv')"
      ],
      "execution_count": 11,
      "outputs": []
    },
    {
      "cell_type": "markdown",
      "metadata": {
        "_uuid": "9a977e01ee30103bcb9e19c867c06e553714fcb8",
        "id": "b6MAj1qQQeO9"
      },
      "source": [
        "### Train Data"
      ]
    },
    {
      "cell_type": "code",
      "metadata": {
        "_uuid": "6722ca522ef6ff5ec721cd2bb340a9463ba0b06f",
        "collapsed": true,
        "colab": {
          "base_uri": "https://localhost:8080/",
          "height": 245
        },
        "id": "sCLM752WQeO9",
        "outputId": "467096c4-e3b8-4a09-efb4-254fb4644e75"
      },
      "source": [
        "train_df.head()"
      ],
      "execution_count": 12,
      "outputs": [
        {
          "output_type": "execute_result",
          "data": {
            "text/html": [
              "<div>\n",
              "<style scoped>\n",
              "    .dataframe tbody tr th:only-of-type {\n",
              "        vertical-align: middle;\n",
              "    }\n",
              "\n",
              "    .dataframe tbody tr th {\n",
              "        vertical-align: top;\n",
              "    }\n",
              "\n",
              "    .dataframe thead th {\n",
              "        text-align: right;\n",
              "    }\n",
              "</style>\n",
              "<table border=\"1\" class=\"dataframe\">\n",
              "  <thead>\n",
              "    <tr style=\"text-align: right;\">\n",
              "      <th></th>\n",
              "      <th>ID</th>\n",
              "      <th>target</th>\n",
              "      <th>48df886f9</th>\n",
              "      <th>0deb4b6a8</th>\n",
              "      <th>34b15f335</th>\n",
              "      <th>a8cb14b00</th>\n",
              "      <th>2f0771a37</th>\n",
              "      <th>30347e683</th>\n",
              "      <th>d08d1fbe3</th>\n",
              "      <th>6ee66e115</th>\n",
              "      <th>20aa07010</th>\n",
              "      <th>dc5a8f1d8</th>\n",
              "      <th>11d86fa6a</th>\n",
              "      <th>77c9823f2</th>\n",
              "      <th>8d6c2a0b2</th>\n",
              "      <th>4681de4fd</th>\n",
              "      <th>adf119b9a</th>\n",
              "      <th>cff75dd09</th>\n",
              "      <th>96f83a237</th>\n",
              "      <th>b8a716ebf</th>\n",
              "      <th>6c7a4567c</th>\n",
              "      <th>4fcfd2b4d</th>\n",
              "      <th>f3b9c0b95</th>\n",
              "      <th>71cebf11c</th>\n",
              "      <th>d966ac62c</th>\n",
              "      <th>68b647452</th>\n",
              "      <th>c88d108c9</th>\n",
              "      <th>ff7b471cd</th>\n",
              "      <th>d5308d8bc</th>\n",
              "      <th>0d866c3d7</th>\n",
              "      <th>bc3f77679</th>\n",
              "      <th>bd8f989f1</th>\n",
              "      <th>0eff5bf95</th>\n",
              "      <th>22ed6dba3</th>\n",
              "      <th>92b13ebba</th>\n",
              "      <th>c330f1a67</th>\n",
              "      <th>233c7c17c</th>\n",
              "      <th>2cb4d123e</th>\n",
              "      <th>eeac16933</th>\n",
              "      <th>87ffda550</th>\n",
              "      <th>...</th>\n",
              "      <th>969caa87a</th>\n",
              "      <th>00302fe51</th>\n",
              "      <th>1189ee335</th>\n",
              "      <th>ca04a07ca</th>\n",
              "      <th>f6f15ffa5</th>\n",
              "      <th>841704460</th>\n",
              "      <th>ea5ed6ff7</th>\n",
              "      <th>b1bb8eac3</th>\n",
              "      <th>8132d18b8</th>\n",
              "      <th>c24ea6548</th>\n",
              "      <th>cdfc2b069</th>\n",
              "      <th>2a879b4f7</th>\n",
              "      <th>6b119d8ce</th>\n",
              "      <th>98dea9e42</th>\n",
              "      <th>9f2471031</th>\n",
              "      <th>88458cb21</th>\n",
              "      <th>f40da20f4</th>\n",
              "      <th>7ad6b38bd</th>\n",
              "      <th>c901e7df1</th>\n",
              "      <th>8f55955dc</th>\n",
              "      <th>85dcc913d</th>\n",
              "      <th>5ca0b9b0c</th>\n",
              "      <th>eab8abf7a</th>\n",
              "      <th>8d8bffbae</th>\n",
              "      <th>2a1f6c7f9</th>\n",
              "      <th>9437d8b64</th>\n",
              "      <th>5831f4c76</th>\n",
              "      <th>2e84e09c5</th>\n",
              "      <th>d45fd5508</th>\n",
              "      <th>a165f5761</th>\n",
              "      <th>3ecc09859</th>\n",
              "      <th>9281abeea</th>\n",
              "      <th>8675bec0b</th>\n",
              "      <th>3a13ed79a</th>\n",
              "      <th>f677d4d13</th>\n",
              "      <th>71b203550</th>\n",
              "      <th>137efaa80</th>\n",
              "      <th>fb36b89d9</th>\n",
              "      <th>7e293fbaf</th>\n",
              "      <th>9fc776466</th>\n",
              "    </tr>\n",
              "  </thead>\n",
              "  <tbody>\n",
              "    <tr>\n",
              "      <th>0</th>\n",
              "      <td>000d6aaf2</td>\n",
              "      <td>38000000.0</td>\n",
              "      <td>0.0</td>\n",
              "      <td>0</td>\n",
              "      <td>0.0</td>\n",
              "      <td>0</td>\n",
              "      <td>0</td>\n",
              "      <td>0</td>\n",
              "      <td>0</td>\n",
              "      <td>0</td>\n",
              "      <td>0.0</td>\n",
              "      <td>0.0</td>\n",
              "      <td>0.0</td>\n",
              "      <td>0</td>\n",
              "      <td>0</td>\n",
              "      <td>0</td>\n",
              "      <td>0</td>\n",
              "      <td>0.0</td>\n",
              "      <td>0</td>\n",
              "      <td>0.0</td>\n",
              "      <td>0</td>\n",
              "      <td>0</td>\n",
              "      <td>0.0</td>\n",
              "      <td>0</td>\n",
              "      <td>0</td>\n",
              "      <td>0.0</td>\n",
              "      <td>0</td>\n",
              "      <td>0</td>\n",
              "      <td>0</td>\n",
              "      <td>0.0</td>\n",
              "      <td>0</td>\n",
              "      <td>0.0</td>\n",
              "      <td>0</td>\n",
              "      <td>0.0</td>\n",
              "      <td>0.0</td>\n",
              "      <td>0</td>\n",
              "      <td>0.0</td>\n",
              "      <td>0</td>\n",
              "      <td>0</td>\n",
              "      <td>1300000.0</td>\n",
              "      <td>...</td>\n",
              "      <td>0</td>\n",
              "      <td>0</td>\n",
              "      <td>1100000.0</td>\n",
              "      <td>0</td>\n",
              "      <td>0</td>\n",
              "      <td>0</td>\n",
              "      <td>0.0</td>\n",
              "      <td>0.0</td>\n",
              "      <td>14800000</td>\n",
              "      <td>0.0</td>\n",
              "      <td>1200000.0</td>\n",
              "      <td>0.0</td>\n",
              "      <td>0.0</td>\n",
              "      <td>0</td>\n",
              "      <td>0</td>\n",
              "      <td>0</td>\n",
              "      <td>0</td>\n",
              "      <td>0.0</td>\n",
              "      <td>4000000</td>\n",
              "      <td>0</td>\n",
              "      <td>0.0</td>\n",
              "      <td>0</td>\n",
              "      <td>0</td>\n",
              "      <td>0.0</td>\n",
              "      <td>0</td>\n",
              "      <td>0</td>\n",
              "      <td>0.0</td>\n",
              "      <td>0</td>\n",
              "      <td>0</td>\n",
              "      <td>0.0</td>\n",
              "      <td>0.0</td>\n",
              "      <td>0.0</td>\n",
              "      <td>0.0</td>\n",
              "      <td>0</td>\n",
              "      <td>0</td>\n",
              "      <td>0</td>\n",
              "      <td>0</td>\n",
              "      <td>0</td>\n",
              "      <td>0</td>\n",
              "      <td>0</td>\n",
              "    </tr>\n",
              "    <tr>\n",
              "      <th>1</th>\n",
              "      <td>000fbd867</td>\n",
              "      <td>600000.0</td>\n",
              "      <td>0.0</td>\n",
              "      <td>0</td>\n",
              "      <td>0.0</td>\n",
              "      <td>0</td>\n",
              "      <td>0</td>\n",
              "      <td>0</td>\n",
              "      <td>0</td>\n",
              "      <td>0</td>\n",
              "      <td>2200000.0</td>\n",
              "      <td>0.0</td>\n",
              "      <td>0.0</td>\n",
              "      <td>0</td>\n",
              "      <td>0</td>\n",
              "      <td>0</td>\n",
              "      <td>0</td>\n",
              "      <td>0.0</td>\n",
              "      <td>0</td>\n",
              "      <td>0.0</td>\n",
              "      <td>0</td>\n",
              "      <td>0</td>\n",
              "      <td>0.0</td>\n",
              "      <td>0</td>\n",
              "      <td>0</td>\n",
              "      <td>0.0</td>\n",
              "      <td>0</td>\n",
              "      <td>0</td>\n",
              "      <td>0</td>\n",
              "      <td>0.0</td>\n",
              "      <td>0</td>\n",
              "      <td>0.0</td>\n",
              "      <td>0</td>\n",
              "      <td>0.0</td>\n",
              "      <td>0.0</td>\n",
              "      <td>0</td>\n",
              "      <td>0.0</td>\n",
              "      <td>0</td>\n",
              "      <td>0</td>\n",
              "      <td>0.0</td>\n",
              "      <td>...</td>\n",
              "      <td>0</td>\n",
              "      <td>0</td>\n",
              "      <td>0.0</td>\n",
              "      <td>0</td>\n",
              "      <td>0</td>\n",
              "      <td>0</td>\n",
              "      <td>0.0</td>\n",
              "      <td>0.0</td>\n",
              "      <td>0</td>\n",
              "      <td>0.0</td>\n",
              "      <td>0.0</td>\n",
              "      <td>0.0</td>\n",
              "      <td>0.0</td>\n",
              "      <td>0</td>\n",
              "      <td>0</td>\n",
              "      <td>0</td>\n",
              "      <td>0</td>\n",
              "      <td>0.0</td>\n",
              "      <td>0</td>\n",
              "      <td>0</td>\n",
              "      <td>0.0</td>\n",
              "      <td>0</td>\n",
              "      <td>0</td>\n",
              "      <td>0.0</td>\n",
              "      <td>0</td>\n",
              "      <td>0</td>\n",
              "      <td>0.0</td>\n",
              "      <td>0</td>\n",
              "      <td>0</td>\n",
              "      <td>0.0</td>\n",
              "      <td>0.0</td>\n",
              "      <td>0.0</td>\n",
              "      <td>0.0</td>\n",
              "      <td>0</td>\n",
              "      <td>0</td>\n",
              "      <td>0</td>\n",
              "      <td>0</td>\n",
              "      <td>0</td>\n",
              "      <td>0</td>\n",
              "      <td>0</td>\n",
              "    </tr>\n",
              "    <tr>\n",
              "      <th>2</th>\n",
              "      <td>0027d6b71</td>\n",
              "      <td>10000000.0</td>\n",
              "      <td>0.0</td>\n",
              "      <td>0</td>\n",
              "      <td>0.0</td>\n",
              "      <td>0</td>\n",
              "      <td>0</td>\n",
              "      <td>0</td>\n",
              "      <td>0</td>\n",
              "      <td>0</td>\n",
              "      <td>0.0</td>\n",
              "      <td>0.0</td>\n",
              "      <td>0.0</td>\n",
              "      <td>0</td>\n",
              "      <td>0</td>\n",
              "      <td>0</td>\n",
              "      <td>0</td>\n",
              "      <td>0.0</td>\n",
              "      <td>0</td>\n",
              "      <td>0.0</td>\n",
              "      <td>0</td>\n",
              "      <td>0</td>\n",
              "      <td>0.0</td>\n",
              "      <td>0</td>\n",
              "      <td>0</td>\n",
              "      <td>0.0</td>\n",
              "      <td>0</td>\n",
              "      <td>0</td>\n",
              "      <td>0</td>\n",
              "      <td>0.0</td>\n",
              "      <td>0</td>\n",
              "      <td>0.0</td>\n",
              "      <td>0</td>\n",
              "      <td>0.0</td>\n",
              "      <td>0.0</td>\n",
              "      <td>0</td>\n",
              "      <td>0.0</td>\n",
              "      <td>0</td>\n",
              "      <td>0</td>\n",
              "      <td>0.0</td>\n",
              "      <td>...</td>\n",
              "      <td>0</td>\n",
              "      <td>0</td>\n",
              "      <td>0.0</td>\n",
              "      <td>0</td>\n",
              "      <td>0</td>\n",
              "      <td>0</td>\n",
              "      <td>0.0</td>\n",
              "      <td>0.0</td>\n",
              "      <td>0</td>\n",
              "      <td>0.0</td>\n",
              "      <td>0.0</td>\n",
              "      <td>0.0</td>\n",
              "      <td>0.0</td>\n",
              "      <td>0</td>\n",
              "      <td>0</td>\n",
              "      <td>0</td>\n",
              "      <td>0</td>\n",
              "      <td>0.0</td>\n",
              "      <td>0</td>\n",
              "      <td>0</td>\n",
              "      <td>0.0</td>\n",
              "      <td>0</td>\n",
              "      <td>0</td>\n",
              "      <td>0.0</td>\n",
              "      <td>0</td>\n",
              "      <td>0</td>\n",
              "      <td>0.0</td>\n",
              "      <td>0</td>\n",
              "      <td>0</td>\n",
              "      <td>0.0</td>\n",
              "      <td>0.0</td>\n",
              "      <td>0.0</td>\n",
              "      <td>0.0</td>\n",
              "      <td>0</td>\n",
              "      <td>0</td>\n",
              "      <td>0</td>\n",
              "      <td>0</td>\n",
              "      <td>0</td>\n",
              "      <td>0</td>\n",
              "      <td>0</td>\n",
              "    </tr>\n",
              "    <tr>\n",
              "      <th>3</th>\n",
              "      <td>0028cbf45</td>\n",
              "      <td>2000000.0</td>\n",
              "      <td>0.0</td>\n",
              "      <td>0</td>\n",
              "      <td>0.0</td>\n",
              "      <td>0</td>\n",
              "      <td>0</td>\n",
              "      <td>0</td>\n",
              "      <td>0</td>\n",
              "      <td>0</td>\n",
              "      <td>0.0</td>\n",
              "      <td>0.0</td>\n",
              "      <td>0.0</td>\n",
              "      <td>0</td>\n",
              "      <td>0</td>\n",
              "      <td>0</td>\n",
              "      <td>0</td>\n",
              "      <td>0.0</td>\n",
              "      <td>0</td>\n",
              "      <td>0.0</td>\n",
              "      <td>0</td>\n",
              "      <td>0</td>\n",
              "      <td>0.0</td>\n",
              "      <td>0</td>\n",
              "      <td>0</td>\n",
              "      <td>0.0</td>\n",
              "      <td>0</td>\n",
              "      <td>0</td>\n",
              "      <td>0</td>\n",
              "      <td>0.0</td>\n",
              "      <td>0</td>\n",
              "      <td>0.0</td>\n",
              "      <td>0</td>\n",
              "      <td>0.0</td>\n",
              "      <td>0.0</td>\n",
              "      <td>0</td>\n",
              "      <td>0.0</td>\n",
              "      <td>0</td>\n",
              "      <td>0</td>\n",
              "      <td>0.0</td>\n",
              "      <td>...</td>\n",
              "      <td>0</td>\n",
              "      <td>0</td>\n",
              "      <td>0.0</td>\n",
              "      <td>0</td>\n",
              "      <td>0</td>\n",
              "      <td>0</td>\n",
              "      <td>0.0</td>\n",
              "      <td>0.0</td>\n",
              "      <td>0</td>\n",
              "      <td>0.0</td>\n",
              "      <td>0.0</td>\n",
              "      <td>0.0</td>\n",
              "      <td>0.0</td>\n",
              "      <td>0</td>\n",
              "      <td>0</td>\n",
              "      <td>0</td>\n",
              "      <td>0</td>\n",
              "      <td>0.0</td>\n",
              "      <td>0</td>\n",
              "      <td>0</td>\n",
              "      <td>0.0</td>\n",
              "      <td>0</td>\n",
              "      <td>0</td>\n",
              "      <td>0.0</td>\n",
              "      <td>0</td>\n",
              "      <td>0</td>\n",
              "      <td>0.0</td>\n",
              "      <td>0</td>\n",
              "      <td>0</td>\n",
              "      <td>0.0</td>\n",
              "      <td>0.0</td>\n",
              "      <td>0.0</td>\n",
              "      <td>0.0</td>\n",
              "      <td>0</td>\n",
              "      <td>0</td>\n",
              "      <td>0</td>\n",
              "      <td>0</td>\n",
              "      <td>0</td>\n",
              "      <td>0</td>\n",
              "      <td>0</td>\n",
              "    </tr>\n",
              "    <tr>\n",
              "      <th>4</th>\n",
              "      <td>002a68644</td>\n",
              "      <td>14400000.0</td>\n",
              "      <td>0.0</td>\n",
              "      <td>0</td>\n",
              "      <td>0.0</td>\n",
              "      <td>0</td>\n",
              "      <td>0</td>\n",
              "      <td>0</td>\n",
              "      <td>0</td>\n",
              "      <td>0</td>\n",
              "      <td>2000000.0</td>\n",
              "      <td>0.0</td>\n",
              "      <td>0.0</td>\n",
              "      <td>0</td>\n",
              "      <td>0</td>\n",
              "      <td>0</td>\n",
              "      <td>0</td>\n",
              "      <td>0.0</td>\n",
              "      <td>0</td>\n",
              "      <td>0.0</td>\n",
              "      <td>0</td>\n",
              "      <td>0</td>\n",
              "      <td>0.0</td>\n",
              "      <td>0</td>\n",
              "      <td>0</td>\n",
              "      <td>0.0</td>\n",
              "      <td>0</td>\n",
              "      <td>0</td>\n",
              "      <td>0</td>\n",
              "      <td>0.0</td>\n",
              "      <td>0</td>\n",
              "      <td>0.0</td>\n",
              "      <td>0</td>\n",
              "      <td>0.0</td>\n",
              "      <td>0.0</td>\n",
              "      <td>0</td>\n",
              "      <td>0.0</td>\n",
              "      <td>0</td>\n",
              "      <td>0</td>\n",
              "      <td>0.0</td>\n",
              "      <td>...</td>\n",
              "      <td>0</td>\n",
              "      <td>0</td>\n",
              "      <td>0.0</td>\n",
              "      <td>0</td>\n",
              "      <td>0</td>\n",
              "      <td>0</td>\n",
              "      <td>0.0</td>\n",
              "      <td>0.0</td>\n",
              "      <td>0</td>\n",
              "      <td>0.0</td>\n",
              "      <td>0.0</td>\n",
              "      <td>0.0</td>\n",
              "      <td>0.0</td>\n",
              "      <td>0</td>\n",
              "      <td>0</td>\n",
              "      <td>0</td>\n",
              "      <td>0</td>\n",
              "      <td>0.0</td>\n",
              "      <td>0</td>\n",
              "      <td>0</td>\n",
              "      <td>0.0</td>\n",
              "      <td>0</td>\n",
              "      <td>0</td>\n",
              "      <td>0.0</td>\n",
              "      <td>0</td>\n",
              "      <td>0</td>\n",
              "      <td>0.0</td>\n",
              "      <td>0</td>\n",
              "      <td>0</td>\n",
              "      <td>0.0</td>\n",
              "      <td>0.0</td>\n",
              "      <td>0.0</td>\n",
              "      <td>0.0</td>\n",
              "      <td>0</td>\n",
              "      <td>0</td>\n",
              "      <td>0</td>\n",
              "      <td>0</td>\n",
              "      <td>0</td>\n",
              "      <td>0</td>\n",
              "      <td>0</td>\n",
              "    </tr>\n",
              "  </tbody>\n",
              "</table>\n",
              "<p>5 rows × 4993 columns</p>\n",
              "</div>"
            ],
            "text/plain": [
              "          ID      target  48df886f9  ...  fb36b89d9  7e293fbaf  9fc776466\n",
              "0  000d6aaf2  38000000.0        0.0  ...          0          0          0\n",
              "1  000fbd867    600000.0        0.0  ...          0          0          0\n",
              "2  0027d6b71  10000000.0        0.0  ...          0          0          0\n",
              "3  0028cbf45   2000000.0        0.0  ...          0          0          0\n",
              "4  002a68644  14400000.0        0.0  ...          0          0          0\n",
              "\n",
              "[5 rows x 4993 columns]"
            ]
          },
          "metadata": {
            "tags": []
          },
          "execution_count": 12
        }
      ]
    },
    {
      "cell_type": "markdown",
      "metadata": {
        "_uuid": "6e304a8de905cd30ff9c94688621c8458056cc70",
        "id": "3Kiejsy3QeO_"
      },
      "source": [
        "### Test Data"
      ]
    },
    {
      "cell_type": "code",
      "metadata": {
        "_uuid": "eb3d4266812442e8451ec900288a449344a2b2b8",
        "collapsed": true,
        "colab": {
          "base_uri": "https://localhost:8080/",
          "height": 245
        },
        "id": "UTI_f7u_QeO_",
        "outputId": "eb48b721-54e8-44aa-85db-7d2472a0e98a"
      },
      "source": [
        "test_df.head()"
      ],
      "execution_count": 13,
      "outputs": [
        {
          "output_type": "execute_result",
          "data": {
            "text/html": [
              "<div>\n",
              "<style scoped>\n",
              "    .dataframe tbody tr th:only-of-type {\n",
              "        vertical-align: middle;\n",
              "    }\n",
              "\n",
              "    .dataframe tbody tr th {\n",
              "        vertical-align: top;\n",
              "    }\n",
              "\n",
              "    .dataframe thead th {\n",
              "        text-align: right;\n",
              "    }\n",
              "</style>\n",
              "<table border=\"1\" class=\"dataframe\">\n",
              "  <thead>\n",
              "    <tr style=\"text-align: right;\">\n",
              "      <th></th>\n",
              "      <th>ID</th>\n",
              "      <th>48df886f9</th>\n",
              "      <th>0deb4b6a8</th>\n",
              "      <th>34b15f335</th>\n",
              "      <th>a8cb14b00</th>\n",
              "      <th>2f0771a37</th>\n",
              "      <th>30347e683</th>\n",
              "      <th>d08d1fbe3</th>\n",
              "      <th>6ee66e115</th>\n",
              "      <th>20aa07010</th>\n",
              "      <th>dc5a8f1d8</th>\n",
              "      <th>11d86fa6a</th>\n",
              "      <th>77c9823f2</th>\n",
              "      <th>8d6c2a0b2</th>\n",
              "      <th>4681de4fd</th>\n",
              "      <th>adf119b9a</th>\n",
              "      <th>cff75dd09</th>\n",
              "      <th>96f83a237</th>\n",
              "      <th>b8a716ebf</th>\n",
              "      <th>6c7a4567c</th>\n",
              "      <th>4fcfd2b4d</th>\n",
              "      <th>f3b9c0b95</th>\n",
              "      <th>71cebf11c</th>\n",
              "      <th>d966ac62c</th>\n",
              "      <th>68b647452</th>\n",
              "      <th>c88d108c9</th>\n",
              "      <th>ff7b471cd</th>\n",
              "      <th>d5308d8bc</th>\n",
              "      <th>0d866c3d7</th>\n",
              "      <th>bc3f77679</th>\n",
              "      <th>bd8f989f1</th>\n",
              "      <th>0eff5bf95</th>\n",
              "      <th>22ed6dba3</th>\n",
              "      <th>92b13ebba</th>\n",
              "      <th>c330f1a67</th>\n",
              "      <th>233c7c17c</th>\n",
              "      <th>2cb4d123e</th>\n",
              "      <th>eeac16933</th>\n",
              "      <th>87ffda550</th>\n",
              "      <th>822e49b95</th>\n",
              "      <th>...</th>\n",
              "      <th>969caa87a</th>\n",
              "      <th>00302fe51</th>\n",
              "      <th>1189ee335</th>\n",
              "      <th>ca04a07ca</th>\n",
              "      <th>f6f15ffa5</th>\n",
              "      <th>841704460</th>\n",
              "      <th>ea5ed6ff7</th>\n",
              "      <th>b1bb8eac3</th>\n",
              "      <th>8132d18b8</th>\n",
              "      <th>c24ea6548</th>\n",
              "      <th>cdfc2b069</th>\n",
              "      <th>2a879b4f7</th>\n",
              "      <th>6b119d8ce</th>\n",
              "      <th>98dea9e42</th>\n",
              "      <th>9f2471031</th>\n",
              "      <th>88458cb21</th>\n",
              "      <th>f40da20f4</th>\n",
              "      <th>7ad6b38bd</th>\n",
              "      <th>c901e7df1</th>\n",
              "      <th>8f55955dc</th>\n",
              "      <th>85dcc913d</th>\n",
              "      <th>5ca0b9b0c</th>\n",
              "      <th>eab8abf7a</th>\n",
              "      <th>8d8bffbae</th>\n",
              "      <th>2a1f6c7f9</th>\n",
              "      <th>9437d8b64</th>\n",
              "      <th>5831f4c76</th>\n",
              "      <th>2e84e09c5</th>\n",
              "      <th>d45fd5508</th>\n",
              "      <th>a165f5761</th>\n",
              "      <th>3ecc09859</th>\n",
              "      <th>9281abeea</th>\n",
              "      <th>8675bec0b</th>\n",
              "      <th>3a13ed79a</th>\n",
              "      <th>f677d4d13</th>\n",
              "      <th>71b203550</th>\n",
              "      <th>137efaa80</th>\n",
              "      <th>fb36b89d9</th>\n",
              "      <th>7e293fbaf</th>\n",
              "      <th>9fc776466</th>\n",
              "    </tr>\n",
              "  </thead>\n",
              "  <tbody>\n",
              "    <tr>\n",
              "      <th>0</th>\n",
              "      <td>000137c73</td>\n",
              "      <td>0.0</td>\n",
              "      <td>0.0</td>\n",
              "      <td>0.0</td>\n",
              "      <td>0.0</td>\n",
              "      <td>0.0</td>\n",
              "      <td>0.0</td>\n",
              "      <td>0.0</td>\n",
              "      <td>0.0</td>\n",
              "      <td>0.0</td>\n",
              "      <td>0.0</td>\n",
              "      <td>0.0</td>\n",
              "      <td>0.0</td>\n",
              "      <td>0.0</td>\n",
              "      <td>0.0</td>\n",
              "      <td>0.0</td>\n",
              "      <td>0.0</td>\n",
              "      <td>0.0</td>\n",
              "      <td>0.0</td>\n",
              "      <td>0.0</td>\n",
              "      <td>0.0</td>\n",
              "      <td>0.0</td>\n",
              "      <td>0.0</td>\n",
              "      <td>0.0</td>\n",
              "      <td>0.0</td>\n",
              "      <td>0.0</td>\n",
              "      <td>0.0</td>\n",
              "      <td>5.528249e+06</td>\n",
              "      <td>0.0</td>\n",
              "      <td>0.0</td>\n",
              "      <td>0.0</td>\n",
              "      <td>0.0</td>\n",
              "      <td>0.0</td>\n",
              "      <td>0.0</td>\n",
              "      <td>0.0</td>\n",
              "      <td>0.0</td>\n",
              "      <td>0.0</td>\n",
              "      <td>0.0</td>\n",
              "      <td>0.0</td>\n",
              "      <td>0.0</td>\n",
              "      <td>...</td>\n",
              "      <td>0.0</td>\n",
              "      <td>0.0</td>\n",
              "      <td>0.0</td>\n",
              "      <td>0.0</td>\n",
              "      <td>0.0</td>\n",
              "      <td>0.0</td>\n",
              "      <td>0.0</td>\n",
              "      <td>0.0</td>\n",
              "      <td>0.0</td>\n",
              "      <td>0.0</td>\n",
              "      <td>0.0</td>\n",
              "      <td>0.0</td>\n",
              "      <td>0.0</td>\n",
              "      <td>0.0</td>\n",
              "      <td>0.0</td>\n",
              "      <td>0.0</td>\n",
              "      <td>0.0</td>\n",
              "      <td>0.0</td>\n",
              "      <td>0.0</td>\n",
              "      <td>0.0</td>\n",
              "      <td>0.0</td>\n",
              "      <td>0.0</td>\n",
              "      <td>0.0</td>\n",
              "      <td>0.0</td>\n",
              "      <td>0.0</td>\n",
              "      <td>0.0</td>\n",
              "      <td>0.0</td>\n",
              "      <td>0.0</td>\n",
              "      <td>0.0</td>\n",
              "      <td>0.0</td>\n",
              "      <td>0.0</td>\n",
              "      <td>0.0</td>\n",
              "      <td>0.0</td>\n",
              "      <td>0.0</td>\n",
              "      <td>0.0</td>\n",
              "      <td>0.0</td>\n",
              "      <td>0.0</td>\n",
              "      <td>0.0</td>\n",
              "      <td>0.0</td>\n",
              "      <td>0.0</td>\n",
              "    </tr>\n",
              "    <tr>\n",
              "      <th>1</th>\n",
              "      <td>00021489f</td>\n",
              "      <td>0.0</td>\n",
              "      <td>0.0</td>\n",
              "      <td>0.0</td>\n",
              "      <td>0.0</td>\n",
              "      <td>0.0</td>\n",
              "      <td>0.0</td>\n",
              "      <td>0.0</td>\n",
              "      <td>0.0</td>\n",
              "      <td>0.0</td>\n",
              "      <td>0.0</td>\n",
              "      <td>0.0</td>\n",
              "      <td>0.0</td>\n",
              "      <td>0.0</td>\n",
              "      <td>0.0</td>\n",
              "      <td>0.0</td>\n",
              "      <td>0.0</td>\n",
              "      <td>0.0</td>\n",
              "      <td>0.0</td>\n",
              "      <td>0.0</td>\n",
              "      <td>0.0</td>\n",
              "      <td>0.0</td>\n",
              "      <td>0.0</td>\n",
              "      <td>0.0</td>\n",
              "      <td>0.0</td>\n",
              "      <td>0.0</td>\n",
              "      <td>0.0</td>\n",
              "      <td>0.000000e+00</td>\n",
              "      <td>0.0</td>\n",
              "      <td>0.0</td>\n",
              "      <td>0.0</td>\n",
              "      <td>0.0</td>\n",
              "      <td>0.0</td>\n",
              "      <td>0.0</td>\n",
              "      <td>0.0</td>\n",
              "      <td>0.0</td>\n",
              "      <td>0.0</td>\n",
              "      <td>0.0</td>\n",
              "      <td>0.0</td>\n",
              "      <td>0.0</td>\n",
              "      <td>...</td>\n",
              "      <td>0.0</td>\n",
              "      <td>0.0</td>\n",
              "      <td>0.0</td>\n",
              "      <td>0.0</td>\n",
              "      <td>0.0</td>\n",
              "      <td>0.0</td>\n",
              "      <td>0.0</td>\n",
              "      <td>0.0</td>\n",
              "      <td>0.0</td>\n",
              "      <td>0.0</td>\n",
              "      <td>0.0</td>\n",
              "      <td>0.0</td>\n",
              "      <td>0.0</td>\n",
              "      <td>0.0</td>\n",
              "      <td>0.0</td>\n",
              "      <td>0.0</td>\n",
              "      <td>0.0</td>\n",
              "      <td>0.0</td>\n",
              "      <td>0.0</td>\n",
              "      <td>0.0</td>\n",
              "      <td>0.0</td>\n",
              "      <td>0.0</td>\n",
              "      <td>0.0</td>\n",
              "      <td>0.0</td>\n",
              "      <td>0.0</td>\n",
              "      <td>0.0</td>\n",
              "      <td>0.0</td>\n",
              "      <td>0.0</td>\n",
              "      <td>0.0</td>\n",
              "      <td>0.0</td>\n",
              "      <td>0.0</td>\n",
              "      <td>0.0</td>\n",
              "      <td>0.0</td>\n",
              "      <td>0.0</td>\n",
              "      <td>0.0</td>\n",
              "      <td>0.0</td>\n",
              "      <td>0.0</td>\n",
              "      <td>0.0</td>\n",
              "      <td>0.0</td>\n",
              "      <td>0.0</td>\n",
              "    </tr>\n",
              "    <tr>\n",
              "      <th>2</th>\n",
              "      <td>0004d7953</td>\n",
              "      <td>0.0</td>\n",
              "      <td>0.0</td>\n",
              "      <td>0.0</td>\n",
              "      <td>0.0</td>\n",
              "      <td>0.0</td>\n",
              "      <td>0.0</td>\n",
              "      <td>0.0</td>\n",
              "      <td>0.0</td>\n",
              "      <td>0.0</td>\n",
              "      <td>0.0</td>\n",
              "      <td>0.0</td>\n",
              "      <td>0.0</td>\n",
              "      <td>0.0</td>\n",
              "      <td>0.0</td>\n",
              "      <td>0.0</td>\n",
              "      <td>0.0</td>\n",
              "      <td>0.0</td>\n",
              "      <td>0.0</td>\n",
              "      <td>0.0</td>\n",
              "      <td>0.0</td>\n",
              "      <td>0.0</td>\n",
              "      <td>0.0</td>\n",
              "      <td>0.0</td>\n",
              "      <td>0.0</td>\n",
              "      <td>0.0</td>\n",
              "      <td>0.0</td>\n",
              "      <td>0.000000e+00</td>\n",
              "      <td>0.0</td>\n",
              "      <td>0.0</td>\n",
              "      <td>0.0</td>\n",
              "      <td>0.0</td>\n",
              "      <td>0.0</td>\n",
              "      <td>0.0</td>\n",
              "      <td>0.0</td>\n",
              "      <td>0.0</td>\n",
              "      <td>0.0</td>\n",
              "      <td>0.0</td>\n",
              "      <td>0.0</td>\n",
              "      <td>0.0</td>\n",
              "      <td>...</td>\n",
              "      <td>0.0</td>\n",
              "      <td>0.0</td>\n",
              "      <td>0.0</td>\n",
              "      <td>0.0</td>\n",
              "      <td>0.0</td>\n",
              "      <td>0.0</td>\n",
              "      <td>0.0</td>\n",
              "      <td>0.0</td>\n",
              "      <td>0.0</td>\n",
              "      <td>0.0</td>\n",
              "      <td>0.0</td>\n",
              "      <td>0.0</td>\n",
              "      <td>0.0</td>\n",
              "      <td>0.0</td>\n",
              "      <td>0.0</td>\n",
              "      <td>0.0</td>\n",
              "      <td>0.0</td>\n",
              "      <td>0.0</td>\n",
              "      <td>0.0</td>\n",
              "      <td>0.0</td>\n",
              "      <td>0.0</td>\n",
              "      <td>0.0</td>\n",
              "      <td>0.0</td>\n",
              "      <td>0.0</td>\n",
              "      <td>0.0</td>\n",
              "      <td>0.0</td>\n",
              "      <td>5000000.0</td>\n",
              "      <td>0.0</td>\n",
              "      <td>0.0</td>\n",
              "      <td>0.0</td>\n",
              "      <td>0.0</td>\n",
              "      <td>0.0</td>\n",
              "      <td>0.0</td>\n",
              "      <td>0.0</td>\n",
              "      <td>0.0</td>\n",
              "      <td>0.0</td>\n",
              "      <td>0.0</td>\n",
              "      <td>0.0</td>\n",
              "      <td>0.0</td>\n",
              "      <td>0.0</td>\n",
              "    </tr>\n",
              "    <tr>\n",
              "      <th>3</th>\n",
              "      <td>00056a333</td>\n",
              "      <td>0.0</td>\n",
              "      <td>0.0</td>\n",
              "      <td>0.0</td>\n",
              "      <td>0.0</td>\n",
              "      <td>0.0</td>\n",
              "      <td>0.0</td>\n",
              "      <td>0.0</td>\n",
              "      <td>0.0</td>\n",
              "      <td>0.0</td>\n",
              "      <td>0.0</td>\n",
              "      <td>0.0</td>\n",
              "      <td>0.0</td>\n",
              "      <td>0.0</td>\n",
              "      <td>0.0</td>\n",
              "      <td>0.0</td>\n",
              "      <td>0.0</td>\n",
              "      <td>0.0</td>\n",
              "      <td>0.0</td>\n",
              "      <td>0.0</td>\n",
              "      <td>0.0</td>\n",
              "      <td>0.0</td>\n",
              "      <td>0.0</td>\n",
              "      <td>0.0</td>\n",
              "      <td>0.0</td>\n",
              "      <td>0.0</td>\n",
              "      <td>0.0</td>\n",
              "      <td>0.000000e+00</td>\n",
              "      <td>0.0</td>\n",
              "      <td>0.0</td>\n",
              "      <td>20884000.0</td>\n",
              "      <td>0.0</td>\n",
              "      <td>0.0</td>\n",
              "      <td>0.0</td>\n",
              "      <td>0.0</td>\n",
              "      <td>0.0</td>\n",
              "      <td>36252000.0</td>\n",
              "      <td>0.0</td>\n",
              "      <td>20000000.0</td>\n",
              "      <td>0.0</td>\n",
              "      <td>...</td>\n",
              "      <td>0.0</td>\n",
              "      <td>0.0</td>\n",
              "      <td>25010000.0</td>\n",
              "      <td>0.0</td>\n",
              "      <td>0.0</td>\n",
              "      <td>0.0</td>\n",
              "      <td>0.0</td>\n",
              "      <td>0.0</td>\n",
              "      <td>0.0</td>\n",
              "      <td>0.0</td>\n",
              "      <td>0.0</td>\n",
              "      <td>0.0</td>\n",
              "      <td>0.0</td>\n",
              "      <td>0.0</td>\n",
              "      <td>0.0</td>\n",
              "      <td>0.0</td>\n",
              "      <td>0.0</td>\n",
              "      <td>0.0</td>\n",
              "      <td>0.0</td>\n",
              "      <td>0.0</td>\n",
              "      <td>0.0</td>\n",
              "      <td>0.0</td>\n",
              "      <td>0.0</td>\n",
              "      <td>0.0</td>\n",
              "      <td>0.0</td>\n",
              "      <td>0.0</td>\n",
              "      <td>0.0</td>\n",
              "      <td>0.0</td>\n",
              "      <td>0.0</td>\n",
              "      <td>0.0</td>\n",
              "      <td>0.0</td>\n",
              "      <td>0.0</td>\n",
              "      <td>0.0</td>\n",
              "      <td>0.0</td>\n",
              "      <td>0.0</td>\n",
              "      <td>0.0</td>\n",
              "      <td>0.0</td>\n",
              "      <td>0.0</td>\n",
              "      <td>0.0</td>\n",
              "      <td>0.0</td>\n",
              "    </tr>\n",
              "    <tr>\n",
              "      <th>4</th>\n",
              "      <td>00056d8eb</td>\n",
              "      <td>0.0</td>\n",
              "      <td>0.0</td>\n",
              "      <td>0.0</td>\n",
              "      <td>0.0</td>\n",
              "      <td>0.0</td>\n",
              "      <td>0.0</td>\n",
              "      <td>0.0</td>\n",
              "      <td>0.0</td>\n",
              "      <td>0.0</td>\n",
              "      <td>0.0</td>\n",
              "      <td>0.0</td>\n",
              "      <td>0.0</td>\n",
              "      <td>0.0</td>\n",
              "      <td>0.0</td>\n",
              "      <td>0.0</td>\n",
              "      <td>0.0</td>\n",
              "      <td>0.0</td>\n",
              "      <td>0.0</td>\n",
              "      <td>0.0</td>\n",
              "      <td>0.0</td>\n",
              "      <td>0.0</td>\n",
              "      <td>0.0</td>\n",
              "      <td>0.0</td>\n",
              "      <td>0.0</td>\n",
              "      <td>0.0</td>\n",
              "      <td>0.0</td>\n",
              "      <td>0.000000e+00</td>\n",
              "      <td>0.0</td>\n",
              "      <td>0.0</td>\n",
              "      <td>0.0</td>\n",
              "      <td>0.0</td>\n",
              "      <td>0.0</td>\n",
              "      <td>0.0</td>\n",
              "      <td>0.0</td>\n",
              "      <td>0.0</td>\n",
              "      <td>0.0</td>\n",
              "      <td>0.0</td>\n",
              "      <td>0.0</td>\n",
              "      <td>0.0</td>\n",
              "      <td>...</td>\n",
              "      <td>0.0</td>\n",
              "      <td>0.0</td>\n",
              "      <td>0.0</td>\n",
              "      <td>0.0</td>\n",
              "      <td>0.0</td>\n",
              "      <td>0.0</td>\n",
              "      <td>0.0</td>\n",
              "      <td>0.0</td>\n",
              "      <td>0.0</td>\n",
              "      <td>0.0</td>\n",
              "      <td>0.0</td>\n",
              "      <td>0.0</td>\n",
              "      <td>0.0</td>\n",
              "      <td>0.0</td>\n",
              "      <td>0.0</td>\n",
              "      <td>0.0</td>\n",
              "      <td>0.0</td>\n",
              "      <td>0.0</td>\n",
              "      <td>0.0</td>\n",
              "      <td>0.0</td>\n",
              "      <td>0.0</td>\n",
              "      <td>0.0</td>\n",
              "      <td>0.0</td>\n",
              "      <td>0.0</td>\n",
              "      <td>0.0</td>\n",
              "      <td>0.0</td>\n",
              "      <td>0.0</td>\n",
              "      <td>0.0</td>\n",
              "      <td>0.0</td>\n",
              "      <td>0.0</td>\n",
              "      <td>0.0</td>\n",
              "      <td>0.0</td>\n",
              "      <td>0.0</td>\n",
              "      <td>0.0</td>\n",
              "      <td>0.0</td>\n",
              "      <td>0.0</td>\n",
              "      <td>0.0</td>\n",
              "      <td>0.0</td>\n",
              "      <td>0.0</td>\n",
              "      <td>0.0</td>\n",
              "    </tr>\n",
              "  </tbody>\n",
              "</table>\n",
              "<p>5 rows × 4992 columns</p>\n",
              "</div>"
            ],
            "text/plain": [
              "          ID  48df886f9  0deb4b6a8  ...  fb36b89d9  7e293fbaf  9fc776466\n",
              "0  000137c73        0.0        0.0  ...        0.0        0.0        0.0\n",
              "1  00021489f        0.0        0.0  ...        0.0        0.0        0.0\n",
              "2  0004d7953        0.0        0.0  ...        0.0        0.0        0.0\n",
              "3  00056a333        0.0        0.0  ...        0.0        0.0        0.0\n",
              "4  00056d8eb        0.0        0.0  ...        0.0        0.0        0.0\n",
              "\n",
              "[5 rows x 4992 columns]"
            ]
          },
          "metadata": {
            "tags": []
          },
          "execution_count": 13
        }
      ]
    },
    {
      "cell_type": "markdown",
      "metadata": {
        "_uuid": "f4bf651fc72f72c55b147f3ceac8f01db527c98d",
        "id": "SLVFPum8QeO_"
      },
      "source": [
        "## Train and Test Data Info"
      ]
    },
    {
      "cell_type": "code",
      "metadata": {
        "_uuid": "e6f8b9b6722557f13ff4b1b49d3f4b15d998ca5f",
        "collapsed": true,
        "colab": {
          "base_uri": "https://localhost:8080/"
        },
        "id": "u4sym4fhQePA",
        "outputId": "f45b3c3f-6246-4a74-8a22-5426f843419b"
      },
      "source": [
        "train_df.info()"
      ],
      "execution_count": 14,
      "outputs": [
        {
          "output_type": "stream",
          "text": [
            "<class 'pandas.core.frame.DataFrame'>\n",
            "RangeIndex: 4459 entries, 0 to 4458\n",
            "Columns: 4993 entries, ID to 9fc776466\n",
            "dtypes: float64(1845), int64(3147), object(1)\n",
            "memory usage: 169.9+ MB\n"
          ],
          "name": "stdout"
        }
      ]
    },
    {
      "cell_type": "markdown",
      "metadata": {
        "_uuid": "8090d836126b5eb59198fd9b19798f3f345db706",
        "id": "IG3lSCB_QePA"
      },
      "source": [
        "So there are a total of 4993 columns out of which 1845 are of type float64, 3147 are int64 and 1 is object (ID is the object column)"
      ]
    },
    {
      "cell_type": "code",
      "metadata": {
        "_uuid": "155a894c607fbe6895c976d73b072616aa6723bd",
        "collapsed": true,
        "colab": {
          "base_uri": "https://localhost:8080/"
        },
        "id": "FfqOICarQePB",
        "outputId": "28403728-075e-415c-bf08-0352005de5fb"
      },
      "source": [
        "test_df.info()"
      ],
      "execution_count": 15,
      "outputs": [
        {
          "output_type": "stream",
          "text": [
            "<class 'pandas.core.frame.DataFrame'>\n",
            "RangeIndex: 49342 entries, 0 to 49341\n",
            "Columns: 4992 entries, ID to 9fc776466\n",
            "dtypes: float64(4991), object(1)\n",
            "memory usage: 1.8+ GB\n"
          ],
          "name": "stdout"
        }
      ]
    },
    {
      "cell_type": "markdown",
      "metadata": {
        "_uuid": "f83b9a3f421592cf3cb734d0df67bde282c7495a",
        "id": "vQ2J_IxPQePB"
      },
      "source": [
        "So there are a total of 4992 columns in the test set out of which 4991 are of type float64 and 1 is object (ID is the object column)"
      ]
    },
    {
      "cell_type": "markdown",
      "metadata": {
        "_uuid": "e43347963e1a3af83da370ec3258f3d7bec2127a",
        "id": "B8NXwukQQePB"
      },
      "source": [
        "## Check for Missing Values"
      ]
    },
    {
      "cell_type": "code",
      "metadata": {
        "_uuid": "3a182168baee4fb4d4a54a730a8f3fa956553d6b",
        "collapsed": true,
        "colab": {
          "base_uri": "https://localhost:8080/"
        },
        "id": "ARVXnA1TQePC",
        "outputId": "78993e74-f1ee-4b0e-e65a-f73ff8d55a0d"
      },
      "source": [
        "# train set 결측치 확인\n",
        "print(\"Total Train Features with NaN Values = \" + str(train_df.columns[train_df.isnull().sum() != 0].size))\n",
        "if (train_df.columns[train_df.isnull().sum() != 0].size):\n",
        "    print(\"Features with NaN => {}\".format(list(train_df.columns[train_df.isnull().sum() != 0])))\n",
        "    train_df[train_df.columns[train_df.isnull().sum() != 0]].isnull().sum().sort_values(ascending = False)"
      ],
      "execution_count": 16,
      "outputs": [
        {
          "output_type": "stream",
          "text": [
            "Total Train Features with NaN Values = 0\n"
          ],
          "name": "stdout"
        }
      ]
    },
    {
      "cell_type": "code",
      "metadata": {
        "_uuid": "03b75e2dec1b2a187e18cfd3574284a5c489339a",
        "collapsed": true,
        "colab": {
          "base_uri": "https://localhost:8080/"
        },
        "id": "lq1j4yjhQePC",
        "outputId": "7b160d8a-79e3-48d3-a2d1-5f8e0d43247a"
      },
      "source": [
        "# test set 결측치 확인\n",
        "print(\"Total Test Features with NaN Values = \" + str(test_df.columns[test_df.isnull().sum() != 0].size))\n",
        "if (test_df.columns[test_df.isnull().sum() != 0].size):\n",
        "    print(\"Features with NaN => {}\".format(list(test_df.columns[test_df.isnull().sum() != 0])))\n",
        "    test_df[test_df.columns[test_df.isnull().sum() != 0]].isnull().sum().sort_values(ascending = False)"
      ],
      "execution_count": 17,
      "outputs": [
        {
          "output_type": "stream",
          "text": [
            "Total Test Features with NaN Values = 0\n"
          ],
          "name": "stdout"
        }
      ]
    },
    {
      "cell_type": "markdown",
      "metadata": {
        "_uuid": "4c17263749816a1950b0412c291d943e1c4a315f",
        "id": "_xeHNH74QePD"
      },
      "source": [
        "## Check and Remove Constant Features"
      ]
    },
    {
      "cell_type": "code",
      "metadata": {
        "_uuid": "daf80053f15c1f4402c2bd224f0a61a9c01d365a",
        "collapsed": true,
        "colab": {
          "base_uri": "https://localhost:8080/"
        },
        "id": "bneaMX87QePE",
        "outputId": "918be374-0665-4c70-daf5-56e0b7b1762e"
      },
      "source": [
        "# 값이 constant한 column 제거(std == 0) -> 256개 col 제거\n",
        "colsToRemove = []\n",
        "for col in train_df.columns:\n",
        "    if col != 'ID' and col != 'target':\n",
        "        if train_df[col].std() == 0: \n",
        "            colsToRemove.append(col)\n",
        "        \n",
        "# remove constant columns in the training set\n",
        "train_df.drop(colsToRemove, axis=1, inplace=True)\n",
        "\n",
        "# remove constant columns in the test set\n",
        "test_df.drop(colsToRemove, axis=1, inplace=True) \n",
        "\n",
        "print(\"Removed `{}` Constant Columns\\n\".format(len(colsToRemove)))\n",
        "print(colsToRemove)"
      ],
      "execution_count": 18,
      "outputs": [
        {
          "output_type": "stream",
          "text": [
            "Removed `256` Constant Columns\n",
            "\n",
            "['d5308d8bc', 'c330f1a67', 'eeac16933', '7df8788e8', '5b91580ee', '6f29fbbc7', '46dafc868', 'ae41a98b6', 'f416800e9', '6d07828ca', '7ac332a1d', '70ee7950a', '833b35a7c', '2f9969eab', '8b1372217', '68322788b', '2288ac1a6', 'dc7f76962', '467044c26', '39ebfbfd9', '9a5ff8c23', 'f6fac27c8', '664e2800e', 'ae28689a2', 'd87dcac58', '4065efbb6', 'f944d9d43', 'c2c4491d5', 'a4346e2e2', '1af366d4f', 'cfff5b7c8', 'da215e99e', '5acd26139', '9be9c6cef', '1210d0271', '21b0a54cb', 'da35e792b', '754c502dd', '0b346adbd', '0f196b049', 'b603ed95d', '2a50e001c', '1e81432e7', '10350ea43', '3c7c7e24c', '7585fce2a', '64d036163', 'f25d9935c', 'd98484125', '95c85e227', '9a5273600', '746cdb817', '6377a6293', '7d944fb0c', '87eb21c50', '5ea313a8c', '0987a65a1', '2fb7c2443', 'f5dde409b', '1ae50d4c3', '2b21cd7d8', '0db8a9272', '804d8b55b', '76f135fa6', '7d7182143', 'f88e61ae6', '378ed28e0', 'ca4ba131e', '1352ddae5', '2b601ad67', '6e42ff7c7', '22196a84c', '0e410eb3d', '992e6d1d3', '90a742107', '08b9ec4ae', 'd95203ded', '58ad51def', '9f69ae59f', '863de8a31', 'be10df47c', 'f006d9618', 'a7e39d23d', '5ed0abe85', '6c578fe94', '7fa4fcee9', '5e0571f07', 'fd5659511', 'e06b9f40f', 'c506599c8', '99de8c2dc', 'b05f4b229', '5e0834175', 'eb1cc0d9c', 'b281a62b9', '00fcf67e4', 'e37b65992', '2308e2b29', 'c342e8709', '708471ebf', 'f614aac15', '15ecf7b68', '3bfe540f1', '7a0d98f3c', 'e642315a5', 'c16d456a7', '0c9b5bcfa', 'b778ab129', '2ace87cdd', '697a566f0', '97b1f84fc', '34eff114b', '5281333d7', 'c89f3ba7e', 'cd6d3c7e6', 'fc7c8f2e8', 'abbbf9f82', '24a233e8f', '8e26b560e', 'a28ac1049', '504502ce1', 'd9a8615f3', '4efd6d283', '34cc56e83', '93e98252a', '2b6cef19e', 'c7f70a49b', '0d29ab7eb', 'e4a0d39b7', 'a4d1a8409', 'bc694fc8f', '3a36fc3a2', '4ffba44d3', '9bfdec4bc', '66a866d2f', 'f941e9df7', 'e7af4dbf3', 'dc9a54a3e', '748168a04', 'bba8ce4bb', 'ff6f62aa4', 'b06fe66ba', 'ae87ebc42', 'f26589e57', '963bb53b1', 'a531a4bf0', '9fc79985d', '9350d55c1', 'de06e884c', 'fc10bdf18', 'e0907e883', 'c586d79a1', 'e15e1513d', 'a06067897', '643e42fcb', '217cd3838', '047ebc242', '9b6ce40cf', '3b2c972b3', '17a7bf25a', 'c9028d46b', '9e0473c91', '6b041d374', '783c50218', '19122191d', 'ce573744f', '1c4ea481e', 'fbd6e0a0b', '69831c049', 'b87e3036b', '54ba515ee', 'a09ba0b15', '90f77ec55', 'fb02ef0ea', '3b0cccd29', 'fe9ed417c', '589e8bd6f', '17b5a03fd', '80e16b49a', 'a3d5c2c2a', '1bd3a4e92', '611d81daa', '3d7780b1c', '113fd0206', '5e5894826', 'cb36204f9', 'bc4e3d600', 'c66e2deb0', 'c25851298', 'a7f6de992', '3f93a3272', 'c1b95c2ec', '6bda21fee', '4a64e56e7', '943743753', '20854f8bf', 'ac2e428a9', '5ee7de0be', '316423a21', '2e52b0c6a', '8bdf6bc7e', '8f523faf2', '4758340d5', '8411096ec', '9678b95b7', 'a185e35cc', 'fa980a778', 'c8d90f7d7', '080540c81', '32591c8b4', '5779da33c', 'bb425b41e', '01599af81', '1654ab770', 'd334a588e', 'b4353599c', '51b53eaec', '2cc0fbc52', '45ffef194', 'c15ac04ee', '5b055c8ea', 'd0466eb58', 'a80633823', 'a117a5409', '7ddac276f', '8c32df8b3', 'e5649663e', '6c16efbb8', '9118fd5ca', 'ca8d565f1', '16a5bb8d2', 'fd6347461', 'f5179fb9c', '97428b646', 'f684b0a96', 'e4b2caa9f', '2c2d9f267', '96eb14eaf', 'cb2cb460c', '86f843927', 'ecd16fc60', '801c6dc8e', 'f859a25b8', 'ae846f332', '2252c7403', 'fb9e07326', 'd196ca1fd', 'a8e562e8e', 'eb6bb7ce1', '5beff147e', '52b347cdc', '4600aadcf', '6fa0b9dab', '43d70cc4d', '408021ef8', 'e29d22b59']\n"
          ],
          "name": "stdout"
        }
      ]
    },
    {
      "cell_type": "markdown",
      "metadata": {
        "_uuid": "04c92613c28f429b66dcb622ab5789b66f363d88",
        "id": "T1fMjJ-aQePF"
      },
      "source": [
        "## Remove Duplicate Columns"
      ]
    },
    {
      "cell_type": "code",
      "metadata": {
        "colab": {
          "base_uri": "https://localhost:8080/"
        },
        "id": "jaDn_0_993Ct",
        "outputId": "184c1fb4-d34c-4160-b9c0-70e0f42c81de"
      },
      "source": [
        "groups = train_df.columns.to_series().groupby(train_df.dtypes).groups\r\n",
        "groups"
      ],
      "execution_count": 36,
      "outputs": [
        {
          "output_type": "execute_result",
          "data": {
            "text/plain": [
              "{int64: ['0deb4b6a8', 'a8cb14b00', '2f0771a37', '30347e683', 'd08d1fbe3', '6ee66e115', '77c9823f2', '8d6c2a0b2', '4681de4fd', 'adf119b9a', '96f83a237', '6c7a4567c', '4fcfd2b4d', '71cebf11c', 'd966ac62c', 'c88d108c9', 'ff7b471cd', 'bc3f77679', '0eff5bf95', '2cb4d123e', '316b978cd', '5d5c5ce6d', 'ec863cb52', '69d8b4020', 'b0868a049', 'c36bcacc5', '151d318cd', 'ab0cddb90', 'c87722678', 'a8c320153', 'a04684f1f', '645b47cde', '7298ca1ef', 'd80abf8bc', '654dd8a3b', '7fc39583c', 'e421c414e', '964335fdf', '5a86cabd0', '6cb207ac9', 'c1bc828da', 'e90ed19da', 'c4d38135f', '968b01ca3', '26b423c42', '0b8e10df6', '603e85eb7', '605728195', 'ee7e4581d', 'a939664aa', 'a72e0bf30', 'e662f1672', '78a879b5d', 'bd550871c', '3268914c7', 'ec73030f6', 'c5b30277a', 'c16a7d537', 'bd6671d31', 'aab0aeb4b', '9a9b4a012', 'c377b9acf', 'f3e544d66', '80c0c9910', '9f8df01bd', '563d2f09a', '7ee833549', '7b58c8e37', 'cde9c35e8', '1e8801477', '3770cb9fa', '133714358', '15dba7177', '604ac0633', 'cbf34125e', '4563c7ee5', 'c679b0013', '8e7a80f64', 'e034322f0', '60cb16e88', '73a32cd05', 'd8fa4d098', 'ef6fab1bc', '1de1fda2c', '665493ecc', 'e7620cba2', '5d26f4d92', '19a4e3e16', 'e975d3be7', 'bd7e6d2af', '2127bb611', '63f968fa6', '312832f30', '6679fe54f', '9f05b2279', 'dd2fc27b0', 'af1d28337', '26b260c2b', '7207afb67', '4a3248e89', ...], float64: ['target', '48df886f9', '34b15f335', '20aa07010', 'dc5a8f1d8', '11d86fa6a', 'cff75dd09', 'b8a716ebf', 'f3b9c0b95', '68b647452', '0d866c3d7', 'bd8f989f1', '22ed6dba3', '92b13ebba', '233c7c17c', '87ffda550', '822e49b95', 'd04e16aed', '11ad148bd', 'ea18d720e', '408d86ce9', '80b14398e', 'ecdef52b2', '2d6bd8275', 'dfdf4b580', 'fa977f17b', 'feed9d437', '8c94b6675', '0656586a4', 'b4ced4b7a', '4e8196700', 'f115e74c0', '9ca0eee11', '472cd130b', '3e0e55648', 'b0f5ed414', '54b1c1bc0', 'ec1425047', '828b327a6', '21e0e6ae3', '64534cc93', '0f8d7b98e', '8367dfc36', '251d1aa17', '92e056c5c', 'e0f6a993a', '0cb171797', '0a69cc2be', '963a49cdc', '587a5d8c3', '408d191b3', '42fdff3a0', '93f686d09', '9d435a85b', '29eddc376', 'ad207f7bb', 'd40eb2705', 'fd206ec4d', '0564ff72c', '4e86dd8f3', '59dfc16da', '2f92a1a45', '4b6c549b1', 'a75d400b8', 'd318bea95', '35da68abb', '1a6d866d7', 'beb7f98fd', '7eacd712f', '99f466457', '1fb62e0dc', 'f7faf2d9f', 'bc2bf3bcd', '025dea3b3', '68a945b18', '99197edf2', '526ed2bec', '77eb013ca', '9dbb6b717', '186b87c05', 'ed0860a34', 'bd16de4ba', '0e1f6696a', 'f99a09543', '0c4bf4863', '2a933bcb8', '1520de553', 'dd0491aad', '7210546b2', '8e028d2d2', '607a7b8f0', '90b0ed912', '1ff6be905', '51c534b54', '9cc5d1d8f', '63be1f619', 'b77bc4dac', 'c98c2d3c0', '856225035', 'd4e8dd865', ...], object: ['ID']}"
            ]
          },
          "metadata": {
            "tags": []
          },
          "execution_count": 36
        }
      ]
    },
    {
      "cell_type": "code",
      "metadata": {
        "_uuid": "23f70d1b2d5b5d01113cfe311160a017142a10ab",
        "collapsed": true,
        "colab": {
          "base_uri": "https://localhost:8080/"
        },
        "id": "j2hrL8WvQePF",
        "outputId": "bb8eb155-f3e2-48b7-fc26-6c8277d5b798"
      },
      "source": [
        "# remove duplicate columns in the training set\n",
        "train_df.drop(colsToRemove, axis=1, inplace=True) \n",
        "\n",
        "# remove duplicate columns in the testing set\n",
        "test_df.drop(colsToRemove, axis=1, inplace=True)\n",
        "\n",
        "print(\"Removed `{}` Duplicate Columns\\n\".format(len(colsToRemove)))\n",
        "print(colsToRemove)"
      ],
      "execution_count": 20,
      "outputs": [
        {
          "output_type": "stream",
          "text": [
            "Removed `5` Duplicate Columns\n",
            "\n",
            "['34ceb0081', '8d57e2749', '168b3e5bc', 'a765da8bc', 'acc5b709d']\n"
          ],
          "name": "stdout"
        }
      ]
    },
    {
      "cell_type": "code",
      "metadata": {
        "_uuid": "8725d05a2c605696c366f42873fd126b8bbac376",
        "collapsed": true,
        "colab": {
          "base_uri": "https://localhost:8080/"
        },
        "id": "G5izIbMTQePF",
        "outputId": "9a781a63-a456-4b38-f799-fa156209d041"
      },
      "source": [
        "# 중복 column 제거\n",
        "%%time\n",
        "def duplicate_columns(frame):\n",
        "\n",
        "    # dtype 별 col 을 key, value로 하는 dict 생성\n",
        "    groups = frame.columns.to_series().groupby(frame.dtypes).groups\n",
        "    dups = []\n",
        "\n",
        "    for t, v in groups.items():\n",
        "\n",
        "        cs = frame[v].columns\n",
        "        vs = frame[v]\n",
        "        lcs = len(cs)\n",
        "\n",
        "        for i in range(lcs):\n",
        "            ia = vs.iloc[:,i].values\n",
        "            for j in range(i+1, lcs):\n",
        "                ja = vs.iloc[:,j].values\n",
        "                if np.array_equal(ia, ja): # dtype 같은 두개 col이 실제로 값들이 같은지 확인\n",
        "                    dups.append(cs[i])\n",
        "                    break\n",
        "\n",
        "    return dups\n",
        "\n",
        "colsToRemove = duplicate_columns(train_df)\n",
        "print(colsToRemove)"
      ],
      "execution_count": 19,
      "outputs": [
        {
          "output_type": "stream",
          "text": [
            "['34ceb0081', '8d57e2749', '168b3e5bc', 'a765da8bc', 'acc5b709d']\n",
            "CPU times: user 5min 11s, sys: 98.2 ms, total: 5min 11s\n",
            "Wall time: 5min 12s\n"
          ],
          "name": "stdout"
        }
      ]
    },
    {
      "cell_type": "markdown",
      "metadata": {
        "_uuid": "56caeb10c326ae9804249c914deae27129fd7895",
        "id": "poyWXxx0QePG"
      },
      "source": [
        "## Drop Sparse Data"
      ]
    },
    {
      "cell_type": "code",
      "metadata": {
        "_uuid": "463b5683297220ecd50d5099d457c12d73d389f3",
        "collapsed": true,
        "id": "EMofbHDhQePG"
      },
      "source": [
        "# sparse한 feature drop (nunique==1)\n",
        "def drop_sparse(train, test):\n",
        "    flist = [x for x in train.columns if not x in ['ID','target']]\n",
        "    for f in flist:\n",
        "        if len(np.unique(train[f]))<2:\n",
        "            train.drop(f, axis=1, inplace=True)\n",
        "            test.drop(f, axis=1, inplace=True)\n",
        "    return train, test"
      ],
      "execution_count": 21,
      "outputs": []
    },
    {
      "cell_type": "code",
      "metadata": {
        "_uuid": "7ec9032f51b9cf6cb06c8e3195a3407cb1a37cd0",
        "collapsed": true,
        "colab": {
          "base_uri": "https://localhost:8080/"
        },
        "id": "XrHtCQ_vQePH",
        "outputId": "a74d9d10-12a8-42b0-a5f7-81b444aff935"
      },
      "source": [
        "%%time\n",
        "train_df, test_df = drop_sparse(train_df, test_df)"
      ],
      "execution_count": 22,
      "outputs": [
        {
          "output_type": "stream",
          "text": [
            "CPU times: user 552 ms, sys: 33 µs, total: 552 ms\n",
            "Wall time: 553 ms\n"
          ],
          "name": "stdout"
        }
      ]
    },
    {
      "cell_type": "code",
      "metadata": {
        "_uuid": "6e00263647cf1f2d2b0d5f58bbe171b471fe5cc0",
        "collapsed": true,
        "colab": {
          "base_uri": "https://localhost:8080/"
        },
        "id": "G9sdt8VjQePH",
        "outputId": "727da0e4-09a4-4657-e841-3b38de254f1b"
      },
      "source": [
        "gc.collect()\n",
        "print(\"Train set size: {}\".format(train_df.shape))\n",
        "print(\"Test set size: {}\".format(test_df.shape))"
      ],
      "execution_count": 23,
      "outputs": [
        {
          "output_type": "stream",
          "text": [
            "Train set size: (4459, 4732)\n",
            "Test set size: (49342, 4731)\n"
          ],
          "name": "stdout"
        }
      ]
    },
    {
      "cell_type": "markdown",
      "metadata": {
        "_uuid": "c2c84edaf5a98d7ad4ea3dbf6c8f5a12a95bc1cc",
        "id": "PX9lrz63QePI"
      },
      "source": [
        "## Build Train and Test Data for Modeling"
      ]
    },
    {
      "cell_type": "code",
      "metadata": {
        "_uuid": "4b88ed16daa4d5842ddc9670e0d0fba6cf8184fb",
        "collapsed": true,
        "id": "wPUPNUqmQePI"
      },
      "source": [
        "# X는 ID 제외, Y는 log1p 변환\n",
        "X_train = train_df.drop([\"ID\", \"target\"], axis=1)\n",
        "y_train = np.log1p(train_df[\"target\"].values)\n",
        "\n",
        "X_test = test_df.drop([\"ID\"], axis=1)"
      ],
      "execution_count": 24,
      "outputs": []
    },
    {
      "cell_type": "code",
      "metadata": {
        "_uuid": "f265945955ff7ef18f53e9d0c1e605b3b1b68b67",
        "collapsed": true,
        "id": "FwJSnME-QePJ"
      },
      "source": [
        "# 8:2 로 split\r\n",
        "dev_X, val_X, dev_y, val_y = train_test_split(X_train, y_train, test_size = 0.2, random_state = 42)"
      ],
      "execution_count": 25,
      "outputs": []
    },
    {
      "cell_type": "markdown",
      "metadata": {
        "_uuid": "e9e89993baba18d1ee107a19fa49a90cbc434d9d",
        "id": "L1ZFz9ExQePJ"
      },
      "source": [
        "## LightGBM"
      ]
    },
    {
      "cell_type": "code",
      "metadata": {
        "_uuid": "97157a97e045c6318f586fab2b245f63a4951e96",
        "collapsed": true,
        "id": "fY4CVZ1_QePJ"
      },
      "source": [
        "def run_lgb(train_X, train_y, val_X, val_y, test_X):\n",
        "    params = {\n",
        "        \"objective\" : \"regression\",\n",
        "        \"metric\" : \"rmse\",\n",
        "        \"num_leaves\" : 40,\n",
        "        \"learning_rate\" : 0.004,\n",
        "        \"bagging_fraction\" : 0.6,\n",
        "        \"feature_fraction\" : 0.6,\n",
        "        \"bagging_frequency\" : 6,\n",
        "        \"bagging_seed\" : 42,\n",
        "        \"verbosity\" : -1,\n",
        "        \"seed\": 42\n",
        "    }\n",
        "    \n",
        "    lgtrain = lgb.Dataset(train_X, label=train_y)\n",
        "    lgval = lgb.Dataset(val_X, label=val_y)\n",
        "    evals_result = {}\n",
        "    model = lgb.train(params, lgtrain, 5000, \n",
        "                      valid_sets=[lgtrain, lgval], \n",
        "                      early_stopping_rounds=100, \n",
        "                      verbose_eval=150, \n",
        "                      evals_result=evals_result)\n",
        "    \n",
        "    pred_test_y = np.expm1(model.predict(test_X, num_iteration=model.best_iteration))\n",
        "    return pred_test_y, model, evals_result"
      ],
      "execution_count": 26,
      "outputs": []
    },
    {
      "cell_type": "code",
      "metadata": {
        "_uuid": "22e9bf71336a68ec10f526547f65a06d61e70cb9",
        "collapsed": true,
        "colab": {
          "base_uri": "https://localhost:8080/"
        },
        "id": "YsrjZ1FzQePK",
        "outputId": "3ef0887c-c1b2-45c5-84bb-4d678b078ad8"
      },
      "source": [
        "# Training LGB\n",
        "pred_test, model, evals_result = run_lgb(dev_X, dev_y, val_X, val_y, X_test)\n",
        "print(\"LightGBM Training Completed...\")"
      ],
      "execution_count": 27,
      "outputs": [
        {
          "output_type": "stream",
          "text": [
            "Training until validation scores don't improve for 100 rounds.\n",
            "[150]\ttraining's rmse: 1.50793\tvalid_1's rmse: 1.53931\n",
            "[300]\ttraining's rmse: 1.34402\tvalid_1's rmse: 1.46602\n",
            "[450]\ttraining's rmse: 1.23291\tvalid_1's rmse: 1.43402\n",
            "[600]\ttraining's rmse: 1.14927\tvalid_1's rmse: 1.41918\n",
            "[750]\ttraining's rmse: 1.08343\tvalid_1's rmse: 1.41347\n",
            "[900]\ttraining's rmse: 1.03011\tvalid_1's rmse: 1.41164\n",
            "[1050]\ttraining's rmse: 0.985188\tvalid_1's rmse: 1.4116\n",
            "Early stopping, best iteration is:\n",
            "[976]\ttraining's rmse: 1.00631\tvalid_1's rmse: 1.41125\n",
            "LightGBM Training Completed...\n"
          ],
          "name": "stdout"
        }
      ]
    },
    {
      "cell_type": "code",
      "metadata": {
        "_uuid": "3802ffcfd45cb560e94bfecc5c9752700f504dee",
        "collapsed": true,
        "colab": {
          "base_uri": "https://localhost:8080/"
        },
        "id": "F6ySHeClQePL",
        "outputId": "3a5af738-ffe8-4672-af8c-8a8d5fa86558"
      },
      "source": [
        "# feature importance (gain은 %)\n",
        "print(\"Features Importance...\")\n",
        "gain = model.feature_importance('gain')\n",
        "featureimp = pd.DataFrame({'feature':model.feature_name(), \n",
        "                   'split':model.feature_importance('split'), \n",
        "                   'gain':100 * gain / gain.sum()}).sort_values('gain', ascending=False)\n",
        "print(featureimp[:50])"
      ],
      "execution_count": 28,
      "outputs": [
        {
          "output_type": "stream",
          "text": [
            "Features Importance...\n",
            "        feature  split      gain\n",
            "4130  f190486d6    803  9.017404\n",
            "2375  58e2e02e6    715  5.294145\n",
            "3465  eeb9cd3aa    675  4.294044\n",
            "4020  15ace8c9f    541  3.095043\n",
            "2614  9fd594eec    379  2.850291\n",
            "8     20aa07010    409  2.112768\n",
            "834   6eef030c1    342  1.400379\n",
            "3571  58232a6fb    380  1.400253\n",
            "1457  b43a7cfd5    399  1.187425\n",
            "3661  491b9ee45    297  1.048269\n",
            "2687  fb0f5dbfe    410  0.997311\n",
            "1482  024c577b9    258  0.931900\n",
            "3867  2288333b4    195  0.860454\n",
            "2079  58e056e12    347  0.857672\n",
            "4185  f74e8f13d    352  0.849962\n",
            "4343  1702b5bf0    291  0.836605\n",
            "4508  c47340d97    313  0.815153\n",
            "828   6786ea46d    184  0.798005\n",
            "566   66ace2992    276  0.778013\n",
            "3722  d6bb78916    313  0.770098\n",
            "3791  ed8ff54b5    169  0.764647\n",
            "3220  ced6a7e91    240  0.720281\n",
            "4028  5c6487af1    180  0.712760\n",
            "3886  50e4f96cf    152  0.686449\n",
            "863   fc99f9426    238  0.667129\n",
            "1378  6cf7866c1    160  0.621800\n",
            "34    87ffda550    162  0.604544\n",
            "853   bc70cbc26    139  0.599770\n",
            "3811  adb64ff71    235  0.597324\n",
            "213   186b87c05     68  0.579914\n",
            "3983  45f6d00da    229  0.575398\n",
            "2616  fb387ea33    122  0.546694\n",
            "2134  241f0f867    185  0.530336\n",
            "624   0c9462c08    217  0.505927\n",
            "4453  190db8488    190  0.490855\n",
            "3509  13bdd610a    177  0.480766\n",
            "1067  17b81a716    143  0.444314\n",
            "537   26fc93eb7    184  0.442125\n",
            "3779  70feb1494    160  0.441275\n",
            "3849  73687e512    172  0.436898\n",
            "1007  1c71183bb    201  0.426290\n",
            "4341  e176a204a    176  0.418576\n",
            "2211  1931ccfdd    171  0.412802\n",
            "1044  edc84139a    201  0.412291\n",
            "1748  5f341a818    147  0.394860\n",
            "3150  f1e0ada11    168  0.381402\n",
            "4316  c5a231d81    132  0.369029\n",
            "1548  26ab20ff9    137  0.368083\n",
            "4290  9280f3d04    190  0.363643\n",
            "1848  5a1589f1a    196  0.360180\n"
          ],
          "name": "stdout"
        }
      ]
    },
    {
      "cell_type": "markdown",
      "metadata": {
        "_uuid": "bd282815fa0360eeb320797eb5b6027c369ef40f",
        "id": "5APkQTnsQePL"
      },
      "source": [
        "## XGB Modeling"
      ]
    },
    {
      "cell_type": "code",
      "metadata": {
        "_uuid": "71d6c95bb7dde82aa55fd364de6394cac2d80bef",
        "collapsed": true,
        "id": "y_0R6lEoQePM"
      },
      "source": [
        "def run_xgb(train_X, train_y, val_X, val_y, test_X):\n",
        "    params = {'objective': 'reg:linear', \n",
        "          'eval_metric': 'rmse',\n",
        "          'eta': 0.001,\n",
        "          'max_depth': 10, \n",
        "          'subsample': 0.6, \n",
        "          'colsample_bytree': 0.6,\n",
        "          'alpha':0.001,\n",
        "          'random_state': 42, \n",
        "          'silent': True}\n",
        "    \n",
        "    tr_data = xgb.DMatrix(train_X, train_y)\n",
        "    va_data = xgb.DMatrix(val_X, val_y)\n",
        "    \n",
        "    watchlist = [(tr_data, 'train'), (va_data, 'valid')]\n",
        "    \n",
        "    model_xgb = xgb.train(params, tr_data, 2000, watchlist, maximize=False, early_stopping_rounds = 100, verbose_eval=100)\n",
        "    \n",
        "    dtest = xgb.DMatrix(test_X)\n",
        "    xgb_pred_y = np.expm1(model_xgb.predict(dtest, ntree_limit=model_xgb.best_ntree_limit))\n",
        "    \n",
        "    return xgb_pred_y, model_xgb"
      ],
      "execution_count": 29,
      "outputs": []
    },
    {
      "cell_type": "code",
      "metadata": {
        "_uuid": "e5b7ce8825036996dcb6bc2a34d7382a7bbb8d43",
        "collapsed": true,
        "colab": {
          "base_uri": "https://localhost:8080/"
        },
        "id": "o7Q-ba-OQePM",
        "outputId": "fd775c78-82db-4a93-9015-2eeb9d0d5a39"
      },
      "source": [
        "# Training XGB\n",
        "pred_test_xgb, model_xgb = run_xgb(dev_X, dev_y, val_X, val_y, X_test)\n",
        "print(\"XGB Training Completed...\")"
      ],
      "execution_count": 30,
      "outputs": [
        {
          "output_type": "stream",
          "text": [
            "[0]\ttrain-rmse:14.0877\tvalid-rmse:14.0768\n",
            "Multiple eval metrics have been passed: 'valid-rmse' will be used for early stopping.\n",
            "\n",
            "Will train until valid-rmse hasn't improved in 100 rounds.\n",
            "[100]\ttrain-rmse:12.7683\tvalid-rmse:12.756\n",
            "[200]\ttrain-rmse:11.5765\tvalid-rmse:11.5629\n",
            "[300]\ttrain-rmse:10.5\tvalid-rmse:10.4854\n",
            "[400]\ttrain-rmse:9.52802\tvalid-rmse:9.51304\n",
            "[500]\ttrain-rmse:8.65065\tvalid-rmse:8.6361\n",
            "[600]\ttrain-rmse:7.85865\tvalid-rmse:7.84473\n",
            "[700]\ttrain-rmse:7.14388\tvalid-rmse:7.13201\n",
            "[800]\ttrain-rmse:6.49911\tvalid-rmse:6.48993\n",
            "[900]\ttrain-rmse:5.91691\tvalid-rmse:5.91106\n",
            "[1000]\ttrain-rmse:5.3925\tvalid-rmse:5.39137\n",
            "[1100]\ttrain-rmse:4.9196\tvalid-rmse:4.92423\n",
            "[1200]\ttrain-rmse:4.49343\tvalid-rmse:4.50457\n",
            "[1300]\ttrain-rmse:4.10977\tvalid-rmse:4.12874\n",
            "[1400]\ttrain-rmse:3.76474\tvalid-rmse:3.79266\n",
            "[1500]\ttrain-rmse:3.45493\tvalid-rmse:3.49292\n",
            "[1600]\ttrain-rmse:3.17654\tvalid-rmse:3.22512\n",
            "[1700]\ttrain-rmse:2.92698\tvalid-rmse:2.98712\n",
            "[1800]\ttrain-rmse:2.70352\tvalid-rmse:2.77675\n",
            "[1900]\ttrain-rmse:2.50368\tvalid-rmse:2.59047\n",
            "[1999]\ttrain-rmse:2.32698\tvalid-rmse:2.42818\n",
            "XGB Training Completed...\n"
          ],
          "name": "stdout"
        }
      ]
    },
    {
      "cell_type": "markdown",
      "metadata": {
        "_uuid": "9e41336e68cf9b234fe37aedab310fe431a6d8e5",
        "id": "rjxi9TEtQePO"
      },
      "source": [
        "## Catboost"
      ]
    },
    {
      "cell_type": "code",
      "metadata": {
        "_uuid": "67e156fd3429e3b0c04492979a19604a10d3426e",
        "collapsed": true,
        "id": "LtH0uG7rQePO"
      },
      "source": [
        "cb_model = CatBoostRegressor(iterations=500,\n",
        "                             learning_rate=0.05,\n",
        "                             depth=10,\n",
        "                             eval_metric='RMSE',\n",
        "                             random_seed = 42,\n",
        "                             bagging_temperature = 0.2,\n",
        "                             od_type='Iter',\n",
        "                             metric_period = 50,\n",
        "                             od_wait=20)"
      ],
      "execution_count": 31,
      "outputs": []
    },
    {
      "cell_type": "code",
      "metadata": {
        "_uuid": "bb208b54d6a0c6bf08698ce855d6bb56dc3b35b0",
        "collapsed": true,
        "colab": {
          "base_uri": "https://localhost:8080/"
        },
        "id": "wLSSNe2qQePP",
        "outputId": "4316861b-08d5-40c0-b5b5-d9d9066cfb07"
      },
      "source": [
        "cb_model.fit(dev_X, dev_y,\n",
        "             eval_set=(val_X, val_y),\n",
        "             use_best_model=True,\n",
        "             verbose=50)"
      ],
      "execution_count": 32,
      "outputs": [
        {
          "output_type": "stream",
          "text": [
            "Warning: Overfitting detector is active, thus evaluation metric is calculated on every iteration. 'metric_period' is ignored for evaluation metric.\n"
          ],
          "name": "stderr"
        },
        {
          "output_type": "stream",
          "text": [
            "0:\tlearn: 1.7518683\ttest: 1.6878429\tbest: 1.6878429 (0)\ttotal: 3.37s\tremaining: 28m\n",
            "50:\tlearn: 1.4789181\ttest: 1.5197196\tbest: 1.5197196 (50)\ttotal: 2m 33s\tremaining: 22m 34s\n",
            "100:\tlearn: 1.3788775\ttest: 1.4780503\tbest: 1.4780503 (100)\ttotal: 5m 4s\tremaining: 20m 1s\n",
            "150:\tlearn: 1.3203081\ttest: 1.4647232\tbest: 1.4647232 (150)\ttotal: 7m 34s\tremaining: 17m 29s\n",
            "200:\tlearn: 1.2546056\ttest: 1.4505032\tbest: 1.4504536 (198)\ttotal: 10m 4s\tremaining: 14m 58s\n",
            "250:\tlearn: 1.1817435\ttest: 1.4381513\tbest: 1.4381513 (250)\ttotal: 12m 34s\tremaining: 12m 28s\n",
            "300:\tlearn: 1.1208241\ttest: 1.4320748\tbest: 1.4314980 (297)\ttotal: 15m 5s\tremaining: 9m 58s\n",
            "350:\tlearn: 1.0770301\ttest: 1.4298988\tbest: 1.4297384 (347)\ttotal: 17m 38s\tremaining: 7m 29s\n",
            "Stopped by overfitting detector  (20 iterations wait)\n",
            "\n",
            "bestTest = 1.428228031\n",
            "bestIteration = 376\n",
            "\n",
            "Shrink model to first 377 iterations.\n"
          ],
          "name": "stdout"
        },
        {
          "output_type": "execute_result",
          "data": {
            "text/plain": [
              "<catboost.core.CatBoostRegressor at 0x7fbf19bb1b70>"
            ]
          },
          "metadata": {
            "tags": []
          },
          "execution_count": 32
        }
      ]
    },
    {
      "cell_type": "code",
      "metadata": {
        "_uuid": "d82b560f6d1c6d78bc6eb7c62d441d5ac3151f03",
        "collapsed": true,
        "id": "6Adx12MyQePQ"
      },
      "source": [
        "pred_test_cat = np.expm1(cb_model.predict(X_test))"
      ],
      "execution_count": 33,
      "outputs": []
    },
    {
      "cell_type": "markdown",
      "metadata": {
        "_uuid": "f4be1af8d931af4685cd5897616041741ac1d35d",
        "collapsed": true,
        "id": "xJEh_eFVQePQ"
      },
      "source": [
        "## Combine Predictions"
      ]
    },
    {
      "cell_type": "code",
      "metadata": {
        "_uuid": "f9efa1896225d6f825c5fa09cd53e02945e13659",
        "collapsed": true,
        "id": "N4GaVsF9QePQ"
      },
      "source": [
        "# lgb:xgb:cat = 5:3:2 로 blending해서 pred값 결정\n",
        "sub = pd.read_csv('../input/sample_submission.csv')\n",
        "\n",
        "sub_lgb = pd.DataFrame()\n",
        "sub_lgb[\"target\"] = pred_test\n",
        "\n",
        "sub_xgb = pd.DataFrame()\n",
        "sub_xgb[\"target\"] = pred_test_xgb\n",
        "\n",
        "sub_cat = pd.DataFrame()\n",
        "sub_cat[\"target\"] = pred_test_cat\n",
        "\n",
        "sub[\"target\"] = (sub_lgb[\"target\"] * 0.5 + sub_xgb[\"target\"] * 0.3 + sub_cat[\"target\"] * 0.2)"
      ],
      "execution_count": null,
      "outputs": []
    },
    {
      "cell_type": "code",
      "metadata": {
        "_uuid": "b36943f92c33a3eef809806c3bc1bbba19917d52",
        "collapsed": true,
        "id": "mZclgF6WQePR"
      },
      "source": [
        "print(sub.head())\n",
        "sub.to_csv('sub_lgb_xgb_cat.csv', index=False)"
      ],
      "execution_count": null,
      "outputs": []
    }
  ]
}