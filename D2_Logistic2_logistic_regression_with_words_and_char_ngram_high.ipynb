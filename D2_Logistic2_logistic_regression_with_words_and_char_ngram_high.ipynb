{
  "nbformat": 4,
  "nbformat_minor": 0,
  "metadata": {
    "kernelspec": {
      "display_name": "Python 3",
      "language": "python",
      "name": "python3"
    },
    "language_info": {
      "codemirror_mode": {
        "name": "ipython",
        "version": 3
      },
      "file_extension": ".py",
      "mimetype": "text/x-python",
      "name": "python",
      "nbconvert_exporter": "python",
      "pygments_lexer": "ipython3",
      "version": "3.7.6"
    },
    "papermill": {
      "duration": 1941.271244,
      "end_time": "2020-12-03T18:40:04.748387",
      "environment_variables": {},
      "exception": null,
      "input_path": "__notebook__.ipynb",
      "output_path": "__notebook__.ipynb",
      "parameters": {},
      "start_time": "2020-12-03T18:07:43.477143",
      "version": "2.1.0"
    },
    "colab": {
      "name": "logistic-regression-with-words-and-char-ngram-high.ipynb",
      "provenance": [],
      "collapsed_sections": []
    }
  },
  "cells": [
    {
      "cell_type": "markdown",
      "metadata": {
        "id": "O0eTBp1h0iio"
      },
      "source": [
        "## Impressions and Reviews  \r\n",
        "- tfidf를 두개로 수행하여 하나는 unigram, 하나는 2~4 gram을 수행하여 output feature들을 concat하여 최종 X를 생성"
      ]
    },
    {
      "cell_type": "code",
      "metadata": {
        "id": "m-k19gPa06XJ"
      },
      "source": [
        "\"\"\"\r\n",
        "Logistic Regression\r\n",
        "\r\n",
        "    solver:\r\n",
        "    - liblinear : 적은 data에 적합, L1, L2 모두 지원\r\n",
        "    - sag, saga : 대용량 data에 적합(sgd기반), sag는 L1, saga는 L2,L1 모두 지원\r\n",
        "    - newton-cg, lbfgs (sag, saga) 는 multi-class분류에 사용, lbfgs 성능이 최고로 알려짐. 둘다 L2만 지원\r\n",
        "    \r\n",
        "    penalty: solver에 따라 l1 또는 l2 만 가능하거나 혹은 둘다 가능하다, C 로 강도를 조절 가능\r\n",
        "    \r\n",
        "    C: 높을수록 낮은 regularization 효과 (svm), penalty ('l1', 'l2') 의 강도 결정, \r\n",
        "    \r\n",
        "    \r\n",
        "    \"\"\""
      ],
      "execution_count": null,
      "outputs": []
    },
    {
      "cell_type": "code",
      "metadata": {
        "execution": {
          "iopub.execute_input": "2020-12-03T18:07:48.959800Z",
          "iopub.status.busy": "2020-12-03T18:07:48.958786Z",
          "iopub.status.idle": "2020-12-03T18:07:54.744184Z",
          "shell.execute_reply": "2020-12-03T18:07:54.742366Z"
        },
        "papermill": {
          "duration": 5.802222,
          "end_time": "2020-12-03T18:07:54.744499",
          "exception": false,
          "start_time": "2020-12-03T18:07:48.942277",
          "status": "completed"
        },
        "tags": [],
        "id": "lWDApO0P0D3-"
      },
      "source": [
        "import numpy as np\n",
        "import pandas as pd\n",
        "\n",
        "from sklearn.feature_extraction.text import TfidfVectorizer\n",
        "from sklearn.linear_model import LogisticRegression\n",
        "from sklearn.model_selection import cross_val_score\n",
        "from sklearn.pipeline import make_union\n",
        "\n",
        "class_names = ['toxic', 'severe_toxic', 'obscene', 'threat', 'insult', 'identity_hate']\n",
        "\n",
        "train = pd.read_csv('../input/train.csv.zip').fillna(' ')\n",
        "test = pd.read_csv('../input/test.csv.zip').fillna(' ')\n",
        "\n",
        "train_text = train['comment_text']\n",
        "test_text = test['comment_text']\n",
        "all_text = pd.concat([train_text, test_text])"
      ],
      "execution_count": null,
      "outputs": []
    },
    {
      "cell_type": "code",
      "metadata": {
        "execution": {
          "iopub.execute_input": "2020-12-03T18:07:54.782688Z",
          "iopub.status.busy": "2020-12-03T18:07:54.781220Z",
          "iopub.status.idle": "2020-12-03T18:07:54.783955Z",
          "shell.execute_reply": "2020-12-03T18:07:54.784871Z"
        },
        "papermill": {
          "duration": 0.025422,
          "end_time": "2020-12-03T18:07:54.785096",
          "exception": false,
          "start_time": "2020-12-03T18:07:54.759674",
          "status": "completed"
        },
        "tags": [],
        "id": "eKwIn62o0D4H"
      },
      "source": [
        "word_vectorizer = TfidfVectorizer(\n",
        "    sublinear_tf=True,\n",
        "    strip_accents='unicode',\n",
        "    analyzer='word', # 단어 단위로 진행\n",
        "    token_pattern=r'\\w{1,}', # 한글자 이상의 단어 들을 각각 구분한다\n",
        "    ngram_range=(1, 1), # only unigram (한단어)\n",
        "    max_features=30000)\n",
        "\n",
        "char_vectorizer = TfidfVectorizer(\n",
        "    sublinear_tf=True,\n",
        "    strip_accents='unicode',\n",
        "    analyzer='char', # 음절단위로 진행\n",
        "    ngram_range=(1, 4), # 1 ~ 4음절 단어까지 count\n",
        "    max_features=30000)\n",
        "\n",
        "vectorizer = make_union(word_vectorizer, char_vectorizer, n_jobs=2)"
      ],
      "execution_count": null,
      "outputs": []
    },
    {
      "cell_type": "code",
      "metadata": {
        "execution": {
          "iopub.execute_input": "2020-12-03T18:07:54.823320Z",
          "iopub.status.busy": "2020-12-03T18:07:54.822512Z",
          "iopub.status.idle": "2020-12-03T18:25:18.118410Z",
          "shell.execute_reply": "2020-12-03T18:25:18.117616Z"
        },
        "papermill": {
          "duration": 1043.319372,
          "end_time": "2020-12-03T18:25:18.118682",
          "exception": false,
          "start_time": "2020-12-03T18:07:54.799310",
          "status": "completed"
        },
        "tags": [],
        "id": "BxO-o8xG0D4I"
      },
      "source": [
        "vectorizer.fit(all_text)\n",
        "train_features = vectorizer.transform(train_text)\n",
        "test_features = vectorizer.transform(test_text)"
      ],
      "execution_count": null,
      "outputs": []
    },
    {
      "cell_type": "code",
      "metadata": {
        "execution": {
          "iopub.execute_input": "2020-12-03T18:25:18.168181Z",
          "iopub.status.busy": "2020-12-03T18:25:18.158095Z",
          "iopub.status.idle": "2020-12-03T18:25:34.878653Z",
          "shell.execute_reply": "2020-12-03T18:25:34.879282Z"
        },
        "papermill": {
          "duration": 16.748451,
          "end_time": "2020-12-03T18:25:34.879449",
          "exception": false,
          "start_time": "2020-12-03T18:25:18.130998",
          "status": "completed"
        },
        "tags": [],
        "id": "1LQ-yjEc0D4I",
        "outputId": "ead82c3e-8cd2-4849-f4ac-bd8bf28cfe8f"
      },
      "source": [
        "word_vectorizer.fit(all_text[:10000])\n",
        "char_vectorizer.fit(all_text[:10000])"
      ],
      "execution_count": null,
      "outputs": [
        {
          "output_type": "execute_result",
          "data": {
            "text/plain": [
              "TfidfVectorizer(analyzer='char', max_features=30000, ngram_range=(1, 4),\n",
              "                strip_accents='unicode', sublinear_tf=True)"
            ]
          },
          "metadata": {
            "tags": []
          },
          "execution_count": 4
        }
      ]
    },
    {
      "cell_type": "code",
      "metadata": {
        "execution": {
          "iopub.execute_input": "2020-12-03T18:25:34.957199Z",
          "iopub.status.busy": "2020-12-03T18:25:34.956242Z",
          "iopub.status.idle": "2020-12-03T18:25:34.960392Z",
          "shell.execute_reply": "2020-12-03T18:25:34.961185Z"
        },
        "papermill": {
          "duration": 0.068885,
          "end_time": "2020-12-03T18:25:34.961364",
          "exception": false,
          "start_time": "2020-12-03T18:25:34.892479",
          "status": "completed"
        },
        "tags": [],
        "id": "9u2FF94U0D4J",
        "outputId": "f5201c5e-62fa-431d-abc3-6ff03fb6e29e"
      },
      "source": [
        "print(sorted(word_vectorizer.vocabulary_.items(),reverse = True)[:20])"
      ],
      "execution_count": null,
      "outputs": [
        {
          "output_type": "stream",
          "text": [
            "[('飞天号航天服', 29999), ('飞天', 29998), ('電視劇', 29997), ('雲水', 29996), ('連絡', 29995), ('迷惑', 29994), ('豆田', 29993), ('話して下さい', 29992), ('見学', 29991), ('聖やや', 29990), ('翻译', 29989), ('翻訳', 29988), ('竜龙', 29987), ('竜龍', 29986), ('福原路草', 29985), ('福原信三', 29984), ('甲子夜話', 29983), ('琉竜', 29982), ('牛岩', 29981), ('江戸後期の平戸藩主', 29980)]\n"
          ],
          "name": "stdout"
        }
      ]
    },
    {
      "cell_type": "code",
      "metadata": {
        "execution": {
          "iopub.execute_input": "2020-12-03T18:25:35.040556Z",
          "iopub.status.busy": "2020-12-03T18:25:35.039737Z",
          "iopub.status.idle": "2020-12-03T18:25:35.043920Z",
          "shell.execute_reply": "2020-12-03T18:25:35.043243Z"
        },
        "papermill": {
          "duration": 0.069532,
          "end_time": "2020-12-03T18:25:35.044068",
          "exception": false,
          "start_time": "2020-12-03T18:25:34.974536",
          "status": "completed"
        },
        "tags": [],
        "id": "Z2sUm8nU0D4K",
        "outputId": "2f9cb5e2-e97c-48ca-c01d-935987455122"
      },
      "source": [
        "print(sorted(word_vectorizer.vocabulary_.items(),reverse = False)[1000])"
      ],
      "execution_count": null,
      "outputs": [
        {
          "output_type": "stream",
          "text": [
            "('50th', 1000)\n"
          ],
          "name": "stdout"
        }
      ]
    },
    {
      "cell_type": "code",
      "metadata": {
        "execution": {
          "iopub.execute_input": "2020-12-03T18:25:35.124904Z",
          "iopub.status.busy": "2020-12-03T18:25:35.124074Z",
          "iopub.status.idle": "2020-12-03T18:25:35.128253Z",
          "shell.execute_reply": "2020-12-03T18:25:35.127471Z"
        },
        "papermill": {
          "duration": 0.070091,
          "end_time": "2020-12-03T18:25:35.128392",
          "exception": false,
          "start_time": "2020-12-03T18:25:35.058301",
          "status": "completed"
        },
        "tags": [],
        "id": "fteBSz290D4K",
        "outputId": "184577f7-5da1-4271-accc-99d0fd0942f8"
      },
      "source": [
        "print(sorted(word_vectorizer.vocabulary_.items(),reverse = False)[:20])"
      ],
      "execution_count": null,
      "outputs": [
        {
          "output_type": "stream",
          "text": [
            "[('0', 0), ('00', 1), ('000', 2), ('0000', 3), ('000000', 4), ('00000000', 5), ('00053', 6), ('001', 7), ('0010steve', 8), ('002', 9), ('0022', 10), ('003_resize', 11), ('004', 12), ('0049703', 13), ('005', 14), ('005113', 15), ('006400', 16), ('007', 17), ('007191', 18), ('01', 19)]\n"
          ],
          "name": "stdout"
        }
      ]
    },
    {
      "cell_type": "code",
      "metadata": {
        "execution": {
          "iopub.execute_input": "2020-12-03T18:25:35.218138Z",
          "iopub.status.busy": "2020-12-03T18:25:35.217194Z",
          "iopub.status.idle": "2020-12-03T18:25:35.221829Z",
          "shell.execute_reply": "2020-12-03T18:25:35.221207Z"
        },
        "papermill": {
          "duration": 0.07808,
          "end_time": "2020-12-03T18:25:35.221987",
          "exception": false,
          "start_time": "2020-12-03T18:25:35.143907",
          "status": "completed"
        },
        "tags": [],
        "id": "wxFo6sO10D4L",
        "outputId": "0a4a93f8-1627-4652-e2ce-08d24f709fe7"
      },
      "source": [
        "print(sorted(char_vectorizer.vocabulary_.items(),reverse = True)[:20])"
      ],
      "execution_count": null,
      "outputs": [
        {
          "output_type": "stream",
          "text": [
            "[('♦', 29999), ('♥', 29998), ('→ ', 29997), ('→', 29996), ('• t', 29995), ('• co', 29994), ('• c', 29993), ('• \"', 29992), ('• ', 29991), ('•', 29990), ('”.', 29989), ('” i', 29988), ('” an', 29987), ('” a', 29986), ('” ', 29985), ('”', 29984), ('“the', 29983), ('“th', 29982), ('“t', 29981), ('“s', 29980)]\n"
          ],
          "name": "stdout"
        }
      ]
    },
    {
      "cell_type": "code",
      "metadata": {
        "execution": {
          "iopub.execute_input": "2020-12-03T18:25:35.311410Z",
          "iopub.status.busy": "2020-12-03T18:25:35.310433Z",
          "iopub.status.idle": "2020-12-03T18:25:35.315237Z",
          "shell.execute_reply": "2020-12-03T18:25:35.314229Z"
        },
        "papermill": {
          "duration": 0.078626,
          "end_time": "2020-12-03T18:25:35.315410",
          "exception": false,
          "start_time": "2020-12-03T18:25:35.236784",
          "status": "completed"
        },
        "tags": [],
        "id": "HtxrprKo0D4L",
        "outputId": "5a5014a5-e69f-4288-8ca3-0bfeb6a8abcb"
      },
      "source": [
        "print(sorted(char_vectorizer.vocabulary_.items(),reverse = False)[1000])"
      ],
      "execution_count": null,
      "outputs": [
        {
          "output_type": "stream",
          "text": [
            "(' ded', 1000)\n"
          ],
          "name": "stdout"
        }
      ]
    },
    {
      "cell_type": "code",
      "metadata": {
        "execution": {
          "iopub.execute_input": "2020-12-03T18:25:35.408735Z",
          "iopub.status.busy": "2020-12-03T18:25:35.407701Z",
          "iopub.status.idle": "2020-12-03T18:25:35.411583Z",
          "shell.execute_reply": "2020-12-03T18:25:35.412327Z"
        },
        "papermill": {
          "duration": 0.080387,
          "end_time": "2020-12-03T18:25:35.412509",
          "exception": false,
          "start_time": "2020-12-03T18:25:35.332122",
          "status": "completed"
        },
        "tags": [],
        "id": "QUVTWgM10D4M",
        "outputId": "745f1f16-1183-4733-b25a-2f10e0fa6d61"
      },
      "source": [
        "print(sorted(char_vectorizer.vocabulary_.items(),reverse = False)[:20])"
      ],
      "execution_count": null,
      "outputs": [
        {
          "output_type": "stream",
          "text": [
            "[('\\n', 0), ('\\n!', 1), ('\\n! ', 2), ('\\n\"', 3), ('\\n\"\"', 4), ('\\n\"\"i', 5), ('\\n\"\"t', 6), ('\\n-', 7), ('\\n- ', 8), ('\\n1', 9), ('\\n2', 10), ('\\n3', 11), ('\\n4', 12), ('\\n:', 13), ('\\n:i', 14), ('\\n:im', 15), ('\\n>', 16), ('\\n> ', 17), ('\\n[', 18), ('\\na', 19)]\n"
          ],
          "name": "stdout"
        }
      ]
    },
    {
      "cell_type": "code",
      "metadata": {
        "execution": {
          "iopub.execute_input": "2020-12-03T18:25:35.450830Z",
          "iopub.status.busy": "2020-12-03T18:25:35.449950Z",
          "iopub.status.idle": "2020-12-03T18:25:35.454635Z",
          "shell.execute_reply": "2020-12-03T18:25:35.453992Z"
        },
        "papermill": {
          "duration": 0.026247,
          "end_time": "2020-12-03T18:25:35.454794",
          "exception": false,
          "start_time": "2020-12-03T18:25:35.428547",
          "status": "completed"
        },
        "tags": [],
        "id": "TwgwW6SL0D4M",
        "outputId": "8bf5d0a9-c34b-440d-b924-fdf5a81e4c2f"
      },
      "source": [
        "train_features.shape, test_features.shape"
      ],
      "execution_count": null,
      "outputs": [
        {
          "output_type": "execute_result",
          "data": {
            "text/plain": [
              "((159571, 60000), (153164, 60000))"
            ]
          },
          "metadata": {
            "tags": []
          },
          "execution_count": 11
        }
      ]
    },
    {
      "cell_type": "code",
      "metadata": {
        "_cell_guid": "df41da47-8eaa-4dcd-b5e3-7f3148013535",
        "_uuid": "f5bcdfaa-ce88-4f5b-908c-f98de0f11ee4",
        "execution": {
          "iopub.execute_input": "2020-12-03T18:25:35.500731Z",
          "iopub.status.busy": "2020-12-03T18:25:35.496625Z",
          "iopub.status.idle": "2020-12-03T18:40:04.471710Z",
          "shell.execute_reply": "2020-12-03T18:40:04.472513Z"
        },
        "papermill": {
          "duration": 869.001402,
          "end_time": "2020-12-03T18:40:04.472727",
          "exception": false,
          "start_time": "2020-12-03T18:25:35.471325",
          "status": "completed"
        },
        "tags": [],
        "id": "Oeifod9v0D4N",
        "outputId": "975cd7be-3b5c-488b-aac9-e42e13b256f0"
      },
      "source": [
        "scores = []\n",
        "submission = pd.DataFrame.from_dict({'id': test['id']})\n",
        "for class_name in class_names:\n",
        "    train_target = train[class_name]\n",
        "    classifier = LogisticRegression(solver='sag') \n",
        "    \"\"\"\n",
        "    solver:\n",
        "    - liblinear : 적은 data에 적합, L1, L2 모두 지원\n",
        "    - sag, saga : 대용량 data에 적합(sgd기반), sag는 L1, saga는 L2,L1 모두 지원\n",
        "    - newton-cg, lbfgs (sag, saga) 는 multi-class분류에 사용, lbfgs 성능이 최고로 알려짐. 둘다 L2만 지원\n",
        "    \n",
        "    penalty: solver에 따라 l1 또는 l2 만 가능하거나 혹은 둘다 가능하다, C 로 강도를 조절 가능\n",
        "    \n",
        "    C: 높을수록 낮은 regularization 효과 (svm), penalty ('l1', 'l2') 의 강도 결정, \n",
        "    \n",
        "    \n",
        "    \"\"\"\n",
        "    \n",
        "\n",
        "    cv_score = np.mean(cross_val_score(\n",
        "        classifier, train_features, train_target, cv=3, scoring='roc_auc'))\n",
        "    scores.append(cv_score)\n",
        "    print('CV score for class {} is {}'.format(class_name, cv_score))\n",
        "\n",
        "    classifier.fit(train_features, train_target)\n",
        "    submission[class_name] = classifier.predict_proba(test_features)[:, 1]\n",
        "    \n",
        "    res_probs = classifier.predict_proba(test_features)\n",
        "    print(res_probs.shape)\n",
        "\n",
        "print('Total CV score is {}'.format(np.mean(scores)))\n",
        "\n",
        "# submission.to_csv('submission.csv', index=False)"
      ],
      "execution_count": null,
      "outputs": [
        {
          "output_type": "stream",
          "text": [
            "CV score for class toxic is 0.9787977972677572\n",
            "(153164, 2)\n",
            "CV score for class severe_toxic is 0.9887765504366569\n",
            "(153164, 2)\n",
            "CV score for class obscene is 0.9903280040183651\n",
            "(153164, 2)\n",
            "CV score for class threat is 0.9887839859212524\n",
            "(153164, 2)\n",
            "CV score for class insult is 0.9828850973626849\n",
            "(153164, 2)\n",
            "CV score for class identity_hate is 0.9831386353878381\n",
            "(153164, 2)\n",
            "Total CV score is 0.9854516783990923\n"
          ],
          "name": "stdout"
        }
      ]
    },
    {
      "cell_type": "code",
      "metadata": {
        "papermill": {
          "duration": 0.021638,
          "end_time": "2020-12-03T18:40:04.516422",
          "exception": false,
          "start_time": "2020-12-03T18:40:04.494784",
          "status": "completed"
        },
        "tags": [],
        "id": "ObZzWaUT0D4O"
      },
      "source": [
        ""
      ],
      "execution_count": null,
      "outputs": []
    }
  ]
}