{
  "nbformat": 4,
  "nbformat_minor": 0,
  "metadata": {
    "colab": {
      "name": "D5_lgbm10_light_gbm_benchmark_0_3692.ipynb",
      "provenance": [],
      "collapsed_sections": [],
      "toc_visible": true,
      "authorship_tag": "ABX9TyM6DkcxJXPI5jIoeCMA13H6"
    },
    "kernelspec": {
      "name": "python3",
      "display_name": "Python 3"
    }
  },
  "cells": [
    {
      "cell_type": "markdown",
      "metadata": {
        "id": "auyxxA2vF5Xd"
      },
      "source": [
        "## Impressions and Reviews  \r\n",
        "- 고객 재구매 예측 (유용한 feature 다수 생성) :\r\n",
        "- user, product 조합별 주문, 주문 비율, 마지막 주문, cart 여부, - - 재구매율, 마지막구매 경과기간, 마지막주문과의 주문시각변화\r\n",
        "- 구매, 재구매, 재구매율\r\n",
        "- 주문시각, 주문경과시간, 평균 주문간격 대비 지난주문 이후 시간\r\n",
        "- userid, 총주문, 총item수, unique item수, user의 평균 order 간격, user 평균 basket\r\n"
      ]
    },
    {
      "cell_type": "code",
      "metadata": {
        "colab": {
          "base_uri": "https://localhost:8080/"
        },
        "id": "T87Icb6ZFMkU",
        "outputId": "01b2b65b-396a-493c-ba1d-a343a2f648ba"
      },
      "source": [
        "# Author : Paul-Antoine Nguyen\r\n",
        "\r\n",
        "# This script considers all the products a user has ordered\r\n",
        "#\r\n",
        "# We train a model computing the probability of reorder on the \"train\" data\r\n",
        "#\r\n",
        "# For the submission, we keep the orders that have a probability of\r\n",
        "# reorder higher than a threshold\r\n",
        "\r\n",
        "import numpy as np\r\n",
        "import pandas as pd\r\n",
        "import lightgbm as lgb\r\n",
        "IDIR = '/content/'\r\n",
        "\r\n",
        "# data load - column 별 type 지정 (메모리 효율 up)\r\n",
        "print('loading prior')\r\n",
        "priors = pd.read_csv(IDIR + 'order_products__prior.csv', dtype={\r\n",
        "            'order_id': np.int32,\r\n",
        "            'product_id': np.uint16,\r\n",
        "            'add_to_cart_order': np.int16,\r\n",
        "            'reordered': np.int8})\r\n",
        "\r\n",
        "print('loading train')\r\n",
        "train = pd.read_csv(IDIR + 'order_products__train.csv', dtype={\r\n",
        "            'order_id': np.int32,\r\n",
        "            'product_id': np.uint16,\r\n",
        "            'add_to_cart_order': np.int16,\r\n",
        "            'reordered': np.int8})\r\n",
        "\r\n",
        "print('loading orders')\r\n",
        "orders = pd.read_csv(IDIR + 'orders.csv', dtype={\r\n",
        "        'order_id': np.int32,\r\n",
        "        'user_id': np.int32,\r\n",
        "        'eval_set': 'category',\r\n",
        "        'order_number': np.int16,\r\n",
        "        'order_dow': np.int8,\r\n",
        "        'order_hour_of_day': np.int8,\r\n",
        "        'days_since_prior_order': np.float32})\r\n",
        "\r\n",
        "print('loading products')\r\n",
        "products = pd.read_csv(IDIR + 'products.csv', dtype={\r\n",
        "        'product_id': np.uint16,\r\n",
        "        'order_id': np.int32,\r\n",
        "        'aisle_id': np.uint8,\r\n",
        "        'department_id': np.uint8},\r\n",
        "        usecols=['product_id', 'aisle_id', 'department_id'])\r\n",
        "\r\n",
        "print('priors {}: {}'.format(priors.shape, ', '.join(priors.columns)))\r\n",
        "print('orders {}: {}'.format(orders.shape, ', '.join(orders.columns)))\r\n",
        "print('train {}: {}'.format(train.shape, ', '.join(train.columns)))"
      ],
      "execution_count": 23,
      "outputs": [
        {
          "output_type": "stream",
          "text": [
            "loading prior\n",
            "loading train\n",
            "loading orders\n",
            "loading products\n",
            "priors (32434489, 4): order_id, product_id, add_to_cart_order, reordered\n",
            "orders (3421083, 7): order_id, user_id, eval_set, order_number, order_dow, order_hour_of_day, days_since_prior_order\n",
            "train (1384617, 4): order_id, product_id, add_to_cart_order, reordered\n"
          ],
          "name": "stdout"
        }
      ]
    },
    {
      "cell_type": "code",
      "metadata": {
        "colab": {
          "base_uri": "https://localhost:8080/",
          "height": 447
        },
        "id": "SfOigBk9HX0-",
        "outputId": "f5bcfe6b-db66-426b-946c-96d750261b51"
      },
      "source": [
        "print('priors')\r\n",
        "display(priors.head(2))\r\n",
        "print('train')\r\n",
        "display(train.head(2))\r\n",
        "print('orders')\r\n",
        "display(orders.head(2))\r\n",
        "print('products')\r\n",
        "display(products.head(2))"
      ],
      "execution_count": 24,
      "outputs": [
        {
          "output_type": "stream",
          "text": [
            "priors\n"
          ],
          "name": "stdout"
        },
        {
          "output_type": "display_data",
          "data": {
            "text/html": [
              "<div>\n",
              "<style scoped>\n",
              "    .dataframe tbody tr th:only-of-type {\n",
              "        vertical-align: middle;\n",
              "    }\n",
              "\n",
              "    .dataframe tbody tr th {\n",
              "        vertical-align: top;\n",
              "    }\n",
              "\n",
              "    .dataframe thead th {\n",
              "        text-align: right;\n",
              "    }\n",
              "</style>\n",
              "<table border=\"1\" class=\"dataframe\">\n",
              "  <thead>\n",
              "    <tr style=\"text-align: right;\">\n",
              "      <th></th>\n",
              "      <th>order_id</th>\n",
              "      <th>product_id</th>\n",
              "      <th>add_to_cart_order</th>\n",
              "      <th>reordered</th>\n",
              "    </tr>\n",
              "  </thead>\n",
              "  <tbody>\n",
              "    <tr>\n",
              "      <th>0</th>\n",
              "      <td>2</td>\n",
              "      <td>33120</td>\n",
              "      <td>1</td>\n",
              "      <td>1</td>\n",
              "    </tr>\n",
              "    <tr>\n",
              "      <th>1</th>\n",
              "      <td>2</td>\n",
              "      <td>28985</td>\n",
              "      <td>2</td>\n",
              "      <td>1</td>\n",
              "    </tr>\n",
              "  </tbody>\n",
              "</table>\n",
              "</div>"
            ],
            "text/plain": [
              "   order_id  product_id  add_to_cart_order  reordered\n",
              "0         2       33120                  1          1\n",
              "1         2       28985                  2          1"
            ]
          },
          "metadata": {
            "tags": []
          }
        },
        {
          "output_type": "stream",
          "text": [
            "train\n"
          ],
          "name": "stdout"
        },
        {
          "output_type": "display_data",
          "data": {
            "text/html": [
              "<div>\n",
              "<style scoped>\n",
              "    .dataframe tbody tr th:only-of-type {\n",
              "        vertical-align: middle;\n",
              "    }\n",
              "\n",
              "    .dataframe tbody tr th {\n",
              "        vertical-align: top;\n",
              "    }\n",
              "\n",
              "    .dataframe thead th {\n",
              "        text-align: right;\n",
              "    }\n",
              "</style>\n",
              "<table border=\"1\" class=\"dataframe\">\n",
              "  <thead>\n",
              "    <tr style=\"text-align: right;\">\n",
              "      <th></th>\n",
              "      <th>order_id</th>\n",
              "      <th>product_id</th>\n",
              "      <th>add_to_cart_order</th>\n",
              "      <th>reordered</th>\n",
              "    </tr>\n",
              "  </thead>\n",
              "  <tbody>\n",
              "    <tr>\n",
              "      <th>0</th>\n",
              "      <td>1</td>\n",
              "      <td>49302</td>\n",
              "      <td>1</td>\n",
              "      <td>1</td>\n",
              "    </tr>\n",
              "    <tr>\n",
              "      <th>1</th>\n",
              "      <td>1</td>\n",
              "      <td>11109</td>\n",
              "      <td>2</td>\n",
              "      <td>1</td>\n",
              "    </tr>\n",
              "  </tbody>\n",
              "</table>\n",
              "</div>"
            ],
            "text/plain": [
              "   order_id  product_id  add_to_cart_order  reordered\n",
              "0         1       49302                  1          1\n",
              "1         1       11109                  2          1"
            ]
          },
          "metadata": {
            "tags": []
          }
        },
        {
          "output_type": "stream",
          "text": [
            "orders\n"
          ],
          "name": "stdout"
        },
        {
          "output_type": "display_data",
          "data": {
            "text/html": [
              "<div>\n",
              "<style scoped>\n",
              "    .dataframe tbody tr th:only-of-type {\n",
              "        vertical-align: middle;\n",
              "    }\n",
              "\n",
              "    .dataframe tbody tr th {\n",
              "        vertical-align: top;\n",
              "    }\n",
              "\n",
              "    .dataframe thead th {\n",
              "        text-align: right;\n",
              "    }\n",
              "</style>\n",
              "<table border=\"1\" class=\"dataframe\">\n",
              "  <thead>\n",
              "    <tr style=\"text-align: right;\">\n",
              "      <th></th>\n",
              "      <th>order_id</th>\n",
              "      <th>user_id</th>\n",
              "      <th>eval_set</th>\n",
              "      <th>order_number</th>\n",
              "      <th>order_dow</th>\n",
              "      <th>order_hour_of_day</th>\n",
              "      <th>days_since_prior_order</th>\n",
              "    </tr>\n",
              "  </thead>\n",
              "  <tbody>\n",
              "    <tr>\n",
              "      <th>0</th>\n",
              "      <td>2539329</td>\n",
              "      <td>1</td>\n",
              "      <td>prior</td>\n",
              "      <td>1</td>\n",
              "      <td>2</td>\n",
              "      <td>8</td>\n",
              "      <td>NaN</td>\n",
              "    </tr>\n",
              "    <tr>\n",
              "      <th>1</th>\n",
              "      <td>2398795</td>\n",
              "      <td>1</td>\n",
              "      <td>prior</td>\n",
              "      <td>2</td>\n",
              "      <td>3</td>\n",
              "      <td>7</td>\n",
              "      <td>15.0</td>\n",
              "    </tr>\n",
              "  </tbody>\n",
              "</table>\n",
              "</div>"
            ],
            "text/plain": [
              "   order_id  user_id  ... order_hour_of_day  days_since_prior_order\n",
              "0   2539329        1  ...                 8                     NaN\n",
              "1   2398795        1  ...                 7                    15.0\n",
              "\n",
              "[2 rows x 7 columns]"
            ]
          },
          "metadata": {
            "tags": []
          }
        },
        {
          "output_type": "stream",
          "text": [
            "products\n"
          ],
          "name": "stdout"
        },
        {
          "output_type": "display_data",
          "data": {
            "text/html": [
              "<div>\n",
              "<style scoped>\n",
              "    .dataframe tbody tr th:only-of-type {\n",
              "        vertical-align: middle;\n",
              "    }\n",
              "\n",
              "    .dataframe tbody tr th {\n",
              "        vertical-align: top;\n",
              "    }\n",
              "\n",
              "    .dataframe thead th {\n",
              "        text-align: right;\n",
              "    }\n",
              "</style>\n",
              "<table border=\"1\" class=\"dataframe\">\n",
              "  <thead>\n",
              "    <tr style=\"text-align: right;\">\n",
              "      <th></th>\n",
              "      <th>product_id</th>\n",
              "      <th>aisle_id</th>\n",
              "      <th>department_id</th>\n",
              "    </tr>\n",
              "  </thead>\n",
              "  <tbody>\n",
              "    <tr>\n",
              "      <th>0</th>\n",
              "      <td>1</td>\n",
              "      <td>61</td>\n",
              "      <td>19</td>\n",
              "    </tr>\n",
              "    <tr>\n",
              "      <th>1</th>\n",
              "      <td>2</td>\n",
              "      <td>104</td>\n",
              "      <td>13</td>\n",
              "    </tr>\n",
              "  </tbody>\n",
              "</table>\n",
              "</div>"
            ],
            "text/plain": [
              "   product_id  aisle_id  department_id\n",
              "0           1        61             19\n",
              "1           2       104             13"
            ]
          },
          "metadata": {
            "tags": []
          }
        }
      ]
    },
    {
      "cell_type": "code",
      "metadata": {
        "colab": {
          "base_uri": "https://localhost:8080/"
        },
        "id": "M7sLbqikFRWv",
        "outputId": "024ce8d8-c589-406e-8f61-a370b8bb25c3"
      },
      "source": [
        "print('computing product f')\r\n",
        "\r\n",
        "# order(주문수), reorders(재구매) - id별 재구매 합 동일하게 부여, reorder비율 \r\n",
        "prods = pd.DataFrame()\r\n",
        "prods['orders'] = priors.groupby(priors.product_id).size().astype(np.int32)\r\n",
        "prods['reorders'] = priors['reordered'].groupby(priors.product_id).sum().astype(np.float32)\r\n",
        "prods['reorder_rate'] = (prods.reorders / prods.orders).astype(np.float32)\r\n",
        "products = products.join(prods, on='product_id')\r\n",
        "products.set_index('product_id', drop=False, inplace=True)\r\n",
        "del prods\r\n",
        "\r\n",
        "# order, priors 데이터프레임 병합\r\n",
        "print('add order info to priors')\r\n",
        "orders.set_index('order_id', inplace=True, drop=False)\r\n",
        "priors = priors.join(orders, on='order_id', rsuffix='_')\r\n",
        "priors.drop('order_id_', inplace=True, axis=1)"
      ],
      "execution_count": 25,
      "outputs": [
        {
          "output_type": "stream",
          "text": [
            "computing product f\n",
            "add order info to priors\n"
          ],
          "name": "stdout"
        }
      ]
    },
    {
      "cell_type": "code",
      "metadata": {
        "colab": {
          "base_uri": "https://localhost:8080/"
        },
        "id": "L7dx-Q87FaNf",
        "outputId": "187ae00d-166b-4577-bdb5-3757facb0a77"
      },
      "source": [
        "### user features\r\n",
        "print('computing user f')\r\n",
        "usr = pd.DataFrame()\r\n",
        "\r\n",
        "# 유저별 order 시간 간격, 유저별 order 수\r\n",
        "usr['average_days_between_orders'] = orders.groupby('user_id')['days_since_prior_order'].mean().astype(np.float32)\r\n",
        "usr['nb_orders'] = orders.groupby('user_id').size().astype(np.int16)\r\n",
        "\r\n",
        "users = pd.DataFrame()\r\n",
        "# 유저별 구매 item 수, 유저별 product 구매목록, 유저별 product 종류 개수\r\n",
        "users['total_items'] = priors.groupby('user_id').size().astype(np.int16)\r\n",
        "users['all_products'] = priors.groupby('user_id')['product_id'].apply(set)\r\n",
        "users['total_distinct_items'] = (users.all_products.map(len)).astype(np.int16)\r\n",
        "\r\n",
        "users = users.join(usr)\r\n",
        "del usr\r\n",
        "users['average_basket'] = (users.total_items / users.nb_orders).astype(np.float32)\r\n",
        "print('user f', users.shape)"
      ],
      "execution_count": 28,
      "outputs": [
        {
          "output_type": "stream",
          "text": [
            "computing user f\n",
            "user f (206209, 6)\n"
          ],
          "name": "stdout"
        }
      ]
    },
    {
      "cell_type": "code",
      "metadata": {
        "colab": {
          "base_uri": "https://localhost:8080/"
        },
        "id": "O_kr65moMzFT",
        "outputId": "7da6606c-d130-4cd0-d87a-990a549d78db"
      },
      "source": [
        " # 유저별 구매 item 수\r\n",
        " priors.groupby('user_id').size()"
      ],
      "execution_count": 29,
      "outputs": [
        {
          "output_type": "execute_result",
          "data": {
            "text/plain": [
              "user_id\n",
              "1          59\n",
              "2         195\n",
              "3          88\n",
              "4          18\n",
              "5          37\n",
              "         ... \n",
              "206205     32\n",
              "206206    285\n",
              "206207    223\n",
              "206208    677\n",
              "206209    129\n",
              "Length: 206209, dtype: int64"
            ]
          },
          "metadata": {
            "tags": []
          },
          "execution_count": 29
        }
      ]
    },
    {
      "cell_type": "code",
      "metadata": {
        "colab": {
          "base_uri": "https://localhost:8080/"
        },
        "id": "YEWnACvJKtcG",
        "outputId": "f5fe9e7b-b76b-441b-894c-f1092b06bfcf"
      },
      "source": [
        "# 유저별 product 구매목록\r\n",
        "priors.groupby('user_id')['product_id'].apply(set)"
      ],
      "execution_count": 27,
      "outputs": [
        {
          "output_type": "execute_result",
          "data": {
            "text/plain": [
              "user_id\n",
              "1         {17122, 196, 26405, 46149, 14084, 13032, 26088...\n",
              "2         {45066, 2573, 18961, 23, 32792, 1559, 22559, 1...\n",
              "3         {17668, 44683, 48523, 21903, 14992, 21137, 324...\n",
              "4         {21573, 42329, 17769, 35469, 37646, 1200, 1905...\n",
              "5         {11777, 40706, 28289, 48775, 20754, 6808, 1398...\n",
              "                                ...                        \n",
              "206205    {20995, 21137, 22035, 21910, 17691, 31404, 210...\n",
              "206206    {16896, 44033, 18434, 16387, 21508, 45573, 102...\n",
              "206207    {20995, 18441, 45578, 47626, 33806, 22035, 235...\n",
              "206208    {1025, 20995, 47626, 8203, 5133, 38419, 27156,...\n",
              "206209    {14727, 26503, 22920, 26634, 13838, 11791, 248...\n",
              "Name: product_id, Length: 206209, dtype: object"
            ]
          },
          "metadata": {
            "tags": []
          },
          "execution_count": 27
        }
      ]
    },
    {
      "cell_type": "code",
      "metadata": {
        "colab": {
          "base_uri": "https://localhost:8080/"
        },
        "id": "BPHXlLPWFid1",
        "outputId": "221f6edb-4427-44e7-cbe0-d43781ab138e"
      },
      "source": [
        "### userXproduct features\r\n",
        "\r\n",
        "print('compute userXproduct f - this is long...')\r\n",
        "\r\n",
        "# userid_productid 붙인 것\r\n",
        "priors['user_product'] = priors.product_id + priors.user_id * 100000\r\n",
        "\r\n",
        "# This was to slow !!\r\n",
        "#def last_order(order_group):\r\n",
        "#    ix = order_group.order_number.idxmax\r\n",
        "#    return order_group.shape[0], order_group.order_id[ix],  order_group.add_to_cart_order.mean()\r\n",
        "#userXproduct = pd.DataFrame()\r\n",
        "#userXproduct['tmp'] = df.groupby('user_product').apply(last_order)\r\n",
        "\r\n",
        "\r\n",
        "# 고유한 userid_productid별 order수, last orderid, cart_order_sum에 대한  df 생성\r\n",
        "d= dict()\r\n",
        "for row in priors.itertuples():\r\n",
        "    z = row.user_product\r\n",
        "    if z not in d:\r\n",
        "        d[z] = (1,\r\n",
        "                (row.order_number, row.order_id),\r\n",
        "                row.add_to_cart_order)\r\n",
        "    # id존재할 때 order수 +1, 마지막 order id로 갱신, add_cart order + 1\r\n",
        "    else:\r\n",
        "        d[z] = (d[z][0] + 1,\r\n",
        "                max(d[z][1], (row.order_number, row.order_id)),\r\n",
        "                d[z][2] + row.add_to_cart_order)\r\n",
        "\r\n",
        "print('to dataframe (less memory)')\r\n",
        "userXproduct = pd.DataFrame.from_dict(d, orient='index')\r\n",
        "del d\r\n",
        "userXproduct.columns = ['nb_orders', 'last_order_id', 'sum_pos_in_cart']\r\n",
        "userXproduct.nb_orders = userXproduct.nb_orders.astype(np.int16)\r\n",
        "userXproduct.last_order_id = userXproduct.last_order_id.map(lambda x: x[1]).astype(np.int32)\r\n",
        "userXproduct.sum_pos_in_cart = userXproduct.sum_pos_in_cart.astype(np.int16)\r\n",
        "print('user X product f', len(userXproduct))\r\n",
        "\r\n",
        "del priors"
      ],
      "execution_count": 12,
      "outputs": [
        {
          "output_type": "stream",
          "text": [
            "compute userXproduct f - this is long...\n",
            "to dataframe (less memory)\n",
            "user X product f 13307953\n"
          ],
          "name": "stdout"
        }
      ]
    },
    {
      "cell_type": "code",
      "metadata": {
        "colab": {
          "base_uri": "https://localhost:8080/"
        },
        "id": "Is5Z3DD8FtIk",
        "outputId": "b911ff68-c4cd-4a65-8333-f7d14f452de6"
      },
      "source": [
        "### train / test orders ### 분리\r\n",
        "print('split orders : train, test')\r\n",
        "test_orders = orders[orders.eval_set == 'test']\r\n",
        "train_orders = orders[orders.eval_set == 'train']\r\n",
        "\r\n",
        "train.set_index(['order_id', 'product_id'], inplace=True, drop=False)"
      ],
      "execution_count": 13,
      "outputs": [
        {
          "output_type": "stream",
          "text": [
            "split orders : train, test\n"
          ],
          "name": "stdout"
        }
      ]
    },
    {
      "cell_type": "code",
      "metadata": {
        "colab": {
          "base_uri": "https://localhost:8080/",
          "height": 187
        },
        "id": "VNtZPdADS4JN",
        "outputId": "b54116af-dd30-4aee-f27d-78014871c601"
      },
      "source": [
        "users.head(2)"
      ],
      "execution_count": 33,
      "outputs": [
        {
          "output_type": "execute_result",
          "data": {
            "text/html": [
              "<div>\n",
              "<style scoped>\n",
              "    .dataframe tbody tr th:only-of-type {\n",
              "        vertical-align: middle;\n",
              "    }\n",
              "\n",
              "    .dataframe tbody tr th {\n",
              "        vertical-align: top;\n",
              "    }\n",
              "\n",
              "    .dataframe thead th {\n",
              "        text-align: right;\n",
              "    }\n",
              "</style>\n",
              "<table border=\"1\" class=\"dataframe\">\n",
              "  <thead>\n",
              "    <tr style=\"text-align: right;\">\n",
              "      <th></th>\n",
              "      <th>total_items</th>\n",
              "      <th>all_products</th>\n",
              "      <th>total_distinct_items</th>\n",
              "      <th>average_days_between_orders</th>\n",
              "      <th>nb_orders</th>\n",
              "      <th>average_basket</th>\n",
              "    </tr>\n",
              "    <tr>\n",
              "      <th>user_id</th>\n",
              "      <th></th>\n",
              "      <th></th>\n",
              "      <th></th>\n",
              "      <th></th>\n",
              "      <th></th>\n",
              "      <th></th>\n",
              "    </tr>\n",
              "  </thead>\n",
              "  <tbody>\n",
              "    <tr>\n",
              "      <th>1</th>\n",
              "      <td>59</td>\n",
              "      <td>{17122, 196, 26405, 46149, 14084, 13032, 26088...</td>\n",
              "      <td>18</td>\n",
              "      <td>19.000000</td>\n",
              "      <td>11</td>\n",
              "      <td>5.363636</td>\n",
              "    </tr>\n",
              "    <tr>\n",
              "      <th>2</th>\n",
              "      <td>195</td>\n",
              "      <td>{45066, 2573, 18961, 23, 32792, 1559, 22559, 1...</td>\n",
              "      <td>102</td>\n",
              "      <td>16.285715</td>\n",
              "      <td>15</td>\n",
              "      <td>13.000000</td>\n",
              "    </tr>\n",
              "  </tbody>\n",
              "</table>\n",
              "</div>"
            ],
            "text/plain": [
              "         total_items  ... average_basket\n",
              "user_id               ...               \n",
              "1                 59  ...       5.363636\n",
              "2                195  ...      13.000000\n",
              "\n",
              "[2 rows x 6 columns]"
            ]
          },
          "metadata": {
            "tags": []
          },
          "execution_count": 33
        }
      ]
    },
    {
      "cell_type": "code",
      "metadata": {
        "colab": {
          "base_uri": "https://localhost:8080/"
        },
        "id": "OH4TLddbFpSk",
        "outputId": "b26fb50d-8075-443f-962f-6169623a6fd0"
      },
      "source": [
        "### build list of candidate products to reorder, with features ###\r\n",
        "\r\n",
        "def features(selected_orders, labels_given=False):\r\n",
        "    print('build candidate list')\r\n",
        "    order_list = []\r\n",
        "    product_list = []\r\n",
        "    labels = []\r\n",
        "    i=0\r\n",
        "    for row in selected_orders.itertuples():\r\n",
        "        i+=1\r\n",
        "        if i%10000 == 0: print('order row', i)\r\n",
        "        order_id = row.order_id\r\n",
        "        user_id = row.user_id\r\n",
        "        user_products = users.all_products[user_id] # 위에셀 참고, 해당 userid의 product set \r\n",
        "        product_list += user_products\r\n",
        "        order_list += [order_id] * len(user_products) # user_products 개수만큼 order_id 생성\r\n",
        "\r\n",
        "        # label = (order_id, product) ......\r\n",
        "        if labels_given:\r\n",
        "            labels += [(order_id, product) in train.index for product in user_products]\r\n",
        "        \r\n",
        "    df = pd.DataFrame({'order_id':order_list, 'product_id':product_list}, dtype=np.int32)\r\n",
        "    labels = np.array(labels, dtype=np.int8)\r\n",
        "    del order_list\r\n",
        "    del product_list\r\n",
        "    \r\n",
        "    print('user related features')\r\n",
        "\r\n",
        "    # userid, 총주문, 총item수, unique item수, user의 평균 order 간격, user 평균 basket\r\n",
        "    df['user_id'] = df.order_id.map(orders.user_id)\r\n",
        "    df['user_total_orders'] = df.user_id.map(users.nb_orders)\r\n",
        "    df['user_total_items'] = df.user_id.map(users.total_items)\r\n",
        "    df['total_distinct_items'] = df.user_id.map(users.total_distinct_items)\r\n",
        "    df['user_average_days_between_orders'] = df.user_id.map(users.average_days_between_orders)\r\n",
        "    df['user_average_basket'] =  df.user_id.map(users.average_basket)\r\n",
        "    \r\n",
        "    print('order related features')\r\n",
        "    # 주문시각, 주문경과시간, 평균 주문간격 대비 지난주문 이후 시간\r\n",
        "\r\n",
        "    # df['dow'] = df.order_id.map(orders.order_dow)\r\n",
        "    df['order_hour_of_day'] = df.order_id.map(orders.order_hour_of_day)\r\n",
        "    df['days_since_prior_order'] = df.order_id.map(orders.days_since_prior_order)\r\n",
        "    df['days_since_ratio'] = df.days_since_prior_order / df.user_average_days_between_orders\r\n",
        "    \r\n",
        "    print('product related features')\r\n",
        "\r\n",
        "    # 구매, 재구매, 재구매율\r\n",
        "    df['aisle_id'] = df.product_id.map(products.aisle_id)\r\n",
        "    df['department_id'] = df.product_id.map(products.department_id)\r\n",
        "    df['product_orders'] = df.product_id.map(products.orders).astype(np.int32)\r\n",
        "    df['product_reorders'] = df.product_id.map(products.reorders)\r\n",
        "    df['product_reorder_rate'] = df.product_id.map(products.reorder_rate)\r\n",
        "\r\n",
        "    print('user_X_product related features')\r\n",
        "\r\n",
        "    # user, product 조합별 주문, 주문 비율, 마지막 주문, cart 여부, 재구매율, 마지막구매 경과기간, 마지막주문과의 주문시각변화\r\n",
        "    df['z'] = df.user_id * 100000 + df.product_id\r\n",
        "    df.drop(['user_id'], axis=1, inplace=True)\r\n",
        "    df['UP_orders'] = df.z.map(userXproduct.nb_orders)\r\n",
        "    df['UP_orders_ratio'] = (df.UP_orders / df.user_total_orders).astype(np.float32)\r\n",
        "    df['UP_last_order_id'] = df.z.map(userXproduct.last_order_id)\r\n",
        "    df['UP_average_pos_in_cart'] = (df.z.map(userXproduct.sum_pos_in_cart) / df.UP_orders).astype(np.float32)\r\n",
        "    df['UP_reorder_rate'] = (df.UP_orders / df.user_total_orders).astype(np.float32)\r\n",
        "    df['UP_orders_since_last'] = df.user_total_orders - df.UP_last_order_id.map(orders.order_number)\r\n",
        "    df['UP_delta_hour_vs_last'] = abs(df.order_hour_of_day - df.UP_last_order_id.map(orders.order_hour_of_day)).map(lambda x: min(x, 24-x)).astype(np.int8)\r\n",
        "    #df['UP_same_dow_as_last_order'] = df.UP_last_order_id.map(orders.order_dow) == \\\r\n",
        "    #                                              df.order_id.map(orders.order_dow)\r\n",
        "\r\n",
        "    df.drop(['UP_last_order_id', 'z'], axis=1, inplace=True)\r\n",
        "    print(df.dtypes)\r\n",
        "    print(df.memory_usage())\r\n",
        "    return (df, labels)\r\n",
        "    \r\n",
        "df_train, labels = features(train_orders, labels_given=True)"
      ],
      "execution_count": 14,
      "outputs": [
        {
          "output_type": "stream",
          "text": [
            "build candidate list\n",
            "order row 10000\n",
            "order row 20000\n",
            "order row 30000\n",
            "order row 40000\n",
            "order row 50000\n",
            "order row 60000\n",
            "order row 70000\n",
            "order row 80000\n",
            "order row 90000\n",
            "order row 100000\n",
            "order row 110000\n",
            "order row 120000\n",
            "order row 130000\n",
            "user related features\n",
            "order related features\n",
            "product related features\n",
            "user_X_product related features\n",
            "order_id                              int32\n",
            "product_id                            int32\n",
            "user_total_orders                     int16\n",
            "user_total_items                      int16\n",
            "total_distinct_items                  int16\n",
            "user_average_days_between_orders    float32\n",
            "user_average_basket                 float32\n",
            "order_hour_of_day                      int8\n",
            "days_since_prior_order              float32\n",
            "days_since_ratio                    float32\n",
            "aisle_id                              uint8\n",
            "department_id                         uint8\n",
            "product_orders                        int32\n",
            "product_reorders                    float32\n",
            "product_reorder_rate                float32\n",
            "UP_orders                             int16\n",
            "UP_orders_ratio                     float32\n",
            "UP_average_pos_in_cart              float32\n",
            "UP_reorder_rate                     float32\n",
            "UP_orders_since_last                  int16\n",
            "UP_delta_hour_vs_last                  int8\n",
            "dtype: object\n",
            "Index                                    128\n",
            "order_id                            33898644\n",
            "product_id                          33898644\n",
            "user_total_orders                   16949322\n",
            "user_total_items                    16949322\n",
            "total_distinct_items                16949322\n",
            "user_average_days_between_orders    33898644\n",
            "user_average_basket                 33898644\n",
            "order_hour_of_day                    8474661\n",
            "days_since_prior_order              33898644\n",
            "days_since_ratio                    33898644\n",
            "aisle_id                             8474661\n",
            "department_id                        8474661\n",
            "product_orders                      33898644\n",
            "product_reorders                    33898644\n",
            "product_reorder_rate                33898644\n",
            "UP_orders                           16949322\n",
            "UP_orders_ratio                     33898644\n",
            "UP_average_pos_in_cart              33898644\n",
            "UP_reorder_rate                     33898644\n",
            "UP_orders_since_last                16949322\n",
            "UP_delta_hour_vs_last                8474661\n",
            "dtype: int64\n"
          ],
          "name": "stdout"
        }
      ]
    },
    {
      "cell_type": "code",
      "metadata": {
        "id": "M-uE6HMZZKf3",
        "colab": {
          "base_uri": "https://localhost:8080/"
        },
        "outputId": "189785f0-65c6-46e1-947e-e8d19597fee9"
      },
      "source": [
        "f_to_use = ['user_total_orders', 'user_total_items', 'total_distinct_items',\r\n",
        "       'user_average_days_between_orders', 'user_average_basket',\r\n",
        "       'order_hour_of_day', 'days_since_prior_order', 'days_since_ratio',\r\n",
        "       'aisle_id', 'department_id', 'product_orders', 'product_reorders',\r\n",
        "       'product_reorder_rate', 'UP_orders', 'UP_orders_ratio',\r\n",
        "       'UP_average_pos_in_cart', 'UP_reorder_rate', 'UP_orders_since_last',\r\n",
        "       'UP_delta_hour_vs_last'] # 'dow', 'UP_same_dow_as_last_order'\r\n",
        "\r\n",
        "\r\n",
        "print('formating for lgb')\r\n",
        "d_train = lgb.Dataset(df_train[f_to_use],\r\n",
        "                      label=labels,\r\n",
        "                      categorical_feature=['aisle_id', 'department_id'])  # , 'order_hour_of_day', 'dow'\r\n",
        "del df_train\r\n",
        "\r\n",
        "params = {\r\n",
        "    'task': 'train',\r\n",
        "    'boosting_type': 'gbdt',\r\n",
        "    'objective': 'binary',\r\n",
        "    'metric': {'binary_logloss'},\r\n",
        "    'num_leaves': 96,\r\n",
        "    'max_depth': 10,\r\n",
        "    'feature_fraction': 0.9,\r\n",
        "    'bagging_fraction': 0.95,\r\n",
        "    'bagging_freq': 5\r\n",
        "}\r\n",
        "ROUNDS = 100\r\n",
        "\r\n",
        "print('light GBM train :-)')\r\n",
        "bst = lgb.train(params, d_train, ROUNDS)\r\n",
        "# lgb.plot_importance(bst, figsize=(9,20))\r\n",
        "del d_train\r\n",
        "\r\n",
        "### build candidates list for test ###\r\n",
        "\r\n",
        "df_test, _ = features(test_orders)\r\n",
        "\r\n",
        "print('light GBM predict')\r\n",
        "preds = bst.predict(df_test[f_to_use])\r\n",
        "\r\n",
        "df_test['pred'] = preds\r\n",
        "\r\n",
        "TRESHOLD = 0.22  # guess, should be tuned with crossval on a subset of train data\r\n",
        "\r\n",
        "d = dict()\r\n",
        "\r\n",
        "# 재구매확률이 Threshold 이상이면 {'order_id': product_id} 로 저장, 아니면 확률 'None' 저장\r\n",
        "for row in df_test.itertuples():\r\n",
        "    if row.pred > TRESHOLD:\r\n",
        "        try:\r\n",
        "            d[row.order_id] += ' ' + str(row.product_id)\r\n",
        "        except:\r\n",
        "            d[row.order_id] = str(row.product_id)\r\n",
        "\r\n",
        "for order in test_orders.order_id:\r\n",
        "    if order not in d:\r\n",
        "        d[order] = 'None'"
      ],
      "execution_count": 15,
      "outputs": [
        {
          "output_type": "stream",
          "text": [
            "formating for lgb\n",
            "light GBM train :-)\n"
          ],
          "name": "stdout"
        },
        {
          "output_type": "stream",
          "text": [
            "/usr/local/lib/python3.6/dist-packages/lightgbm/basic.py:1205: UserWarning: Using categorical_feature in Dataset.\n",
            "  warnings.warn('Using categorical_feature in Dataset.')\n"
          ],
          "name": "stderr"
        },
        {
          "output_type": "stream",
          "text": [
            "build candidate list\n",
            "order row 10000\n",
            "order row 20000\n",
            "order row 30000\n",
            "order row 40000\n",
            "order row 50000\n",
            "order row 60000\n",
            "order row 70000\n",
            "user related features\n",
            "order related features\n",
            "product related features\n",
            "user_X_product related features\n",
            "order_id                              int32\n",
            "product_id                            int32\n",
            "user_total_orders                     int16\n",
            "user_total_items                      int16\n",
            "total_distinct_items                  int16\n",
            "user_average_days_between_orders    float32\n",
            "user_average_basket                 float32\n",
            "order_hour_of_day                      int8\n",
            "days_since_prior_order              float32\n",
            "days_since_ratio                    float32\n",
            "aisle_id                              uint8\n",
            "department_id                         uint8\n",
            "product_orders                        int32\n",
            "product_reorders                    float32\n",
            "product_reorder_rate                float32\n",
            "UP_orders                             int16\n",
            "UP_orders_ratio                     float32\n",
            "UP_average_pos_in_cart              float32\n",
            "UP_reorder_rate                     float32\n",
            "UP_orders_since_last                  int16\n",
            "UP_delta_hour_vs_last                  int8\n",
            "dtype: object\n",
            "Index                                    128\n",
            "order_id                            19333168\n",
            "product_id                          19333168\n",
            "user_total_orders                    9666584\n",
            "user_total_items                     9666584\n",
            "total_distinct_items                 9666584\n",
            "user_average_days_between_orders    19333168\n",
            "user_average_basket                 19333168\n",
            "order_hour_of_day                    4833292\n",
            "days_since_prior_order              19333168\n",
            "days_since_ratio                    19333168\n",
            "aisle_id                             4833292\n",
            "department_id                        4833292\n",
            "product_orders                      19333168\n",
            "product_reorders                    19333168\n",
            "product_reorder_rate                19333168\n",
            "UP_orders                            9666584\n",
            "UP_orders_ratio                     19333168\n",
            "UP_average_pos_in_cart              19333168\n",
            "UP_reorder_rate                     19333168\n",
            "UP_orders_since_last                 9666584\n",
            "UP_delta_hour_vs_last                4833292\n",
            "dtype: int64\n",
            "light GBM predict\n"
          ],
          "name": "stdout"
        }
      ]
    },
    {
      "cell_type": "code",
      "metadata": {
        "id": "wuJIh6OPF3dY"
      },
      "source": [
        "sub = pd.DataFrame.from_dict(d, orient='index')\r\n",
        "\r\n",
        "sub.reset_index(inplace=True)\r\n",
        "sub.columns = ['order_id', 'products']\r\n",
        "sub.to_csv('sub.csv', index=False)\r\n"
      ],
      "execution_count": null,
      "outputs": []
    }
  ]
}