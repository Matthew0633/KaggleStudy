{
  "nbformat": 4,
  "nbformat_minor": 0,
  "metadata": {
    "kernelspec": {
      "display_name": "Python 3",
      "language": "python",
      "name": "python3"
    },
    "language_info": {
      "name": "python",
      "version": "3.6.6",
      "mimetype": "text/x-python",
      "codemirror_mode": {
        "name": "ipython",
        "version": 3
      },
      "pygments_lexer": "ipython3",
      "nbconvert_exporter": "python",
      "file_extension": ".py"
    },
    "colab": {
      "name": "D5_lgbm4_teach-lightgbm-to-sum-predictions.ipynb",
      "provenance": [],
      "collapsed_sections": [],
      "toc_visible": true
    }
  },
  "cells": [
    {
      "cell_type": "markdown",
      "metadata": {
        "id": "C9qgM6ZFQ5E_"
      },
      "source": [
        "## Impressions and Reviews  \r\n",
        "- GroupKFold : 특정 변수의 동일한 값 내에서 train test split을 원치 않을 때 (성능 과대평가 방지)\r\n",
        "\r\n",
        "- time 추가변수외에는 추가 X, kfold의 pred값들에 대해 통계값을 기반으로 stacking\r\n",
        "\r\n",
        "- 원소의 개수가 다른 데이터를 dataframe화 할 때 dict_comprehension으로 dict생성후 이를 list로 묶어 dataframe()에 넣으면 됨\r\n",
        "\r\n",
        "- json data라 따로 json format에 따른 전처리가 필요하고 large dataset으로 인해 load가 colab에서 불가 (memory problem)"
      ]
    },
    {
      "cell_type": "markdown",
      "metadata": {
        "_uuid": "e8e112aa5b5db7303e39d3a9cf1702848962c6c2",
        "id": "w2bSCUqTPyl9"
      },
      "source": [
        "### Introduction\n",
        "\n",
        "In this kernel I demonstrate how to create predictions at Session level and then use them at User level so that LighGBM can learn how to better sum individual session prediction. \n",
        "\n",
        "It is sort of mini stacker and to avoid leakage, we use GroupKFold strategy.\n"
      ]
    },
    {
      "cell_type": "code",
      "metadata": {
        "_uuid": "8f2839f25d086af736a60e9eeb907d3b93b6e0e5",
        "_cell_guid": "b1076dfc-b9ad-4769-8c92-a6c4dae69d19",
        "trusted": true,
        "colab": {
          "base_uri": "https://localhost:8080/"
        },
        "id": "KvTDrbgqPymJ",
        "outputId": "e9d8e627-1dfc-48fd-fddc-27fc15f87b1e"
      },
      "source": [
        "import os\n",
        "print(os.listdir(\"/content/\"))"
      ],
      "execution_count": 3,
      "outputs": [
        {
          "output_type": "stream",
          "text": [
            "['.config', 'train.csv.zip', 'sample_submission_v2.csv.zip', 'sample_submission.csv.zip', 'train_v2.csv.zip', 'train_v2.csv', 'test.csv.zip', 'test_v2.csv.zip', 'test_v2.csv', 'sample_data']\n"
          ],
          "name": "stdout"
        }
      ]
    },
    {
      "cell_type": "code",
      "metadata": {
        "_cell_guid": "79c7e3d0-c299-4dcb-8224-4455121ee9b0",
        "_uuid": "d629ff2d2480ee46fbb7e2d37f6b5fab8052498a",
        "trusted": true,
        "id": "e-EgZh--PymK"
      },
      "source": [
        "import pandas as pd\n",
        "import numpy as np\n",
        "import matplotlib.pyplot as plt\n",
        "import seaborn as sns\n",
        "from sklearn.metrics import mean_squared_error\n",
        "import gc\n",
        "import time\n",
        "from pandas.core.common import SettingWithCopyWarning\n",
        "import warnings\n",
        "import lightgbm as lgb\n",
        "from sklearn.model_selection import GroupKFold\n",
        "\n",
        "# I don't like SettingWithCopyWarnings ...\n",
        "warnings.simplefilter('error', SettingWithCopyWarning)\n",
        "gc.enable()\n",
        "%matplotlib inline"
      ],
      "execution_count": 1,
      "outputs": []
    },
    {
      "cell_type": "markdown",
      "metadata": {
        "_uuid": "e8c6c0d5d8cf00737b8ae536b0d528b32fac9166",
        "id": "mMPoQmlaPymL"
      },
      "source": [
        "### Get the extracted data"
      ]
    },
    {
      "cell_type": "code",
      "metadata": {
        "trusted": true,
        "_uuid": "6fe04db087c3d25b8b4a5873ee6f104e427525f0",
        "colab": {
          "base_uri": "https://localhost:8080/"
        },
        "id": "y-dJ_tvAPymL",
        "outputId": "5c4e0235-898d-4f0d-b249-cf5c4db4b452"
      },
      "source": [
        "# memory 부족문제로 only 30000 rows 사용\n",
        "train = pd.read_csv('/content/train_v2.csv', \n",
        "                    dtype={'date': str, 'fullVisitorId': str, 'sessionId':str}, nrows=30000)\n",
        "test = pd.read_csv('/content/test_v2.csv', \n",
        "                   dtype={'date': str, 'fullVisitorId': str, 'sessionId':str}, nrows=30000)\n",
        "train.shape, test.shape"
      ],
      "execution_count": 3,
      "outputs": [
        {
          "output_type": "execute_result",
          "data": {
            "text/plain": [
              "((30000, 13), (30000, 13))"
            ]
          },
          "metadata": {
            "tags": []
          },
          "execution_count": 3
        }
      ]
    },
    {
      "cell_type": "code",
      "metadata": {
        "colab": {
          "base_uri": "https://localhost:8080/",
          "height": 467
        },
        "id": "_826L9hwUNES",
        "outputId": "52cdd8e3-d323-4490-d446-99e87beed7c2"
      },
      "source": [
        "train.head()"
      ],
      "execution_count": 5,
      "outputs": [
        {
          "output_type": "execute_result",
          "data": {
            "text/html": [
              "<div>\n",
              "<style scoped>\n",
              "    .dataframe tbody tr th:only-of-type {\n",
              "        vertical-align: middle;\n",
              "    }\n",
              "\n",
              "    .dataframe tbody tr th {\n",
              "        vertical-align: top;\n",
              "    }\n",
              "\n",
              "    .dataframe thead th {\n",
              "        text-align: right;\n",
              "    }\n",
              "</style>\n",
              "<table border=\"1\" class=\"dataframe\">\n",
              "  <thead>\n",
              "    <tr style=\"text-align: right;\">\n",
              "      <th></th>\n",
              "      <th>channelGrouping</th>\n",
              "      <th>customDimensions</th>\n",
              "      <th>date</th>\n",
              "      <th>device</th>\n",
              "      <th>fullVisitorId</th>\n",
              "      <th>geoNetwork</th>\n",
              "      <th>hits</th>\n",
              "      <th>socialEngagementType</th>\n",
              "      <th>totals</th>\n",
              "      <th>trafficSource</th>\n",
              "      <th>visitId</th>\n",
              "      <th>visitNumber</th>\n",
              "      <th>visitStartTime</th>\n",
              "    </tr>\n",
              "  </thead>\n",
              "  <tbody>\n",
              "    <tr>\n",
              "      <th>0</th>\n",
              "      <td>Organic Search</td>\n",
              "      <td>[{'index': '4', 'value': 'EMEA'}]</td>\n",
              "      <td>20171016</td>\n",
              "      <td>{\"browser\": \"Firefox\", \"browserVersion\": \"not ...</td>\n",
              "      <td>3162355547410993243</td>\n",
              "      <td>{\"continent\": \"Europe\", \"subContinent\": \"Weste...</td>\n",
              "      <td>[{'hitNumber': '1', 'time': '0', 'hour': '17',...</td>\n",
              "      <td>Not Socially Engaged</td>\n",
              "      <td>{\"visits\": \"1\", \"hits\": \"1\", \"pageviews\": \"1\",...</td>\n",
              "      <td>{\"campaign\": \"(not set)\", \"source\": \"google\", ...</td>\n",
              "      <td>1508198450</td>\n",
              "      <td>1</td>\n",
              "      <td>1508198450</td>\n",
              "    </tr>\n",
              "    <tr>\n",
              "      <th>1</th>\n",
              "      <td>Referral</td>\n",
              "      <td>[{'index': '4', 'value': 'North America'}]</td>\n",
              "      <td>20171016</td>\n",
              "      <td>{\"browser\": \"Chrome\", \"browserVersion\": \"not a...</td>\n",
              "      <td>8934116514970143966</td>\n",
              "      <td>{\"continent\": \"Americas\", \"subContinent\": \"Nor...</td>\n",
              "      <td>[{'hitNumber': '1', 'time': '0', 'hour': '10',...</td>\n",
              "      <td>Not Socially Engaged</td>\n",
              "      <td>{\"visits\": \"1\", \"hits\": \"2\", \"pageviews\": \"2\",...</td>\n",
              "      <td>{\"referralPath\": \"/a/google.com/transportation...</td>\n",
              "      <td>1508176307</td>\n",
              "      <td>6</td>\n",
              "      <td>1508176307</td>\n",
              "    </tr>\n",
              "    <tr>\n",
              "      <th>2</th>\n",
              "      <td>Direct</td>\n",
              "      <td>[{'index': '4', 'value': 'North America'}]</td>\n",
              "      <td>20171016</td>\n",
              "      <td>{\"browser\": \"Chrome\", \"browserVersion\": \"not a...</td>\n",
              "      <td>7992466427990357681</td>\n",
              "      <td>{\"continent\": \"Americas\", \"subContinent\": \"Nor...</td>\n",
              "      <td>[{'hitNumber': '1', 'time': '0', 'hour': '17',...</td>\n",
              "      <td>Not Socially Engaged</td>\n",
              "      <td>{\"visits\": \"1\", \"hits\": \"2\", \"pageviews\": \"2\",...</td>\n",
              "      <td>{\"campaign\": \"(not set)\", \"source\": \"(direct)\"...</td>\n",
              "      <td>1508201613</td>\n",
              "      <td>1</td>\n",
              "      <td>1508201613</td>\n",
              "    </tr>\n",
              "    <tr>\n",
              "      <th>3</th>\n",
              "      <td>Organic Search</td>\n",
              "      <td>[{'index': '4', 'value': 'EMEA'}]</td>\n",
              "      <td>20171016</td>\n",
              "      <td>{\"browser\": \"Chrome\", \"browserVersion\": \"not a...</td>\n",
              "      <td>9075655783635761930</td>\n",
              "      <td>{\"continent\": \"Asia\", \"subContinent\": \"Western...</td>\n",
              "      <td>[{'hitNumber': '1', 'time': '0', 'hour': '9', ...</td>\n",
              "      <td>Not Socially Engaged</td>\n",
              "      <td>{\"visits\": \"1\", \"hits\": \"2\", \"pageviews\": \"2\",...</td>\n",
              "      <td>{\"campaign\": \"(not set)\", \"source\": \"google\", ...</td>\n",
              "      <td>1508169851</td>\n",
              "      <td>1</td>\n",
              "      <td>1508169851</td>\n",
              "    </tr>\n",
              "    <tr>\n",
              "      <th>4</th>\n",
              "      <td>Organic Search</td>\n",
              "      <td>[{'index': '4', 'value': 'Central America'}]</td>\n",
              "      <td>20171016</td>\n",
              "      <td>{\"browser\": \"Chrome\", \"browserVersion\": \"not a...</td>\n",
              "      <td>6960673291025684308</td>\n",
              "      <td>{\"continent\": \"Americas\", \"subContinent\": \"Cen...</td>\n",
              "      <td>[{'hitNumber': '1', 'time': '0', 'hour': '14',...</td>\n",
              "      <td>Not Socially Engaged</td>\n",
              "      <td>{\"visits\": \"1\", \"hits\": \"2\", \"pageviews\": \"2\",...</td>\n",
              "      <td>{\"campaign\": \"(not set)\", \"source\": \"google\", ...</td>\n",
              "      <td>1508190552</td>\n",
              "      <td>1</td>\n",
              "      <td>1508190552</td>\n",
              "    </tr>\n",
              "  </tbody>\n",
              "</table>\n",
              "</div>"
            ],
            "text/plain": [
              "  channelGrouping  ... visitStartTime\n",
              "0  Organic Search  ...     1508198450\n",
              "1        Referral  ...     1508176307\n",
              "2          Direct  ...     1508201613\n",
              "3  Organic Search  ...     1508169851\n",
              "4  Organic Search  ...     1508190552\n",
              "\n",
              "[5 rows x 13 columns]"
            ]
          },
          "metadata": {
            "tags": []
          },
          "execution_count": 5
        }
      ]
    },
    {
      "cell_type": "markdown",
      "metadata": {
        "_uuid": "b64b336b70ccb5478d33f9e042eeeabee549c919",
        "id": "lGhlbmAXPymM"
      },
      "source": [
        "### Define folding strategy"
      ]
    },
    {
      "cell_type": "code",
      "metadata": {
        "trusted": true,
        "_uuid": "cd54722ebf9ae8b68eddb2116c0559625e7d6a48",
        "id": "IK2IcpkmPymM"
      },
      "source": [
        "# https://ssoondata.tistory.com/29 GroupKFold도표 참고\n",
        "# fullVisitorId 이 동일한 데이터끼리 train, test가 나누지 않도록 GroupKFold수행\n",
        "def get_folds(df=None, n_splits=5):\n",
        "    \"\"\"Returns dataframe indices corresponding to Visitors Group KFold\"\"\"\n",
        "    # Get sorted unique visitors\n",
        "    unique_vis = np.array(sorted(df['fullVisitorId'].unique()))\n",
        "\n",
        "    # Get folds\n",
        "    folds = GroupKFold(n_splits=n_splits)\n",
        "    fold_ids = []\n",
        "    ids = np.arange(df.shape[0])\n",
        "    for trn_vis, val_vis in folds.split(X=unique_vis, y=unique_vis, groups=unique_vis):\n",
        "        fold_ids.append(\n",
        "            [\n",
        "                ids[df['fullVisitorId'].isin(unique_vis[trn_vis])],\n",
        "                ids[df['fullVisitorId'].isin(unique_vis[val_vis])]\n",
        "            ]\n",
        "        )\n",
        "\n",
        "    return fold_ids"
      ],
      "execution_count": 6,
      "outputs": []
    },
    {
      "cell_type": "markdown",
      "metadata": {
        "_uuid": "18b2fb7729077132ef249956a1bbb072baee17db",
        "id": "srs9axsSPymN"
      },
      "source": [
        "### Get session target"
      ]
    },
    {
      "cell_type": "code",
      "metadata": {
        "trusted": true,
        "_uuid": "c539c76d9a5305066ea084ca32016132da41b35b",
        "id": "KLrvVjCIPymN"
      },
      "source": [
        "# target 정의 (결측치 0으로 fill)\n",
        "y_reg = train['totals.transactionRevenue'].fillna(0)\n",
        "del train['totals.transactionRevenue']\n",
        "\n",
        "if 'totals.transactionRevenue' in test.columns:\n",
        "    del test['totals.transactionRevenue']"
      ],
      "execution_count": null,
      "outputs": []
    },
    {
      "cell_type": "markdown",
      "metadata": {
        "_uuid": "1d9af86b1cf94e192d704bfd419eed4490e1debe",
        "id": "9220Lth6PymO"
      },
      "source": [
        "### Add date features\n",
        "\n",
        "Only add the one I think can ganeralize"
      ]
    },
    {
      "cell_type": "code",
      "metadata": {
        "trusted": true,
        "_uuid": "fbf93fda18940aa29105fa2d66f3514311d4fc68",
        "colab": {
          "base_uri": "https://localhost:8080/"
        },
        "id": "7z50vtI9PymO",
        "outputId": "ece5fd0b-117d-46ad-9d82-8d0064c410d0"
      },
      "source": [
        "train.columns"
      ],
      "execution_count": 7,
      "outputs": [
        {
          "output_type": "execute_result",
          "data": {
            "text/plain": [
              "Index(['channelGrouping', 'date', 'device', 'fullVisitorId', 'geoNetwork',\n",
              "       'sessionId', 'socialEngagementType', 'totals', 'trafficSource',\n",
              "       'visitId', 'visitNumber', 'visitStartTime'],\n",
              "      dtype='object')"
            ]
          },
          "metadata": {
            "tags": []
          },
          "execution_count": 7
        }
      ]
    },
    {
      "cell_type": "code",
      "metadata": {
        "trusted": true,
        "_uuid": "b04391e12fdca0199ff22ab7febd9b0b53d6cbb3",
        "id": "jUI04DgRPymO"
      },
      "source": [
        "# 추가변수 생성 : date와 주중요일 index, 시간, day\n",
        "for df in [train, test]:\n",
        "    df['date'] = pd.to_datetime(df['visitStartTime'], unit='s')\n",
        "    df['sess_date_dow'] = df['date'].dt.dayofweek\n",
        "    df['sess_date_hours'] = df['date'].dt.hour\n",
        "    df['sess_date_dom'] = df['date'].dt.day"
      ],
      "execution_count": 8,
      "outputs": []
    },
    {
      "cell_type": "code",
      "metadata": {
        "colab": {
          "base_uri": "https://localhost:8080/",
          "height": 196
        },
        "id": "Oe4Fk07cfjC6",
        "outputId": "7adb02b2-729b-48c5-b768-b1c5079357fd"
      },
      "source": [
        "train[['date', 'sess_date_dow', 'sess_date_hours', 'sess_date_dom']].head()"
      ],
      "execution_count": 11,
      "outputs": [
        {
          "output_type": "execute_result",
          "data": {
            "text/html": [
              "<div>\n",
              "<style scoped>\n",
              "    .dataframe tbody tr th:only-of-type {\n",
              "        vertical-align: middle;\n",
              "    }\n",
              "\n",
              "    .dataframe tbody tr th {\n",
              "        vertical-align: top;\n",
              "    }\n",
              "\n",
              "    .dataframe thead th {\n",
              "        text-align: right;\n",
              "    }\n",
              "</style>\n",
              "<table border=\"1\" class=\"dataframe\">\n",
              "  <thead>\n",
              "    <tr style=\"text-align: right;\">\n",
              "      <th></th>\n",
              "      <th>date</th>\n",
              "      <th>sess_date_dow</th>\n",
              "      <th>sess_date_hours</th>\n",
              "      <th>sess_date_dom</th>\n",
              "    </tr>\n",
              "  </thead>\n",
              "  <tbody>\n",
              "    <tr>\n",
              "      <th>0</th>\n",
              "      <td>2016-09-02 15:33:05</td>\n",
              "      <td>4</td>\n",
              "      <td>15</td>\n",
              "      <td>2</td>\n",
              "    </tr>\n",
              "    <tr>\n",
              "      <th>1</th>\n",
              "      <td>2016-09-03 05:22:27</td>\n",
              "      <td>5</td>\n",
              "      <td>5</td>\n",
              "      <td>3</td>\n",
              "    </tr>\n",
              "    <tr>\n",
              "      <th>2</th>\n",
              "      <td>2016-09-03 01:16:26</td>\n",
              "      <td>5</td>\n",
              "      <td>1</td>\n",
              "      <td>3</td>\n",
              "    </tr>\n",
              "    <tr>\n",
              "      <th>3</th>\n",
              "      <td>2016-09-03 05:40:13</td>\n",
              "      <td>5</td>\n",
              "      <td>5</td>\n",
              "      <td>3</td>\n",
              "    </tr>\n",
              "    <tr>\n",
              "      <th>4</th>\n",
              "      <td>2016-09-02 13:23:20</td>\n",
              "      <td>4</td>\n",
              "      <td>13</td>\n",
              "      <td>2</td>\n",
              "    </tr>\n",
              "  </tbody>\n",
              "</table>\n",
              "</div>"
            ],
            "text/plain": [
              "                 date  sess_date_dow  sess_date_hours  sess_date_dom\n",
              "0 2016-09-02 15:33:05              4               15              2\n",
              "1 2016-09-03 05:22:27              5                5              3\n",
              "2 2016-09-03 01:16:26              5                1              3\n",
              "3 2016-09-03 05:40:13              5                5              3\n",
              "4 2016-09-02 13:23:20              4               13              2"
            ]
          },
          "metadata": {
            "tags": []
          },
          "execution_count": 11
        }
      ]
    },
    {
      "cell_type": "markdown",
      "metadata": {
        "_uuid": "59e7c9bcf14d3f430489d15d22757b91dd9d5ad1",
        "id": "SDjMR_2cPymP"
      },
      "source": [
        "### Create features list"
      ]
    },
    {
      "cell_type": "code",
      "metadata": {
        "trusted": true,
        "_uuid": "e09ff3124721ad70eab65b924093b5fd0c12f9c6",
        "id": "0Y5-xl2RPymP"
      },
      "source": [
        "# 아래 변수 제외\n",
        "excluded_features = [\n",
        "    'date', 'fullVisitorId', 'sessionId', 'totals.transactionRevenue', \n",
        "    'visitId', 'visitStartTime'\n",
        "]\n",
        "\n",
        "categorical_features = [\n",
        "    _f for _f in train.columns\n",
        "    if (_f not in excluded_features) & (train[_f].dtype == 'object')\n",
        "]"
      ],
      "execution_count": 12,
      "outputs": []
    },
    {
      "cell_type": "markdown",
      "metadata": {
        "_uuid": "2d207a80600a44e758b6011f24c5808f9b164866",
        "id": "HUHelXYePymQ"
      },
      "source": [
        "### Factorize categoricals"
      ]
    },
    {
      "cell_type": "code",
      "metadata": {
        "trusted": true,
        "_uuid": "4f00eb6b6166cd5be25ebad22aa9dc91a8a3ded2",
        "id": "b95wLsE-PymQ"
      },
      "source": [
        "# label_encoding과 유사\n",
        "for f in categorical_features:\n",
        "    train[f], indexer = pd.factorize(train[f])\n",
        "    test[f] = indexer.get_indexer(test[f])"
      ],
      "execution_count": null,
      "outputs": []
    },
    {
      "cell_type": "markdown",
      "metadata": {
        "_uuid": "d7517b473bd776f51925ab0243cf1e3b6592ce0e",
        "id": "AzVot-UDPymR"
      },
      "source": [
        "### Predict revenues at session level"
      ]
    },
    {
      "cell_type": "code",
      "metadata": {
        "trusted": true,
        "_uuid": "e9c155197545dc43ec2f3e23e25955532f7ad25d",
        "id": "3RPYrUkfPymR"
      },
      "source": [
        "folds = get_folds(df=train, n_splits=5)\n",
        "\n",
        "train_features = [_f for _f in train.columns if _f not in excluded_features]\n",
        "print(train_features)\n",
        "\n",
        "importances = pd.DataFrame()\n",
        "oof_reg_preds = np.zeros(train.shape[0])\n",
        "sub_reg_preds = np.zeros(test.shape[0])\n",
        "\n",
        "# kfold별 lgbm 학습\n",
        "for fold_, (trn_, val_) in enumerate(folds):\n",
        "    trn_x, trn_y = train[train_features].iloc[trn_], y_reg.iloc[trn_]\n",
        "    val_x, val_y = train[train_features].iloc[val_], y_reg.iloc[val_]\n",
        "    \n",
        "    reg = lgb.LGBMRegressor(\n",
        "        num_leaves=31,\n",
        "        learning_rate=0.03,\n",
        "        n_estimators=1000,\n",
        "        subsample=.9,\n",
        "        colsample_bytree=.9,\n",
        "        random_state=1\n",
        "    )\n",
        "    reg.fit(\n",
        "        trn_x, np.log1p(trn_y),\n",
        "        eval_set=[(val_x, np.log1p(val_y))],\n",
        "        early_stopping_rounds=50,\n",
        "        verbose=100,\n",
        "        eval_metric='rmse'\n",
        "    )\n",
        "    imp_df = pd.DataFrame()\n",
        "    imp_df['feature'] = train_features\n",
        "    imp_df['gain'] = reg.booster_.feature_importance(importance_type='gain')\n",
        "    \n",
        "    imp_df['fold'] = fold_ + 1\n",
        "    importances = pd.concat([importances, imp_df], axis=0, sort=False)\n",
        "    \n",
        "    # train set 내에 val fold에 대해 예측값 저장, 0이하는 0으로\n",
        "    oof_reg_preds[val_] = reg.predict(val_x, num_iteration=reg.best_iteration_)\n",
        "    oof_reg_preds[oof_reg_preds < 0] = 0\n",
        "\n",
        "    # test set에 대해 4개 fold로 train한 model로 예측, 0이하는 0\n",
        "    # fold iter별 예측값을 평균 (예측값_sum/5)\n",
        "    _preds = reg.predict(test[train_features], num_iteration=reg.best_iteration_)\n",
        "    _preds[_preds < 0] = 0\n",
        "    sub_reg_preds += np.expm1(_preds) / len(folds)\n",
        "    \n",
        "mean_squared_error(np.log1p(y_reg), oof_reg_preds) ** .5"
      ],
      "execution_count": null,
      "outputs": []
    },
    {
      "cell_type": "markdown",
      "metadata": {
        "_uuid": "2b23cdb7ee1e35c6deba9edd6ffd87a4cdc72920",
        "id": "KMRctCYdPymT"
      },
      "source": [
        "### Display feature importances"
      ]
    },
    {
      "cell_type": "code",
      "metadata": {
        "trusted": true,
        "_uuid": "61d4aacc57c2c7c4d9ce0b1cab7221ca7c69138f",
        "id": "ABaK-MV2PymU"
      },
      "source": [
        "import warnings\n",
        "warnings.simplefilter('ignore', FutureWarning)\n",
        "\n",
        "# feature_importance 에 log1p 변환(gain_log)\n",
        "importances['gain_log'] = np.log1p(importances['gain'])\n",
        "\n",
        "# fold별 feature_importance mean 계산(mean_gain)\n",
        "mean_gain = importances[['gain', 'feature']].groupby('feature').mean()\n",
        "importances['mean_gain'] = importances['feature'].map(mean_gain['gain'])\n",
        "\n",
        "plt.figure(figsize=(8, 12))\n",
        "sns.barplot(x='gain_log', y='feature', data=importances.sort_values('mean_gain', ascending=False))"
      ],
      "execution_count": null,
      "outputs": []
    },
    {
      "cell_type": "markdown",
      "metadata": {
        "_uuid": "c64447b5858dc899b6b78d26a4e68a8582995051",
        "id": "q71DJ22kPymV"
      },
      "source": [
        "### Create user level predictions"
      ]
    },
    {
      "cell_type": "code",
      "metadata": {
        "trusted": true,
        "_uuid": "1fc92504b40407cff766489db1966e729d0466df",
        "id": "RPxpJsFqPymW"
      },
      "source": [
        "# train set에 대해 kfold별 trained model의 pred값\n",
        "train['predictions'] = np.expm1(oof_reg_preds)\n",
        "\n",
        "# test set에 대해 kfold별 trained model의 pred값\n",
        "test['predictions'] = sub_reg_preds"
      ],
      "execution_count": null,
      "outputs": []
    },
    {
      "cell_type": "code",
      "metadata": {
        "trusted": true,
        "_uuid": "515d3d14483844c93710fb6b6f9e39a6a2a1d384",
        "id": "xSEVp0Y6PymW"
      },
      "source": [
        "# Aggregate data at User level\n",
        "trn_data = train[train_features + ['fullVisitorId']].groupby('fullVisitorId').mean()"
      ],
      "execution_count": null,
      "outputs": []
    },
    {
      "cell_type": "code",
      "metadata": {
        "trusted": true,
        "_uuid": "31d76001e77e3ee2e10e67a5bc899a83c4cfeb8d",
        "id": "xR3nTg9IPymW"
      },
      "source": [
        "%%time\n",
        "# fullvisitorid를 index로 하고, 같은 id별 pred값들의 dict를 값으로 가지는 df 생성 (trn_pred_list)\n",
        "# a0b1('fullvisitorid')  {'pred_0': '2', 'pred_1': '8'} (dict_preds)\n",
        "# 아래셀 참고\n",
        "\n",
        "trn_pred_list = train[['fullVisitorId', 'predictions']].groupby('fullVisitorId')\\\n",
        "    .apply(lambda df: list(df.predictions))\\\n",
        "    .apply(lambda x: {'pred_'+str(i): pred for i, pred in enumerate(x)})"
      ],
      "execution_count": null,
      "outputs": []
    },
    {
      "cell_type": "code",
      "metadata": {
        "colab": {
          "base_uri": "https://localhost:8080/",
          "height": 191
        },
        "id": "o4e2ZhSjkfNs",
        "outputId": "2605fbdf-0176-4cff-c049-36df5adef2ed"
      },
      "source": [
        "# oof_reg_preds = np.zeros(train.shape[0]) : trainset에 대한 kfold model의 pred\r\n",
        "# sub_reg_preds = np.zeros(test.shape[0])  : testset에 대한 kfold model의 pred\r\n",
        "df2 = pd.DataFrame(np.array([['a0b1', 2], \r\n",
        "                             ['c0a1', 5],\r\n",
        "                             ['a0b1', 8],\r\n",
        "                             ['b0b1', 8]]),\r\n",
        "                   columns=['fullVisitorId', 'predictions'])\r\n",
        "\r\n",
        "# 같은 fullvisitorid 별 pred값들을 list로 모아줌 -> pred값들을 list을 dict로 변환\r\n",
        "\r\n",
        "# display(df2[['fullVisitorId', 'predictions']].groupby('fullVisitorId')\r\n",
        "#                                              .apply(lambda df: list(df.predictions)))\r\n",
        "\r\n",
        "display(df2[['fullVisitorId', 'predictions']].groupby('fullVisitorId')\r\n",
        "                                             .apply(lambda df: list(df.predictions))\r\n",
        "                                             .apply(lambda x: {'pred_'+str(i): pred for i, pred in enumerate(x)}))"
      ],
      "execution_count": 20,
      "outputs": [
        {
          "output_type": "display_data",
          "data": {
            "text/plain": [
              "fullVisitorId\n",
              "a0b1    [2, 8]\n",
              "b0b1       [8]\n",
              "c0a1       [5]\n",
              "dtype: object"
            ]
          },
          "metadata": {
            "tags": []
          }
        },
        {
          "output_type": "display_data",
          "data": {
            "text/plain": [
              "fullVisitorId\n",
              "a0b1    {'pred_0': '2', 'pred_1': '8'}\n",
              "b0b1                   {'pred_0': '8'}\n",
              "c0a1                   {'pred_0': '5'}\n",
              "dtype: object"
            ]
          },
          "metadata": {
            "tags": []
          }
        }
      ]
    },
    {
      "cell_type": "code",
      "metadata": {
        "trusted": true,
        "_uuid": "b8f1bac1ef32a58f70aa7bcca79acc7119ddcfb5",
        "id": "1UR0GA1_PymX"
      },
      "source": [
        "# fullvisitorid별 pred값들에 대한 통계값 계산 (아래셀 참고)\n",
        "trn_all_predictions = pd.DataFrame(list(trn_pred_list.values), index=trn_data.index)\n",
        "trn_feats = trn_all_predictions.columns\n",
        "\n",
        "trn_all_predictions['t_mean'] = np.log1p(trn_all_predictions[trn_feats].mean(axis=1))\n",
        "trn_all_predictions['t_median'] = np.log1p(trn_all_predictions[trn_feats].median(axis=1))\n",
        "trn_all_predictions['t_sum_log'] = np.log1p(trn_all_predictions[trn_feats]).sum(axis=1)\n",
        "trn_all_predictions['t_sum_act'] = np.log1p(trn_all_predictions[trn_feats].fillna(0).sum(axis=1))\n",
        "trn_all_predictions['t_nb_sess'] = trn_all_predictions[trn_feats].isnull().sum(axis=1)\n",
        "full_data = pd.concat([trn_data, trn_all_predictions], axis=1)\n",
        "\n",
        "del trn_data, trn_all_predictions\n",
        "gc.collect()\n",
        "\n",
        "full_data.shape"
      ],
      "execution_count": null,
      "outputs": []
    },
    {
      "cell_type": "code",
      "metadata": {
        "colab": {
          "base_uri": "https://localhost:8080/",
          "height": 166
        },
        "id": "kDhG8w35oRgA",
        "outputId": "bb9a0114-7597-4362-e171-e12d9bab955a"
      },
      "source": [
        "df2 = df2[['fullVisitorId', 'predictions']].groupby('fullVisitorId') \\\r\n",
        "                                             .apply(lambda df: list(df.predictions)) \\\r\n",
        "                                             .apply(lambda x: {'pred_'+str(i): pred for i, pred in enumerate(x)})\r\n",
        "pd.DataFrame(list(df2.values), index=df2.index)"
      ],
      "execution_count": 23,
      "outputs": [
        {
          "output_type": "execute_result",
          "data": {
            "text/html": [
              "<div>\n",
              "<style scoped>\n",
              "    .dataframe tbody tr th:only-of-type {\n",
              "        vertical-align: middle;\n",
              "    }\n",
              "\n",
              "    .dataframe tbody tr th {\n",
              "        vertical-align: top;\n",
              "    }\n",
              "\n",
              "    .dataframe thead th {\n",
              "        text-align: right;\n",
              "    }\n",
              "</style>\n",
              "<table border=\"1\" class=\"dataframe\">\n",
              "  <thead>\n",
              "    <tr style=\"text-align: right;\">\n",
              "      <th></th>\n",
              "      <th>pred_0</th>\n",
              "      <th>pred_1</th>\n",
              "    </tr>\n",
              "    <tr>\n",
              "      <th>fullVisitorId</th>\n",
              "      <th></th>\n",
              "      <th></th>\n",
              "    </tr>\n",
              "  </thead>\n",
              "  <tbody>\n",
              "    <tr>\n",
              "      <th>a0b1</th>\n",
              "      <td>2</td>\n",
              "      <td>8</td>\n",
              "    </tr>\n",
              "    <tr>\n",
              "      <th>b0b1</th>\n",
              "      <td>8</td>\n",
              "      <td>NaN</td>\n",
              "    </tr>\n",
              "    <tr>\n",
              "      <th>c0a1</th>\n",
              "      <td>5</td>\n",
              "      <td>NaN</td>\n",
              "    </tr>\n",
              "  </tbody>\n",
              "</table>\n",
              "</div>"
            ],
            "text/plain": [
              "              pred_0 pred_1\n",
              "fullVisitorId              \n",
              "a0b1               2      8\n",
              "b0b1               8    NaN\n",
              "c0a1               5    NaN"
            ]
          },
          "metadata": {
            "tags": []
          },
          "execution_count": 23
        }
      ]
    },
    {
      "cell_type": "code",
      "metadata": {
        "trusted": true,
        "_uuid": "12a86e1f61f819417bede61f3746366b5028222f",
        "id": "3GYiYsrUPymX"
      },
      "source": [
        "%%time\n",
        "# testset에 trainset과 동일한 작업 수행\n",
        "sub_pred_list = test[['fullVisitorId', 'predictions']].groupby('fullVisitorId')\\\n",
        "    .apply(lambda df: list(df.predictions))\\\n",
        "    .apply(lambda x: {'pred_'+str(i): pred for i, pred in enumerate(x)})"
      ],
      "execution_count": null,
      "outputs": []
    },
    {
      "cell_type": "code",
      "metadata": {
        "trusted": true,
        "_uuid": "611f2a86ffff5947b6863818538577b58f099535",
        "id": "EJjyn82ePymY"
      },
      "source": [
        "sub_data = test[train_features + ['fullVisitorId']].groupby('fullVisitorId').mean()\n",
        "sub_all_predictions = pd.DataFrame(list(sub_pred_list.values), index=sub_data.index)\n",
        "\n",
        "for f in trn_feats:\n",
        "    if f not in sub_all_predictions.columns:\n",
        "        sub_all_predictions[f] = np.nan\n",
        "sub_all_predictions['t_mean'] = np.log1p(sub_all_predictions[trn_feats].mean(axis=1))\n",
        "sub_all_predictions['t_median'] = np.log1p(sub_all_predictions[trn_feats].median(axis=1))\n",
        "sub_all_predictions['t_sum_log'] = np.log1p(sub_all_predictions[trn_feats]).sum(axis=1)\n",
        "sub_all_predictions['t_sum_act'] = np.log1p(sub_all_predictions[trn_feats].fillna(0).sum(axis=1))\n",
        "sub_all_predictions['t_nb_sess'] = sub_all_predictions[trn_feats].isnull().sum(axis=1)\n",
        "sub_full_data = pd.concat([sub_data, sub_all_predictions], axis=1)\n",
        "\n",
        "del sub_data, sub_all_predictions\n",
        "gc.collect()\n",
        "sub_full_data.shape"
      ],
      "execution_count": null,
      "outputs": []
    },
    {
      "cell_type": "markdown",
      "metadata": {
        "_uuid": "c901512b911c731113c0515e97ce80ddf7b7f118",
        "id": "FkRkgWNhPymZ"
      },
      "source": [
        "### Create target at Visitor level"
      ]
    },
    {
      "cell_type": "code",
      "metadata": {
        "trusted": true,
        "_uuid": "bf3b05a18f83821d12d05500f8e0e52f0603d6c5",
        "id": "n9vNzWqTPymZ"
      },
      "source": [
        "train['target'] = y_reg\n",
        "trn_user_target = train[['fullVisitorId', 'target']].groupby('fullVisitorId').sum()"
      ],
      "execution_count": null,
      "outputs": []
    },
    {
      "cell_type": "markdown",
      "metadata": {
        "_uuid": "73a0db5cfa89fa95a120d6c02b768272f30bca2b",
        "id": "4tkkoanpPymZ"
      },
      "source": [
        "### Train a model at Visitor level"
      ]
    },
    {
      "cell_type": "code",
      "metadata": {
        "trusted": true,
        "_uuid": "236f5546dfad2fee431a28534ef57cf8fec249ec",
        "id": "pRx3Xn54Pyma"
      },
      "source": [
        "# X = fullvisitorid별 pred값들에 대한 통계값들\n",
        "# y = fullvisitorid별 true값들의 sum (totalpagerevenue)\n",
        "folds = get_folds(df=full_data[['totals.pageviews']].reset_index(), n_splits=5)\n",
        "\n",
        "oof_preds = np.zeros(full_data.shape[0])\n",
        "sub_preds = np.zeros(sub_full_data.shape[0])\n",
        "vis_importances = pd.DataFrame()\n",
        "\n",
        "for fold_, (trn_, val_) in enumerate(folds):\n",
        "    trn_x, trn_y = full_data.iloc[trn_], trn_user_target['target'].iloc[trn_]\n",
        "    val_x, val_y = full_data.iloc[val_], trn_user_target['target'].iloc[val_]\n",
        "    \n",
        "    reg = lgb.LGBMRegressor(\n",
        "        num_leaves=31,\n",
        "        learning_rate=0.03,\n",
        "        n_estimators=1000,\n",
        "        subsample=.9,\n",
        "        colsample_bytree=.9,\n",
        "        random_state=1\n",
        "    )\n",
        "    reg.fit(\n",
        "        trn_x, np.log1p(trn_y),\n",
        "        eval_set=[(trn_x, np.log1p(trn_y)), (val_x, np.log1p(val_y))],\n",
        "        eval_names=['TRAIN', 'VALID'],\n",
        "        early_stopping_rounds=50,\n",
        "        eval_metric='rmse',\n",
        "        verbose=100\n",
        "    )\n",
        "    \n",
        "    imp_df = pd.DataFrame()\n",
        "    imp_df['feature'] = trn_x.columns\n",
        "    imp_df['gain'] = reg.booster_.feature_importance(importance_type='gain')\n",
        "    \n",
        "    imp_df['fold'] = fold_ + 1\n",
        "    vis_importances = pd.concat([vis_importances, imp_df], axis=0, sort=False)\n",
        "    \n",
        "    # oof_preds : 모델 평가용\n",
        "    oof_preds[val_] = reg.predict(val_x, num_iteration=reg.best_iteration_)\n",
        "    oof_preds[oof_preds < 0] = 0\n",
        "    \n",
        "    # testset에 대한 pred 수행 및 fold별 pred값들의 평균값 사용\n",
        "    _preds = reg.predict(sub_full_data[full_data.columns], num_iteration=reg.best_iteration_)\n",
        "    _preds[_preds < 0] = 0\n",
        "    sub_preds += _preds / len(folds)\n",
        "    \n",
        "mean_squared_error(np.log1p(trn_user_target['target']), oof_preds) ** .5"
      ],
      "execution_count": null,
      "outputs": []
    },
    {
      "cell_type": "markdown",
      "metadata": {
        "_uuid": "8a334da6d1b615108f7d7200a8268bd2aff52d65",
        "id": "2DX39KpFPymb"
      },
      "source": [
        "### Display feature importances"
      ]
    },
    {
      "cell_type": "code",
      "metadata": {
        "trusted": true,
        "_uuid": "c9722bdf108cf510b6f59db3d99e406790c99194",
        "id": "7EZ_6C-MPymb"
      },
      "source": [
        "# 변수중요도 시각화\n",
        "vis_importances['gain_log'] = np.log1p(vis_importances['gain'])\n",
        "mean_gain = vis_importances[['gain', 'feature']].groupby('feature').mean()\n",
        "vis_importances['mean_gain'] = vis_importances['feature'].map(mean_gain['gain'])\n",
        "\n",
        "plt.figure(figsize=(8, 25))\n",
        "sns.barplot(x='gain_log', y='feature', data=vis_importances.sort_values('mean_gain', ascending=False).iloc[:300])"
      ],
      "execution_count": null,
      "outputs": []
    },
    {
      "cell_type": "markdown",
      "metadata": {
        "_uuid": "dbd81ac5df63f2c94c00e678b00dd7993d06df6f",
        "id": "oDxhOSKsPymc"
      },
      "source": [
        "### Save predictions"
      ]
    },
    {
      "cell_type": "code",
      "metadata": {
        "trusted": true,
        "_uuid": "feb757b51ac10132118cc0db22f7adda70f0913f",
        "id": "_mMXKOCzPymc"
      },
      "source": [
        "sub_full_data['PredictedLogRevenue'] = sub_preds\n",
        "sub_full_data[['PredictedLogRevenue']].to_csv('new_test.csv', index=True)"
      ],
      "execution_count": null,
      "outputs": []
    }
  ]
}