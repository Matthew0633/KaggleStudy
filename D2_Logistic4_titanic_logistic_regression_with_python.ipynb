{
  "nbformat": 4,
  "nbformat_minor": 0,
  "metadata": {
    "kernelspec": {
      "display_name": "Python 3",
      "language": "python",
      "name": "python3"
    },
    "language_info": {
      "codemirror_mode": {
        "name": "ipython",
        "version": 3
      },
      "file_extension": ".py",
      "mimetype": "text/x-python",
      "name": "python",
      "nbconvert_exporter": "python",
      "pygments_lexer": "ipython3",
      "version": "3.7.6"
    },
    "papermill": {
      "duration": 134.964351,
      "end_time": "2020-12-04T04:01:02.211812",
      "environment_variables": {},
      "exception": null,
      "input_path": "__notebook__.ipynb",
      "output_path": "__notebook__.ipynb",
      "parameters": {},
      "start_time": "2020-12-04T03:58:47.247461",
      "version": "2.1.0"
    },
    "colab": {
      "name": "titanic-logistic-regression-with-python.ipynb",
      "provenance": [],
      "collapsed_sections": [
        "U0QXrUWb1KTS",
        "PYaFiXsQ1KTT"
      ]
    }
  },
  "cells": [
    {
      "cell_type": "markdown",
      "metadata": {
        "papermill": {
          "duration": 0.058153,
          "end_time": "2020-12-04T03:58:52.764170",
          "exception": false,
          "start_time": "2020-12-04T03:58:52.706017",
          "status": "completed"
        },
        "tags": [],
        "id": "iyFYx7bD1KS9"
      },
      "source": [
        "## Impressions and Reviews  \r\n",
        "- 다양한 plotting 시도 \r\n",
        "- params 조합에 따른 output 변화 시각화 가능"
      ]
    },
    {
      "cell_type": "markdown",
      "metadata": {
        "_cell_guid": "cb19f71d-51c8-417f-829e-3179d3319dcd",
        "_uuid": "c3b9226e142667d6b96e34daf7d6e42bea0ea1e2",
        "papermill": {
          "duration": 0.061902,
          "end_time": "2020-12-04T03:58:52.647359",
          "exception": false,
          "start_time": "2020-12-04T03:58:52.585457",
          "status": "completed"
        },
        "tags": [],
        "id": "5SahSrvm1KS3"
      },
      "source": [
        "# **Introduction**\n",
        "\n",
        "This kernel was inspired in part by the work of [SarahG](https://www.kaggle.com/sgus1318/titanic-analysis-learning-to-swim-with-python)'s analysis that I thank very much for the quality of her analysis. This work represents a deeper analysis by playing on several parameters while using only logistic regression estimator. In a future work, I will discuss other techniques. I am open to any criticism and proposal. You do not hesitate to evaluate this analysis.\n",
        "The following kernel contains the steps enumerated below for assessing the Titanic survival dataset:\n",
        "\n",
        "1. [Import data and python packages](#t1.)\n",
        "2. [Assess Data Quality & Missing Values](#t2.)\n",
        "    * 2.1. [Age - Missing Values](#t2.1.)\n",
        "    * 2.2. [Cabin - Missing Values](#t2.2.)\n",
        "    * 2.3. [Embarked - Missing Values](#t2.3.)\n",
        "    * 2.4. [Final Adjustments to Data](#t2.4.)\n",
        "        * 2.4.1 [Additional Variables](#t2.4.1.)\n",
        "3. [Exploratory Data Analysis](#t3.)\n",
        "4. [Logistic Regression and Results](#t4.)\n",
        "    * 4.1. [Feature selection](#t4.1.)\n",
        "        * 4.1.1. [Recursive feature elimination](#t4.1.1.)\n",
        "        * 4.1.2. [Feature ranking with recursive feature elimination and cross-validation](#t4.1.2.)\n",
        "    * 4.2. [Review of model evaluation procedures](#t4.2.)\n",
        "        * 4.2.1. [Model evaluation based on simple train/test split using `train_test_split()`](#t4.2.1.)\n",
        "        * 4.2.2. [Model evaluation based on K-fold cross-validation using `cross_val_score()`](#t4.2.2.)\n",
        "        * 4.2.3. [Model evaluation based on K-fold cross-validation using `cross_validate()`](#t4.2.3.)\n",
        "    * 4.3. [GridSearchCV evaluating using multiple scorers simultaneously](#t4.3.)\n",
        "    * 4.4. [GridSearchCV evaluating using multiple scorers, RepeatedStratifiedKFold and pipeline for preprocessing simultaneously](#t4.4.)"
      ]
    },
    {
      "cell_type": "markdown",
      "metadata": {
        "_cell_guid": "33c91cae-2ff8-45a6-b8cb-671619e9c933",
        "_uuid": "0a395fd25f20834b070ef55cb8987c8c1f9b55f9",
        "papermill": {
          "duration": 0.058311,
          "end_time": "2020-12-04T03:58:52.881041",
          "exception": false,
          "start_time": "2020-12-04T03:58:52.822730",
          "status": "completed"
        },
        "tags": [],
        "id": "B59qTJA-1KS-"
      },
      "source": [
        "<a id=\"t1.\"></a>\n",
        "# 1. Import Data & Python Packages"
      ]
    },
    {
      "cell_type": "code",
      "metadata": {
        "_cell_guid": "de05512e-6991-44df-9599-da92a7e459ac",
        "_uuid": "d8bdd5f0320e244e4702ed8ec1c2482b022c51cd",
        "execution": {
          "iopub.execute_input": "2020-12-04T03:58:53.009219Z",
          "iopub.status.busy": "2020-12-04T03:58:53.008317Z",
          "iopub.status.idle": "2020-12-04T03:58:54.240878Z",
          "shell.execute_reply": "2020-12-04T03:58:54.240026Z"
        },
        "papermill": {
          "duration": 1.301389,
          "end_time": "2020-12-04T03:58:54.241010",
          "exception": false,
          "start_time": "2020-12-04T03:58:52.939621",
          "status": "completed"
        },
        "tags": [],
        "id": "BIwpQ0Rv1KS_"
      },
      "source": [
        "import numpy as np \n",
        "import pandas as pd \n",
        "\n",
        "from sklearn import preprocessing\n",
        "import matplotlib.pyplot as plt \n",
        "plt.rc(\"font\", size=14)\n",
        "import seaborn as sns\n",
        "sns.set(style=\"white\") #white background style for seaborn plots\n",
        "sns.set(style=\"whitegrid\", color_codes=True)\n",
        "\n",
        "import warnings\n",
        "warnings.simplefilter(action='ignore')"
      ],
      "execution_count": null,
      "outputs": []
    },
    {
      "cell_type": "code",
      "metadata": {
        "_cell_guid": "e0a17223-f682-45fc-89a5-667af9782bbe",
        "_uuid": "7964157913fbcff581fc1929eed487708e81ac9c",
        "execution": {
          "iopub.execute_input": "2020-12-04T03:58:54.366920Z",
          "iopub.status.busy": "2020-12-04T03:58:54.366092Z",
          "iopub.status.idle": "2020-12-04T03:58:54.425590Z",
          "shell.execute_reply": "2020-12-04T03:58:54.426184Z"
        },
        "papermill": {
          "duration": 0.126236,
          "end_time": "2020-12-04T03:58:54.426336",
          "exception": false,
          "start_time": "2020-12-04T03:58:54.300100",
          "status": "completed"
        },
        "tags": [],
        "id": "qSLWDpUe1KS_",
        "outputId": "75eed69e-ee13-4e18-fc11-68c4308aa273"
      },
      "source": [
        "# Read CSV train data file into DataFrame\n",
        "train_df = pd.read_csv(\"../input/train.csv\")\n",
        "\n",
        "# Read CSV test data file into DataFrame\n",
        "test_df = pd.read_csv(\"../input/test.csv\")\n",
        "\n",
        "# preview train data\n",
        "train_df.head()"
      ],
      "execution_count": null,
      "outputs": [
        {
          "output_type": "execute_result",
          "data": {
            "text/html": [
              "<div>\n",
              "<style scoped>\n",
              "    .dataframe tbody tr th:only-of-type {\n",
              "        vertical-align: middle;\n",
              "    }\n",
              "\n",
              "    .dataframe tbody tr th {\n",
              "        vertical-align: top;\n",
              "    }\n",
              "\n",
              "    .dataframe thead th {\n",
              "        text-align: right;\n",
              "    }\n",
              "</style>\n",
              "<table border=\"1\" class=\"dataframe\">\n",
              "  <thead>\n",
              "    <tr style=\"text-align: right;\">\n",
              "      <th></th>\n",
              "      <th>PassengerId</th>\n",
              "      <th>Survived</th>\n",
              "      <th>Pclass</th>\n",
              "      <th>Name</th>\n",
              "      <th>Sex</th>\n",
              "      <th>Age</th>\n",
              "      <th>SibSp</th>\n",
              "      <th>Parch</th>\n",
              "      <th>Ticket</th>\n",
              "      <th>Fare</th>\n",
              "      <th>Cabin</th>\n",
              "      <th>Embarked</th>\n",
              "    </tr>\n",
              "  </thead>\n",
              "  <tbody>\n",
              "    <tr>\n",
              "      <th>0</th>\n",
              "      <td>1</td>\n",
              "      <td>0</td>\n",
              "      <td>3</td>\n",
              "      <td>Braund, Mr. Owen Harris</td>\n",
              "      <td>male</td>\n",
              "      <td>22.0</td>\n",
              "      <td>1</td>\n",
              "      <td>0</td>\n",
              "      <td>A/5 21171</td>\n",
              "      <td>7.2500</td>\n",
              "      <td>NaN</td>\n",
              "      <td>S</td>\n",
              "    </tr>\n",
              "    <tr>\n",
              "      <th>1</th>\n",
              "      <td>2</td>\n",
              "      <td>1</td>\n",
              "      <td>1</td>\n",
              "      <td>Cumings, Mrs. John Bradley (Florence Briggs Th...</td>\n",
              "      <td>female</td>\n",
              "      <td>38.0</td>\n",
              "      <td>1</td>\n",
              "      <td>0</td>\n",
              "      <td>PC 17599</td>\n",
              "      <td>71.2833</td>\n",
              "      <td>C85</td>\n",
              "      <td>C</td>\n",
              "    </tr>\n",
              "    <tr>\n",
              "      <th>2</th>\n",
              "      <td>3</td>\n",
              "      <td>1</td>\n",
              "      <td>3</td>\n",
              "      <td>Heikkinen, Miss. Laina</td>\n",
              "      <td>female</td>\n",
              "      <td>26.0</td>\n",
              "      <td>0</td>\n",
              "      <td>0</td>\n",
              "      <td>STON/O2. 3101282</td>\n",
              "      <td>7.9250</td>\n",
              "      <td>NaN</td>\n",
              "      <td>S</td>\n",
              "    </tr>\n",
              "    <tr>\n",
              "      <th>3</th>\n",
              "      <td>4</td>\n",
              "      <td>1</td>\n",
              "      <td>1</td>\n",
              "      <td>Futrelle, Mrs. Jacques Heath (Lily May Peel)</td>\n",
              "      <td>female</td>\n",
              "      <td>35.0</td>\n",
              "      <td>1</td>\n",
              "      <td>0</td>\n",
              "      <td>113803</td>\n",
              "      <td>53.1000</td>\n",
              "      <td>C123</td>\n",
              "      <td>S</td>\n",
              "    </tr>\n",
              "    <tr>\n",
              "      <th>4</th>\n",
              "      <td>5</td>\n",
              "      <td>0</td>\n",
              "      <td>3</td>\n",
              "      <td>Allen, Mr. William Henry</td>\n",
              "      <td>male</td>\n",
              "      <td>35.0</td>\n",
              "      <td>0</td>\n",
              "      <td>0</td>\n",
              "      <td>373450</td>\n",
              "      <td>8.0500</td>\n",
              "      <td>NaN</td>\n",
              "      <td>S</td>\n",
              "    </tr>\n",
              "  </tbody>\n",
              "</table>\n",
              "</div>"
            ],
            "text/plain": [
              "   PassengerId  Survived  Pclass  \\\n",
              "0            1         0       3   \n",
              "1            2         1       1   \n",
              "2            3         1       3   \n",
              "3            4         1       1   \n",
              "4            5         0       3   \n",
              "\n",
              "                                                Name     Sex   Age  SibSp  \\\n",
              "0                            Braund, Mr. Owen Harris    male  22.0      1   \n",
              "1  Cumings, Mrs. John Bradley (Florence Briggs Th...  female  38.0      1   \n",
              "2                             Heikkinen, Miss. Laina  female  26.0      0   \n",
              "3       Futrelle, Mrs. Jacques Heath (Lily May Peel)  female  35.0      1   \n",
              "4                           Allen, Mr. William Henry    male  35.0      0   \n",
              "\n",
              "   Parch            Ticket     Fare Cabin Embarked  \n",
              "0      0         A/5 21171   7.2500   NaN        S  \n",
              "1      0          PC 17599  71.2833   C85        C  \n",
              "2      0  STON/O2. 3101282   7.9250   NaN        S  \n",
              "3      0            113803  53.1000  C123        S  \n",
              "4      0            373450   8.0500   NaN        S  "
            ]
          },
          "metadata": {
            "tags": []
          },
          "execution_count": 2
        }
      ]
    },
    {
      "cell_type": "code",
      "metadata": {
        "_cell_guid": "872d0de9-a873-4b60-b1ee-d557ee39d8a1",
        "_uuid": "d38222a64d4dfd1d1ee1a7ee1f58c4aa54560de3",
        "execution": {
          "iopub.execute_input": "2020-12-04T03:58:54.552910Z",
          "iopub.status.busy": "2020-12-04T03:58:54.551893Z",
          "iopub.status.idle": "2020-12-04T03:58:54.556598Z",
          "shell.execute_reply": "2020-12-04T03:58:54.555789Z"
        },
        "papermill": {
          "duration": 0.070085,
          "end_time": "2020-12-04T03:58:54.556773",
          "exception": false,
          "start_time": "2020-12-04T03:58:54.486688",
          "status": "completed"
        },
        "tags": [],
        "id": "wNfoU-g61KTB",
        "outputId": "dc6d655a-3997-45c6-96fc-bf44856fbe1d"
      },
      "source": [
        "print('The number of samples into the train data is {}.'.format(train_df.shape[0]))"
      ],
      "execution_count": null,
      "outputs": [
        {
          "output_type": "stream",
          "text": [
            "The number of samples into the train data is 891.\n"
          ],
          "name": "stdout"
        }
      ]
    },
    {
      "cell_type": "code",
      "metadata": {
        "_cell_guid": "1d969b76-ea88-4d32-a58e-f22a070258bf",
        "_uuid": "bff38fcf31baf67493513c06f0c2f6e50576ff09",
        "execution": {
          "iopub.execute_input": "2020-12-04T03:58:54.703371Z",
          "iopub.status.busy": "2020-12-04T03:58:54.702421Z",
          "iopub.status.idle": "2020-12-04T03:58:54.706858Z",
          "shell.execute_reply": "2020-12-04T03:58:54.706282Z"
        },
        "papermill": {
          "duration": 0.082711,
          "end_time": "2020-12-04T03:58:54.706990",
          "exception": false,
          "start_time": "2020-12-04T03:58:54.624279",
          "status": "completed"
        },
        "tags": [],
        "id": "PMYT9F0I1KTB",
        "outputId": "ce906c38-a24e-4a18-8b4c-6402e9599cb2"
      },
      "source": [
        "# preview test data\n",
        "test_df.head()"
      ],
      "execution_count": null,
      "outputs": [
        {
          "output_type": "execute_result",
          "data": {
            "text/html": [
              "<div>\n",
              "<style scoped>\n",
              "    .dataframe tbody tr th:only-of-type {\n",
              "        vertical-align: middle;\n",
              "    }\n",
              "\n",
              "    .dataframe tbody tr th {\n",
              "        vertical-align: top;\n",
              "    }\n",
              "\n",
              "    .dataframe thead th {\n",
              "        text-align: right;\n",
              "    }\n",
              "</style>\n",
              "<table border=\"1\" class=\"dataframe\">\n",
              "  <thead>\n",
              "    <tr style=\"text-align: right;\">\n",
              "      <th></th>\n",
              "      <th>PassengerId</th>\n",
              "      <th>Pclass</th>\n",
              "      <th>Name</th>\n",
              "      <th>Sex</th>\n",
              "      <th>Age</th>\n",
              "      <th>SibSp</th>\n",
              "      <th>Parch</th>\n",
              "      <th>Ticket</th>\n",
              "      <th>Fare</th>\n",
              "      <th>Cabin</th>\n",
              "      <th>Embarked</th>\n",
              "    </tr>\n",
              "  </thead>\n",
              "  <tbody>\n",
              "    <tr>\n",
              "      <th>0</th>\n",
              "      <td>892</td>\n",
              "      <td>3</td>\n",
              "      <td>Kelly, Mr. James</td>\n",
              "      <td>male</td>\n",
              "      <td>34.5</td>\n",
              "      <td>0</td>\n",
              "      <td>0</td>\n",
              "      <td>330911</td>\n",
              "      <td>7.8292</td>\n",
              "      <td>NaN</td>\n",
              "      <td>Q</td>\n",
              "    </tr>\n",
              "    <tr>\n",
              "      <th>1</th>\n",
              "      <td>893</td>\n",
              "      <td>3</td>\n",
              "      <td>Wilkes, Mrs. James (Ellen Needs)</td>\n",
              "      <td>female</td>\n",
              "      <td>47.0</td>\n",
              "      <td>1</td>\n",
              "      <td>0</td>\n",
              "      <td>363272</td>\n",
              "      <td>7.0000</td>\n",
              "      <td>NaN</td>\n",
              "      <td>S</td>\n",
              "    </tr>\n",
              "    <tr>\n",
              "      <th>2</th>\n",
              "      <td>894</td>\n",
              "      <td>2</td>\n",
              "      <td>Myles, Mr. Thomas Francis</td>\n",
              "      <td>male</td>\n",
              "      <td>62.0</td>\n",
              "      <td>0</td>\n",
              "      <td>0</td>\n",
              "      <td>240276</td>\n",
              "      <td>9.6875</td>\n",
              "      <td>NaN</td>\n",
              "      <td>Q</td>\n",
              "    </tr>\n",
              "    <tr>\n",
              "      <th>3</th>\n",
              "      <td>895</td>\n",
              "      <td>3</td>\n",
              "      <td>Wirz, Mr. Albert</td>\n",
              "      <td>male</td>\n",
              "      <td>27.0</td>\n",
              "      <td>0</td>\n",
              "      <td>0</td>\n",
              "      <td>315154</td>\n",
              "      <td>8.6625</td>\n",
              "      <td>NaN</td>\n",
              "      <td>S</td>\n",
              "    </tr>\n",
              "    <tr>\n",
              "      <th>4</th>\n",
              "      <td>896</td>\n",
              "      <td>3</td>\n",
              "      <td>Hirvonen, Mrs. Alexander (Helga E Lindqvist)</td>\n",
              "      <td>female</td>\n",
              "      <td>22.0</td>\n",
              "      <td>1</td>\n",
              "      <td>1</td>\n",
              "      <td>3101298</td>\n",
              "      <td>12.2875</td>\n",
              "      <td>NaN</td>\n",
              "      <td>S</td>\n",
              "    </tr>\n",
              "  </tbody>\n",
              "</table>\n",
              "</div>"
            ],
            "text/plain": [
              "   PassengerId  Pclass                                          Name     Sex  \\\n",
              "0          892       3                              Kelly, Mr. James    male   \n",
              "1          893       3              Wilkes, Mrs. James (Ellen Needs)  female   \n",
              "2          894       2                     Myles, Mr. Thomas Francis    male   \n",
              "3          895       3                              Wirz, Mr. Albert    male   \n",
              "4          896       3  Hirvonen, Mrs. Alexander (Helga E Lindqvist)  female   \n",
              "\n",
              "    Age  SibSp  Parch   Ticket     Fare Cabin Embarked  \n",
              "0  34.5      0      0   330911   7.8292   NaN        Q  \n",
              "1  47.0      1      0   363272   7.0000   NaN        S  \n",
              "2  62.0      0      0   240276   9.6875   NaN        Q  \n",
              "3  27.0      0      0   315154   8.6625   NaN        S  \n",
              "4  22.0      1      1  3101298  12.2875   NaN        S  "
            ]
          },
          "metadata": {
            "tags": []
          },
          "execution_count": 4
        }
      ]
    },
    {
      "cell_type": "code",
      "metadata": {
        "_cell_guid": "254dd074-e07e-49f2-9184-80046b10b481",
        "_uuid": "62de7ddd73fed8d88ccbe1ba79e59b8e596cbb13",
        "execution": {
          "iopub.execute_input": "2020-12-04T03:58:54.836183Z",
          "iopub.status.busy": "2020-12-04T03:58:54.835242Z",
          "iopub.status.idle": "2020-12-04T03:58:54.839614Z",
          "shell.execute_reply": "2020-12-04T03:58:54.838981Z"
        },
        "papermill": {
          "duration": 0.07135,
          "end_time": "2020-12-04T03:58:54.839746",
          "exception": false,
          "start_time": "2020-12-04T03:58:54.768396",
          "status": "completed"
        },
        "tags": [],
        "id": "GkMIHPwM1KTB",
        "outputId": "4721dc4b-4bf8-405a-b47b-a9b1ca8bc64d"
      },
      "source": [
        "print('The number of samples into the test data is {}.'.format(test_df.shape[0]))"
      ],
      "execution_count": null,
      "outputs": [
        {
          "output_type": "stream",
          "text": [
            "The number of samples into the test data is 418.\n"
          ],
          "name": "stdout"
        }
      ]
    },
    {
      "cell_type": "markdown",
      "metadata": {
        "_cell_guid": "4cd08f1e-9cb9-4d8e-99d0-3a9ce91b91c3",
        "_uuid": "2b1d45128663b9466fe9ac0059a13cfd4bd43657",
        "papermill": {
          "duration": 0.061799,
          "end_time": "2020-12-04T03:58:54.963408",
          "exception": false,
          "start_time": "2020-12-04T03:58:54.901609",
          "status": "completed"
        },
        "tags": [],
        "id": "bIGXk8SM1KTC"
      },
      "source": [
        "<font color=red>  Note: there is no target variable into test data (i.e. \"Survival\" column is missing), so the goal is to predict this target using different machine learning algorithms such as logistic regression. </font>"
      ]
    },
    {
      "cell_type": "markdown",
      "metadata": {
        "_cell_guid": "6578c0da-7bcf-433d-9f28-a66d8dfa6fa3",
        "_uuid": "8660e63a62c2fcdb4f7633380166438caf5edae9",
        "papermill": {
          "duration": 0.061643,
          "end_time": "2020-12-04T03:58:55.087851",
          "exception": false,
          "start_time": "2020-12-04T03:58:55.026208",
          "status": "completed"
        },
        "tags": [],
        "id": "TcV74ID21KTC"
      },
      "source": [
        "<a id=\"t2.\"></a>\n",
        "# 2. Data Quality & Missing Value Assessment"
      ]
    },
    {
      "cell_type": "code",
      "metadata": {
        "_cell_guid": "29dddd33-d995-4b0f-92ea-a361b368cc42",
        "_uuid": "d4fe22ead7e187724ca6f3ba7ba0e6412ae0e874",
        "execution": {
          "iopub.execute_input": "2020-12-04T03:58:55.221962Z",
          "iopub.status.busy": "2020-12-04T03:58:55.220801Z",
          "iopub.status.idle": "2020-12-04T03:58:55.225808Z",
          "shell.execute_reply": "2020-12-04T03:58:55.225238Z"
        },
        "papermill": {
          "duration": 0.076462,
          "end_time": "2020-12-04T03:58:55.225947",
          "exception": false,
          "start_time": "2020-12-04T03:58:55.149485",
          "status": "completed"
        },
        "tags": [],
        "id": "nL5y5bUx1KTC",
        "outputId": "86751c9a-0f0b-40b3-b2db-4e244d5f79c1"
      },
      "source": [
        "# check missing values in train data\n",
        "train_df.isnull().sum()"
      ],
      "execution_count": null,
      "outputs": [
        {
          "output_type": "execute_result",
          "data": {
            "text/plain": [
              "PassengerId      0\n",
              "Survived         0\n",
              "Pclass           0\n",
              "Name             0\n",
              "Sex              0\n",
              "Age            177\n",
              "SibSp            0\n",
              "Parch            0\n",
              "Ticket           0\n",
              "Fare             0\n",
              "Cabin          687\n",
              "Embarked         2\n",
              "dtype: int64"
            ]
          },
          "metadata": {
            "tags": []
          },
          "execution_count": 6
        }
      ]
    },
    {
      "cell_type": "markdown",
      "metadata": {
        "_cell_guid": "7776faeb-6a8f-4460-a367-4b087d2cc089",
        "_uuid": "696b428bd3ca49421f650665267ce7ca1b358814",
        "papermill": {
          "duration": 0.062275,
          "end_time": "2020-12-04T03:58:55.351650",
          "exception": false,
          "start_time": "2020-12-04T03:58:55.289375",
          "status": "completed"
        },
        "tags": [],
        "id": "9ZxziFBX1KTD"
      },
      "source": [
        "<a id=\"t2.1.\"></a>\n",
        "## 2.1.    Age - Missing Values\n",
        "### 오른쪽꼬리 -> 중간값(median) imputation"
      ]
    },
    {
      "cell_type": "code",
      "metadata": {
        "_cell_guid": "d4ee6559-6d0c-409d-9dca-1d105a4ccd8a",
        "_uuid": "129cf984d05d9ce97c54548145e65f9e4b9b0c37",
        "execution": {
          "iopub.execute_input": "2020-12-04T03:58:55.487053Z",
          "iopub.status.busy": "2020-12-04T03:58:55.486301Z",
          "iopub.status.idle": "2020-12-04T03:58:55.490490Z",
          "shell.execute_reply": "2020-12-04T03:58:55.489861Z"
        },
        "papermill": {
          "duration": 0.074333,
          "end_time": "2020-12-04T03:58:55.490623",
          "exception": false,
          "start_time": "2020-12-04T03:58:55.416290",
          "status": "completed"
        },
        "tags": [],
        "id": "0GLaU7Qn1KTD",
        "outputId": "36fd4883-f701-43c2-df89-f536108abd2f"
      },
      "source": [
        "# percent of missing \"Age\" \n",
        "print('Percent of missing \"Age\" records is %.2f%%' %((train_df['Age'].isnull().sum()/train_df.shape[0])*100))"
      ],
      "execution_count": null,
      "outputs": [
        {
          "output_type": "stream",
          "text": [
            "Percent of missing \"Age\" records is 19.87%\n"
          ],
          "name": "stdout"
        }
      ]
    },
    {
      "cell_type": "markdown",
      "metadata": {
        "_cell_guid": "951f7bb8-779c-4eac-85a2-3fdcfdcd293e",
        "_uuid": "c8fff460fb532a063f6944450809014ca831ca52",
        "papermill": {
          "duration": 0.063798,
          "end_time": "2020-12-04T03:58:55.617482",
          "exception": false,
          "start_time": "2020-12-04T03:58:55.553684",
          "status": "completed"
        },
        "tags": [],
        "id": "fbyVHzod1KTE"
      },
      "source": [
        "~20% of entries for passenger age are missing. Let's see what the 'Age' variable looks like in general."
      ]
    },
    {
      "cell_type": "code",
      "metadata": {
        "_cell_guid": "6d65fcfa-52bf-45ab-b959-64a32c1c1976",
        "_uuid": "c6fd60f15d5e803d4dffc89e782c6fbc72445a83",
        "execution": {
          "iopub.execute_input": "2020-12-04T03:58:55.751655Z",
          "iopub.status.busy": "2020-12-04T03:58:55.750782Z",
          "iopub.status.idle": "2020-12-04T03:58:56.213354Z",
          "shell.execute_reply": "2020-12-04T03:58:56.212693Z"
        },
        "papermill": {
          "duration": 0.532735,
          "end_time": "2020-12-04T03:58:56.213495",
          "exception": false,
          "start_time": "2020-12-04T03:58:55.680760",
          "status": "completed"
        },
        "tags": [],
        "id": "a4p1lNuX1KTE",
        "outputId": "0f312632-8ca4-4d9d-8095-bee0d5161041"
      },
      "source": [
        "ax = train_df[\"Age\"].hist(bins=15, density=True, stacked=True, color='teal', alpha=0.6)\n",
        "train_df[\"Age\"].plot(kind='density', color='teal')\n",
        "ax.set(xlabel='Age')\n",
        "plt.xlim(-10,85)\n",
        "plt.show()"
      ],
      "execution_count": null,
      "outputs": [
        {
          "output_type": "display_data",
          "data": {
            "image/png": "[encoded data removed]",
            "text/plain": [
              "<Figure size 432x288 with 1 Axes>"
            ]
          },
          "metadata": {
            "tags": []
          }
        }
      ]
    },
    {
      "cell_type": "markdown",
      "metadata": {
        "_cell_guid": "e62d6951-d968-43ba-aabf-add90524d042",
        "_uuid": "24c201948b9c8c8076ab01271a4790d9db9096b5",
        "papermill": {
          "duration": 0.064711,
          "end_time": "2020-12-04T03:58:56.343695",
          "exception": false,
          "start_time": "2020-12-04T03:58:56.278984",
          "status": "completed"
        },
        "tags": [],
        "id": "q4iNavn21KTF"
      },
      "source": [
        "Since \"Age\" is (right) skewed, using the mean might give us biased results by filling in ages that are older than desired. To deal with this, we'll use the median to impute the missing values. "
      ]
    },
    {
      "cell_type": "code",
      "metadata": {
        "_cell_guid": "1d70c27b-1e4d-4d5e-8a39-c134389d436c",
        "_uuid": "4f13840d4f9bf1b4331523c99274aa0627485e6c",
        "execution": {
          "iopub.execute_input": "2020-12-04T03:58:56.483084Z",
          "iopub.status.busy": "2020-12-04T03:58:56.482281Z",
          "iopub.status.idle": "2020-12-04T03:58:56.485401Z",
          "shell.execute_reply": "2020-12-04T03:58:56.486139Z"
        },
        "papermill": {
          "duration": 0.075994,
          "end_time": "2020-12-04T03:58:56.486305",
          "exception": false,
          "start_time": "2020-12-04T03:58:56.410311",
          "status": "completed"
        },
        "tags": [],
        "id": "-ex1ZvLb1KTF",
        "outputId": "527fe1da-6505-42af-e0bc-7621f408d1da"
      },
      "source": [
        "# mean age\n",
        "print('The mean of \"Age\" is %.2f' %(train_df[\"Age\"].mean(skipna=True)))\n",
        "# median age\n",
        "print('The median of \"Age\" is %.2f' %(train_df[\"Age\"].median(skipna=True)))"
      ],
      "execution_count": null,
      "outputs": [
        {
          "output_type": "stream",
          "text": [
            "The mean of \"Age\" is 29.70\n",
            "The median of \"Age\" is 28.00\n"
          ],
          "name": "stdout"
        }
      ]
    },
    {
      "cell_type": "markdown",
      "metadata": {
        "_cell_guid": "dea7b01c-c8c1-401f-a336-36ee73de2222",
        "_uuid": "e1a08114e302ddc90266e5f065b3f0b5a200bc89",
        "papermill": {
          "duration": 0.077739,
          "end_time": "2020-12-04T03:58:56.629240",
          "exception": false,
          "start_time": "2020-12-04T03:58:56.551501",
          "status": "completed"
        },
        "tags": [],
        "id": "VZPNce4J1KTF"
      },
      "source": [
        "<a id=\"t2.2.\"></a>\n",
        "## 2.2. Cabin - Missing Values\n",
        "### feature 제거"
      ]
    },
    {
      "cell_type": "code",
      "metadata": {
        "_cell_guid": "1a1ad808-0a63-43ac-b757-71195880ed4f",
        "_uuid": "1acbce9c6bc5d586dda3e47b7506067a85524e66",
        "execution": {
          "iopub.execute_input": "2020-12-04T03:58:56.781709Z",
          "iopub.status.busy": "2020-12-04T03:58:56.780698Z",
          "iopub.status.idle": "2020-12-04T03:58:56.784181Z",
          "shell.execute_reply": "2020-12-04T03:58:56.784758Z"
        },
        "papermill": {
          "duration": 0.079363,
          "end_time": "2020-12-04T03:58:56.784912",
          "exception": false,
          "start_time": "2020-12-04T03:58:56.705549",
          "status": "completed"
        },
        "tags": [],
        "id": "M2MDLzlW1KTF",
        "outputId": "905b0677-66e8-44cc-c95f-d5e4660a0d39"
      },
      "source": [
        "# percent of missing \"Cabin\" \n",
        "print('Percent of missing \"Cabin\" records is %.2f%%' %((train_df['Cabin'].isnull().sum()/train_df.shape[0])*100))"
      ],
      "execution_count": null,
      "outputs": [
        {
          "output_type": "stream",
          "text": [
            "Percent of missing \"Cabin\" records is 77.10%\n"
          ],
          "name": "stdout"
        }
      ]
    },
    {
      "cell_type": "markdown",
      "metadata": {
        "_cell_guid": "eda8c434-63ff-4875-8566-2e194c0d3f66",
        "_uuid": "b6e037c7ac5ec476516031a06b042d8b9999ba44",
        "papermill": {
          "duration": 0.065313,
          "end_time": "2020-12-04T03:58:56.916893",
          "exception": false,
          "start_time": "2020-12-04T03:58:56.851580",
          "status": "completed"
        },
        "tags": [],
        "id": "l-htVXnh1KTG"
      },
      "source": [
        "77% of records are missing, which means that imputing information and using this variable for prediction is probably not wise.  We'll ignore this variable in our model."
      ]
    },
    {
      "cell_type": "markdown",
      "metadata": {
        "_cell_guid": "0e696cff-ca80-4cb5-862c-ee80f4b1ab1f",
        "_uuid": "d575319b1f528c7a153d8ab680282048cb163b14",
        "papermill": {
          "duration": 0.066908,
          "end_time": "2020-12-04T03:58:57.050354",
          "exception": false,
          "start_time": "2020-12-04T03:58:56.983446",
          "status": "completed"
        },
        "tags": [],
        "id": "eu0546cd1KTG"
      },
      "source": [
        "<a id=\"t2.3.\"></a>\n",
        "## 2.3. Embarked - Missing Values\n",
        "### 최빈값(mode) imputation"
      ]
    },
    {
      "cell_type": "code",
      "metadata": {
        "_cell_guid": "f21c2b55-2126-439d-8b1d-e96dafc97d81",
        "_uuid": "92ab9e62fb62f2a0fb9972baf6ada444187540e6",
        "execution": {
          "iopub.execute_input": "2020-12-04T03:58:57.189666Z",
          "iopub.status.busy": "2020-12-04T03:58:57.188901Z",
          "iopub.status.idle": "2020-12-04T03:58:57.194133Z",
          "shell.execute_reply": "2020-12-04T03:58:57.193294Z"
        },
        "papermill": {
          "duration": 0.0783,
          "end_time": "2020-12-04T03:58:57.194296",
          "exception": false,
          "start_time": "2020-12-04T03:58:57.115996",
          "status": "completed"
        },
        "tags": [],
        "id": "phGnBUw_1KTG",
        "outputId": "2f4e54ce-3162-4f24-f27c-419774acdb43"
      },
      "source": [
        "# percent of missing \"Embarked\" \n",
        "print('Percent of missing \"Embarked\" records is %.2f%%' %((train_df['Embarked'].isnull().sum()/train_df.shape[0])*100))"
      ],
      "execution_count": null,
      "outputs": [
        {
          "output_type": "stream",
          "text": [
            "Percent of missing \"Embarked\" records is 0.22%\n"
          ],
          "name": "stdout"
        }
      ]
    },
    {
      "cell_type": "markdown",
      "metadata": {
        "_cell_guid": "d03a4187-c527-4f71-8260-0495f4523e9e",
        "_uuid": "dc97b80524057522f024d0ae6f1abe77cb994903",
        "papermill": {
          "duration": 0.065817,
          "end_time": "2020-12-04T03:58:57.327667",
          "exception": false,
          "start_time": "2020-12-04T03:58:57.261850",
          "status": "completed"
        },
        "tags": [],
        "id": "8JxKaBC91KTH"
      },
      "source": [
        "There are only 2 (0.22%) missing values for \"Embarked\", so we can just impute with the port where most people boarded."
      ]
    },
    {
      "cell_type": "code",
      "metadata": {
        "_cell_guid": "22924bc4-5dfa-4df7-b0d0-de3ede9c58b7",
        "_uuid": "f2a915f45264f8a580de6cc382d96b370eb75730",
        "execution": {
          "iopub.execute_input": "2020-12-04T03:58:57.481726Z",
          "iopub.status.busy": "2020-12-04T03:58:57.480592Z",
          "iopub.status.idle": "2020-12-04T03:58:57.641521Z",
          "shell.execute_reply": "2020-12-04T03:58:57.640721Z"
        },
        "papermill": {
          "duration": 0.247143,
          "end_time": "2020-12-04T03:58:57.641661",
          "exception": false,
          "start_time": "2020-12-04T03:58:57.394518",
          "status": "completed"
        },
        "tags": [],
        "id": "_imGU2f91KTH",
        "outputId": "b2690a2b-1330-4c5c-ebc3-6c1568f9db54"
      },
      "source": [
        "print('Boarded passengers grouped by port of embarkation (C = Cherbourg, Q = Queenstown, S = Southampton):')\n",
        "print(train_df['Embarked'].value_counts())\n",
        "sns.countplot(x='Embarked', data=train_df, palette='Set2')\n",
        "plt.show()"
      ],
      "execution_count": null,
      "outputs": [
        {
          "output_type": "stream",
          "text": [
            "Boarded passengers grouped by port of embarkation (C = Cherbourg, Q = Queenstown, S = Southampton):\n",
            "S    644\n",
            "C    168\n",
            "Q     77\n",
            "Name: Embarked, dtype: int64\n"
          ],
          "name": "stdout"
        },
        {
          "output_type": "display_data",
          "data": {
            "image/png": "[encoded data removed]",
            "text/plain": [
              "<Figure size 432x288 with 1 Axes>"
            ]
          },
          "metadata": {
            "tags": []
          }
        }
      ]
    },
    {
      "cell_type": "code",
      "metadata": {
        "_cell_guid": "def67427-3257-4dce-872e-7f5b4202d18a",
        "_uuid": "c57a9f8a54efa382bc94b695c9664330d01709ea",
        "execution": {
          "iopub.execute_input": "2020-12-04T03:58:57.786597Z",
          "iopub.status.busy": "2020-12-04T03:58:57.785646Z",
          "iopub.status.idle": "2020-12-04T03:58:57.789438Z",
          "shell.execute_reply": "2020-12-04T03:58:57.790241Z"
        },
        "papermill": {
          "duration": 0.079976,
          "end_time": "2020-12-04T03:58:57.790454",
          "exception": false,
          "start_time": "2020-12-04T03:58:57.710478",
          "status": "completed"
        },
        "tags": [],
        "id": "hyv3a0U71KTH",
        "outputId": "efa2502e-44e7-4e1f-9fdd-87b25b144179"
      },
      "source": [
        "print('The most common boarding port of embarkation is %s.' %train_df['Embarked'].value_counts().idxmax())"
      ],
      "execution_count": null,
      "outputs": [
        {
          "output_type": "stream",
          "text": [
            "The most common boarding port of embarkation is S.\n"
          ],
          "name": "stdout"
        }
      ]
    },
    {
      "cell_type": "markdown",
      "metadata": {
        "_cell_guid": "c4c55f99-ce99-44f9-b7a8-d4d623ae9295",
        "_uuid": "19cfaae8c484dcb1d00f69b2771e86dc249e9793",
        "papermill": {
          "duration": 0.068107,
          "end_time": "2020-12-04T03:58:57.927891",
          "exception": false,
          "start_time": "2020-12-04T03:58:57.859784",
          "status": "completed"
        },
        "tags": [],
        "id": "a0cWE0lx1KTH"
      },
      "source": [
        "By far the most passengers boarded in Southhampton, so we'll impute those 2 NaN's w/ \"S\"."
      ]
    },
    {
      "cell_type": "markdown",
      "metadata": {
        "_cell_guid": "684c308f-25ae-4039-9332-ddb58953a054",
        "_uuid": "3609e785d210d5a8110f7ce550e61007d066449b",
        "papermill": {
          "duration": 0.06934,
          "end_time": "2020-12-04T03:58:58.066201",
          "exception": false,
          "start_time": "2020-12-04T03:58:57.996861",
          "status": "completed"
        },
        "tags": [],
        "id": "0_YJP6Sc1KTI"
      },
      "source": [
        "<a id=\"t2.4.\"></a>\n",
        "## 2.4. Final Adjustments to Data (Train & Test)"
      ]
    },
    {
      "cell_type": "markdown",
      "metadata": {
        "_cell_guid": "b3025cdc-fe9f-43b6-bda1-e45c1f25e77c",
        "_uuid": "06d2762ccec3f11564870fe941fc9ac45d71662f",
        "papermill": {
          "duration": 0.068768,
          "end_time": "2020-12-04T03:58:58.203975",
          "exception": false,
          "start_time": "2020-12-04T03:58:58.135207",
          "status": "completed"
        },
        "tags": [],
        "id": "8iv1mkBp1KTI"
      },
      "source": [
        "Based on my assessment of the missing values in the dataset, I'll make the following changes to the data:\n",
        "* If \"Age\" is missing for a given row, I'll impute with 28 (median age).\n",
        "* If \"Embarked\" is missing for a riven row, I'll impute with \"S\" (the most common boarding port).\n",
        "* I'll ignore \"Cabin\" as a variable. There are too many missing values for imputation. Based on the information available, it appears that this value is associated with the passenger's class and fare paid."
      ]
    },
    {
      "cell_type": "code",
      "metadata": {
        "_cell_guid": "bc0d7121-1008-4890-9043-07eba1524e15",
        "_uuid": "feeed4b6775f88edf5de12b0ee6ee73c16eba61d",
        "execution": {
          "iopub.execute_input": "2020-12-04T03:58:58.355005Z",
          "iopub.status.busy": "2020-12-04T03:58:58.354067Z",
          "iopub.status.idle": "2020-12-04T03:58:58.356840Z",
          "shell.execute_reply": "2020-12-04T03:58:58.357502Z"
        },
        "papermill": {
          "duration": 0.085146,
          "end_time": "2020-12-04T03:58:58.357662",
          "exception": false,
          "start_time": "2020-12-04T03:58:58.272516",
          "status": "completed"
        },
        "tags": [],
        "id": "yNx_6hJf1KTI"
      },
      "source": [
        "train_data = train_df.copy()\n",
        "train_data[\"Age\"].fillna(train_df[\"Age\"].median(skipna=True), inplace=True)\n",
        "train_data[\"Embarked\"].fillna(train_df['Embarked'].value_counts().idxmax(), inplace=True)\n",
        "train_data.drop('Cabin', axis=1, inplace=True)"
      ],
      "execution_count": null,
      "outputs": []
    },
    {
      "cell_type": "code",
      "metadata": {
        "_cell_guid": "0cfe1c08-71a6-493e-803d-db255af01697",
        "_uuid": "d6be29651bb903964e02d3a7bcc7033513eb76c9",
        "execution": {
          "iopub.execute_input": "2020-12-04T03:58:58.506182Z",
          "iopub.status.busy": "2020-12-04T03:58:58.505096Z",
          "iopub.status.idle": "2020-12-04T03:58:58.509967Z",
          "shell.execute_reply": "2020-12-04T03:58:58.509273Z"
        },
        "papermill": {
          "duration": 0.082339,
          "end_time": "2020-12-04T03:58:58.510086",
          "exception": false,
          "start_time": "2020-12-04T03:58:58.427747",
          "status": "completed"
        },
        "tags": [],
        "id": "1fKQaIO21KTJ",
        "outputId": "6b528dda-ef08-4fb2-b7df-6cf92a40391a"
      },
      "source": [
        "# check missing values in adjusted train data\n",
        "train_data.isnull().sum()"
      ],
      "execution_count": null,
      "outputs": [
        {
          "output_type": "execute_result",
          "data": {
            "text/plain": [
              "PassengerId    0\n",
              "Survived       0\n",
              "Pclass         0\n",
              "Name           0\n",
              "Sex            0\n",
              "Age            0\n",
              "SibSp          0\n",
              "Parch          0\n",
              "Ticket         0\n",
              "Fare           0\n",
              "Embarked       0\n",
              "dtype: int64"
            ]
          },
          "metadata": {
            "tags": []
          },
          "execution_count": 15
        }
      ]
    },
    {
      "cell_type": "code",
      "metadata": {
        "_cell_guid": "10dcfe1b-34f1-4bd8-b937-5ae8daf4a378",
        "_uuid": "3ee37b1151416aeeec8ebd7b94bb0184aabc57cd",
        "execution": {
          "iopub.execute_input": "2020-12-04T03:58:58.666013Z",
          "iopub.status.busy": "2020-12-04T03:58:58.664919Z",
          "iopub.status.idle": "2020-12-04T03:58:58.669606Z",
          "shell.execute_reply": "2020-12-04T03:58:58.668846Z"
        },
        "papermill": {
          "duration": 0.09093,
          "end_time": "2020-12-04T03:58:58.669735",
          "exception": false,
          "start_time": "2020-12-04T03:58:58.578805",
          "status": "completed"
        },
        "tags": [],
        "id": "u_MZ34_71KTJ",
        "outputId": "01be6579-b4a9-439b-f34d-92fff04f2fb1"
      },
      "source": [
        "# preview adjusted train data\n",
        "train_data.head()"
      ],
      "execution_count": null,
      "outputs": [
        {
          "output_type": "execute_result",
          "data": {
            "text/html": [
              "<div>\n",
              "<style scoped>\n",
              "    .dataframe tbody tr th:only-of-type {\n",
              "        vertical-align: middle;\n",
              "    }\n",
              "\n",
              "    .dataframe tbody tr th {\n",
              "        vertical-align: top;\n",
              "    }\n",
              "\n",
              "    .dataframe thead th {\n",
              "        text-align: right;\n",
              "    }\n",
              "</style>\n",
              "<table border=\"1\" class=\"dataframe\">\n",
              "  <thead>\n",
              "    <tr style=\"text-align: right;\">\n",
              "      <th></th>\n",
              "      <th>PassengerId</th>\n",
              "      <th>Survived</th>\n",
              "      <th>Pclass</th>\n",
              "      <th>Name</th>\n",
              "      <th>Sex</th>\n",
              "      <th>Age</th>\n",
              "      <th>SibSp</th>\n",
              "      <th>Parch</th>\n",
              "      <th>Ticket</th>\n",
              "      <th>Fare</th>\n",
              "      <th>Embarked</th>\n",
              "    </tr>\n",
              "  </thead>\n",
              "  <tbody>\n",
              "    <tr>\n",
              "      <th>0</th>\n",
              "      <td>1</td>\n",
              "      <td>0</td>\n",
              "      <td>3</td>\n",
              "      <td>Braund, Mr. Owen Harris</td>\n",
              "      <td>male</td>\n",
              "      <td>22.0</td>\n",
              "      <td>1</td>\n",
              "      <td>0</td>\n",
              "      <td>A/5 21171</td>\n",
              "      <td>7.2500</td>\n",
              "      <td>S</td>\n",
              "    </tr>\n",
              "    <tr>\n",
              "      <th>1</th>\n",
              "      <td>2</td>\n",
              "      <td>1</td>\n",
              "      <td>1</td>\n",
              "      <td>Cumings, Mrs. John Bradley (Florence Briggs Th...</td>\n",
              "      <td>female</td>\n",
              "      <td>38.0</td>\n",
              "      <td>1</td>\n",
              "      <td>0</td>\n",
              "      <td>PC 17599</td>\n",
              "      <td>71.2833</td>\n",
              "      <td>C</td>\n",
              "    </tr>\n",
              "    <tr>\n",
              "      <th>2</th>\n",
              "      <td>3</td>\n",
              "      <td>1</td>\n",
              "      <td>3</td>\n",
              "      <td>Heikkinen, Miss. Laina</td>\n",
              "      <td>female</td>\n",
              "      <td>26.0</td>\n",
              "      <td>0</td>\n",
              "      <td>0</td>\n",
              "      <td>STON/O2. 3101282</td>\n",
              "      <td>7.9250</td>\n",
              "      <td>S</td>\n",
              "    </tr>\n",
              "    <tr>\n",
              "      <th>3</th>\n",
              "      <td>4</td>\n",
              "      <td>1</td>\n",
              "      <td>1</td>\n",
              "      <td>Futrelle, Mrs. Jacques Heath (Lily May Peel)</td>\n",
              "      <td>female</td>\n",
              "      <td>35.0</td>\n",
              "      <td>1</td>\n",
              "      <td>0</td>\n",
              "      <td>113803</td>\n",
              "      <td>53.1000</td>\n",
              "      <td>S</td>\n",
              "    </tr>\n",
              "    <tr>\n",
              "      <th>4</th>\n",
              "      <td>5</td>\n",
              "      <td>0</td>\n",
              "      <td>3</td>\n",
              "      <td>Allen, Mr. William Henry</td>\n",
              "      <td>male</td>\n",
              "      <td>35.0</td>\n",
              "      <td>0</td>\n",
              "      <td>0</td>\n",
              "      <td>373450</td>\n",
              "      <td>8.0500</td>\n",
              "      <td>S</td>\n",
              "    </tr>\n",
              "  </tbody>\n",
              "</table>\n",
              "</div>"
            ],
            "text/plain": [
              "   PassengerId  Survived  Pclass  \\\n",
              "0            1         0       3   \n",
              "1            2         1       1   \n",
              "2            3         1       3   \n",
              "3            4         1       1   \n",
              "4            5         0       3   \n",
              "\n",
              "                                                Name     Sex   Age  SibSp  \\\n",
              "0                            Braund, Mr. Owen Harris    male  22.0      1   \n",
              "1  Cumings, Mrs. John Bradley (Florence Briggs Th...  female  38.0      1   \n",
              "2                             Heikkinen, Miss. Laina  female  26.0      0   \n",
              "3       Futrelle, Mrs. Jacques Heath (Lily May Peel)  female  35.0      1   \n",
              "4                           Allen, Mr. William Henry    male  35.0      0   \n",
              "\n",
              "   Parch            Ticket     Fare Embarked  \n",
              "0      0         A/5 21171   7.2500        S  \n",
              "1      0          PC 17599  71.2833        C  \n",
              "2      0  STON/O2. 3101282   7.9250        S  \n",
              "3      0            113803  53.1000        S  \n",
              "4      0            373450   8.0500        S  "
            ]
          },
          "metadata": {
            "tags": []
          },
          "execution_count": 16
        }
      ]
    },
    {
      "cell_type": "code",
      "metadata": {
        "_cell_guid": "dda26046-b93b-49ee-a52e-35355ecb425c",
        "_uuid": "293aec20df86ef529d10ae1f051dfe921ba07b88",
        "execution": {
          "iopub.execute_input": "2020-12-04T03:58:58.827024Z",
          "iopub.status.busy": "2020-12-04T03:58:58.819624Z",
          "iopub.status.idle": "2020-12-04T03:58:59.350421Z",
          "shell.execute_reply": "2020-12-04T03:58:59.349671Z"
        },
        "papermill": {
          "duration": 0.610247,
          "end_time": "2020-12-04T03:58:59.350547",
          "exception": false,
          "start_time": "2020-12-04T03:58:58.740300",
          "status": "completed"
        },
        "tags": [],
        "id": "uo5ky0z41KTJ",
        "outputId": "cb112d05-74e4-4c23-ca66-6f1cfa5e9639"
      },
      "source": [
        "plt.figure(figsize=(15,8))\n",
        "ax = train_df[\"Age\"].hist(bins=15, density=True, stacked=True, color='teal', alpha=0.6)\n",
        "train_df[\"Age\"].plot(kind='density', color='teal')\n",
        "ax = train_data[\"Age\"].hist(bins=15, density=True, stacked=True, color='orange', alpha=0.5)\n",
        "train_data[\"Age\"].plot(kind='density', color='orange')\n",
        "ax.legend(['Raw Age', 'Adjusted Age'])\n",
        "ax.set(xlabel='Age')\n",
        "plt.xlim(-10,85)\n",
        "plt.show()"
      ],
      "execution_count": null,
      "outputs": [
        {
          "output_type": "display_data",
          "data": {
            "image/png": "[encoded data removed]",
            "text/plain": [
              "<Figure size 1080x576 with 1 Axes>"
            ]
          },
          "metadata": {
            "tags": []
          }
        }
      ]
    },
    {
      "cell_type": "markdown",
      "metadata": {
        "_cell_guid": "6925fcc2-977b-4369-85e1-77a9210326a7",
        "_uuid": "d8280757e6bc627821fb0540c87ccd6ca110f1e0",
        "papermill": {
          "duration": 0.071803,
          "end_time": "2020-12-04T03:58:59.495589",
          "exception": false,
          "start_time": "2020-12-04T03:58:59.423786",
          "status": "completed"
        },
        "tags": [],
        "id": "J6JZcyrQ1KTK"
      },
      "source": [
        "<a id=\"t2.4.1.\"></a>\n",
        "## 2.4.1. Additional Variables"
      ]
    },
    {
      "cell_type": "markdown",
      "metadata": {
        "_cell_guid": "5cf98f33-fdd5-4a16-b6bf-fa36bc8b84e0",
        "_uuid": "3bfdee842f11d27ca490f466c45ef9bf3673e7ae",
        "papermill": {
          "duration": 0.071141,
          "end_time": "2020-12-04T03:58:59.638499",
          "exception": false,
          "start_time": "2020-12-04T03:58:59.567358",
          "status": "completed"
        },
        "tags": [],
        "id": "mHd9QRhL1KTK"
      },
      "source": [
        "According to the Kaggle data dictionary, both SibSp and Parch relate to traveling with family.  For simplicity's sake (and to account for possible multicollinearity), I'll combine the effect of these variables into one categorical predictor: whether or not that individual was traveling alone."
      ]
    },
    {
      "cell_type": "code",
      "metadata": {
        "_cell_guid": "759c3c8e-8db6-41d9-a1a2-058a15b338a6",
        "_uuid": "d1f5815ba663f7e8cc17d7efcff73653af5b1bdb",
        "execution": {
          "iopub.execute_input": "2020-12-04T03:58:59.788925Z",
          "iopub.status.busy": "2020-12-04T03:58:59.788158Z",
          "iopub.status.idle": "2020-12-04T03:58:59.895479Z",
          "shell.execute_reply": "2020-12-04T03:58:59.894757Z"
        },
        "papermill": {
          "duration": 0.185725,
          "end_time": "2020-12-04T03:58:59.895624",
          "exception": false,
          "start_time": "2020-12-04T03:58:59.709899",
          "status": "completed"
        },
        "tags": [],
        "id": "MoG727Y11KTK"
      },
      "source": [
        "## Create categorical variable for traveling alone\n",
        "train_data['TravelAlone'] = np.where((train_data[\"SibSp\"]+train_data[\"Parch\"])>0, 0, 1)\n",
        "train_data.drop('SibSp', axis=1, inplace=True)\n",
        "train_data.drop('Parch', axis=1, inplace=True)"
      ],
      "execution_count": null,
      "outputs": []
    },
    {
      "cell_type": "markdown",
      "metadata": {
        "_cell_guid": "e4a22367-b719-4204-952f-d2e9a3b8075e",
        "_uuid": "ca53796bf788bd3b015f1a79a97e050bafa2c770",
        "papermill": {
          "duration": 0.071927,
          "end_time": "2020-12-04T03:59:00.090455",
          "exception": false,
          "start_time": "2020-12-04T03:59:00.018528",
          "status": "completed"
        },
        "tags": [],
        "id": "Aaq84lra1KTL"
      },
      "source": [
        "I'll also create categorical variables for Passenger Class (\"Pclass\"), Gender (\"Sex\"), and Port Embarked (\"Embarked\"). "
      ]
    },
    {
      "cell_type": "code",
      "metadata": {
        "_cell_guid": "f95361e8-2533-4731-a7ab-a99cf686ed50",
        "_uuid": "4494fcbf9faa90151e20042f74d73395fac3cc8e",
        "execution": {
          "iopub.execute_input": "2020-12-04T03:59:00.248054Z",
          "iopub.status.busy": "2020-12-04T03:59:00.244658Z",
          "iopub.status.idle": "2020-12-04T03:59:00.273585Z",
          "shell.execute_reply": "2020-12-04T03:59:00.272771Z"
        },
        "papermill": {
          "duration": 0.110804,
          "end_time": "2020-12-04T03:59:00.273719",
          "exception": false,
          "start_time": "2020-12-04T03:59:00.162915",
          "status": "completed"
        },
        "tags": [],
        "id": "1MjZeaEL1KTL",
        "outputId": "062d477a-4f90-4fa8-c16a-7c2e4bfadfe1"
      },
      "source": [
        "#create categorical variables and drop some variables\n",
        "training=pd.get_dummies(train_data, columns=[\"Pclass\",\"Embarked\",\"Sex\"])\n",
        "training.drop('Sex_female', axis=1, inplace=True) # \"binary 일때는 ohe_feature 하나를 제거해준다\"\n",
        "training.drop('PassengerId', axis=1, inplace=True)\n",
        "training.drop('Name', axis=1, inplace=True)\n",
        "training.drop('Ticket', axis=1, inplace=True)\n",
        "\n",
        "final_train = training\n",
        "final_train.head()"
      ],
      "execution_count": null,
      "outputs": [
        {
          "output_type": "execute_result",
          "data": {
            "text/html": [
              "<div>\n",
              "<style scoped>\n",
              "    .dataframe tbody tr th:only-of-type {\n",
              "        vertical-align: middle;\n",
              "    }\n",
              "\n",
              "    .dataframe tbody tr th {\n",
              "        vertical-align: top;\n",
              "    }\n",
              "\n",
              "    .dataframe thead th {\n",
              "        text-align: right;\n",
              "    }\n",
              "</style>\n",
              "<table border=\"1\" class=\"dataframe\">\n",
              "  <thead>\n",
              "    <tr style=\"text-align: right;\">\n",
              "      <th></th>\n",
              "      <th>Survived</th>\n",
              "      <th>Age</th>\n",
              "      <th>Fare</th>\n",
              "      <th>TravelAlone</th>\n",
              "      <th>Pclass_1</th>\n",
              "      <th>Pclass_2</th>\n",
              "      <th>Pclass_3</th>\n",
              "      <th>Embarked_C</th>\n",
              "      <th>Embarked_Q</th>\n",
              "      <th>Embarked_S</th>\n",
              "      <th>Sex_male</th>\n",
              "    </tr>\n",
              "  </thead>\n",
              "  <tbody>\n",
              "    <tr>\n",
              "      <th>0</th>\n",
              "      <td>0</td>\n",
              "      <td>22.0</td>\n",
              "      <td>7.2500</td>\n",
              "      <td>0</td>\n",
              "      <td>0</td>\n",
              "      <td>0</td>\n",
              "      <td>1</td>\n",
              "      <td>0</td>\n",
              "      <td>0</td>\n",
              "      <td>1</td>\n",
              "      <td>1</td>\n",
              "    </tr>\n",
              "    <tr>\n",
              "      <th>1</th>\n",
              "      <td>1</td>\n",
              "      <td>38.0</td>\n",
              "      <td>71.2833</td>\n",
              "      <td>0</td>\n",
              "      <td>1</td>\n",
              "      <td>0</td>\n",
              "      <td>0</td>\n",
              "      <td>1</td>\n",
              "      <td>0</td>\n",
              "      <td>0</td>\n",
              "      <td>0</td>\n",
              "    </tr>\n",
              "    <tr>\n",
              "      <th>2</th>\n",
              "      <td>1</td>\n",
              "      <td>26.0</td>\n",
              "      <td>7.9250</td>\n",
              "      <td>1</td>\n",
              "      <td>0</td>\n",
              "      <td>0</td>\n",
              "      <td>1</td>\n",
              "      <td>0</td>\n",
              "      <td>0</td>\n",
              "      <td>1</td>\n",
              "      <td>0</td>\n",
              "    </tr>\n",
              "    <tr>\n",
              "      <th>3</th>\n",
              "      <td>1</td>\n",
              "      <td>35.0</td>\n",
              "      <td>53.1000</td>\n",
              "      <td>0</td>\n",
              "      <td>1</td>\n",
              "      <td>0</td>\n",
              "      <td>0</td>\n",
              "      <td>0</td>\n",
              "      <td>0</td>\n",
              "      <td>1</td>\n",
              "      <td>0</td>\n",
              "    </tr>\n",
              "    <tr>\n",
              "      <th>4</th>\n",
              "      <td>0</td>\n",
              "      <td>35.0</td>\n",
              "      <td>8.0500</td>\n",
              "      <td>1</td>\n",
              "      <td>0</td>\n",
              "      <td>0</td>\n",
              "      <td>1</td>\n",
              "      <td>0</td>\n",
              "      <td>0</td>\n",
              "      <td>1</td>\n",
              "      <td>1</td>\n",
              "    </tr>\n",
              "  </tbody>\n",
              "</table>\n",
              "</div>"
            ],
            "text/plain": [
              "   Survived   Age     Fare  TravelAlone  Pclass_1  Pclass_2  Pclass_3  \\\n",
              "0         0  22.0   7.2500            0         0         0         1   \n",
              "1         1  38.0  71.2833            0         1         0         0   \n",
              "2         1  26.0   7.9250            1         0         0         1   \n",
              "3         1  35.0  53.1000            0         1         0         0   \n",
              "4         0  35.0   8.0500            1         0         0         1   \n",
              "\n",
              "   Embarked_C  Embarked_Q  Embarked_S  Sex_male  \n",
              "0           0           0           1         1  \n",
              "1           1           0           0         0  \n",
              "2           0           0           1         0  \n",
              "3           0           0           1         0  \n",
              "4           0           0           1         1  "
            ]
          },
          "metadata": {
            "tags": []
          },
          "execution_count": 19
        }
      ]
    },
    {
      "cell_type": "markdown",
      "metadata": {
        "_cell_guid": "768cf074-6ecb-47eb-9b42-8b9079ffb811",
        "_uuid": "6a8e533e77c7f1f1a68d136119f93972447a31cf",
        "papermill": {
          "duration": 0.072276,
          "end_time": "2020-12-04T03:59:00.418419",
          "exception": false,
          "start_time": "2020-12-04T03:59:00.346143",
          "status": "completed"
        },
        "tags": [],
        "id": "q95Ri5_E1KTL"
      },
      "source": [
        "### Now, apply the same changes to the test data. <br>\n",
        "I will apply to same imputation for \"Age\" in the Test data as I did for my Training data (if missing, Age = 28).  <br> I'll also remove the \"Cabin\" variable from the test data, as I've decided not to include it in my analysis. <br> There were no missing values in the \"Embarked\" port variable. <br> I'll add the dummy variables to finalize the test set.  <br> Finally, I'll impute the 1 missing value for \"Fare\" with the median, 14.45."
      ]
    },
    {
      "cell_type": "code",
      "metadata": {
        "_cell_guid": "501f9a53-881d-4440-9366-7aae67eb358b",
        "_uuid": "d80416a026d17ccac3bf793408dd5f4f1e17bf63",
        "execution": {
          "iopub.execute_input": "2020-12-04T03:59:00.613393Z",
          "iopub.status.busy": "2020-12-04T03:59:00.609716Z",
          "iopub.status.idle": "2020-12-04T03:59:00.617292Z",
          "shell.execute_reply": "2020-12-04T03:59:00.618383Z"
        },
        "papermill": {
          "duration": 0.127584,
          "end_time": "2020-12-04T03:59:00.618606",
          "exception": false,
          "start_time": "2020-12-04T03:59:00.491022",
          "status": "completed"
        },
        "tags": [],
        "id": "gD3h2-sj1KTL",
        "outputId": "315fad2f-8f16-4c25-bc20-ce8a70eb5c6f"
      },
      "source": [
        "test_df.isnull().sum()"
      ],
      "execution_count": null,
      "outputs": [
        {
          "output_type": "execute_result",
          "data": {
            "text/plain": [
              "PassengerId      0\n",
              "Pclass           0\n",
              "Name             0\n",
              "Sex              0\n",
              "Age             86\n",
              "SibSp            0\n",
              "Parch            0\n",
              "Ticket           0\n",
              "Fare             1\n",
              "Cabin          327\n",
              "Embarked         0\n",
              "dtype: int64"
            ]
          },
          "metadata": {
            "tags": []
          },
          "execution_count": 20
        }
      ]
    },
    {
      "cell_type": "code",
      "metadata": {
        "_cell_guid": "8b9ef076-3669-4339-8d10-0d8783a92e07",
        "_uuid": "145675b90aa2befa533c640aaedd4bf8069b12d4",
        "execution": {
          "iopub.execute_input": "2020-12-04T03:59:00.791576Z",
          "iopub.status.busy": "2020-12-04T03:59:00.790400Z",
          "iopub.status.idle": "2020-12-04T03:59:00.821470Z",
          "shell.execute_reply": "2020-12-04T03:59:00.820292Z"
        },
        "papermill": {
          "duration": 0.122997,
          "end_time": "2020-12-04T03:59:00.821682",
          "exception": false,
          "start_time": "2020-12-04T03:59:00.698685",
          "status": "completed"
        },
        "tags": [],
        "id": "LWLG6RT01KTM",
        "outputId": "f22d07ad-93fb-4bbd-f66e-66faa12b0104"
      },
      "source": [
        "test_data = test_df.copy()\n",
        "test_data[\"Age\"].fillna(train_df[\"Age\"].median(skipna=True), inplace=True)\n",
        "test_data[\"Fare\"].fillna(train_df[\"Fare\"].median(skipna=True), inplace=True)\n",
        "test_data.drop('Cabin', axis=1, inplace=True)\n",
        "\n",
        "test_data['TravelAlone']=np.where((test_data[\"SibSp\"]+test_data[\"Parch\"])>0, 0, 1)\n",
        "\n",
        "test_data.drop('SibSp', axis=1, inplace=True)\n",
        "test_data.drop('Parch', axis=1, inplace=True)\n",
        "\n",
        "testing = pd.get_dummies(test_data, columns=[\"Pclass\",\"Embarked\",\"Sex\"])\n",
        "testing.drop('Sex_female', axis=1, inplace=True)\n",
        "testing.drop('PassengerId', axis=1, inplace=True)\n",
        "testing.drop('Name', axis=1, inplace=True)\n",
        "testing.drop('Ticket', axis=1, inplace=True)\n",
        "\n",
        "final_test = testing\n",
        "final_test.head()"
      ],
      "execution_count": null,
      "outputs": [
        {
          "output_type": "execute_result",
          "data": {
            "text/html": [
              "<div>\n",
              "<style scoped>\n",
              "    .dataframe tbody tr th:only-of-type {\n",
              "        vertical-align: middle;\n",
              "    }\n",
              "\n",
              "    .dataframe tbody tr th {\n",
              "        vertical-align: top;\n",
              "    }\n",
              "\n",
              "    .dataframe thead th {\n",
              "        text-align: right;\n",
              "    }\n",
              "</style>\n",
              "<table border=\"1\" class=\"dataframe\">\n",
              "  <thead>\n",
              "    <tr style=\"text-align: right;\">\n",
              "      <th></th>\n",
              "      <th>Age</th>\n",
              "      <th>Fare</th>\n",
              "      <th>TravelAlone</th>\n",
              "      <th>Pclass_1</th>\n",
              "      <th>Pclass_2</th>\n",
              "      <th>Pclass_3</th>\n",
              "      <th>Embarked_C</th>\n",
              "      <th>Embarked_Q</th>\n",
              "      <th>Embarked_S</th>\n",
              "      <th>Sex_male</th>\n",
              "    </tr>\n",
              "  </thead>\n",
              "  <tbody>\n",
              "    <tr>\n",
              "      <th>0</th>\n",
              "      <td>34.5</td>\n",
              "      <td>7.8292</td>\n",
              "      <td>1</td>\n",
              "      <td>0</td>\n",
              "      <td>0</td>\n",
              "      <td>1</td>\n",
              "      <td>0</td>\n",
              "      <td>1</td>\n",
              "      <td>0</td>\n",
              "      <td>1</td>\n",
              "    </tr>\n",
              "    <tr>\n",
              "      <th>1</th>\n",
              "      <td>47.0</td>\n",
              "      <td>7.0000</td>\n",
              "      <td>0</td>\n",
              "      <td>0</td>\n",
              "      <td>0</td>\n",
              "      <td>1</td>\n",
              "      <td>0</td>\n",
              "      <td>0</td>\n",
              "      <td>1</td>\n",
              "      <td>0</td>\n",
              "    </tr>\n",
              "    <tr>\n",
              "      <th>2</th>\n",
              "      <td>62.0</td>\n",
              "      <td>9.6875</td>\n",
              "      <td>1</td>\n",
              "      <td>0</td>\n",
              "      <td>1</td>\n",
              "      <td>0</td>\n",
              "      <td>0</td>\n",
              "      <td>1</td>\n",
              "      <td>0</td>\n",
              "      <td>1</td>\n",
              "    </tr>\n",
              "    <tr>\n",
              "      <th>3</th>\n",
              "      <td>27.0</td>\n",
              "      <td>8.6625</td>\n",
              "      <td>1</td>\n",
              "      <td>0</td>\n",
              "      <td>0</td>\n",
              "      <td>1</td>\n",
              "      <td>0</td>\n",
              "      <td>0</td>\n",
              "      <td>1</td>\n",
              "      <td>1</td>\n",
              "    </tr>\n",
              "    <tr>\n",
              "      <th>4</th>\n",
              "      <td>22.0</td>\n",
              "      <td>12.2875</td>\n",
              "      <td>0</td>\n",
              "      <td>0</td>\n",
              "      <td>0</td>\n",
              "      <td>1</td>\n",
              "      <td>0</td>\n",
              "      <td>0</td>\n",
              "      <td>1</td>\n",
              "      <td>0</td>\n",
              "    </tr>\n",
              "  </tbody>\n",
              "</table>\n",
              "</div>"
            ],
            "text/plain": [
              "    Age     Fare  TravelAlone  Pclass_1  Pclass_2  Pclass_3  Embarked_C  \\\n",
              "0  34.5   7.8292            1         0         0         1           0   \n",
              "1  47.0   7.0000            0         0         0         1           0   \n",
              "2  62.0   9.6875            1         0         1         0           0   \n",
              "3  27.0   8.6625            1         0         0         1           0   \n",
              "4  22.0  12.2875            0         0         0         1           0   \n",
              "\n",
              "   Embarked_Q  Embarked_S  Sex_male  \n",
              "0           1           0         1  \n",
              "1           0           1         0  \n",
              "2           1           0         1  \n",
              "3           0           1         1  \n",
              "4           0           1         0  "
            ]
          },
          "metadata": {
            "tags": []
          },
          "execution_count": 21
        }
      ]
    },
    {
      "cell_type": "markdown",
      "metadata": {
        "_cell_guid": "1430d510-1c8d-4544-8009-3911fff7afbb",
        "_uuid": "4e26c19bf719b7086addc0e1981c00836a19f189",
        "papermill": {
          "duration": 0.07512,
          "end_time": "2020-12-04T03:59:00.980265",
          "exception": false,
          "start_time": "2020-12-04T03:59:00.905145",
          "status": "completed"
        },
        "tags": [],
        "id": "m181_m561KTM"
      },
      "source": [
        "<a id=\"t3.\"></a>\n",
        "# 3. Exploratory Data Analysis"
      ]
    },
    {
      "cell_type": "markdown",
      "metadata": {
        "_cell_guid": "2655428b-d69d-4c0f-85ff-e31ada8e37b9",
        "_uuid": "32e9c04a3281fb1aa8c77e1406c56cd820459202",
        "papermill": {
          "duration": 0.074339,
          "end_time": "2020-12-04T03:59:01.137258",
          "exception": false,
          "start_time": "2020-12-04T03:59:01.062919",
          "status": "completed"
        },
        "tags": [],
        "id": "pH95w6SP1KTM"
      },
      "source": [
        "<a id=\"t3.1.\"></a>\n",
        "## 3.1. Exploration of Age\n",
        "### survivor, dead -> 어린이비율에 대한 명목변수 추가"
      ]
    },
    {
      "cell_type": "code",
      "metadata": {
        "_cell_guid": "9f9ca9e5-50a0-4487-ba53-815dda90af1c",
        "_uuid": "790e8d7ca89d19e276b3398e299c42893a796b79",
        "execution": {
          "iopub.execute_input": "2020-12-04T03:59:01.297489Z",
          "iopub.status.busy": "2020-12-04T03:59:01.295958Z",
          "iopub.status.idle": "2020-12-04T03:59:01.654482Z",
          "shell.execute_reply": "2020-12-04T03:59:01.655085Z"
        },
        "papermill": {
          "duration": 0.442525,
          "end_time": "2020-12-04T03:59:01.655276",
          "exception": false,
          "start_time": "2020-12-04T03:59:01.212751",
          "status": "completed"
        },
        "tags": [],
        "id": "IvJJNPT81KTN",
        "outputId": "f7ca7a24-6fff-4f12-ed66-64f68a8806af"
      },
      "source": [
        "plt.figure(figsize=(15,8))\n",
        "ax = sns.kdeplot(final_train[\"Age\"][final_train.Survived == 1], color=\"darkturquoise\", shade=True)\n",
        "sns.kdeplot(final_train[\"Age\"][final_train.Survived == 0], color=\"lightcoral\", shade=True)\n",
        "plt.legend(['Survived', 'Died'])\n",
        "plt.title('Density Plot of Age for Surviving Population and Deceased Population')\n",
        "ax.set(xlabel='Age')\n",
        "plt.xlim(-10,85)\n",
        "plt.show()"
      ],
      "execution_count": null,
      "outputs": [
        {
          "output_type": "display_data",
          "data": {
            "image/png": "[encoded data removed]",
            "text/plain": [
              "<Figure size 1080x576 with 1 Axes>"
            ]
          },
          "metadata": {
            "tags": []
          }
        }
      ]
    },
    {
      "cell_type": "markdown",
      "metadata": {
        "_cell_guid": "8e304d72-27f3-41cf-863f-63872f4c37df",
        "_uuid": "6c5625b454f5e01dd6b6d843d801851c14c64d1e",
        "papermill": {
          "duration": 0.076073,
          "end_time": "2020-12-04T03:59:01.807561",
          "exception": false,
          "start_time": "2020-12-04T03:59:01.731488",
          "status": "completed"
        },
        "tags": [],
        "id": "ygjQkrfU1KTN"
      },
      "source": [
        "The age distribution for survivors and deceased is actually very similar.  One notable difference is that, of the survivors, a larger proportion were children.  The passengers evidently made an attempt to save children by giving them a place on the life rafts. "
      ]
    },
    {
      "cell_type": "code",
      "metadata": {
        "_cell_guid": "d2aa9f59-c433-4258-b8db-225b63a5eab6",
        "_uuid": "9cf1794d9db2fdc314c20ca97a76e9470e81a354",
        "execution": {
          "iopub.execute_input": "2020-12-04T03:59:01.975350Z",
          "iopub.status.busy": "2020-12-04T03:59:01.971764Z",
          "iopub.status.idle": "2020-12-04T03:59:04.745958Z",
          "shell.execute_reply": "2020-12-04T03:59:04.745365Z"
        },
        "papermill": {
          "duration": 2.861614,
          "end_time": "2020-12-04T03:59:04.746088",
          "exception": false,
          "start_time": "2020-12-04T03:59:01.884474",
          "status": "completed"
        },
        "tags": [],
        "id": "VcguwBnu1KTN",
        "outputId": "3af2cf78-5fa1-47fb-81c6-f83844ac8222"
      },
      "source": [
        "plt.figure(figsize=(20,8))\n",
        "avg_survival_byage = final_train[[\"Age\", \"Survived\"]].groupby(['Age'], as_index=False).mean()\n",
        "g = sns.barplot(x='Age', y='Survived', data=avg_survival_byage, color=\"LightSeaGreen\")\n",
        "plt.show()"
      ],
      "execution_count": null,
      "outputs": [
        {
          "output_type": "display_data",
          "data": {
            "image/png": "[encoded data removed]",
            "text/plain": [
              "<Figure size 1440x576 with 1 Axes>"
            ]
          },
          "metadata": {
            "tags": []
          }
        }
      ]
    },
    {
      "cell_type": "markdown",
      "metadata": {
        "_cell_guid": "0b636440-ab38-46a8-8cc9-9421683d5c0b",
        "_uuid": "67051cf653243b3103c9f8015c501d89d92bd3bc",
        "papermill": {
          "duration": 0.079823,
          "end_time": "2020-12-04T03:59:04.904731",
          "exception": false,
          "start_time": "2020-12-04T03:59:04.824908",
          "status": "completed"
        },
        "tags": [],
        "id": "bq8CAupz1KTN"
      },
      "source": [
        "Considering the survival rate of passengers under 16, I'll also include another categorical variable in my dataset: \"Minor\""
      ]
    },
    {
      "cell_type": "code",
      "metadata": {
        "_cell_guid": "1655b49b-b33f-4236-8b31-d995ef26c6f6",
        "_uuid": "8918defa6e17b83c700ea45357ebd67a3a22f02f",
        "execution": {
          "iopub.execute_input": "2020-12-04T03:59:05.072219Z",
          "iopub.status.busy": "2020-12-04T03:59:05.071240Z",
          "iopub.status.idle": "2020-12-04T03:59:05.074585Z",
          "shell.execute_reply": "2020-12-04T03:59:05.073953Z"
        },
        "papermill": {
          "duration": 0.091398,
          "end_time": "2020-12-04T03:59:05.074721",
          "exception": false,
          "start_time": "2020-12-04T03:59:04.983323",
          "status": "completed"
        },
        "tags": [],
        "id": "oUNOw4HK1KTO"
      },
      "source": [
        "final_train['IsMinor']=np.where(final_train['Age']<=16, 1, 0)\n",
        "\n",
        "final_test['IsMinor']=np.where(final_test['Age']<=16, 1, 0)"
      ],
      "execution_count": null,
      "outputs": []
    },
    {
      "cell_type": "markdown",
      "metadata": {
        "_cell_guid": "a643b196-91c6-4b12-9463-0f984fbfc91a",
        "_uuid": "337b3ced0c6423cf1d126f23a7e60c0181af6a47",
        "papermill": {
          "duration": 0.07825,
          "end_time": "2020-12-04T03:59:05.235298",
          "exception": false,
          "start_time": "2020-12-04T03:59:05.157048",
          "status": "completed"
        },
        "tags": [],
        "id": "StBjFcFt1KTO"
      },
      "source": [
        "<a id=\"t3.2.\"></a>\n",
        "## 3.2. Exploration of Fare"
      ]
    },
    {
      "cell_type": "code",
      "metadata": {
        "_cell_guid": "9f31ffe1-7cd8-4169-b193-ed44e56d0bd4",
        "_uuid": "4a1c521f08460f6983eca0c4e01294fb7c86e4f9",
        "execution": {
          "iopub.execute_input": "2020-12-04T03:59:05.410754Z",
          "iopub.status.busy": "2020-12-04T03:59:05.407685Z",
          "iopub.status.idle": "2020-12-04T03:59:05.805725Z",
          "shell.execute_reply": "2020-12-04T03:59:05.804939Z"
        },
        "papermill": {
          "duration": 0.492076,
          "end_time": "2020-12-04T03:59:05.805851",
          "exception": false,
          "start_time": "2020-12-04T03:59:05.313775",
          "status": "completed"
        },
        "tags": [],
        "id": "lx1TQ2In1KTO",
        "outputId": "09e46b5b-dba2-4480-df0e-bd589023b4ac"
      },
      "source": [
        "plt.figure(figsize=(15,8))\n",
        "ax = sns.kdeplot(final_train[\"Fare\"][final_train.Survived == 1], color=\"darkturquoise\", shade=True)\n",
        "sns.kdeplot(final_train[\"Fare\"][final_train.Survived == 0], color=\"lightcoral\", shade=True)\n",
        "plt.legend(['Survived', 'Died'])\n",
        "plt.title('Density Plot of Fare for Surviving Population and Deceased Population')\n",
        "ax.set(xlabel='Fare')\n",
        "plt.xlim(-20,200)\n",
        "plt.show()"
      ],
      "execution_count": null,
      "outputs": [
        {
          "output_type": "display_data",
          "data": {
            "image/png": "[encoded data removed]",
            "text/plain": [
              "<Figure size 1080x576 with 1 Axes>"
            ]
          },
          "metadata": {
            "tags": []
          }
        }
      ]
    },
    {
      "cell_type": "markdown",
      "metadata": {
        "_cell_guid": "346b7322-a3e4-48df-bbb1-4d8ec7716f3f",
        "_uuid": "2717310b6c443d675c7342be0c2c18b265723273",
        "papermill": {
          "duration": 0.07937,
          "end_time": "2020-12-04T03:59:05.969095",
          "exception": false,
          "start_time": "2020-12-04T03:59:05.889725",
          "status": "completed"
        },
        "tags": [],
        "id": "PRko3XiD1KTP"
      },
      "source": [
        "As the distributions are clearly different for the fares of survivors vs. deceased, it's likely that this would be a significant predictor in our final model.  Passengers who paid lower fare appear to have been less likely to survive.  This is probably strongly correlated with Passenger Class, which we'll look at next."
      ]
    },
    {
      "cell_type": "markdown",
      "metadata": {
        "_cell_guid": "cf585311-4029-4be4-8af2-3eea8258801a",
        "_uuid": "4524affda51265ea23fa923e2ea7f93d7bb91875",
        "papermill": {
          "duration": 0.085201,
          "end_time": "2020-12-04T03:59:06.135900",
          "exception": false,
          "start_time": "2020-12-04T03:59:06.050699",
          "status": "completed"
        },
        "tags": [],
        "id": "V3XSyMeH1KTP"
      },
      "source": [
        "<a id=\"t3.3.\"></a>\n",
        "## 3.3. Exploration of Passenger Class"
      ]
    },
    {
      "cell_type": "code",
      "metadata": {
        "_cell_guid": "676548e8-6dd4-4180-800c-7b164acb3877",
        "_uuid": "08fd677214959e0b938a0f8a94b63ab548673ea5",
        "execution": {
          "iopub.execute_input": "2020-12-04T03:59:06.306844Z",
          "iopub.status.busy": "2020-12-04T03:59:06.305638Z",
          "iopub.status.idle": "2020-12-04T03:59:06.587896Z",
          "shell.execute_reply": "2020-12-04T03:59:06.587053Z"
        },
        "papermill": {
          "duration": 0.370272,
          "end_time": "2020-12-04T03:59:06.588048",
          "exception": false,
          "start_time": "2020-12-04T03:59:06.217776",
          "status": "completed"
        },
        "tags": [],
        "id": "G1rG7a6L1KTP",
        "outputId": "701b9895-9c68-402b-db95-bacfdb6f3697"
      },
      "source": [
        "sns.barplot('Pclass', 'Survived', data=train_df, color=\"darkturquoise\")\n",
        "plt.show()"
      ],
      "execution_count": null,
      "outputs": [
        {
          "output_type": "display_data",
          "data": {
            "image/png": "[encoded data removed]",
            "text/plain": [
              "<Figure size 432x288 with 1 Axes>"
            ]
          },
          "metadata": {
            "tags": []
          }
        }
      ]
    },
    {
      "cell_type": "markdown",
      "metadata": {
        "_cell_guid": "193233f8-b220-4cae-aa0f-f822316d5623",
        "_uuid": "8ddb19191253a6e09dfcb0beff2b3690f1052d52",
        "papermill": {
          "duration": 0.079948,
          "end_time": "2020-12-04T03:59:06.753988",
          "exception": false,
          "start_time": "2020-12-04T03:59:06.674040",
          "status": "completed"
        },
        "tags": [],
        "id": "iSH7kNPf1KTQ"
      },
      "source": [
        "Unsurprisingly, being a first class passenger was safest."
      ]
    },
    {
      "cell_type": "markdown",
      "metadata": {
        "_cell_guid": "c59f8e8f-e8c2-40fb-b9c8-12dddd6d318f",
        "_uuid": "2fc06b75321946b721852f78431435f9ba5fef39",
        "papermill": {
          "duration": 0.079848,
          "end_time": "2020-12-04T03:59:06.914091",
          "exception": false,
          "start_time": "2020-12-04T03:59:06.834243",
          "status": "completed"
        },
        "tags": [],
        "id": "lvzAsXeD1KTQ"
      },
      "source": [
        "<a id=\"t3.4.\"></a>\n",
        "## 3.4. Exploration of Embarked Port"
      ]
    },
    {
      "cell_type": "code",
      "metadata": {
        "_cell_guid": "6e5bec50-2f5e-433e-9130-c56956fddad3",
        "_uuid": "a9f0598701c7c5224eaa73dafa869af73beffe18",
        "execution": {
          "iopub.execute_input": "2020-12-04T03:59:07.084737Z",
          "iopub.status.busy": "2020-12-04T03:59:07.083893Z",
          "iopub.status.idle": "2020-12-04T03:59:07.362858Z",
          "shell.execute_reply": "2020-12-04T03:59:07.362081Z"
        },
        "papermill": {
          "duration": 0.368572,
          "end_time": "2020-12-04T03:59:07.362988",
          "exception": false,
          "start_time": "2020-12-04T03:59:06.994416",
          "status": "completed"
        },
        "tags": [],
        "id": "sDlB0n4S1KTQ",
        "outputId": "673bb869-16e7-40b9-88e5-1822ac6262d6"
      },
      "source": [
        "sns.barplot('Embarked', 'Survived', data=train_df, color=\"teal\")\n",
        "plt.show()"
      ],
      "execution_count": null,
      "outputs": [
        {
          "output_type": "display_data",
          "data": {
            "image/png": "[encoded data removed]",
            "text/plain": [
              "<Figure size 432x288 with 1 Axes>"
            ]
          },
          "metadata": {
            "tags": []
          }
        }
      ]
    },
    {
      "cell_type": "markdown",
      "metadata": {
        "_cell_guid": "88d78820-35a5-48fd-a234-9f3ca3fca779",
        "_uuid": "2f6a0329cf0c7b771a707ec790efc065924e1ee2",
        "papermill": {
          "duration": 0.080889,
          "end_time": "2020-12-04T03:59:07.526809",
          "exception": false,
          "start_time": "2020-12-04T03:59:07.445920",
          "status": "completed"
        },
        "tags": [],
        "id": "wMDhgvct1KTR"
      },
      "source": [
        "Passengers who boarded in Cherbourg, France, appear to have the highest survival rate.  Passengers who boarded in Southhampton were marginally less likely to survive than those who boarded in Queenstown.  This is probably related to passenger class, or maybe even the order of room assignments (e.g. maybe earlier passengers were more likely to have rooms closer to deck). <br> It's also worth noting the size of the whiskers in these plots.  Because the number of passengers who boarded at Southhampton was highest, the confidence around the survival rate is the highest.  The whisker of the Queenstown plot includes the Southhampton average, as well as the lower bound of its whisker.  It's possible that Queenstown passengers were equally, or even more, ill-fated than their Southhampton counterparts."
      ]
    },
    {
      "cell_type": "markdown",
      "metadata": {
        "_cell_guid": "9e6dc87e-ba59-4004-8145-79709328fe27",
        "_uuid": "92bacce85a7dec5509217b9570bc2a2fea6a8452",
        "papermill": {
          "duration": 0.083658,
          "end_time": "2020-12-04T03:59:07.703747",
          "exception": false,
          "start_time": "2020-12-04T03:59:07.620089",
          "status": "completed"
        },
        "tags": [],
        "id": "-hRs56lX1KTR"
      },
      "source": [
        "<a id=\"t3.5.\"></a>\n",
        "## 3.5. Exploration of Traveling Alone vs. With Family"
      ]
    },
    {
      "cell_type": "code",
      "metadata": {
        "_cell_guid": "67017a88-93d4-412b-9adf-8b4d1d9b9db0",
        "_uuid": "e0c3dc16292ef0bcabf0fc680d821ef654084ab4",
        "execution": {
          "iopub.execute_input": "2020-12-04T03:59:07.874013Z",
          "iopub.status.busy": "2020-12-04T03:59:07.872901Z",
          "iopub.status.idle": "2020-12-04T03:59:08.094884Z",
          "shell.execute_reply": "2020-12-04T03:59:08.094064Z"
        },
        "papermill": {
          "duration": 0.309794,
          "end_time": "2020-12-04T03:59:08.095020",
          "exception": false,
          "start_time": "2020-12-04T03:59:07.785226",
          "status": "completed"
        },
        "tags": [],
        "id": "MCnFFUB41KTR",
        "outputId": "254cb79b-0c75-4f6a-f7d6-428506a6648c"
      },
      "source": [
        "sns.barplot('TravelAlone', 'Survived', data=final_train, color=\"mediumturquoise\")\n",
        "plt.show()"
      ],
      "execution_count": null,
      "outputs": [
        {
          "output_type": "display_data",
          "data": {
            "image/png": "[encoded data removed]",
            "text/plain": [
              "<Figure size 432x288 with 1 Axes>"
            ]
          },
          "metadata": {
            "tags": []
          }
        }
      ]
    },
    {
      "cell_type": "markdown",
      "metadata": {
        "_cell_guid": "e9e68cef-5e74-46aa-8343-39afbbf00efe",
        "_uuid": "f160bd7399e024ae669d55f09caf6e7902768851",
        "papermill": {
          "duration": 0.082303,
          "end_time": "2020-12-04T03:59:08.261149",
          "exception": false,
          "start_time": "2020-12-04T03:59:08.178846",
          "status": "completed"
        },
        "tags": [],
        "id": "0HhAKghF1KTR"
      },
      "source": [
        "Individuals traveling without family were more likely to die in the disaster than those with family aboard. Given the era, it's likely that individuals traveling alone were likely male."
      ]
    },
    {
      "cell_type": "markdown",
      "metadata": {
        "_cell_guid": "201b4c9d-b9f0-4ae9-8580-0b4e24ee62be",
        "_uuid": "693c25c25f3590f0b027725471ddd74d56f154af",
        "papermill": {
          "duration": 0.081928,
          "end_time": "2020-12-04T03:59:08.426268",
          "exception": false,
          "start_time": "2020-12-04T03:59:08.344340",
          "status": "completed"
        },
        "tags": [],
        "id": "1S7mokFs1KTR"
      },
      "source": [
        "<a id=\"t3.6.\"></a>\n",
        "## 3.6. Exploration of Gender Variable"
      ]
    },
    {
      "cell_type": "code",
      "metadata": {
        "_cell_guid": "7b416e59-8616-4a44-93e1-a8005eff78a9",
        "_uuid": "354794315925dff1e96229cc737eaf299aaea17a",
        "execution": {
          "iopub.execute_input": "2020-12-04T03:59:08.609031Z",
          "iopub.status.busy": "2020-12-04T03:59:08.607959Z",
          "iopub.status.idle": "2020-12-04T03:59:08.856888Z",
          "shell.execute_reply": "2020-12-04T03:59:08.856143Z"
        },
        "papermill": {
          "duration": 0.34664,
          "end_time": "2020-12-04T03:59:08.857029",
          "exception": false,
          "start_time": "2020-12-04T03:59:08.510389",
          "status": "completed"
        },
        "tags": [],
        "id": "6PggQSAQ1KTS",
        "outputId": "f851a7df-a0e2-4723-a508-a9c3201fe106"
      },
      "source": [
        "sns.barplot('Sex', 'Survived', data=train_df, color=\"aquamarine\")\n",
        "plt.show()"
      ],
      "execution_count": null,
      "outputs": [
        {
          "output_type": "display_data",
          "data": {
            "image/png": "[encoded data removed]",
            "text/plain": [
              "<Figure size 432x288 with 1 Axes>"
            ]
          },
          "metadata": {
            "tags": []
          }
        }
      ]
    },
    {
      "cell_type": "markdown",
      "metadata": {
        "_cell_guid": "490ed298-f0e4-466b-acc8-81280315e6a2",
        "_uuid": "80c02b9fe2151c443f189cbe44c9cacf7e5c44a4",
        "papermill": {
          "duration": 0.086735,
          "end_time": "2020-12-04T03:59:09.028245",
          "exception": false,
          "start_time": "2020-12-04T03:59:08.941510",
          "status": "completed"
        },
        "tags": [],
        "id": "oSVQuvL01KTS"
      },
      "source": [
        "This is a very obvious difference.  Clearly being female greatly increased your chances of survival."
      ]
    },
    {
      "cell_type": "markdown",
      "metadata": {
        "_cell_guid": "c833cbf5-74db-44ff-90fa-b600ff0a09d7",
        "_uuid": "39dbc095f99dcec6d25a7a4561e81bb641078622",
        "papermill": {
          "duration": 0.085316,
          "end_time": "2020-12-04T03:59:09.197496",
          "exception": false,
          "start_time": "2020-12-04T03:59:09.112180",
          "status": "completed"
        },
        "tags": [],
        "id": "eJI4EbFV1KTS"
      },
      "source": [
        "<a id=\"t4.\"></a>\n",
        "# 4. Logistic Regression and Results"
      ]
    },
    {
      "cell_type": "markdown",
      "metadata": {
        "_cell_guid": "b70cda8a-e8d9-44a6-b9f0-2b365fdf3428",
        "_uuid": "136cf9e02ea1ab48a397f534b491fb2d9dbb5684",
        "papermill": {
          "duration": 0.08314,
          "end_time": "2020-12-04T03:59:09.369628",
          "exception": false,
          "start_time": "2020-12-04T03:59:09.286488",
          "status": "completed"
        },
        "tags": [],
        "id": "U0QXrUWb1KTS"
      },
      "source": [
        "<a id=\"t4.1.\"></a>\n",
        "## 4.1. Feature selection\n",
        "\n",
        "<a id=\"t4.1.1.\"></a>\n",
        "### 4.1.1. Recursive feature elimination\n",
        "\n",
        "Given an external estimator that assigns weights to features, recursive feature elimination (RFE) is to select features by recursively considering smaller and smaller sets of features. First, the estimator is trained on the initial set of features and the importance of each feature is obtained either through a `coef_ attribute` or through a `feature_importances_` attribute. Then, the least important features are pruned from current set of features.That procedure is recursively repeated on the pruned set until the desired number of features to select is eventually reached.\n",
        "\n",
        "References: <br>\n",
        "http://scikit-learn.org/stable/modules/feature_selection.html <br>"
      ]
    },
    {
      "cell_type": "code",
      "metadata": {
        "_cell_guid": "11a2a468-20df-40cd-a4ba-4ae7bd2fc403",
        "_uuid": "64befdf1182c2b4e845f488f5bfd0e19ce3dc17a",
        "execution": {
          "iopub.execute_input": "2020-12-04T03:59:09.555291Z",
          "iopub.status.busy": "2020-12-04T03:59:09.554468Z",
          "iopub.status.idle": "2020-12-04T03:59:09.983085Z",
          "shell.execute_reply": "2020-12-04T03:59:09.983831Z"
        },
        "papermill": {
          "duration": 0.523316,
          "end_time": "2020-12-04T03:59:09.984047",
          "exception": false,
          "start_time": "2020-12-04T03:59:09.460731",
          "status": "completed"
        },
        "tags": [],
        "id": "5NRqA-kY1KTS",
        "outputId": "ea73752d-e98f-4173-f80a-e10bf2edb91d"
      },
      "source": [
        "from sklearn.linear_model import LogisticRegression\n",
        "from sklearn.feature_selection import RFE\n",
        "\n",
        "cols = [\"Age\",\"Fare\",\"TravelAlone\",\"Pclass_1\",\"Pclass_2\",\"Embarked_C\",\"Embarked_S\",\"Sex_male\",\"IsMinor\"] \n",
        "X = final_train[cols]\n",
        "y = final_train['Survived']\n",
        "# Build a logreg and compute the feature importances\n",
        "model = LogisticRegression()\n",
        "# create the RFE model and select 8 attributes\n",
        "rfe = RFE(model, 8)\n",
        "rfe = rfe.fit(X, y)\n",
        "# summarize the selection of the attributes\n",
        "print('Selected features: %s' % list(X.columns[rfe.support_]))"
      ],
      "execution_count": null,
      "outputs": [
        {
          "output_type": "stream",
          "text": [
            "Selected features: ['Age', 'TravelAlone', 'Pclass_1', 'Pclass_2', 'Embarked_C', 'Embarked_S', 'Sex_male', 'IsMinor']\n"
          ],
          "name": "stdout"
        }
      ]
    },
    {
      "cell_type": "markdown",
      "metadata": {
        "_cell_guid": "29281bd5-b954-4f3d-87e3-7416b1ec8c6b",
        "_uuid": "626da3348b48ced3564e6e05bdb0c3b4bd1402e6",
        "papermill": {
          "duration": 0.086505,
          "end_time": "2020-12-04T03:59:10.157679",
          "exception": false,
          "start_time": "2020-12-04T03:59:10.071174",
          "status": "completed"
        },
        "tags": [],
        "id": "PYaFiXsQ1KTT"
      },
      "source": [
        "<a id=\"t4.1.2.\"></a>\n",
        "### 4.1.2. Feature ranking with recursive feature elimination and cross-validation\n",
        "\n",
        "RFECV performs RFE in a cross-validation loop to find the optimal number or the best number of features. Hereafter a recursive feature elimination applied on logistic regression with automatic tuning of the number of features selected with cross-validation."
      ]
    },
    {
      "cell_type": "code",
      "metadata": {
        "_cell_guid": "7239aa6f-7fd2-4b75-a387-f6624f1c338c",
        "_uuid": "53d79f38cfe33d75d6ff869a443b9a29c93b4cbd",
        "execution": {
          "iopub.execute_input": "2020-12-04T03:59:10.340545Z",
          "iopub.status.busy": "2020-12-04T03:59:10.339629Z",
          "iopub.status.idle": "2020-12-04T03:59:12.027548Z",
          "shell.execute_reply": "2020-12-04T03:59:12.026792Z"
        },
        "papermill": {
          "duration": 1.784801,
          "end_time": "2020-12-04T03:59:12.027676",
          "exception": false,
          "start_time": "2020-12-04T03:59:10.242875",
          "status": "completed"
        },
        "tags": [],
        "id": "-rwT6gWi1KTT",
        "outputId": "3f1bec41-21d2-4235-fc65-7da764fd2cba"
      },
      "source": [
        "from sklearn.feature_selection import RFECV\n",
        "# Create the RFE object and compute a cross-validated score.\n",
        "# The \"accuracy\" scoring is proportional to the number of correct classifications\n",
        "rfecv = RFECV(estimator=LogisticRegression(), step=1, cv=10, scoring='accuracy')\n",
        "rfecv.fit(X, y)\n",
        "\n",
        "print(\"Optimal number of features: %d\" % rfecv.n_features_)\n",
        "print('Selected features: %s' % list(X.columns[rfecv.support_]))\n",
        "\n",
        "# Plot number of features VS. cross-validation scores\n",
        "plt.figure(figsize=(10,6))\n",
        "plt.xlabel(\"Number of features selected\")\n",
        "plt.ylabel(\"Cross validation score (nb of correct classifications)\")\n",
        "plt.plot(range(1, len(rfecv.grid_scores_) + 1), rfecv.grid_scores_)\n",
        "plt.show()"
      ],
      "execution_count": null,
      "outputs": [
        {
          "output_type": "stream",
          "text": [
            "Optimal number of features: 9\n",
            "Selected features: ['Age', 'Fare', 'TravelAlone', 'Pclass_1', 'Pclass_2', 'Embarked_C', 'Embarked_S', 'Sex_male', 'IsMinor']\n"
          ],
          "name": "stdout"
        },
        {
          "output_type": "display_data",
          "data": {
            "image/png": "[encoded data removed]",
            "text/plain": [
              "<Figure size 720x432 with 1 Axes>"
            ]
          },
          "metadata": {
            "tags": []
          }
        }
      ]
    },
    {
      "cell_type": "markdown",
      "metadata": {
        "_cell_guid": "b1b3b56f-2f5f-47d6-9375-62c11e49ce79",
        "_uuid": "e9d52d5b182c0a01218982e844e53d5278e0d98a",
        "papermill": {
          "duration": 0.087553,
          "end_time": "2020-12-04T03:59:12.201688",
          "exception": false,
          "start_time": "2020-12-04T03:59:12.114135",
          "status": "completed"
        },
        "tags": [],
        "id": "OMx77YFZ1KTT"
      },
      "source": [
        "As we see, eight variables were kept. "
      ]
    },
    {
      "cell_type": "code",
      "metadata": {
        "_cell_guid": "08986ec4-79ff-466b-b763-61bf84a0879b",
        "_uuid": "3f6950a7c24c629b72e17e54c556f3c183b3f779",
        "execution": {
          "iopub.execute_input": "2020-12-04T03:59:12.387492Z",
          "iopub.status.busy": "2020-12-04T03:59:12.382838Z",
          "iopub.status.idle": "2020-12-04T03:59:12.952542Z",
          "shell.execute_reply": "2020-12-04T03:59:12.951757Z"
        },
        "papermill": {
          "duration": 0.665076,
          "end_time": "2020-12-04T03:59:12.952685",
          "exception": false,
          "start_time": "2020-12-04T03:59:12.287609",
          "status": "completed"
        },
        "tags": [],
        "id": "JwNVNC971KTT",
        "outputId": "fde8841c-a46c-4c0f-b1fa-ae423bba31b5"
      },
      "source": [
        "Selected_features = ['Age', 'TravelAlone', 'Pclass_1', 'Pclass_2', 'Embarked_C', \n",
        "                     'Embarked_S', 'Sex_male', 'IsMinor']\n",
        "X = final_train[Selected_features]\n",
        "\n",
        "plt.subplots(figsize=(8, 5))\n",
        "sns.heatmap(X.corr(), annot=True, cmap=\"RdYlGn\")\n",
        "plt.show()"
      ],
      "execution_count": null,
      "outputs": [
        {
          "output_type": "display_data",
          "data": {
            "image/png": "[encoded data removed]",
            "text/plain": [
              "<Figure size 576x360 with 2 Axes>"
            ]
          },
          "metadata": {
            "tags": []
          }
        }
      ]
    },
    {
      "cell_type": "markdown",
      "metadata": {
        "_cell_guid": "a7455afe-9716-4189-b207-f1cc9facce12",
        "_uuid": "46b76691c5f109b17f805f233a5ad5ba900b353b",
        "papermill": {
          "duration": 0.088105,
          "end_time": "2020-12-04T03:59:13.131722",
          "exception": false,
          "start_time": "2020-12-04T03:59:13.043617",
          "status": "completed"
        },
        "tags": [],
        "id": "c7AzsoY-1KTU"
      },
      "source": [
        "<a id=\"t4.2.\"></a>\n",
        "## 4.2. Review of model evaluation procedures\n",
        "\n",
        "Motivation: Need a way to choose between machine learning models\n",
        "* Goal is to estimate likely performance of a model on out-of-sample data\n",
        "\n",
        "Initial idea: Train and test on the same data\n",
        "* But, maximizing training accuracy rewards overly complex models which overfit the training data\n",
        "\n",
        "Alternative idea: Train/test split\n",
        "* Split the dataset into two pieces, so that the model can be trained and tested on different data\n",
        "* Testing accuracy is a better estimate than training accuracy of out-of-sample performance\n",
        "* Problem with train/test split\n",
        "    * It provides a high variance estimate since changing which observations happen to be in the testing set can significantly change testing accuracy\n",
        "    * Testing accuracy can change a lot depending on a which observation happen to be in the testing set\n",
        "\n",
        "Reference: <br>\n",
        "http://www.ritchieng.com/machine-learning-cross-validation/ <br>"
      ]
    },
    {
      "cell_type": "markdown",
      "metadata": {
        "_cell_guid": "b894002e-07cf-4d02-b708-a2ac387eed54",
        "_uuid": "e35125f8aa230d4875541aa4f6b5964d2f14a6a3",
        "papermill": {
          "duration": 0.087845,
          "end_time": "2020-12-04T03:59:13.308666",
          "exception": false,
          "start_time": "2020-12-04T03:59:13.220821",
          "status": "completed"
        },
        "tags": [],
        "id": "E3jKrpp41KTU"
      },
      "source": [
        "<a id=\"t4.2.1.\"></a>\n",
        "### 4.2.1. Model evaluation based on simple train/test split using `train_test_split()` function"
      ]
    },
    {
      "cell_type": "code",
      "metadata": {
        "_cell_guid": "84233f59-f3c7-4ea0-884d-96f8ad4d5b10",
        "_uuid": "46336228eeb864bc82e6739768122579d1c9634c",
        "execution": {
          "iopub.execute_input": "2020-12-04T03:59:13.510620Z",
          "iopub.status.busy": "2020-12-04T03:59:13.505743Z",
          "iopub.status.idle": "2020-12-04T03:59:13.858133Z",
          "shell.execute_reply": "2020-12-04T03:59:13.858720Z"
        },
        "papermill": {
          "duration": 0.462027,
          "end_time": "2020-12-04T03:59:13.858926",
          "exception": false,
          "start_time": "2020-12-04T03:59:13.396899",
          "status": "completed"
        },
        "tags": [],
        "id": "NL4wg7oE1KTU",
        "outputId": "ac05f8ba-f700-4b85-92ca-317d31d4efb5"
      },
      "source": [
        "from sklearn.model_selection import train_test_split, cross_val_score\n",
        "from sklearn.metrics import accuracy_score, classification_report, precision_score, recall_score \n",
        "from sklearn.metrics import confusion_matrix, precision_recall_curve, roc_curve, auc, log_loss\n",
        "\n",
        "# create X (features) and y (response)\n",
        "X = final_train[Selected_features]\n",
        "y = final_train['Survived']\n",
        "\n",
        "# use train/test split with different random_state values\n",
        "# we can change the random_state values that changes the accuracy scores\n",
        "# the scores change a lot, this is why testing scores is a high-variance estimate\n",
        "X_train, X_test, y_train, y_test = train_test_split(X, y, test_size=0.2, random_state=2)\n",
        "\n",
        "# check classification scores of logistic regression\n",
        "logreg = LogisticRegression()\n",
        "logreg.fit(X_train, y_train)\n",
        "y_pred = logreg.predict(X_test)\n",
        "y_pred_proba = logreg.predict_proba(X_test)[:, 1]\n",
        "[fpr, tpr, thr] = roc_curve(y_test, y_pred_proba)\n",
        "print('Train/Test split results:')\n",
        "print(logreg.__class__.__name__+\" accuracy is %2.3f\" % accuracy_score(y_test, y_pred))\n",
        "print(logreg.__class__.__name__+\" log_loss is %2.3f\" % log_loss(y_test, y_pred_proba))\n",
        "print(logreg.__class__.__name__+\" auc is %2.3f\" % auc(fpr, tpr))\n",
        "\n",
        "idx = np.min(np.where(tpr > 0.95)) # index of the first threshold for which the sensibility > 0.95\n",
        "\n",
        "plt.figure()\n",
        "plt.plot(fpr, tpr, color='coral', label='ROC curve (area = %0.3f)' % auc(fpr, tpr))\n",
        "plt.plot([0, 1], [0, 1], 'k--')\n",
        "plt.plot([0,fpr[idx]], [tpr[idx],tpr[idx]], 'k--', color='blue')\n",
        "plt.plot([fpr[idx],fpr[idx]], [0,tpr[idx]], 'k--', color='blue')\n",
        "plt.xlim([0.0, 1.0])\n",
        "plt.ylim([0.0, 1.05])\n",
        "plt.xlabel('False Positive Rate (1 - specificity)', fontsize=14)\n",
        "plt.ylabel('True Positive Rate (recall)', fontsize=14)\n",
        "plt.title('Receiver operating characteristic (ROC) curve')\n",
        "plt.legend(loc=\"lower right\")\n",
        "plt.show()\n",
        "\n",
        "print(\"Using a threshold of %.3f \" % thr[idx] + \"guarantees a sensitivity of %.3f \" % tpr[idx] +  \n",
        "      \"and a specificity of %.3f\" % (1-fpr[idx]) + \n",
        "      \", i.e. a false positive rate of %.2f%%.\" % (np.array(fpr[idx])*100))"
      ],
      "execution_count": null,
      "outputs": [
        {
          "output_type": "stream",
          "text": [
            "Train/Test split results:\n",
            "LogisticRegression accuracy is 0.782\n",
            "LogisticRegression log_loss is 0.504\n",
            "LogisticRegression auc is 0.838\n"
          ],
          "name": "stdout"
        },
        {
          "output_type": "display_data",
          "data": {
            "image/png": "[encoded data removed]",
            "text/plain": [
              "<Figure size 432x288 with 1 Axes>"
            ]
          },
          "metadata": {
            "tags": []
          }
        },
        {
          "output_type": "stream",
          "text": [
            "Using a threshold of 0.070 guarantees a sensitivity of 0.962 and a specificity of 0.200, i.e. a false positive rate of 80.00%.\n"
          ],
          "name": "stdout"
        }
      ]
    },
    {
      "cell_type": "markdown",
      "metadata": {
        "papermill": {
          "duration": 0.099824,
          "end_time": "2020-12-04T03:59:14.050348",
          "exception": false,
          "start_time": "2020-12-04T03:59:13.950524",
          "status": "completed"
        },
        "tags": [],
        "id": "wfHW3meQ1KTV"
      },
      "source": [
        "### \\*****분류목적에 따라 accuracy 혹은 recall, precision일때는 predict_proba-ROCAUC 를 통해 원하는 metrics의 label에 대한 threshold를 구하고 적용하면 평가지표에 최적화가능!"
      ]
    },
    {
      "cell_type": "code",
      "metadata": {
        "execution": {
          "iopub.execute_input": "2020-12-04T03:59:14.240436Z",
          "iopub.status.busy": "2020-12-04T03:59:14.239294Z",
          "iopub.status.idle": "2020-12-04T03:59:14.243712Z",
          "shell.execute_reply": "2020-12-04T03:59:14.243065Z"
        },
        "papermill": {
          "duration": 0.102217,
          "end_time": "2020-12-04T03:59:14.243838",
          "exception": false,
          "start_time": "2020-12-04T03:59:14.141621",
          "status": "completed"
        },
        "tags": [],
        "id": "9X3UghQV1KTV",
        "outputId": "22dfea25-685e-4f74-a78f-15e469d98695"
      },
      "source": [
        "fpr"
      ],
      "execution_count": null,
      "outputs": [
        {
          "output_type": "execute_result",
          "data": {
            "text/plain": [
              "array([0.  , 0.  , 0.  , 0.01, 0.01, 0.03, 0.03, 0.05, 0.05, 0.06, 0.06,\n",
              "       0.08, 0.08, 0.08, 0.09, 0.09, 0.1 , 0.1 , 0.11, 0.12, 0.13, 0.13,\n",
              "       0.14, 0.14, 0.17, 0.17, 0.19, 0.19, 0.21, 0.21, 0.25, 0.28, 0.29,\n",
              "       0.31, 0.35, 0.37, 0.4 , 0.4 , 0.42, 0.42, 0.44, 0.44, 0.45, 0.45,\n",
              "       0.47, 0.49, 0.5 , 0.53, 0.55, 0.56, 0.59, 0.61, 0.66, 0.66, 0.67,\n",
              "       0.67, 0.8 , 0.82, 0.85, 0.86, 0.88, 0.9 , 0.91, 0.93, 0.93, 0.94,\n",
              "       0.94, 1.  ])"
            ]
          },
          "metadata": {
            "tags": []
          },
          "execution_count": 34
        }
      ]
    },
    {
      "cell_type": "code",
      "metadata": {
        "execution": {
          "iopub.execute_input": "2020-12-04T03:59:14.433799Z",
          "iopub.status.busy": "2020-12-04T03:59:14.432942Z",
          "iopub.status.idle": "2020-12-04T03:59:14.437361Z",
          "shell.execute_reply": "2020-12-04T03:59:14.436763Z"
        },
        "papermill": {
          "duration": 0.101927,
          "end_time": "2020-12-04T03:59:14.437488",
          "exception": false,
          "start_time": "2020-12-04T03:59:14.335561",
          "status": "completed"
        },
        "tags": [],
        "id": "Adt9gtLV1KTV",
        "outputId": "87cdeb60-86eb-4ae6-e482-abfead6887f5"
      },
      "source": [
        "tpr"
      ],
      "execution_count": null,
      "outputs": [
        {
          "output_type": "execute_result",
          "data": {
            "text/plain": [
              "array([0.        , 0.01265823, 0.37974684, 0.37974684, 0.43037975,\n",
              "       0.43037975, 0.46835443, 0.46835443, 0.53164557, 0.53164557,\n",
              "       0.56962025, 0.56962025, 0.59493671, 0.62025316, 0.62025316,\n",
              "       0.63291139, 0.63291139, 0.64556962, 0.64556962, 0.65822785,\n",
              "       0.65822785, 0.6835443 , 0.6835443 , 0.72151899, 0.73417722,\n",
              "       0.75949367, 0.75949367, 0.7721519 , 0.7721519 , 0.81012658,\n",
              "       0.81012658, 0.81012658, 0.81012658, 0.81012658, 0.81012658,\n",
              "       0.81012658, 0.81012658, 0.82278481, 0.82278481, 0.83544304,\n",
              "       0.83544304, 0.86075949, 0.86075949, 0.87341772, 0.87341772,\n",
              "       0.88607595, 0.88607595, 0.88607595, 0.88607595, 0.88607595,\n",
              "       0.88607595, 0.88607595, 0.88607595, 0.89873418, 0.89873418,\n",
              "       0.91139241, 0.96202532, 0.96202532, 0.96202532, 0.97468354,\n",
              "       0.97468354, 0.97468354, 0.97468354, 0.97468354, 0.98734177,\n",
              "       0.98734177, 1.        , 1.        ])"
            ]
          },
          "metadata": {
            "tags": []
          },
          "execution_count": 35
        }
      ]
    },
    {
      "cell_type": "markdown",
      "metadata": {
        "_cell_guid": "6292c3f2-6be9-45e4-be33-1dca41e604a7",
        "_uuid": "ba0017b461cea0b8849746e76475598bbba7c9ce",
        "papermill": {
          "duration": 0.094448,
          "end_time": "2020-12-04T03:59:14.624308",
          "exception": false,
          "start_time": "2020-12-04T03:59:14.529860",
          "status": "completed"
        },
        "tags": [],
        "id": "S2Bc8_tn1KTV"
      },
      "source": [
        "<a id=\"t4.2.2.\"></a>\n",
        "### 4.2.2. Model evaluation based on K-fold cross-validation using `cross_val_score()` function "
      ]
    },
    {
      "cell_type": "code",
      "metadata": {
        "_cell_guid": "32a611ae-b2b7-43e0-8fa8-3cc56e351bf6",
        "_uuid": "7f0aba7b861c3fa1748060b4733778851fb00a31",
        "execution": {
          "iopub.execute_input": "2020-12-04T03:59:14.820103Z",
          "iopub.status.busy": "2020-12-04T03:59:14.818916Z",
          "iopub.status.idle": "2020-12-04T03:59:16.039925Z",
          "shell.execute_reply": "2020-12-04T03:59:16.038993Z"
        },
        "papermill": {
          "duration": 1.323165,
          "end_time": "2020-12-04T03:59:16.040085",
          "exception": false,
          "start_time": "2020-12-04T03:59:14.716920",
          "status": "completed"
        },
        "tags": [],
        "id": "J1-vzucs1KTV",
        "outputId": "f7710df1-aa17-4ccd-f6e3-0ee4772b742e"
      },
      "source": [
        "# 10-fold cross-validation logistic regression\n",
        "logreg = LogisticRegression()\n",
        "# Use cross_val_score function\n",
        "# We are passing the entirety of X and y, not X_train or y_train, it takes care of splitting the data\n",
        "# cv=10 for 10 folds\n",
        "# scoring = {'accuracy', 'neg_log_loss', 'roc_auc'} for evaluation metric - althought they are many\n",
        "scores_accuracy = cross_val_score(logreg, X, y, cv=10, scoring='accuracy')\n",
        "scores_log_loss = cross_val_score(logreg, X, y, cv=10, scoring='neg_log_loss') # logloss (음의 log에 해당label 확률값 input): 확률이 높을수록 0에 가까워짐, 낮으면 값이 커짐(패널티)\n",
        "scores_auc = cross_val_score(logreg, X, y, cv=10, scoring='roc_auc')\n",
        "print('K-fold cross-validation results:')\n",
        "print(logreg.__class__.__name__+\" average accuracy is %2.3f\" % scores_accuracy.mean())\n",
        "print(logreg.__class__.__name__+\" average log_loss is %2.3f\" % -scores_log_loss.mean())\n",
        "print(logreg.__class__.__name__+\" average auc is %2.3f\" % scores_auc.mean())"
      ],
      "execution_count": null,
      "outputs": [
        {
          "output_type": "stream",
          "text": [
            "K-fold cross-validation results:\n",
            "LogisticRegression average accuracy is 0.796\n",
            "LogisticRegression average log_loss is 0.454\n",
            "LogisticRegression average auc is 0.850\n"
          ],
          "name": "stdout"
        }
      ]
    },
    {
      "cell_type": "code",
      "metadata": {
        "execution": {
          "iopub.execute_input": "2020-12-04T03:59:16.236733Z",
          "iopub.status.busy": "2020-12-04T03:59:16.235900Z",
          "iopub.status.idle": "2020-12-04T03:59:16.240656Z",
          "shell.execute_reply": "2020-12-04T03:59:16.239978Z"
        },
        "papermill": {
          "duration": 0.10697,
          "end_time": "2020-12-04T03:59:16.240784",
          "exception": false,
          "start_time": "2020-12-04T03:59:16.133814",
          "status": "completed"
        },
        "tags": [],
        "id": "y9UUGnHe1KTW",
        "outputId": "af407e8f-5e2f-456d-acd1-20cba5e3e3ad"
      },
      "source": [
        "scores_log_loss"
      ],
      "execution_count": null,
      "outputs": [
        {
          "output_type": "execute_result",
          "data": {
            "text/plain": [
              "array([-0.47553891, -0.4712497 , -0.53931813, -0.41247449, -0.43007453,\n",
              "       -0.45311785, -0.43850348, -0.47690089, -0.40549809, -0.44139011])"
            ]
          },
          "metadata": {
            "tags": []
          },
          "execution_count": 37
        }
      ]
    },
    {
      "cell_type": "markdown",
      "metadata": {
        "_cell_guid": "bf358561-2762-4b24-b33b-bfda3c5d725f",
        "_uuid": "9debd9d4281cf7893159aa2cb1f7993652d60228",
        "papermill": {
          "duration": 0.092958,
          "end_time": "2020-12-04T03:59:16.427277",
          "exception": false,
          "start_time": "2020-12-04T03:59:16.334319",
          "status": "completed"
        },
        "tags": [],
        "id": "eE3vAD-A1KTW"
      },
      "source": [
        "<a id=\"t4.2.3.\"></a>\n",
        "### 4.2.3. Model evaluation based on K-fold cross-validation using `cross_validate()` function "
      ]
    },
    {
      "cell_type": "code",
      "metadata": {
        "_cell_guid": "9ea95aac-00b2-413e-ab86-c6b8782c40ef",
        "_uuid": "90840c89d42e9284c9480a256dc259778c3a5b1b",
        "execution": {
          "iopub.execute_input": "2020-12-04T03:59:16.627821Z",
          "iopub.status.busy": "2020-12-04T03:59:16.623751Z",
          "iopub.status.idle": "2020-12-04T03:59:17.089932Z",
          "shell.execute_reply": "2020-12-04T03:59:17.089216Z"
        },
        "papermill": {
          "duration": 0.568496,
          "end_time": "2020-12-04T03:59:17.090099",
          "exception": false,
          "start_time": "2020-12-04T03:59:16.521603",
          "status": "completed"
        },
        "tags": [],
        "id": "uSP7m-591KTW",
        "outputId": "59a493fe-1713-445c-a0e0-c388a074f918"
      },
      "source": [
        "from sklearn.model_selection import cross_validate\n",
        "\n",
        "scoring = {'accuracy': 'accuracy', 'log_loss': 'neg_log_loss', 'auc': 'roc_auc'}\n",
        "\n",
        "modelCV = LogisticRegression()\n",
        "\n",
        "results = cross_validate(modelCV, X, y, cv=10, scoring=list(scoring.values()), \n",
        "                         return_train_score=False)\n",
        "\n",
        "print('K-fold cross-validation results:')\n",
        "for sc in range(len(scoring)):\n",
        "    print(modelCV.__class__.__name__+\" average %s: %.3f (+/-%.3f)\" % (list(scoring.keys())[sc], -results['test_%s' % list(scoring.values())[sc]].mean()\n",
        "                               if list(scoring.values())[sc]=='neg_log_loss' \n",
        "                               else results['test_%s' % list(scoring.values())[sc]].mean(), \n",
        "                               results['test_%s' % list(scoring.values())[sc]].std()))"
      ],
      "execution_count": null,
      "outputs": [
        {
          "output_type": "stream",
          "text": [
            "K-fold cross-validation results:\n",
            "LogisticRegression average accuracy: 0.796 (+/-0.024)\n",
            "LogisticRegression average log_loss: 0.454 (+/-0.037)\n",
            "LogisticRegression average auc: 0.850 (+/-0.028)\n"
          ],
          "name": "stdout"
        }
      ]
    },
    {
      "cell_type": "markdown",
      "metadata": {
        "_cell_guid": "96fc0718-8678-44b5-ba1f-9155303a4ffe",
        "_uuid": "c29fd32bbe1fb2740587524d8ddbf08d85832d9c",
        "papermill": {
          "duration": 0.093673,
          "end_time": "2020-12-04T03:59:17.281294",
          "exception": false,
          "start_time": "2020-12-04T03:59:17.187621",
          "status": "completed"
        },
        "tags": [],
        "id": "PkGLAyX81KTX"
      },
      "source": [
        "<font color=bleu>What happens when we add the feature \"Fare\"?<font>"
      ]
    },
    {
      "cell_type": "code",
      "metadata": {
        "_cell_guid": "80b5d5c3-ead3-48f7-84eb-42c801e0370a",
        "_uuid": "0fdf4a257a49b0b47552a4ed307c86852c4ed271",
        "execution": {
          "iopub.execute_input": "2020-12-04T03:59:17.485817Z",
          "iopub.status.busy": "2020-12-04T03:59:17.484982Z",
          "iopub.status.idle": "2020-12-04T03:59:17.982170Z",
          "shell.execute_reply": "2020-12-04T03:59:17.980348Z"
        },
        "papermill": {
          "duration": 0.607262,
          "end_time": "2020-12-04T03:59:17.982336",
          "exception": false,
          "start_time": "2020-12-04T03:59:17.375074",
          "status": "completed"
        },
        "tags": [],
        "id": "YRIstJsV1KTX",
        "outputId": "caf516e8-26bc-4c58-ca76-316a49679437"
      },
      "source": [
        "### 여러개의 metrics 에 대해 교차검증\n",
        "\n",
        "cols = [\"Age\",\"Fare\",\"TravelAlone\",\"Pclass_1\",\"Pclass_2\",\"Embarked_C\",\"Embarked_S\",\"Sex_male\",\"IsMinor\"]\n",
        "X = final_train[cols]\n",
        "\n",
        "scoring = {'accuracy': 'accuracy', 'log_loss': 'neg_log_loss', 'auc': 'roc_auc'}\n",
        "\n",
        "modelCV = LogisticRegression()\n",
        "\n",
        "results = cross_validate(modelCV, final_train[cols], y, cv=10, scoring=list(scoring.values()), \n",
        "                         return_train_score=False)\n",
        "\n",
        "print('K-fold cross-validation results:')\n",
        "for sc in range(len(scoring)):\n",
        "    print(modelCV.__class__.__name__+\" average %s: %.3f (+/-%.3f)\" % (list(scoring.keys())[sc], -results['test_%s' % list(scoring.values())[sc]].mean()\n",
        "                               if list(scoring.values())[sc]=='neg_log_loss' \n",
        "                               else results['test_%s' % list(scoring.values())[sc]].mean(), \n",
        "                               results['test_%s' % list(scoring.values())[sc]].std()))"
      ],
      "execution_count": null,
      "outputs": [
        {
          "output_type": "stream",
          "text": [
            "K-fold cross-validation results:\n",
            "LogisticRegression average accuracy: 0.799 (+/-0.028)\n",
            "LogisticRegression average log_loss: 0.455 (+/-0.037)\n",
            "LogisticRegression average auc: 0.849 (+/-0.028)\n"
          ],
          "name": "stdout"
        }
      ]
    },
    {
      "cell_type": "markdown",
      "metadata": {
        "_cell_guid": "e6d3b029-550e-4142-8d9a-c9670b8cd529",
        "_uuid": "99b2a4c72f6c50fd11abda7a6463aca5154cacd7",
        "papermill": {
          "duration": 0.095483,
          "end_time": "2020-12-04T03:59:18.175907",
          "exception": false,
          "start_time": "2020-12-04T03:59:18.080424",
          "status": "completed"
        },
        "tags": [],
        "id": "8Kb0_pGq1KTX"
      },
      "source": [
        "<font color=red>We notice that the model is slightly deteriorated. The \"Fare\" variable does not carry any useful information. Its presence is just a noise for the logistic regression model.<font>"
      ]
    },
    {
      "cell_type": "markdown",
      "metadata": {
        "_cell_guid": "f485ca4c-2172-4383-979e-21e78a66192c",
        "_uuid": "ec44fbaddbc23f03a8ac470391f41ce35f40cf72",
        "papermill": {
          "duration": 0.093731,
          "end_time": "2020-12-04T03:59:18.364376",
          "exception": false,
          "start_time": "2020-12-04T03:59:18.270645",
          "status": "completed"
        },
        "tags": [],
        "id": "zMMRWM4k1KTX"
      },
      "source": [
        "<a id=\"t4.3.\"></a>\n",
        "## 4.3. GridSearchCV evaluating using multiple scorers simultaneously"
      ]
    },
    {
      "cell_type": "code",
      "metadata": {
        "_cell_guid": "4a39cb49-b446-4ffa-88a2-e37b627eb5e5",
        "_uuid": "765695a9712d3fe1ecff10f17dcc077a80ed7682",
        "execution": {
          "iopub.execute_input": "2020-12-04T03:59:18.564735Z",
          "iopub.status.busy": "2020-12-04T03:59:18.563374Z",
          "iopub.status.idle": "2020-12-04T03:59:36.143165Z",
          "shell.execute_reply": "2020-12-04T03:59:36.142517Z"
        },
        "papermill": {
          "duration": 17.684425,
          "end_time": "2020-12-04T03:59:36.143287",
          "exception": false,
          "start_time": "2020-12-04T03:59:18.458862",
          "status": "completed"
        },
        "tags": [],
        "id": "D7luy3aN1KTX",
        "outputId": "1d060440-dcc7-4f33-ef36-c14c28084c27"
      },
      "source": [
        "from sklearn.model_selection import GridSearchCV\n",
        "\n",
        "X = final_train[Selected_features]\n",
        "\n",
        "param_grid = {'C': np.arange(1e-05, 3, 0.1)}\n",
        "scoring = {'Accuracy': 'accuracy', 'AUC': 'roc_auc', 'Log_loss': 'neg_log_loss'}\n",
        "\n",
        "gs = GridSearchCV(LogisticRegression(), return_train_score=True,\n",
        "                  param_grid=param_grid, scoring=scoring, cv=10, refit='Accuracy')\n",
        "\n",
        "gs.fit(X, y)\n",
        "results = gs.cv_results_\n",
        "\n",
        "print('='*20)\n",
        "print(\"best params: \" + str(gs.best_estimator_))\n",
        "print(\"best params: \" + str(gs.best_params_))\n",
        "print('best score:', gs.best_score_)\n",
        "print('='*20)\n",
        "\n",
        "plt.figure(figsize=(10, 10))\n",
        "plt.title(\"GridSearchCV evaluating using multiple scorers simultaneously\",fontsize=16)\n",
        "\n",
        "plt.xlabel(\"Inverse of regularization strength: C\")\n",
        "plt.ylabel(\"Score\")\n",
        "plt.grid()\n",
        "\n",
        "ax = plt.axes()\n",
        "ax.set_xlim(0, param_grid['C'].max()) \n",
        "ax.set_ylim(0.35, 0.95)\n",
        "\n",
        "# Get the regular numpy array from the MaskedArray\n",
        "X_axis = np.array(results['param_C'].data, dtype=float)\n",
        "\n",
        "for scorer, color in zip(list(scoring.keys()), ['g', 'k', 'b']): \n",
        "    for sample, style in (('train', '--'), ('test', '-')):\n",
        "        sample_score_mean = -results['mean_%s_%s' % (sample, scorer)] if scoring[scorer]=='neg_log_loss' else results['mean_%s_%s' % (sample, scorer)]\n",
        "        sample_score_std = results['std_%s_%s' % (sample, scorer)]\n",
        "        \n",
        "        ax.fill_between(X_axis, sample_score_mean - sample_score_std,\n",
        "                        sample_score_mean + sample_score_std,\n",
        "                        alpha=0.1 if sample == 'test' else 0, color=color)\n",
        "        \n",
        "        \n",
        "        ax.plot(X_axis, sample_score_mean, style, color=color,\n",
        "                alpha=1 if sample == 'test' else 0.7,\n",
        "                label=\"%s (%s)\" % (scorer, sample))\n",
        "\n",
        "    best_index = np.nonzero(results['rank_test_%s' % scorer] == 1)[0][0]\n",
        "    best_score = -results['mean_test_%s' % scorer][best_index] if scoring[scorer]=='neg_log_loss' else results['mean_test_%s' % scorer][best_index]\n",
        "        \n",
        "    # Plot a dotted vertical line at the best score for that scorer marked by x\n",
        "    ax.plot([X_axis[best_index], ] * 2, [0, best_score],\n",
        "            linestyle='-.', color=color, marker='x', markeredgewidth=3, ms=8)\n",
        "\n",
        "    # Annotate the best score for that scorer\n",
        "    ax.annotate(\"%0.2f\" % best_score,\n",
        "                (X_axis[best_index], best_score + 0.005))\n",
        "\n",
        "plt.legend(loc=\"best\")\n",
        "plt.grid('off')\n",
        "plt.show()"
      ],
      "execution_count": null,
      "outputs": [
        {
          "output_type": "stream",
          "text": [
            "====================\n",
            "best params: LogisticRegression(C=2.50001)\n",
            "best params: {'C': 2.50001}\n",
            "best score: 0.8069662921348316\n",
            "====================\n"
          ],
          "name": "stdout"
        },
        {
          "output_type": "display_data",
          "data": {
            "image/png": "[encoded data removed]",
            "text/plain": [
              "<Figure size 720x720 with 1 Axes>"
            ]
          },
          "metadata": {
            "tags": []
          }
        }
      ]
    },
    {
      "cell_type": "markdown",
      "metadata": {
        "_cell_guid": "4c32848c-e879-4ff0-9da4-7c572e80369e",
        "_uuid": "d5e88e25cf05dc5c2ad7dcb574a91115c186047e",
        "papermill": {
          "duration": 0.097051,
          "end_time": "2020-12-04T03:59:36.338897",
          "exception": false,
          "start_time": "2020-12-04T03:59:36.241846",
          "status": "completed"
        },
        "tags": [],
        "id": "K4kn5lYm1KTY"
      },
      "source": [
        "<a id=\"t4.4.\"></a>\n",
        "## 4.4. GridSearchCV evaluating using multiple scorers, RepeatedStratifiedKFold and pipeline for preprocessing simultaneously\n",
        "\n",
        "We can applied many tasks together for more in-depth evaluation like gridsearch using cross-validation based on k-folds repeated many times, that can be scaled or no with respect to many scorers and tunning on parameter for a given estimator!  "
      ]
    },
    {
      "cell_type": "code",
      "metadata": {
        "_cell_guid": "a777c645-7413-4e1d-855a-0b416be1b48e",
        "_uuid": "514d0e3aabe57aaad38d10d6101dbdac5af89ca4",
        "execution": {
          "iopub.execute_input": "2020-12-04T03:59:36.565284Z",
          "iopub.status.busy": "2020-12-04T03:59:36.549732Z",
          "iopub.status.idle": "2020-12-04T04:01:00.798208Z",
          "shell.execute_reply": "2020-12-04T04:01:00.797537Z"
        },
        "papermill": {
          "duration": 84.361091,
          "end_time": "2020-12-04T04:01:00.798362",
          "exception": false,
          "start_time": "2020-12-04T03:59:36.437271",
          "status": "completed"
        },
        "tags": [],
        "id": "8ET8aNU81KTY",
        "outputId": "4c08f76f-0cad-4282-f403-8cf8ff3d92ac"
      },
      "source": [
        "from sklearn.preprocessing import StandardScaler\n",
        "from sklearn.model_selection import RepeatedStratifiedKFold\n",
        "from sklearn.pipeline import Pipeline\n",
        "\n",
        "#Define simple model\n",
        "###############################################################################\n",
        "C = np.arange(1e-05, 5.5, 0.1)\n",
        "scoring = {'Accuracy': 'accuracy', 'AUC': 'roc_auc', 'Log_loss': 'neg_log_loss'}\n",
        "log_reg = LogisticRegression()\n",
        "\n",
        "#Simple pre-processing estimators\n",
        "###############################################################################\n",
        "std_scale = StandardScaler(with_mean=False, with_std=False)\n",
        "#std_scale = StandardScaler()\n",
        "\n",
        "#Defining the CV method: Using the Repeated Stratified K Fold\n",
        "###############################################################################\n",
        "\n",
        "n_folds=5\n",
        "n_repeats=5\n",
        "\n",
        "rskfold = RepeatedStratifiedKFold(n_splits=n_folds, n_repeats=n_repeats, random_state=2)\n",
        "\n",
        "#Creating simple pipeline and defining the gridsearch\n",
        "###############################################################################\n",
        "\n",
        "log_clf_pipe = Pipeline(steps=[('scale',std_scale), ('clf',log_reg)])\n",
        "\n",
        "log_clf = GridSearchCV(estimator=log_clf_pipe, cv=rskfold,\n",
        "              scoring=scoring, return_train_score=True,\n",
        "              param_grid=dict(clf__C=C), refit='Accuracy')\n",
        "\n",
        "log_clf.fit(X, y)\n",
        "results = log_clf.cv_results_\n",
        "\n",
        "print('='*20)\n",
        "print(\"best params: \" + str(log_clf.best_estimator_))\n",
        "print(\"best params: \" + str(log_clf.best_params_))\n",
        "print('best score:', log_clf.best_score_)\n",
        "print('='*20)\n",
        "\n",
        "plt.figure(figsize=(10, 10))\n",
        "plt.title(\"GridSearchCV evaluating using multiple scorers simultaneously\",fontsize=16)\n",
        "\n",
        "plt.xlabel(\"Inverse of regularization strength: C\")\n",
        "plt.ylabel(\"Score\")\n",
        "plt.grid()\n",
        "\n",
        "ax = plt.axes()\n",
        "ax.set_xlim(0, C.max()) \n",
        "ax.set_ylim(0.35, 0.95)\n",
        "\n",
        "# Get the regular numpy array from the MaskedArray\n",
        "X_axis = np.array(results['param_clf__C'].data, dtype=float)\n",
        "\n",
        "for scorer, color in zip(list(scoring.keys()), ['g', 'k', 'b']): \n",
        "    for sample, style in (('train', '--'), ('test', '-')):\n",
        "        sample_score_mean = -results['mean_%s_%s' % (sample, scorer)] if scoring[scorer]=='neg_log_loss' else results['mean_%s_%s' % (sample, scorer)]\n",
        "        sample_score_std = results['std_%s_%s' % (sample, scorer)]\n",
        "        ax.fill_between(X_axis, sample_score_mean - sample_score_std,\n",
        "                        sample_score_mean + sample_score_std,\n",
        "                        alpha=0.1 if sample == 'test' else 0, color=color) # test에 대해서만 +-std만큼 shaded (alpha) 적용\n",
        "        ax.plot(X_axis, sample_score_mean, style, color=color,\n",
        "                alpha=1 if sample == 'test' else 0.7,\n",
        "                label=\"%s (%s)\" % (scorer, sample))\n",
        "\n",
        "    best_index = np.nonzero(results['rank_test_%s' % scorer] == 1)[0][0] # rank=1인 값만 index 반환 (나머지는 0이 되어 nonzero array에서 제거됨)\n",
        "    best_score = -results['mean_test_%s' % scorer][best_index] if scoring[scorer]=='neg_log_loss' else results['mean_test_%s' % scorer][best_index]\n",
        "        \n",
        "    # Plot a dotted vertical line at the best score for that scorer marked by x\n",
        "    ax.plot([X_axis[best_index], ] * 2, [0, best_score],\n",
        "            linestyle='-.', color=color, marker='x', markeredgewidth=3, ms=8)\n",
        "\n",
        "    # Annotate the best score for that scorer\n",
        "    ax.annotate(\"%0.2f\" % best_score,\n",
        "                (X_axis[best_index], best_score + 0.005))\n",
        "\n",
        "plt.legend(loc=\"best\")\n",
        "plt.grid('off')\n",
        "plt.show()"
      ],
      "execution_count": null,
      "outputs": [
        {
          "output_type": "stream",
          "text": [
            "====================\n",
            "best params: Pipeline(steps=[('scale', StandardScaler(with_mean=False, with_std=False)),\n",
            "                ('clf', LogisticRegression(C=3.60001))])\n",
            "best params: {'clf__C': 3.60001}\n",
            "best score: 0.7993270981106019\n",
            "====================\n"
          ],
          "name": "stdout"
        },
        {
          "output_type": "display_data",
          "data": {
            "image/png": "[encoded data removed]",
            "text/plain": [
              "<Figure size 720x720 with 1 Axes>"
            ]
          },
          "metadata": {
            "tags": []
          }
        }
      ]
    },
    {
      "cell_type": "code",
      "metadata": {
        "execution": {
          "iopub.execute_input": "2020-12-04T04:01:01.181043Z",
          "iopub.status.busy": "2020-12-04T04:01:01.177815Z",
          "iopub.status.idle": "2020-12-04T04:01:01.196754Z",
          "shell.execute_reply": "2020-12-04T04:01:01.197370Z"
        },
        "papermill": {
          "duration": 0.292214,
          "end_time": "2020-12-04T04:01:01.197541",
          "exception": false,
          "start_time": "2020-12-04T04:01:00.905327",
          "status": "completed"
        },
        "tags": [],
        "id": "Q_7YiY0l1KTY",
        "outputId": "2c8cb084-4811-4cf8-9385-98394e1cf732"
      },
      "source": [
        "results"
      ],
      "execution_count": null,
      "outputs": [
        {
          "output_type": "execute_result",
          "data": {
            "text/plain": [
              "{'mean_fit_time': array([0.01222332, 0.02992146, 0.03428978, 0.03782145, 0.03678123,\n",
              "        0.03749023, 0.03769925, 0.0394725 , 0.03683128, 0.03918666,\n",
              "        0.03958413, 0.03888103, 0.03737793, 0.03771853, 0.04076174,\n",
              "        0.03991049, 0.03934261, 0.03771212, 0.04309594, 0.0411083 ,\n",
              "        0.04295384, 0.04695933, 0.04742579, 0.04147564, 0.04121877,\n",
              "        0.03992591, 0.03817071, 0.03878176, 0.03880358, 0.04004559,\n",
              "        0.04030579, 0.04019326, 0.0395581 , 0.03853306, 0.03868799,\n",
              "        0.03984234, 0.03923273, 0.04652694, 0.04072186, 0.03856175,\n",
              "        0.03853458, 0.04242113, 0.03853795, 0.03889424, 0.03894596,\n",
              "        0.03847137, 0.04058151, 0.04016116, 0.03862719, 0.03915964,\n",
              "        0.03823127, 0.03814658, 0.03888598, 0.03990637, 0.04023861]),\n",
              " 'std_fit_time': array([0.00064288, 0.00468554, 0.00588609, 0.00840815, 0.00434938,\n",
              "        0.00425654, 0.0049689 , 0.00587855, 0.0043039 , 0.00281346,\n",
              "        0.00564073, 0.00385072, 0.00572337, 0.00365814, 0.00189511,\n",
              "        0.00395208, 0.0090703 , 0.00450653, 0.0119591 , 0.00760626,\n",
              "        0.00688514, 0.00825368, 0.01226601, 0.00548512, 0.00594991,\n",
              "        0.00464859, 0.0049034 , 0.00462227, 0.00407422, 0.00348196,\n",
              "        0.00408002, 0.00811838, 0.00379001, 0.00567383, 0.00429445,\n",
              "        0.00415477, 0.00466183, 0.00768506, 0.00674373, 0.00600256,\n",
              "        0.00414803, 0.00639298, 0.00433786, 0.00307472, 0.00360789,\n",
              "        0.00356578, 0.00912136, 0.00398122, 0.00447048, 0.00433563,\n",
              "        0.00430907, 0.00363951, 0.0055331 , 0.00726659, 0.00525825]),\n",
              " 'mean_score_time': array([0.00972973, 0.00990257, 0.01001726, 0.01023234, 0.00995001,\n",
              "        0.00993656, 0.01028213, 0.01000362, 0.00995004, 0.00989135,\n",
              "        0.01015038, 0.00992198, 0.00997112, 0.01000367, 0.01002282,\n",
              "        0.01006212, 0.01002419, 0.01019835, 0.01061501, 0.01048027,\n",
              "        0.01060426, 0.01204715, 0.01125068, 0.01068225, 0.01061259,\n",
              "        0.01048153, 0.01019849, 0.01000694, 0.01018371, 0.01024166,\n",
              "        0.01033402, 0.01065254, 0.01012826, 0.01025909, 0.01023418,\n",
              "        0.01029499, 0.01015977, 0.01134068, 0.01077623, 0.01028725,\n",
              "        0.01022128, 0.01107024, 0.01008557, 0.01007613, 0.00998604,\n",
              "        0.01026482, 0.01041993, 0.01049364, 0.01026123, 0.01043951,\n",
              "        0.01022015, 0.01005582, 0.01011285, 0.0106718 , 0.01021533]),\n",
              " 'std_score_time': array([0.00034995, 0.00023623, 0.00037321, 0.00098709, 0.00019506,\n",
              "        0.00015193, 0.00088942, 0.00028211, 0.00014853, 0.00012806,\n",
              "        0.00087002, 0.0001568 , 0.0002372 , 0.00023671, 0.00041845,\n",
              "        0.00037079, 0.00089536, 0.00088696, 0.00182042, 0.00143249,\n",
              "        0.00081259, 0.00171842, 0.00130951, 0.00126041, 0.00106112,\n",
              "        0.00069851, 0.00023746, 0.00017831, 0.00027589, 0.00025119,\n",
              "        0.00067324, 0.00129295, 0.00025692, 0.0004041 , 0.00030281,\n",
              "        0.00060591, 0.00030288, 0.00165008, 0.00151855, 0.00025791,\n",
              "        0.0003035 , 0.00158651, 0.00021404, 0.00019149, 0.00014537,\n",
              "        0.00027698, 0.00115581, 0.0011774 , 0.00036269, 0.00087526,\n",
              "        0.0002453 , 0.00013155, 0.00024538, 0.00165222, 0.00047327]),\n",
              " 'param_clf__C': masked_array(data=[1e-05, 0.10001, 0.20001000000000002,\n",
              "                    0.30001000000000005, 0.40001000000000003, 0.50001,\n",
              "                    0.60001, 0.70001, 0.80001, 0.90001, 1.00001,\n",
              "                    1.1000100000000002, 1.2000100000000002, 1.30001,\n",
              "                    1.4000100000000002, 1.50001, 1.6000100000000002,\n",
              "                    1.7000100000000002, 1.80001, 1.9000100000000002,\n",
              "                    2.00001, 2.10001, 2.2000100000000002,\n",
              "                    2.3000100000000003, 2.4000100000000004, 2.50001,\n",
              "                    2.60001, 2.7000100000000002, 2.8000100000000003,\n",
              "                    2.9000100000000004, 3.00001, 3.10001,\n",
              "                    3.2000100000000002, 3.3000100000000003,\n",
              "                    3.4000100000000004, 3.50001, 3.60001,\n",
              "                    3.7000100000000002, 3.8000100000000003,\n",
              "                    3.9000100000000004, 4.00001, 4.10001, 4.20001,\n",
              "                    4.300009999999999, 4.40001, 4.50001, 4.60001, 4.70001,\n",
              "                    4.80001, 4.90001, 5.00001, 5.10001, 5.20001, 5.30001,\n",
              "                    5.40001],\n",
              "              mask=[False, False, False, False, False, False, False, False,\n",
              "                    False, False, False, False, False, False, False, False,\n",
              "                    False, False, False, False, False, False, False, False,\n",
              "                    False, False, False, False, False, False, False, False,\n",
              "                    False, False, False, False, False, False, False, False,\n",
              "                    False, False, False, False, False, False, False, False,\n",
              "                    False, False, False, False, False, False, False],\n",
              "        fill_value='?',\n",
              "             dtype=object),\n",
              " 'params': [{'clf__C': 1e-05},\n",
              "  {'clf__C': 0.10001},\n",
              "  {'clf__C': 0.20001000000000002},\n",
              "  {'clf__C': 0.30001000000000005},\n",
              "  {'clf__C': 0.40001000000000003},\n",
              "  {'clf__C': 0.50001},\n",
              "  {'clf__C': 0.60001},\n",
              "  {'clf__C': 0.70001},\n",
              "  {'clf__C': 0.80001},\n",
              "  {'clf__C': 0.90001},\n",
              "  {'clf__C': 1.00001},\n",
              "  {'clf__C': 1.1000100000000002},\n",
              "  {'clf__C': 1.2000100000000002},\n",
              "  {'clf__C': 1.30001},\n",
              "  {'clf__C': 1.4000100000000002},\n",
              "  {'clf__C': 1.50001},\n",
              "  {'clf__C': 1.6000100000000002},\n",
              "  {'clf__C': 1.7000100000000002},\n",
              "  {'clf__C': 1.80001},\n",
              "  {'clf__C': 1.9000100000000002},\n",
              "  {'clf__C': 2.00001},\n",
              "  {'clf__C': 2.10001},\n",
              "  {'clf__C': 2.2000100000000002},\n",
              "  {'clf__C': 2.3000100000000003},\n",
              "  {'clf__C': 2.4000100000000004},\n",
              "  {'clf__C': 2.50001},\n",
              "  {'clf__C': 2.60001},\n",
              "  {'clf__C': 2.7000100000000002},\n",
              "  {'clf__C': 2.8000100000000003},\n",
              "  {'clf__C': 2.9000100000000004},\n",
              "  {'clf__C': 3.00001},\n",
              "  {'clf__C': 3.10001},\n",
              "  {'clf__C': 3.2000100000000002},\n",
              "  {'clf__C': 3.3000100000000003},\n",
              "  {'clf__C': 3.4000100000000004},\n",
              "  {'clf__C': 3.50001},\n",
              "  {'clf__C': 3.60001},\n",
              "  {'clf__C': 3.7000100000000002},\n",
              "  {'clf__C': 3.8000100000000003},\n",
              "  {'clf__C': 3.9000100000000004},\n",
              "  {'clf__C': 4.00001},\n",
              "  {'clf__C': 4.10001},\n",
              "  {'clf__C': 4.20001},\n",
              "  {'clf__C': 4.300009999999999},\n",
              "  {'clf__C': 4.40001},\n",
              "  {'clf__C': 4.50001},\n",
              "  {'clf__C': 4.60001},\n",
              "  {'clf__C': 4.70001},\n",
              "  {'clf__C': 4.80001},\n",
              "  {'clf__C': 4.90001},\n",
              "  {'clf__C': 5.00001},\n",
              "  {'clf__C': 5.10001},\n",
              "  {'clf__C': 5.20001},\n",
              "  {'clf__C': 5.30001},\n",
              "  {'clf__C': 5.40001}],\n",
              " 'split0_test_Accuracy': array([0.61452514, 0.83798883, 0.83798883, 0.84357542, 0.84357542,\n",
              "        0.84916201, 0.84357542, 0.84357542, 0.84357542, 0.84357542,\n",
              "        0.84357542, 0.84357542, 0.84357542, 0.84357542, 0.84357542,\n",
              "        0.84357542, 0.84357542, 0.84357542, 0.84357542, 0.84357542,\n",
              "        0.84357542, 0.84357542, 0.84357542, 0.84357542, 0.84357542,\n",
              "        0.84357542, 0.84357542, 0.84357542, 0.84357542, 0.84357542,\n",
              "        0.84357542, 0.84357542, 0.84357542, 0.84357542, 0.84357542,\n",
              "        0.84357542, 0.84357542, 0.84357542, 0.84357542, 0.84357542,\n",
              "        0.84357542, 0.84357542, 0.84357542, 0.84357542, 0.84357542,\n",
              "        0.84357542, 0.84357542, 0.84357542, 0.84357542, 0.84357542,\n",
              "        0.84357542, 0.84357542, 0.84357542, 0.84357542, 0.84357542]),\n",
              " 'split1_test_Accuracy': array([0.61797753, 0.75842697, 0.75842697, 0.75280899, 0.75842697,\n",
              "        0.75842697, 0.75280899, 0.75280899, 0.74719101, 0.74719101,\n",
              "        0.74719101, 0.74719101, 0.74719101, 0.74719101, 0.74719101,\n",
              "        0.74719101, 0.74719101, 0.75280899, 0.75280899, 0.75280899,\n",
              "        0.75280899, 0.75280899, 0.75280899, 0.75280899, 0.75280899,\n",
              "        0.75280899, 0.75280899, 0.75280899, 0.75280899, 0.75280899,\n",
              "        0.75280899, 0.75280899, 0.75280899, 0.75280899, 0.75280899,\n",
              "        0.75280899, 0.75280899, 0.75280899, 0.75280899, 0.75280899,\n",
              "        0.75280899, 0.75280899, 0.75280899, 0.75280899, 0.75280899,\n",
              "        0.75280899, 0.75280899, 0.75280899, 0.75280899, 0.75280899,\n",
              "        0.75280899, 0.75280899, 0.75280899, 0.75280899, 0.75280899]),\n",
              " 'split2_test_Accuracy': array([0.61797753, 0.78089888, 0.7752809 , 0.7752809 , 0.78089888,\n",
              "        0.80337079, 0.80898876, 0.80337079, 0.80898876, 0.80898876,\n",
              "        0.81460674, 0.81460674, 0.81460674, 0.81460674, 0.81460674,\n",
              "        0.81460674, 0.81460674, 0.81460674, 0.81460674, 0.81460674,\n",
              "        0.80898876, 0.81460674, 0.81460674, 0.80898876, 0.81460674,\n",
              "        0.80898876, 0.80898876, 0.80898876, 0.80898876, 0.80898876,\n",
              "        0.80898876, 0.80898876, 0.80898876, 0.82022472, 0.80898876,\n",
              "        0.80898876, 0.81460674, 0.80898876, 0.80898876, 0.80898876,\n",
              "        0.80898876, 0.80898876, 0.80898876, 0.80898876, 0.80898876,\n",
              "        0.80898876, 0.80898876, 0.80898876, 0.80898876, 0.80898876,\n",
              "        0.80898876, 0.81460674, 0.80898876, 0.80898876, 0.80898876]),\n",
              " 'split3_test_Accuracy': array([0.61797753, 0.80337079, 0.79213483, 0.79775281, 0.79775281,\n",
              "        0.79775281, 0.79775281, 0.79775281, 0.79775281, 0.79775281,\n",
              "        0.79775281, 0.80337079, 0.79775281, 0.79775281, 0.80337079,\n",
              "        0.80337079, 0.80337079, 0.80337079, 0.80337079, 0.80337079,\n",
              "        0.80337079, 0.80337079, 0.80337079, 0.80337079, 0.80337079,\n",
              "        0.80337079, 0.80337079, 0.80337079, 0.80337079, 0.80337079,\n",
              "        0.80337079, 0.80337079, 0.80337079, 0.80337079, 0.80337079,\n",
              "        0.80337079, 0.80337079, 0.80337079, 0.80337079, 0.80337079,\n",
              "        0.80337079, 0.80337079, 0.80337079, 0.80337079, 0.80337079,\n",
              "        0.80337079, 0.80337079, 0.80337079, 0.80337079, 0.80898876,\n",
              "        0.80898876, 0.80337079, 0.80898876, 0.80898876, 0.80898876]),\n",
              " 'split4_test_Accuracy': array([0.61235955, 0.82022472, 0.81460674, 0.80898876, 0.80337079,\n",
              "        0.80337079, 0.80337079, 0.80337079, 0.80337079, 0.80337079,\n",
              "        0.80337079, 0.80337079, 0.80337079, 0.80337079, 0.80337079,\n",
              "        0.80337079, 0.80337079, 0.80337079, 0.80337079, 0.80337079,\n",
              "        0.80337079, 0.80337079, 0.80337079, 0.80337079, 0.80337079,\n",
              "        0.80337079, 0.80337079, 0.80337079, 0.80337079, 0.80337079,\n",
              "        0.80337079, 0.80337079, 0.80337079, 0.80337079, 0.80337079,\n",
              "        0.80337079, 0.80337079, 0.80337079, 0.80337079, 0.80337079,\n",
              "        0.80337079, 0.80337079, 0.80337079, 0.80337079, 0.80337079,\n",
              "        0.80337079, 0.80337079, 0.80337079, 0.80337079, 0.80337079,\n",
              "        0.80337079, 0.80337079, 0.80337079, 0.80337079, 0.80337079]),\n",
              " 'split5_test_Accuracy': array([0.61452514, 0.75977654, 0.76536313, 0.76536313, 0.76536313,\n",
              "        0.76536313, 0.77094972, 0.77094972, 0.77094972, 0.77094972,\n",
              "        0.77094972, 0.77094972, 0.77094972, 0.77094972, 0.77094972,\n",
              "        0.77094972, 0.77094972, 0.77094972, 0.77094972, 0.77094972,\n",
              "        0.77094972, 0.77094972, 0.77094972, 0.77094972, 0.77094972,\n",
              "        0.77094972, 0.77094972, 0.77094972, 0.77094972, 0.77094972,\n",
              "        0.77094972, 0.77094972, 0.77094972, 0.77094972, 0.77094972,\n",
              "        0.77094972, 0.77094972, 0.77094972, 0.77094972, 0.77094972,\n",
              "        0.77094972, 0.77094972, 0.77094972, 0.77094972, 0.77094972,\n",
              "        0.77094972, 0.77094972, 0.77094972, 0.77094972, 0.77094972,\n",
              "        0.77094972, 0.77094972, 0.77094972, 0.77094972, 0.77094972]),\n",
              " 'split6_test_Accuracy': array([0.61797753, 0.81460674, 0.80898876, 0.80898876, 0.80898876,\n",
              "        0.80898876, 0.80898876, 0.80898876, 0.80898876, 0.80898876,\n",
              "        0.80898876, 0.80898876, 0.80898876, 0.80898876, 0.80898876,\n",
              "        0.80898876, 0.80898876, 0.80898876, 0.80898876, 0.79775281,\n",
              "        0.79775281, 0.79775281, 0.79775281, 0.79775281, 0.79775281,\n",
              "        0.79775281, 0.79775281, 0.79775281, 0.79775281, 0.79775281,\n",
              "        0.79775281, 0.79775281, 0.79775281, 0.79775281, 0.79775281,\n",
              "        0.79775281, 0.79775281, 0.79775281, 0.79775281, 0.79775281,\n",
              "        0.79775281, 0.79775281, 0.79775281, 0.79775281, 0.79775281,\n",
              "        0.79775281, 0.79775281, 0.79775281, 0.79775281, 0.79775281,\n",
              "        0.79775281, 0.79775281, 0.79775281, 0.79775281, 0.79775281]),\n",
              " 'split7_test_Accuracy': array([0.61797753, 0.78089888, 0.79213483, 0.79213483, 0.79213483,\n",
              "        0.79213483, 0.79213483, 0.79213483, 0.79213483, 0.79775281,\n",
              "        0.79775281, 0.79775281, 0.79775281, 0.79775281, 0.79775281,\n",
              "        0.79775281, 0.79775281, 0.79775281, 0.79775281, 0.79775281,\n",
              "        0.79775281, 0.79775281, 0.79775281, 0.81460674, 0.81460674,\n",
              "        0.81460674, 0.81460674, 0.81460674, 0.81460674, 0.81460674,\n",
              "        0.81460674, 0.81460674, 0.80898876, 0.81460674, 0.81460674,\n",
              "        0.81460674, 0.81460674, 0.81460674, 0.81460674, 0.81460674,\n",
              "        0.80898876, 0.80898876, 0.80898876, 0.80898876, 0.80898876,\n",
              "        0.80898876, 0.80898876, 0.80898876, 0.80898876, 0.80898876,\n",
              "        0.80898876, 0.80898876, 0.80898876, 0.80898876, 0.80898876]),\n",
              " 'split8_test_Accuracy': array([0.61797753, 0.7752809 , 0.79775281, 0.79775281, 0.79775281,\n",
              "        0.79213483, 0.79213483, 0.79213483, 0.79213483, 0.79213483,\n",
              "        0.79775281, 0.79775281, 0.79775281, 0.79775281, 0.79775281,\n",
              "        0.80337079, 0.80337079, 0.80337079, 0.80337079, 0.80337079,\n",
              "        0.80337079, 0.80337079, 0.80337079, 0.80337079, 0.80337079,\n",
              "        0.80337079, 0.80337079, 0.80337079, 0.80337079, 0.80337079,\n",
              "        0.80337079, 0.80337079, 0.80337079, 0.80337079, 0.80337079,\n",
              "        0.80337079, 0.80337079, 0.80337079, 0.80337079, 0.80337079,\n",
              "        0.79213483, 0.80337079, 0.80337079, 0.80337079, 0.80337079,\n",
              "        0.80337079, 0.80337079, 0.80337079, 0.80337079, 0.80337079,\n",
              "        0.80337079, 0.80337079, 0.80337079, 0.79775281, 0.80337079]),\n",
              " 'split9_test_Accuracy': array([0.61235955, 0.80337079, 0.79775281, 0.78651685, 0.78651685,\n",
              "        0.78651685, 0.78651685, 0.78651685, 0.78651685, 0.78651685,\n",
              "        0.79775281, 0.79775281, 0.79775281, 0.79775281, 0.79775281,\n",
              "        0.79775281, 0.80337079, 0.80337079, 0.80337079, 0.80337079,\n",
              "        0.80337079, 0.80337079, 0.80337079, 0.80337079, 0.80337079,\n",
              "        0.80337079, 0.80337079, 0.80898876, 0.80337079, 0.80337079,\n",
              "        0.80337079, 0.80337079, 0.80898876, 0.80898876, 0.80898876,\n",
              "        0.80898876, 0.80898876, 0.80898876, 0.80898876, 0.80898876,\n",
              "        0.80898876, 0.80898876, 0.81460674, 0.80898876, 0.80898876,\n",
              "        0.81460674, 0.80898876, 0.80898876, 0.80898876, 0.81460674,\n",
              "        0.81460674, 0.81460674, 0.81460674, 0.81460674, 0.81460674]),\n",
              " 'split10_test_Accuracy': array([0.61452514, 0.78212291, 0.77094972, 0.77653631, 0.77653631,\n",
              "        0.78212291, 0.78212291, 0.78212291, 0.78212291, 0.78212291,\n",
              "        0.78212291, 0.79329609, 0.79329609, 0.79329609, 0.79329609,\n",
              "        0.79329609, 0.79329609, 0.79329609, 0.79329609, 0.79329609,\n",
              "        0.79329609, 0.79329609, 0.79329609, 0.79329609, 0.79329609,\n",
              "        0.7877095 , 0.79329609, 0.79329609, 0.7877095 , 0.79329609,\n",
              "        0.7877095 , 0.7877095 , 0.7877095 , 0.7877095 , 0.7877095 ,\n",
              "        0.7877095 , 0.7877095 , 0.7877095 , 0.7877095 , 0.7877095 ,\n",
              "        0.7877095 , 0.7877095 , 0.7877095 , 0.7877095 , 0.7877095 ,\n",
              "        0.7877095 , 0.7877095 , 0.7877095 , 0.7877095 , 0.7877095 ,\n",
              "        0.7877095 , 0.7877095 , 0.7877095 , 0.7877095 , 0.7877095 ]),\n",
              " 'split11_test_Accuracy': array([0.61797753, 0.82022472, 0.81460674, 0.8258427 , 0.8258427 ,\n",
              "        0.83146067, 0.83146067, 0.83146067, 0.83146067, 0.83146067,\n",
              "        0.83146067, 0.83146067, 0.83146067, 0.83146067, 0.83146067,\n",
              "        0.83707865, 0.83707865, 0.83146067, 0.83707865, 0.83707865,\n",
              "        0.83146067, 0.83707865, 0.83707865, 0.83146067, 0.83707865,\n",
              "        0.83707865, 0.83146067, 0.83707865, 0.83146067, 0.83146067,\n",
              "        0.83707865, 0.83707865, 0.83707865, 0.83146067, 0.83146067,\n",
              "        0.83146067, 0.83707865, 0.83707865, 0.83146067, 0.83146067,\n",
              "        0.83707865, 0.83146067, 0.83146067, 0.83146067, 0.83146067,\n",
              "        0.83146067, 0.83707865, 0.83146067, 0.83146067, 0.83146067,\n",
              "        0.83146067, 0.83146067, 0.83146067, 0.83146067, 0.83146067]),\n",
              " 'split12_test_Accuracy': array([0.61797753, 0.80337079, 0.79213483, 0.81460674, 0.82022472,\n",
              "        0.81460674, 0.81460674, 0.81460674, 0.82022472, 0.82022472,\n",
              "        0.81460674, 0.81460674, 0.81460674, 0.81460674, 0.81460674,\n",
              "        0.81460674, 0.81460674, 0.81460674, 0.81460674, 0.80898876,\n",
              "        0.81460674, 0.81460674, 0.80898876, 0.80898876, 0.80898876,\n",
              "        0.80898876, 0.80898876, 0.80898876, 0.80898876, 0.80898876,\n",
              "        0.80898876, 0.80898876, 0.80898876, 0.80898876, 0.80898876,\n",
              "        0.80337079, 0.80898876, 0.80898876, 0.80898876, 0.80898876,\n",
              "        0.81460674, 0.80898876, 0.80898876, 0.80898876, 0.80898876,\n",
              "        0.80898876, 0.80898876, 0.80898876, 0.80898876, 0.80898876,\n",
              "        0.80898876, 0.80898876, 0.80898876, 0.80898876, 0.80898876]),\n",
              " 'split13_test_Accuracy': array([0.61797753, 0.7752809 , 0.7752809 , 0.7752809 , 0.7752809 ,\n",
              "        0.7752809 , 0.78089888, 0.78089888, 0.78089888, 0.78089888,\n",
              "        0.78089888, 0.78089888, 0.78089888, 0.78089888, 0.78089888,\n",
              "        0.78089888, 0.78651685, 0.78651685, 0.78651685, 0.78651685,\n",
              "        0.78651685, 0.78651685, 0.78651685, 0.78651685, 0.78651685,\n",
              "        0.78651685, 0.78651685, 0.78651685, 0.78651685, 0.78651685,\n",
              "        0.78651685, 0.78651685, 0.78651685, 0.78651685, 0.78651685,\n",
              "        0.78651685, 0.78651685, 0.78651685, 0.78651685, 0.78651685,\n",
              "        0.78651685, 0.78651685, 0.78651685, 0.78651685, 0.78651685,\n",
              "        0.78651685, 0.78651685, 0.78651685, 0.78651685, 0.78651685,\n",
              "        0.78651685, 0.78651685, 0.78651685, 0.78651685, 0.78651685]),\n",
              " 'split14_test_Accuracy': array([0.61235955, 0.78651685, 0.7752809 , 0.7752809 , 0.76966292,\n",
              "        0.76966292, 0.76966292, 0.76966292, 0.76404494, 0.76966292,\n",
              "        0.76966292, 0.76966292, 0.76966292, 0.76966292, 0.76966292,\n",
              "        0.76966292, 0.76966292, 0.76966292, 0.76966292, 0.76966292,\n",
              "        0.76966292, 0.7752809 , 0.7752809 , 0.7752809 , 0.7752809 ,\n",
              "        0.7752809 , 0.7752809 , 0.7752809 , 0.7752809 , 0.7752809 ,\n",
              "        0.76966292, 0.7752809 , 0.7752809 , 0.7752809 , 0.7752809 ,\n",
              "        0.7752809 , 0.7752809 , 0.7752809 , 0.7752809 , 0.7752809 ,\n",
              "        0.7752809 , 0.7752809 , 0.7752809 , 0.7752809 , 0.7752809 ,\n",
              "        0.7752809 , 0.7752809 , 0.7752809 , 0.7752809 , 0.7752809 ,\n",
              "        0.7752809 , 0.7752809 , 0.7752809 , 0.7752809 , 0.7752809 ]),\n",
              " 'split15_test_Accuracy': array([0.61452514, 0.81564246, 0.81564246, 0.81005587, 0.81005587,\n",
              "        0.81564246, 0.81564246, 0.81564246, 0.82122905, 0.82122905,\n",
              "        0.82122905, 0.81005587, 0.81005587, 0.81005587, 0.81005587,\n",
              "        0.81005587, 0.81005587, 0.81005587, 0.81564246, 0.81564246,\n",
              "        0.81564246, 0.81564246, 0.81564246, 0.81564246, 0.81564246,\n",
              "        0.81564246, 0.81564246, 0.81564246, 0.81564246, 0.81564246,\n",
              "        0.81564246, 0.81564246, 0.81564246, 0.81564246, 0.81564246,\n",
              "        0.81564246, 0.81564246, 0.82122905, 0.82122905, 0.82122905,\n",
              "        0.81564246, 0.82122905, 0.82122905, 0.82122905, 0.82122905,\n",
              "        0.82122905, 0.82122905, 0.82122905, 0.82122905, 0.82122905,\n",
              "        0.82122905, 0.82122905, 0.82122905, 0.82122905, 0.82122905]),\n",
              " 'split16_test_Accuracy': array([0.61797753, 0.80898876, 0.80898876, 0.80898876, 0.80898876,\n",
              "        0.80898876, 0.80898876, 0.80898876, 0.80898876, 0.80898876,\n",
              "        0.80898876, 0.80898876, 0.80898876, 0.80898876, 0.80898876,\n",
              "        0.80898876, 0.80898876, 0.80898876, 0.80898876, 0.80898876,\n",
              "        0.80898876, 0.80898876, 0.80898876, 0.80898876, 0.80898876,\n",
              "        0.80898876, 0.80898876, 0.80898876, 0.80898876, 0.80898876,\n",
              "        0.80898876, 0.80898876, 0.80898876, 0.80898876, 0.80898876,\n",
              "        0.80898876, 0.80898876, 0.80898876, 0.80898876, 0.80898876,\n",
              "        0.80898876, 0.80898876, 0.80898876, 0.80898876, 0.80898876,\n",
              "        0.80898876, 0.80898876, 0.80898876, 0.80898876, 0.80898876,\n",
              "        0.80898876, 0.80898876, 0.80898876, 0.80898876, 0.80898876]),\n",
              " 'split17_test_Accuracy': array([0.61797753, 0.79213483, 0.78089888, 0.76404494, 0.76404494,\n",
              "        0.76966292, 0.76966292, 0.76966292, 0.76966292, 0.76966292,\n",
              "        0.7752809 , 0.7752809 , 0.78089888, 0.78089888, 0.78089888,\n",
              "        0.78089888, 0.78089888, 0.78089888, 0.7752809 , 0.78089888,\n",
              "        0.78089888, 0.78089888, 0.7752809 , 0.7752809 , 0.7752809 ,\n",
              "        0.7752809 , 0.7752809 , 0.7752809 , 0.7752809 , 0.7752809 ,\n",
              "        0.7752809 , 0.7752809 , 0.7752809 , 0.7752809 , 0.7752809 ,\n",
              "        0.7752809 , 0.7752809 , 0.7752809 , 0.7752809 , 0.7752809 ,\n",
              "        0.7752809 , 0.7752809 , 0.7752809 , 0.7752809 , 0.7752809 ,\n",
              "        0.7752809 , 0.7752809 , 0.7752809 , 0.7752809 , 0.7752809 ,\n",
              "        0.7752809 , 0.7752809 , 0.7752809 , 0.7752809 , 0.7752809 ]),\n",
              " 'split18_test_Accuracy': array([0.61797753, 0.7752809 , 0.76404494, 0.76404494, 0.76404494,\n",
              "        0.76404494, 0.7752809 , 0.7752809 , 0.7752809 , 0.7752809 ,\n",
              "        0.7752809 , 0.7752809 , 0.7752809 , 0.7752809 , 0.7752809 ,\n",
              "        0.7752809 , 0.7752809 , 0.7752809 , 0.7752809 , 0.7752809 ,\n",
              "        0.7752809 , 0.7752809 , 0.7752809 , 0.7752809 , 0.78089888,\n",
              "        0.7752809 , 0.78089888, 0.78089888, 0.78089888, 0.7752809 ,\n",
              "        0.78089888, 0.78089888, 0.78089888, 0.78089888, 0.78089888,\n",
              "        0.78089888, 0.78089888, 0.78089888, 0.78089888, 0.78089888,\n",
              "        0.78089888, 0.78089888, 0.78089888, 0.78089888, 0.78089888,\n",
              "        0.78089888, 0.78089888, 0.78089888, 0.78089888, 0.78089888,\n",
              "        0.78089888, 0.78089888, 0.78089888, 0.78089888, 0.78089888]),\n",
              " 'split19_test_Accuracy': array([0.61235955, 0.81460674, 0.80337079, 0.80337079, 0.80337079,\n",
              "        0.81460674, 0.81460674, 0.81460674, 0.81460674, 0.81460674,\n",
              "        0.81460674, 0.81460674, 0.81460674, 0.81460674, 0.81460674,\n",
              "        0.81460674, 0.81460674, 0.81460674, 0.80898876, 0.80898876,\n",
              "        0.80898876, 0.80898876, 0.80898876, 0.80898876, 0.80898876,\n",
              "        0.80898876, 0.80898876, 0.80898876, 0.80898876, 0.80898876,\n",
              "        0.80898876, 0.80898876, 0.80898876, 0.80898876, 0.80898876,\n",
              "        0.80898876, 0.80898876, 0.80898876, 0.80898876, 0.80898876,\n",
              "        0.80898876, 0.80898876, 0.80898876, 0.80898876, 0.80898876,\n",
              "        0.80898876, 0.80898876, 0.80898876, 0.80898876, 0.80898876,\n",
              "        0.80898876, 0.80898876, 0.80898876, 0.80898876, 0.80898876]),\n",
              " 'split20_test_Accuracy': array([0.61452514, 0.77653631, 0.78212291, 0.77653631, 0.77653631,\n",
              "        0.77653631, 0.77653631, 0.77653631, 0.77653631, 0.77653631,\n",
              "        0.77653631, 0.77653631, 0.77653631, 0.77653631, 0.77653631,\n",
              "        0.77653631, 0.77653631, 0.77653631, 0.77653631, 0.77653631,\n",
              "        0.77094972, 0.77094972, 0.77094972, 0.77094972, 0.77653631,\n",
              "        0.77094972, 0.77653631, 0.77653631, 0.77653631, 0.77653631,\n",
              "        0.77653631, 0.77653631, 0.77653631, 0.77653631, 0.77653631,\n",
              "        0.77653631, 0.77653631, 0.77653631, 0.77653631, 0.77653631,\n",
              "        0.77653631, 0.77653631, 0.77653631, 0.77653631, 0.77653631,\n",
              "        0.77653631, 0.77653631, 0.77653631, 0.77653631, 0.77653631,\n",
              "        0.77653631, 0.77653631, 0.77653631, 0.78212291, 0.77653631]),\n",
              " 'split21_test_Accuracy': array([0.61797753, 0.82022472, 0.82022472, 0.83146067, 0.8258427 ,\n",
              "        0.8258427 , 0.8258427 , 0.8258427 , 0.8258427 , 0.8258427 ,\n",
              "        0.8258427 , 0.8258427 , 0.8258427 , 0.82022472, 0.82022472,\n",
              "        0.82022472, 0.82022472, 0.82022472, 0.82022472, 0.82022472,\n",
              "        0.82022472, 0.82022472, 0.82022472, 0.82022472, 0.82022472,\n",
              "        0.82022472, 0.82022472, 0.82022472, 0.82022472, 0.82022472,\n",
              "        0.82022472, 0.82022472, 0.82022472, 0.82022472, 0.82022472,\n",
              "        0.82022472, 0.82022472, 0.82022472, 0.82022472, 0.82022472,\n",
              "        0.82022472, 0.82022472, 0.82022472, 0.82022472, 0.82022472,\n",
              "        0.82022472, 0.82022472, 0.82022472, 0.82022472, 0.82022472,\n",
              "        0.82022472, 0.82022472, 0.82022472, 0.82022472, 0.82022472]),\n",
              " 'split22_test_Accuracy': array([0.61797753, 0.80898876, 0.79213483, 0.79213483, 0.79213483,\n",
              "        0.79213483, 0.79213483, 0.79213483, 0.79213483, 0.78651685,\n",
              "        0.79213483, 0.79213483, 0.79213483, 0.79213483, 0.79213483,\n",
              "        0.79213483, 0.79213483, 0.79213483, 0.79213483, 0.79213483,\n",
              "        0.79213483, 0.79213483, 0.79213483, 0.79213483, 0.79213483,\n",
              "        0.79213483, 0.79213483, 0.79213483, 0.79213483, 0.79213483,\n",
              "        0.79213483, 0.79213483, 0.79213483, 0.79213483, 0.79213483,\n",
              "        0.79213483, 0.79213483, 0.79213483, 0.79213483, 0.79213483,\n",
              "        0.79213483, 0.79213483, 0.79213483, 0.79213483, 0.79213483,\n",
              "        0.79213483, 0.79213483, 0.79213483, 0.79213483, 0.79213483,\n",
              "        0.79213483, 0.79213483, 0.79213483, 0.79213483, 0.79213483]),\n",
              " 'split23_test_Accuracy': array([0.61797753, 0.76404494, 0.76966292, 0.76966292, 0.76404494,\n",
              "        0.75842697, 0.75842697, 0.75842697, 0.75842697, 0.75842697,\n",
              "        0.75842697, 0.75842697, 0.75842697, 0.75842697, 0.75842697,\n",
              "        0.75842697, 0.75842697, 0.75842697, 0.75842697, 0.76404494,\n",
              "        0.76404494, 0.76404494, 0.76404494, 0.76404494, 0.76404494,\n",
              "        0.76404494, 0.76404494, 0.76404494, 0.76404494, 0.76404494,\n",
              "        0.76404494, 0.76404494, 0.76404494, 0.76404494, 0.76404494,\n",
              "        0.76404494, 0.76404494, 0.76404494, 0.76404494, 0.76404494,\n",
              "        0.76404494, 0.76404494, 0.76404494, 0.76404494, 0.76404494,\n",
              "        0.76404494, 0.76404494, 0.76966292, 0.76404494, 0.76404494,\n",
              "        0.76404494, 0.76404494, 0.76404494, 0.76404494, 0.76404494]),\n",
              " 'split24_test_Accuracy': array([0.61235955, 0.80337079, 0.80337079, 0.80337079, 0.80898876,\n",
              "        0.80898876, 0.80898876, 0.80898876, 0.80898876, 0.80898876,\n",
              "        0.80898876, 0.80898876, 0.80898876, 0.80898876, 0.80898876,\n",
              "        0.80898876, 0.80898876, 0.80898876, 0.80898876, 0.80898876,\n",
              "        0.80898876, 0.80898876, 0.80898876, 0.83146067, 0.83146067,\n",
              "        0.83146067, 0.83146067, 0.83146067, 0.83146067, 0.83146067,\n",
              "        0.83146067, 0.83146067, 0.83146067, 0.83146067, 0.83146067,\n",
              "        0.83146067, 0.83146067, 0.83146067, 0.83146067, 0.83146067,\n",
              "        0.83146067, 0.83146067, 0.83146067, 0.83146067, 0.83146067,\n",
              "        0.83146067, 0.83146067, 0.83146067, 0.83146067, 0.83146067,\n",
              "        0.83146067, 0.83146067, 0.83146067, 0.83146067, 0.83146067]),\n",
              " 'mean_test_Accuracy': array([0.61616345, 0.79528718, 0.79236583, 0.79281527, 0.79281527,\n",
              "        0.79460925, 0.79528341, 0.79505869, 0.79528215, 0.79550687,\n",
              "        0.79663047, 0.79685519, 0.79685519, 0.79663047, 0.79685519,\n",
              "        0.79730463, 0.79775406, 0.79775406, 0.79775281, 0.79752809,\n",
              "        0.79707991, 0.79775406, 0.79730463, 0.79842822, 0.79932584,\n",
              "        0.79842948, 0.7988764 , 0.79932584, 0.79865294, 0.79865169,\n",
              "        0.79865294, 0.79887766, 0.79887766, 0.7993271 , 0.79887766,\n",
              "        0.79865294, 0.7993271 , 0.79932584, 0.79910112, 0.79910112,\n",
              "        0.79865294, 0.7988764 , 0.79910112, 0.7988764 , 0.7988764 ,\n",
              "        0.79910112, 0.79910112, 0.79910112, 0.7988764 , 0.79932584,\n",
              "        0.79932584, 0.79932584, 0.79932584, 0.79932459, 0.79932584]),\n",
              " 'std_test_Accuracy': array([0.00232492, 0.02126881, 0.02001103, 0.02282797, 0.02266145,\n",
              "        0.02360332, 0.02268443, 0.02257511, 0.02383291, 0.02361578,\n",
              "        0.02318411, 0.02267711, 0.02245332, 0.02218863, 0.02222728,\n",
              "        0.02263473, 0.02252736, 0.02167044, 0.02225516, 0.02141565,\n",
              "        0.02127314, 0.02154905, 0.0216029 , 0.02225908, 0.02228464,\n",
              "        0.0226962 , 0.02179662, 0.02222791, 0.02188116, 0.02200874,\n",
              "        0.02250687, 0.0222428 , 0.02218597, 0.02227227, 0.02195717,\n",
              "        0.02188116, 0.02244168, 0.02250698, 0.0221542 , 0.0221542 ,\n",
              "        0.02233796, 0.02202389, 0.0221542 , 0.02202389, 0.02202389,\n",
              "        0.0221542 , 0.02238098, 0.02169353, 0.02202389, 0.02222475,\n",
              "        0.02222475, 0.02228148, 0.02222475, 0.02201016, 0.02222475]),\n",
              " 'rank_test_Accuracy': array([55, 47, 54, 52, 52, 51, 48, 50, 49, 46, 45, 43, 41, 44, 41, 38, 33,\n",
              "        33, 36, 37, 40, 35, 39, 32,  3, 31, 21,  3, 28, 30, 26, 18, 18,  2,\n",
              "        20, 28,  1,  3, 12, 12, 26, 21, 12, 21, 21, 12, 12, 12, 21,  3,  3,\n",
              "         3,  3, 11,  3], dtype=int32),\n",
              " 'split0_train_Accuracy': array([0.61657303, 0.78511236, 0.78511236, 0.78651685, 0.79353933,\n",
              "        0.8005618 , 0.7991573 , 0.7991573 , 0.79634831, 0.79634831,\n",
              "        0.79634831, 0.79634831, 0.79634831, 0.79494382, 0.79494382,\n",
              "        0.79634831, 0.79634831, 0.79634831, 0.79634831, 0.79494382,\n",
              "        0.79494382, 0.79353933, 0.79494382, 0.79353933, 0.79353933,\n",
              "        0.79353933, 0.79353933, 0.79353933, 0.79213483, 0.79213483,\n",
              "        0.79353933, 0.79353933, 0.79353933, 0.79213483, 0.79213483,\n",
              "        0.79353933, 0.79213483, 0.79213483, 0.79353933, 0.79213483,\n",
              "        0.79213483, 0.79213483, 0.79213483, 0.79213483, 0.79213483,\n",
              "        0.79353933, 0.79213483, 0.79353933, 0.79213483, 0.79353933,\n",
              "        0.79213483, 0.79213483, 0.79213483, 0.79213483, 0.79213483]),\n",
              " 'split1_train_Accuracy': array([0.61570827, 0.80504909, 0.79943899, 0.80084151, 0.80504909,\n",
              "        0.80504909, 0.81486676, 0.81767181, 0.81626928, 0.81626928,\n",
              "        0.81767181, 0.81767181, 0.81626928, 0.81626928, 0.81767181,\n",
              "        0.81626928, 0.81767181, 0.81626928, 0.81626928, 0.81767181,\n",
              "        0.81767181, 0.81626928, 0.81626928, 0.81626928, 0.81767181,\n",
              "        0.81767181, 0.81767181, 0.81767181, 0.81767181, 0.81626928,\n",
              "        0.81767181, 0.81767181, 0.81767181, 0.81767181, 0.81767181,\n",
              "        0.81767181, 0.81626928, 0.81767181, 0.81767181, 0.81767181,\n",
              "        0.81767181, 0.81767181, 0.81626928, 0.81626928, 0.81346424,\n",
              "        0.81767181, 0.81486676, 0.81486676, 0.81346424, 0.81486676,\n",
              "        0.81486676, 0.81486676, 0.81346424, 0.81346424, 0.81346424]),\n",
              " 'split2_train_Accuracy': array([0.61570827, 0.80504909, 0.79943899, 0.80084151, 0.80364656,\n",
              "        0.80925666, 0.81206171, 0.81065919, 0.81065919, 0.81346424,\n",
              "        0.81346424, 0.81346424, 0.81346424, 0.81346424, 0.81346424,\n",
              "        0.81486676, 0.81486676, 0.81486676, 0.81486676, 0.81486676,\n",
              "        0.81346424, 0.81486676, 0.81486676, 0.81346424, 0.81486676,\n",
              "        0.81346424, 0.81346424, 0.81346424, 0.81065919, 0.81065919,\n",
              "        0.81065919, 0.81065919, 0.81065919, 0.81206171, 0.81065919,\n",
              "        0.81065919, 0.81206171, 0.81065919, 0.81065919, 0.81065919,\n",
              "        0.81065919, 0.81065919, 0.81065919, 0.81065919, 0.81065919,\n",
              "        0.81065919, 0.81065919, 0.81065919, 0.81065919, 0.81065919,\n",
              "        0.81065919, 0.81206171, 0.81065919, 0.81065919, 0.81065919]),\n",
              " 'split3_train_Accuracy': array([0.61570827, 0.80224404, 0.79663394, 0.79242637, 0.79242637,\n",
              "        0.79242637, 0.79242637, 0.79242637, 0.79242637, 0.79242637,\n",
              "        0.79242637, 0.79803647, 0.79242637, 0.79242637, 0.79803647,\n",
              "        0.79803647, 0.79803647, 0.79803647, 0.79803647, 0.79803647,\n",
              "        0.79803647, 0.79803647, 0.79943899, 0.79803647, 0.80084151,\n",
              "        0.79943899, 0.80224404, 0.79943899, 0.80224404, 0.80224404,\n",
              "        0.80224404, 0.80224404, 0.80224404, 0.80224404, 0.80224404,\n",
              "        0.80224404, 0.80224404, 0.80224404, 0.80224404, 0.80224404,\n",
              "        0.80224404, 0.80224404, 0.80224404, 0.80224404, 0.80224404,\n",
              "        0.80224404, 0.80224404, 0.80224404, 0.80224404, 0.80364656,\n",
              "        0.80364656, 0.80224404, 0.80364656, 0.80364656, 0.80364656]),\n",
              " 'split4_train_Accuracy': array([0.6171108 , 0.78821879, 0.79663394, 0.79102384, 0.78821879,\n",
              "        0.78962132, 0.78962132, 0.78821879, 0.79102384, 0.79102384,\n",
              "        0.78962132, 0.78962132, 0.78962132, 0.78962132, 0.78962132,\n",
              "        0.78962132, 0.78962132, 0.78962132, 0.78962132, 0.78962132,\n",
              "        0.78962132, 0.78962132, 0.79102384, 0.78962132, 0.78962132,\n",
              "        0.79102384, 0.79102384, 0.79102384, 0.79102384, 0.79102384,\n",
              "        0.79102384, 0.79102384, 0.79102384, 0.79102384, 0.79102384,\n",
              "        0.79102384, 0.79102384, 0.79102384, 0.79102384, 0.79102384,\n",
              "        0.79102384, 0.79102384, 0.79102384, 0.79102384, 0.79102384,\n",
              "        0.79102384, 0.79102384, 0.79102384, 0.79102384, 0.79102384,\n",
              "        0.79102384, 0.79102384, 0.79102384, 0.79102384, 0.79102384]),\n",
              " 'split5_train_Accuracy': array([0.61657303, 0.80337079, 0.80477528, 0.80758427, 0.80617978,\n",
              "        0.80617978, 0.80477528, 0.80337079, 0.80337079, 0.80477528,\n",
              "        0.80477528, 0.80477528, 0.80477528, 0.80337079, 0.80337079,\n",
              "        0.80337079, 0.80337079, 0.80196629, 0.80196629, 0.80337079,\n",
              "        0.80196629, 0.80196629, 0.80196629, 0.80196629, 0.80196629,\n",
              "        0.80196629, 0.80196629, 0.80196629, 0.80196629, 0.80196629,\n",
              "        0.80196629, 0.80196629, 0.80196629, 0.80196629, 0.80196629,\n",
              "        0.80196629, 0.80196629, 0.80196629, 0.80196629, 0.80196629,\n",
              "        0.80196629, 0.80196629, 0.80196629, 0.80196629, 0.80196629,\n",
              "        0.80196629, 0.80196629, 0.80196629, 0.80196629, 0.80196629,\n",
              "        0.80196629, 0.80196629, 0.80196629, 0.80196629, 0.80196629]),\n",
              " 'split6_train_Accuracy': array([0.61570827, 0.79382889, 0.78821879, 0.78962132, 0.78962132,\n",
              "        0.79102384, 0.79102384, 0.79382889, 0.79382889, 0.79382889,\n",
              "        0.80224404, 0.80224404, 0.80224404, 0.80224404, 0.80224404,\n",
              "        0.80224404, 0.80224404, 0.80224404, 0.80224404, 0.80224404,\n",
              "        0.80224404, 0.80224404, 0.80224404, 0.80224404, 0.80224404,\n",
              "        0.80224404, 0.80224404, 0.80224404, 0.80224404, 0.80224404,\n",
              "        0.80224404, 0.80224404, 0.80224404, 0.80224404, 0.80224404,\n",
              "        0.80224404, 0.80224404, 0.80224404, 0.80224404, 0.80224404,\n",
              "        0.80364656, 0.80224404, 0.80224404, 0.80224404, 0.80224404,\n",
              "        0.80224404, 0.80224404, 0.80224404, 0.80224404, 0.80224404,\n",
              "        0.80224404, 0.80224404, 0.80224404, 0.80224404, 0.80224404]),\n",
              " 'split7_train_Accuracy': array([0.61570827, 0.79943899, 0.79382889, 0.79382889, 0.79382889,\n",
              "        0.79523142, 0.79663394, 0.79663394, 0.79663394, 0.79803647,\n",
              "        0.79803647, 0.79803647, 0.79803647, 0.79803647, 0.79803647,\n",
              "        0.79803647, 0.79803647, 0.79943899, 0.79943899, 0.80224404,\n",
              "        0.80224404, 0.80224404, 0.80224404, 0.80645161, 0.80645161,\n",
              "        0.80785414, 0.80785414, 0.80785414, 0.80785414, 0.80785414,\n",
              "        0.80785414, 0.80785414, 0.80785414, 0.80785414, 0.80785414,\n",
              "        0.80785414, 0.80785414, 0.80785414, 0.80785414, 0.80785414,\n",
              "        0.80785414, 0.80785414, 0.80785414, 0.80785414, 0.80785414,\n",
              "        0.80785414, 0.80785414, 0.80785414, 0.80785414, 0.80785414,\n",
              "        0.80785414, 0.80785414, 0.80785414, 0.80785414, 0.80785414]),\n",
              " 'split8_train_Accuracy': array([0.61570827, 0.80224404, 0.79943899, 0.80504909, 0.80925666,\n",
              "        0.81065919, 0.80785414, 0.80785414, 0.80785414, 0.80925666,\n",
              "        0.81206171, 0.81206171, 0.81206171, 0.81346424, 0.81346424,\n",
              "        0.81206171, 0.81206171, 0.81206171, 0.81486676, 0.81767181,\n",
              "        0.81767181, 0.81767181, 0.81767181, 0.81767181, 0.81767181,\n",
              "        0.81767181, 0.81767181, 0.81767181, 0.81767181, 0.81767181,\n",
              "        0.81767181, 0.81767181, 0.81767181, 0.81907433, 0.81907433,\n",
              "        0.81767181, 0.81767181, 0.81767181, 0.81907433, 0.81907433,\n",
              "        0.82047686, 0.81767181, 0.81767181, 0.81767181, 0.81907433,\n",
              "        0.81907433, 0.81907433, 0.81907433, 0.81907433, 0.81767181,\n",
              "        0.81907433, 0.81907433, 0.81907433, 0.82187938, 0.81907433]),\n",
              " 'split9_train_Accuracy': array([0.6171108 , 0.80224404, 0.78962132, 0.78821879, 0.79242637,\n",
              "        0.79382889, 0.79382889, 0.79943899, 0.79943899, 0.79803647,\n",
              "        0.80364656, 0.80364656, 0.80364656, 0.80364656, 0.80364656,\n",
              "        0.80084151, 0.80084151, 0.80084151, 0.80084151, 0.80084151,\n",
              "        0.80084151, 0.80084151, 0.80084151, 0.80084151, 0.80084151,\n",
              "        0.80084151, 0.80084151, 0.80084151, 0.80084151, 0.80084151,\n",
              "        0.80084151, 0.80084151, 0.80084151, 0.80084151, 0.80084151,\n",
              "        0.80084151, 0.80084151, 0.80084151, 0.80084151, 0.80084151,\n",
              "        0.80084151, 0.80084151, 0.79943899, 0.80084151, 0.80084151,\n",
              "        0.79943899, 0.80084151, 0.80084151, 0.80084151, 0.79943899,\n",
              "        0.79943899, 0.79943899, 0.79943899, 0.79943899, 0.79943899]),\n",
              " 'split10_train_Accuracy': array([0.61657303, 0.7991573 , 0.79634831, 0.79775281, 0.7991573 ,\n",
              "        0.7991573 , 0.7991573 , 0.80196629, 0.80196629, 0.80196629,\n",
              "        0.80196629, 0.80758427, 0.80758427, 0.80758427, 0.80758427,\n",
              "        0.80898876, 0.80898876, 0.80898876, 0.80758427, 0.80898876,\n",
              "        0.80898876, 0.80898876, 0.80898876, 0.80898876, 0.80898876,\n",
              "        0.80617978, 0.80898876, 0.80898876, 0.80617978, 0.80758427,\n",
              "        0.80617978, 0.80617978, 0.80617978, 0.80617978, 0.80617978,\n",
              "        0.80617978, 0.80617978, 0.80617978, 0.80617978, 0.80617978,\n",
              "        0.80617978, 0.80617978, 0.80617978, 0.80617978, 0.80617978,\n",
              "        0.80617978, 0.80617978, 0.80617978, 0.80617978, 0.80617978,\n",
              "        0.80617978, 0.80617978, 0.80617978, 0.80758427, 0.80617978]),\n",
              " 'split11_train_Accuracy': array([0.61570827, 0.78962132, 0.78962132, 0.79102384, 0.79382889,\n",
              "        0.78681627, 0.78681627, 0.79523142, 0.79523142, 0.79523142,\n",
              "        0.79242637, 0.79382889, 0.79382889, 0.79382889, 0.79382889,\n",
              "        0.79382889, 0.79382889, 0.79523142, 0.79382889, 0.79382889,\n",
              "        0.79523142, 0.79523142, 0.79523142, 0.79382889, 0.79523142,\n",
              "        0.79523142, 0.79663394, 0.79523142, 0.79523142, 0.79523142,\n",
              "        0.79523142, 0.79523142, 0.79523142, 0.79523142, 0.79523142,\n",
              "        0.79523142, 0.79523142, 0.79523142, 0.79523142, 0.79523142,\n",
              "        0.79523142, 0.79523142, 0.79803647, 0.79523142, 0.79523142,\n",
              "        0.79523142, 0.79523142, 0.79523142, 0.79523142, 0.79523142,\n",
              "        0.79523142, 0.79523142, 0.79523142, 0.79523142, 0.79523142]),\n",
              " 'split12_train_Accuracy': array([0.61570827, 0.79943899, 0.79242637, 0.80364656, 0.80084151,\n",
              "        0.79803647, 0.79803647, 0.79803647, 0.80084151, 0.80084151,\n",
              "        0.80224404, 0.80224404, 0.80084151, 0.80364656, 0.80364656,\n",
              "        0.80224404, 0.80364656, 0.80224404, 0.80224404, 0.80224404,\n",
              "        0.80224404, 0.80224404, 0.80224404, 0.80224404, 0.80224404,\n",
              "        0.80224404, 0.80364656, 0.80224404, 0.80224404, 0.80645161,\n",
              "        0.80364656, 0.80645161, 0.80645161, 0.80785414, 0.80785414,\n",
              "        0.81065919, 0.80785414, 0.80785414, 0.80364656, 0.80785414,\n",
              "        0.81065919, 0.80785414, 0.80785414, 0.80785414, 0.80925666,\n",
              "        0.80925666, 0.80925666, 0.80925666, 0.80925666, 0.80645161,\n",
              "        0.80925666, 0.80925666, 0.80925666, 0.80925666, 0.80925666]),\n",
              " 'split13_train_Accuracy': array([0.61570827, 0.80224404, 0.79663394, 0.79663394, 0.79803647,\n",
              "        0.79803647, 0.79663394, 0.79663394, 0.79663394, 0.79803647,\n",
              "        0.79803647, 0.79803647, 0.79803647, 0.79803647, 0.79803647,\n",
              "        0.79803647, 0.79943899, 0.79943899, 0.80084151, 0.80084151,\n",
              "        0.79943899, 0.80084151, 0.80084151, 0.80084151, 0.80084151,\n",
              "        0.80084151, 0.80084151, 0.80084151, 0.80084151, 0.80084151,\n",
              "        0.80084151, 0.80084151, 0.80084151, 0.80084151, 0.80084151,\n",
              "        0.80084151, 0.80084151, 0.80084151, 0.80084151, 0.80084151,\n",
              "        0.80084151, 0.80084151, 0.80084151, 0.80084151, 0.80084151,\n",
              "        0.80084151, 0.80084151, 0.80084151, 0.80084151, 0.80084151,\n",
              "        0.80084151, 0.80084151, 0.80084151, 0.80084151, 0.80084151]),\n",
              " 'split14_train_Accuracy': array([0.6171108 , 0.80364656, 0.79943899, 0.79663394, 0.79803647,\n",
              "        0.79803647, 0.79803647, 0.80084151, 0.80224404, 0.80504909,\n",
              "        0.80504909, 0.80504909, 0.80504909, 0.80785414, 0.80785414,\n",
              "        0.80785414, 0.80785414, 0.80785414, 0.80785414, 0.80785414,\n",
              "        0.80785414, 0.80925666, 0.80925666, 0.80925666, 0.80925666,\n",
              "        0.80925666, 0.81206171, 0.80925666, 0.80925666, 0.81206171,\n",
              "        0.81065919, 0.81206171, 0.81206171, 0.81206171, 0.81206171,\n",
              "        0.80925666, 0.81206171, 0.81206171, 0.81206171, 0.81206171,\n",
              "        0.81206171, 0.81206171, 0.81206171, 0.81206171, 0.81206171,\n",
              "        0.81206171, 0.81206171, 0.81206171, 0.81206171, 0.81206171,\n",
              "        0.81206171, 0.81206171, 0.81206171, 0.81206171, 0.81206171]),\n",
              " 'split15_train_Accuracy': array([0.61657303, 0.79634831, 0.78932584, 0.78932584, 0.78932584,\n",
              "        0.78932584, 0.79213483, 0.79213483, 0.7991573 , 0.7991573 ,\n",
              "        0.79775281, 0.79775281, 0.79775281, 0.79775281, 0.79775281,\n",
              "        0.79775281, 0.79775281, 0.79775281, 0.79775281, 0.79775281,\n",
              "        0.79775281, 0.79775281, 0.79775281, 0.79775281, 0.79775281,\n",
              "        0.79775281, 0.79775281, 0.79775281, 0.79775281, 0.79775281,\n",
              "        0.79775281, 0.79775281, 0.79775281, 0.79775281, 0.79775281,\n",
              "        0.79775281, 0.79775281, 0.79775281, 0.79775281, 0.79775281,\n",
              "        0.79775281, 0.79775281, 0.79775281, 0.79775281, 0.79775281,\n",
              "        0.79775281, 0.79775281, 0.79775281, 0.79775281, 0.79775281,\n",
              "        0.79775281, 0.79775281, 0.79775281, 0.79775281, 0.79775281]),\n",
              " 'split16_train_Accuracy': array([0.61570827, 0.80504909, 0.79523142, 0.79663394, 0.78962132,\n",
              "        0.78821879, 0.78681627, 0.78681627, 0.78681627, 0.78821879,\n",
              "        0.78821879, 0.78821879, 0.78821879, 0.78821879, 0.78821879,\n",
              "        0.78821879, 0.78821879, 0.78821879, 0.78821879, 0.78821879,\n",
              "        0.78821879, 0.78821879, 0.78821879, 0.78821879, 0.78821879,\n",
              "        0.78821879, 0.78821879, 0.78821879, 0.78821879, 0.78821879,\n",
              "        0.78821879, 0.78821879, 0.78821879, 0.78821879, 0.78821879,\n",
              "        0.78821879, 0.78821879, 0.78821879, 0.78962132, 0.78821879,\n",
              "        0.78821879, 0.78821879, 0.78821879, 0.78821879, 0.78821879,\n",
              "        0.78962132, 0.78821879, 0.78821879, 0.78821879, 0.78821879,\n",
              "        0.78821879, 0.78821879, 0.78821879, 0.78821879, 0.78821879]),\n",
              " 'split17_train_Accuracy': array([0.61570827, 0.80224404, 0.80084151, 0.80084151, 0.79803647,\n",
              "        0.79803647, 0.79803647, 0.79803647, 0.79943899, 0.79943899,\n",
              "        0.80084151, 0.80084151, 0.80224404, 0.80224404, 0.80224404,\n",
              "        0.80224404, 0.81065919, 0.81065919, 0.81065919, 0.81065919,\n",
              "        0.81065919, 0.81065919, 0.80785414, 0.81065919, 0.81065919,\n",
              "        0.81065919, 0.81065919, 0.81065919, 0.80785414, 0.80785414,\n",
              "        0.80785414, 0.80785414, 0.80785414, 0.80785414, 0.80785414,\n",
              "        0.80785414, 0.80785414, 0.80785414, 0.80785414, 0.80785414,\n",
              "        0.80785414, 0.80785414, 0.80785414, 0.80785414, 0.80785414,\n",
              "        0.80785414, 0.80785414, 0.80785414, 0.80785414, 0.80785414,\n",
              "        0.80785414, 0.80785414, 0.80785414, 0.80785414, 0.80925666]),\n",
              " 'split18_train_Accuracy': array([0.61570827, 0.80364656, 0.79943899, 0.80084151, 0.80364656,\n",
              "        0.80364656, 0.81206171, 0.81206171, 0.81206171, 0.80785414,\n",
              "        0.80785414, 0.81065919, 0.81486676, 0.81486676, 0.81486676,\n",
              "        0.81486676, 0.81486676, 0.81626928, 0.81626928, 0.81626928,\n",
              "        0.81626928, 0.81626928, 0.81626928, 0.81626928, 0.81626928,\n",
              "        0.81626928, 0.81626928, 0.81626928, 0.81626928, 0.81626928,\n",
              "        0.81626928, 0.81626928, 0.81626928, 0.81626928, 0.81626928,\n",
              "        0.81626928, 0.81626928, 0.81626928, 0.81626928, 0.81626928,\n",
              "        0.81626928, 0.81626928, 0.81626928, 0.81626928, 0.81626928,\n",
              "        0.81626928, 0.81626928, 0.81626928, 0.81626928, 0.81626928,\n",
              "        0.81626928, 0.81626928, 0.81626928, 0.81626928, 0.81626928]),\n",
              " 'split19_train_Accuracy': array([0.6171108 , 0.79803647, 0.78821879, 0.79102384, 0.79663394,\n",
              "        0.80084151, 0.79803647, 0.79803647, 0.79943899, 0.79943899,\n",
              "        0.79943899, 0.79943899, 0.80084151, 0.80084151, 0.80084151,\n",
              "        0.80084151, 0.80084151, 0.80084151, 0.79943899, 0.79943899,\n",
              "        0.79943899, 0.79943899, 0.79943899, 0.79943899, 0.79943899,\n",
              "        0.79943899, 0.79943899, 0.79943899, 0.79943899, 0.79943899,\n",
              "        0.79943899, 0.79943899, 0.79943899, 0.79943899, 0.79943899,\n",
              "        0.79943899, 0.79943899, 0.79943899, 0.79943899, 0.79943899,\n",
              "        0.79943899, 0.79943899, 0.79943899, 0.79943899, 0.79943899,\n",
              "        0.79943899, 0.79943899, 0.79943899, 0.79943899, 0.79943899,\n",
              "        0.79943899, 0.79943899, 0.79943899, 0.79943899, 0.79943899]),\n",
              " 'split20_train_Accuracy': array([0.61657303, 0.80477528, 0.7991573 , 0.79775281, 0.7991573 ,\n",
              "        0.7991573 , 0.7991573 , 0.80196629, 0.80196629, 0.80196629,\n",
              "        0.80196629, 0.81039326, 0.81039326, 0.81039326, 0.81039326,\n",
              "        0.81039326, 0.81039326, 0.81039326, 0.81039326, 0.81039326,\n",
              "        0.80898876, 0.80898876, 0.80898876, 0.80898876, 0.80758427,\n",
              "        0.80898876, 0.80758427, 0.80758427, 0.80758427, 0.80758427,\n",
              "        0.80758427, 0.80758427, 0.80758427, 0.80758427, 0.80758427,\n",
              "        0.80758427, 0.80758427, 0.80758427, 0.80758427, 0.80758427,\n",
              "        0.80758427, 0.80758427, 0.80758427, 0.80758427, 0.80758427,\n",
              "        0.80758427, 0.80758427, 0.80758427, 0.80758427, 0.80758427,\n",
              "        0.80758427, 0.80758427, 0.80758427, 0.80758427, 0.80758427]),\n",
              " 'split21_train_Accuracy': array([0.61570827, 0.79242637, 0.79102384, 0.79663394, 0.79663394,\n",
              "        0.79803647, 0.79803647, 0.79803647, 0.80364656, 0.80364656,\n",
              "        0.80364656, 0.80224404, 0.80224404, 0.80084151, 0.80084151,\n",
              "        0.80084151, 0.80084151, 0.80084151, 0.80084151, 0.80084151,\n",
              "        0.80224404, 0.80084151, 0.80084151, 0.80084151, 0.80084151,\n",
              "        0.80084151, 0.80084151, 0.80084151, 0.80084151, 0.80645161,\n",
              "        0.80504909, 0.80645161, 0.80224404, 0.80224404, 0.80084151,\n",
              "        0.80504909, 0.80504909, 0.80645161, 0.80645161, 0.80504909,\n",
              "        0.80645161, 0.80645161, 0.80645161, 0.80645161, 0.80084151,\n",
              "        0.80645161, 0.80504909, 0.80785414, 0.80645161, 0.80645161,\n",
              "        0.80645161, 0.80645161, 0.80645161, 0.80645161, 0.80645161]),\n",
              " 'split22_train_Accuracy': array([0.61570827, 0.79382889, 0.79242637, 0.79523142, 0.79382889,\n",
              "        0.79523142, 0.79803647, 0.79803647, 0.79803647, 0.79943899,\n",
              "        0.80645161, 0.80645161, 0.80645161, 0.80645161, 0.80645161,\n",
              "        0.80645161, 0.80645161, 0.80645161, 0.80364656, 0.80364656,\n",
              "        0.80364656, 0.80364656, 0.80364656, 0.80364656, 0.80364656,\n",
              "        0.80364656, 0.80364656, 0.80364656, 0.80364656, 0.80364656,\n",
              "        0.80364656, 0.80364656, 0.80364656, 0.80364656, 0.80504909,\n",
              "        0.80504909, 0.80364656, 0.80364656, 0.80364656, 0.80504909,\n",
              "        0.80364656, 0.80364656, 0.80364656, 0.80364656, 0.80504909,\n",
              "        0.80364656, 0.80504909, 0.80504909, 0.80504909, 0.80504909,\n",
              "        0.80504909, 0.80504909, 0.80504909, 0.80504909, 0.80504909]),\n",
              " 'split23_train_Accuracy': array([0.61570827, 0.79943899, 0.80224404, 0.80504909, 0.80785414,\n",
              "        0.80224404, 0.79943899, 0.79943899, 0.79943899, 0.79943899,\n",
              "        0.79943899, 0.79943899, 0.79943899, 0.79943899, 0.79943899,\n",
              "        0.79943899, 0.79943899, 0.80224404, 0.80224404, 0.80224404,\n",
              "        0.80224404, 0.80084151, 0.80224404, 0.80224404, 0.80224404,\n",
              "        0.80224404, 0.80224404, 0.80364656, 0.80084151, 0.80364656,\n",
              "        0.80364656, 0.80364656, 0.80364656, 0.80364656, 0.80364656,\n",
              "        0.80364656, 0.80364656, 0.80364656, 0.80364656, 0.80364656,\n",
              "        0.80364656, 0.80364656, 0.80364656, 0.80364656, 0.80364656,\n",
              "        0.80364656, 0.80364656, 0.81065919, 0.80364656, 0.80364656,\n",
              "        0.80364656, 0.80364656, 0.80364656, 0.80364656, 0.80364656]),\n",
              " 'split24_train_Accuracy': array([0.6171108 , 0.79523142, 0.78962132, 0.78962132, 0.79102384,\n",
              "        0.78962132, 0.78962132, 0.79102384, 0.79102384, 0.79102384,\n",
              "        0.79102384, 0.79382889, 0.79382889, 0.79382889, 0.79382889,\n",
              "        0.79382889, 0.79382889, 0.79382889, 0.79382889, 0.79382889,\n",
              "        0.79382889, 0.79382889, 0.79382889, 0.79663394, 0.79663394,\n",
              "        0.79663394, 0.79663394, 0.79663394, 0.79663394, 0.79663394,\n",
              "        0.79663394, 0.79663394, 0.79663394, 0.79663394, 0.79663394,\n",
              "        0.79663394, 0.79663394, 0.79663394, 0.79663394, 0.79663394,\n",
              "        0.79663394, 0.79663394, 0.79663394, 0.79663394, 0.79663394,\n",
              "        0.79663394, 0.79663394, 0.79523142, 0.79663394, 0.79663394,\n",
              "        0.79663394, 0.79663394, 0.79382889, 0.79663394, 0.79663394]),\n",
              " 'mean_train_Accuracy': array([0.61616173, 0.79887735, 0.79500559, 0.79618395, 0.79719424,\n",
              "        0.79753124, 0.79809225, 0.79910231, 0.79983185, 0.80016854,\n",
              "        0.80106608, 0.80207668, 0.80202058, 0.80213263, 0.80241313,\n",
              "        0.80230109, 0.80280599, 0.80291812, 0.80280584, 0.80314252,\n",
              "        0.80303016, 0.80297398, 0.80308626, 0.80319839, 0.80342271,\n",
              "        0.80336653, 0.80375932, 0.80347881, 0.80308587, 0.80370306,\n",
              "        0.80353476, 0.80375916, 0.80359086, 0.80370298, 0.80364688,\n",
              "        0.80381526, 0.80370298, 0.80375908, 0.80375916, 0.80381518,\n",
              "        0.80403959, 0.80375908, 0.80375908, 0.80370298, 0.80353468,\n",
              "        0.80392746, 0.80375908, 0.80415187, 0.80375908, 0.80370306,\n",
              "        0.80381518, 0.80381518, 0.80364688, 0.80392746, 0.80381518]),\n",
              " 'std_train_Accuracy': array([0.00058082, 0.0055648 , 0.00508721, 0.00574757, 0.00598881,\n",
              "        0.00636913, 0.00736115, 0.00706892, 0.0066869 , 0.00665632,\n",
              "        0.00714393, 0.00716296, 0.00748904, 0.00767217, 0.00757305,\n",
              "        0.00746594, 0.00771997, 0.0075896 , 0.00773406, 0.00807942,\n",
              "        0.00790797, 0.00798969, 0.00770559, 0.0078766 , 0.007898  ,\n",
              "        0.0077523 , 0.00777994, 0.00777389, 0.00755081, 0.00759535,\n",
              "        0.00749538, 0.00758926, 0.00757432, 0.00784194, 0.00780695,\n",
              "        0.00758303, 0.00763864, 0.00769447, 0.00756849, 0.00778999,\n",
              "        0.00798156, 0.00769447, 0.00751862, 0.00759732, 0.00758116,\n",
              "        0.00767256, 0.00764316, 0.00777321, 0.00758115, 0.00742746,\n",
              "        0.00767808, 0.00773933, 0.0077259 , 0.00786528, 0.00763698]),\n",
              " 'split0_test_AUC': array([0.53754941, 0.86126482, 0.86218709, 0.86455863, 0.86613966,\n",
              "        0.86613966, 0.86600791, 0.86679842, 0.8654809 , 0.86521739,\n",
              "        0.86508564, 0.86534914, 0.86534914, 0.86534914, 0.86587615,\n",
              "        0.86587615, 0.86600791, 0.8657444 , 0.86561265, 0.8657444 ,\n",
              "        0.86587615, 0.8654809 , 0.8654809 , 0.8654809 , 0.86534914,\n",
              "        0.86561265, 0.86653491, 0.86561265, 0.86613966, 0.86613966,\n",
              "        0.86627141, 0.86613966, 0.86587615, 0.86600791, 0.86613966,\n",
              "        0.86613966, 0.86600791, 0.86600791, 0.86627141, 0.86627141,\n",
              "        0.86600791, 0.86613966, 0.86600791, 0.86587615, 0.86587615,\n",
              "        0.86613966, 0.86587615, 0.86600791, 0.86587615, 0.86627141,\n",
              "        0.86613966, 0.86600791, 0.86600791, 0.86613966, 0.86600791]),\n",
              " 'split1_test_AUC': array([0.52372995, 0.83669786, 0.83215241, 0.8296123 , 0.82894385,\n",
              "        0.82921123, 0.8269385 , 0.82613636, 0.8256016 , 0.82506684,\n",
              "        0.82479947, 0.82399733, 0.82413102, 0.82413102, 0.82399733,\n",
              "        0.82372995, 0.82413102, 0.82319519, 0.82292781, 0.82332888,\n",
              "        0.82332888, 0.82319519, 0.82266043, 0.82279412, 0.82319519,\n",
              "        0.82319519, 0.82319519, 0.82266043, 0.82292781, 0.82292781,\n",
              "        0.82292781, 0.82279412, 0.82279412, 0.82292781, 0.82279412,\n",
              "        0.82279412, 0.82279412, 0.82279412, 0.82279412, 0.82292781,\n",
              "        0.82279412, 0.82292781, 0.82212567, 0.82185829, 0.82292781,\n",
              "        0.82225936, 0.82225936, 0.82225936, 0.82212567, 0.82225936,\n",
              "        0.82225936, 0.82225936, 0.82185829, 0.82279412, 0.82199198]),\n",
              " 'split2_test_AUC': array([0.55334225, 0.81925134, 0.82245989, 0.82473262, 0.82446524,\n",
              "        0.82727273, 0.82847594, 0.82860963, 0.82834225, 0.82820856,\n",
              "        0.82834225, 0.82847594, 0.82847594, 0.82847594, 0.82887701,\n",
              "        0.82874332, 0.82887701, 0.82887701, 0.82887701, 0.82887701,\n",
              "        0.82887701, 0.82887701, 0.82887701, 0.82887701, 0.82954545,\n",
              "        0.82887701, 0.82887701, 0.82887701, 0.82887701, 0.82887701,\n",
              "        0.82887701, 0.82941176, 0.82941176, 0.82941176, 0.82941176,\n",
              "        0.82941176, 0.82927807, 0.82941176, 0.82941176, 0.82887701,\n",
              "        0.82941176, 0.82941176, 0.82941176, 0.82941176, 0.82941176,\n",
              "        0.82941176, 0.82941176, 0.82941176, 0.82941176, 0.82941176,\n",
              "        0.82941176, 0.82941176, 0.82941176, 0.82941176, 0.82941176]),\n",
              " 'split3_test_AUC': array([0.54705882, 0.82326203, 0.82834225, 0.82994652, 0.83168449,\n",
              "        0.83221925, 0.83275401, 0.8328877 , 0.83315508, 0.83355615,\n",
              "        0.83355615, 0.83395722, 0.83368984, 0.83475936, 0.83475936,\n",
              "        0.83475936, 0.83475936, 0.83475936, 0.83435829, 0.83435829,\n",
              "        0.83435829, 0.83449198, 0.83489305, 0.83395722, 0.83449198,\n",
              "        0.83435829, 0.83435829, 0.83449198, 0.83449198, 0.83449198,\n",
              "        0.83449198, 0.83449198, 0.83435829, 0.83449198, 0.83449198,\n",
              "        0.83435829, 0.83449198, 0.83449198, 0.8342246 , 0.83489305,\n",
              "        0.83449198, 0.83435829, 0.83449198, 0.83462567, 0.83449198,\n",
              "        0.83449198, 0.83449198, 0.83449198, 0.83462567, 0.83462567,\n",
              "        0.83489305, 0.83449198, 0.83462567, 0.83475936, 0.83462567]),\n",
              " 'split4_test_AUC': array([0.54567212, 0.89602446, 0.89682223, 0.89615743, 0.89629039,\n",
              "        0.89682223, 0.89682223, 0.89668927, 0.89655631, 0.89629039,\n",
              "        0.89575854, 0.89629039, 0.89682223, 0.89668927, 0.89668927,\n",
              "        0.89682223, 0.89682223, 0.89682223, 0.89682223, 0.89695519,\n",
              "        0.89682223, 0.89695519, 0.8952267 , 0.89682223, 0.89682223,\n",
              "        0.89496078, 0.89496078, 0.89695519, 0.89509374, 0.89509374,\n",
              "        0.89509374, 0.89509374, 0.89509374, 0.89509374, 0.89509374,\n",
              "        0.89509374, 0.89509374, 0.89509374, 0.89509374, 0.89509374,\n",
              "        0.89482782, 0.8952267 , 0.8952267 , 0.8952267 , 0.8952267 ,\n",
              "        0.8952267 , 0.8952267 , 0.8952267 , 0.8952267 , 0.8952267 ,\n",
              "        0.8952267 , 0.89535966, 0.8952267 , 0.8952267 , 0.8952267 ]),\n",
              " 'split5_test_AUC': array([0.53939394, 0.8599473 , 0.85783926, 0.85704875, 0.85573123,\n",
              "        0.8544137 , 0.85349144, 0.85322793, 0.85256917, 0.85204216,\n",
              "        0.85191041, 0.85217391, 0.85151515, 0.85059289, 0.85059289,\n",
              "        0.85085639, 0.85085639, 0.85059289, 0.85059289, 0.85098814,\n",
              "        0.85072464, 0.85085639, 0.84874835, 0.84874835, 0.84874835,\n",
              "        0.84874835, 0.84874835, 0.85098814, 0.84888011, 0.84822134,\n",
              "        0.84822134, 0.84822134, 0.84822134, 0.84822134, 0.84822134,\n",
              "        0.84874835, 0.8483531 , 0.8483531 , 0.8483531 , 0.84808959,\n",
              "        0.84782609, 0.84808959, 0.84795784, 0.84822134, 0.84769433,\n",
              "        0.84822134, 0.84822134, 0.84822134, 0.84795784, 0.84822134,\n",
              "        0.84795784, 0.84795784, 0.84782609, 0.84808959, 0.84795784]),\n",
              " 'split6_test_AUC': array([0.5209893 , 0.85026738, 0.8540107 , 0.85748663, 0.8578877 ,\n",
              "        0.85828877, 0.85975936, 0.85989305, 0.86002674, 0.86002674,\n",
              "        0.86016043, 0.86029412, 0.86016043, 0.86016043, 0.8605615 ,\n",
              "        0.8605615 , 0.8605615 , 0.8605615 , 0.8605615 , 0.8605615 ,\n",
              "        0.8605615 , 0.8605615 , 0.86042781, 0.86069519, 0.86029412,\n",
              "        0.86069519, 0.86069519, 0.86042781, 0.86069519, 0.86069519,\n",
              "        0.86069519, 0.86042781, 0.86069519, 0.86069519, 0.86069519,\n",
              "        0.86082888, 0.86082888, 0.86069519, 0.86082888, 0.86082888,\n",
              "        0.8605615 , 0.86082888, 0.86082888, 0.86109626, 0.86096257,\n",
              "        0.86082888, 0.86082888, 0.86082888, 0.86096257, 0.86082888,\n",
              "        0.86082888, 0.86109626, 0.86016043, 0.86109626, 0.86096257]),\n",
              " 'split7_test_AUC': array([0.45040107, 0.87473262, 0.87713904, 0.87754011, 0.87700535,\n",
              "        0.87687166, 0.87754011, 0.87794118, 0.87754011, 0.87807487,\n",
              "        0.87834225, 0.87847594, 0.87740642, 0.8776738 , 0.87754011,\n",
              "        0.87727273, 0.87700535, 0.87713904, 0.87727273, 0.87754011,\n",
              "        0.87727273, 0.87754011, 0.87754011, 0.87780749, 0.87727273,\n",
              "        0.87740642, 0.87780749, 0.87780749, 0.8776738 , 0.8776738 ,\n",
              "        0.8776738 , 0.8776738 , 0.8776738 , 0.8776738 , 0.8776738 ,\n",
              "        0.8776738 , 0.8776738 , 0.8776738 , 0.8776738 , 0.8776738 ,\n",
              "        0.8776738 , 0.87780749, 0.8776738 , 0.87780749, 0.87780749,\n",
              "        0.8776738 , 0.8776738 , 0.8776738 , 0.87780749, 0.8776738 ,\n",
              "        0.8776738 , 0.8776738 , 0.87807487, 0.87780749, 0.87807487]),\n",
              " 'split8_test_AUC': array([0.5480615 , 0.77252674, 0.77386364, 0.7743984 , 0.77533422,\n",
              "        0.7756016 , 0.77586898, 0.77573529, 0.77720588, 0.77720588,\n",
              "        0.77733957, 0.77707219, 0.77800802, 0.77867647, 0.77854278,\n",
              "        0.77854278, 0.7782754 , 0.77854278, 0.77974599, 0.77854278,\n",
              "        0.77867647, 0.77854278, 0.77854278, 0.77854278, 0.77854278,\n",
              "        0.77854278, 0.77907754, 0.77974599, 0.77987968, 0.7796123 ,\n",
              "        0.77987968, 0.77987968, 0.77974599, 0.77974599, 0.77974599,\n",
              "        0.77974599, 0.77894385, 0.77974599, 0.77974599, 0.77947861,\n",
              "        0.77974599, 0.7796123 , 0.7796123 , 0.7796123 , 0.77947861,\n",
              "        0.77974599, 0.7796123 , 0.77974599, 0.77947861, 0.77947861,\n",
              "        0.77947861, 0.77947861, 0.77947861, 0.78068182, 0.77921123]),\n",
              " 'split9_test_AUC': array([0.65543146, 0.85833001, 0.85593671, 0.85567079, 0.85420822,\n",
              "        0.85434118, 0.85407526, 0.85447414, 0.85447414, 0.85380933,\n",
              "        0.85354341, 0.85341045, 0.85354341, 0.85327749, 0.85327749,\n",
              "        0.85341045, 0.85354341, 0.85341045, 0.85394229, 0.85367637,\n",
              "        0.85380933, 0.85380933, 0.85394229, 0.85394229, 0.85394229,\n",
              "        0.85380933, 0.85367637, 0.85380933, 0.85380933, 0.85380933,\n",
              "        0.85287861, 0.85274565, 0.85274565, 0.85274565, 0.85274565,\n",
              "        0.85274565, 0.85274565, 0.85274565, 0.85274565, 0.85274565,\n",
              "        0.85274565, 0.85274565, 0.85274565, 0.85274565, 0.85274565,\n",
              "        0.85274565, 0.85274565, 0.85274565, 0.85274565, 0.85274565,\n",
              "        0.85274565, 0.85274565, 0.85274565, 0.85261268, 0.85274565]),\n",
              " 'split10_test_AUC': array([0.52944664, 0.87714097, 0.87358366, 0.87213439, 0.87108037,\n",
              "        0.86910408, 0.86870883, 0.86870883, 0.86725955, 0.86805007,\n",
              "        0.86752306, 0.8673913 , 0.86752306, 0.8671278 , 0.8671278 ,\n",
              "        0.86725955, 0.86725955, 0.86699605, 0.8668643 , 0.86699605,\n",
              "        0.8671278 , 0.8671278 , 0.8671278 , 0.86699605, 0.86699605,\n",
              "        0.8671278 , 0.8671278 , 0.8671278 , 0.86699605, 0.86660079,\n",
              "        0.8671278 , 0.86752306, 0.86752306, 0.8671278 , 0.86699605,\n",
              "        0.86752306, 0.86752306, 0.86752306, 0.86752306, 0.86752306,\n",
              "        0.86752306, 0.86752306, 0.86752306, 0.86699605, 0.86725955,\n",
              "        0.86752306, 0.86752306, 0.86752306, 0.8671278 , 0.86752306,\n",
              "        0.86752306, 0.86752306, 0.8671278 , 0.8671278 , 0.8671278 ]),\n",
              " 'split11_test_AUC': array([0.62299465, 0.87807487, 0.87994652, 0.88114973, 0.8802139 ,\n",
              "        0.87914439, 0.87860963, 0.87860963, 0.87874332, 0.87847594,\n",
              "        0.87820856, 0.87847594, 0.87834225, 0.87860963, 0.87860963,\n",
              "        0.87860963, 0.87887701, 0.87914439, 0.87914439, 0.8790107 ,\n",
              "        0.87914439, 0.87994652, 0.87874332, 0.87927807, 0.87927807,\n",
              "        0.87874332, 0.87914439, 0.87874332, 0.87887701, 0.87887701,\n",
              "        0.87860963, 0.87887701, 0.87860963, 0.87874332, 0.87887701,\n",
              "        0.87887701, 0.87874332, 0.87887701, 0.87887701, 0.87874332,\n",
              "        0.87860963, 0.87887701, 0.87954545, 0.87887701, 0.87887701,\n",
              "        0.87887701, 0.87887701, 0.87874332, 0.87887701, 0.87954545,\n",
              "        0.87874332, 0.87887701, 0.87887701, 0.87887701, 0.87887701]),\n",
              " 'split12_test_AUC': array([0.5459893 , 0.80641711, 0.80494652, 0.80574866, 0.80534759,\n",
              "        0.80601604, 0.80574866, 0.80534759, 0.80548128, 0.80588235,\n",
              "        0.80708556, 0.80695187, 0.80695187, 0.8065508 , 0.80641711,\n",
              "        0.8065508 , 0.80668449, 0.8065508 , 0.80695187, 0.80548128,\n",
              "        0.80681818, 0.80681818, 0.80681818, 0.80695187, 0.80695187,\n",
              "        0.80695187, 0.80601604, 0.80588235, 0.80681818, 0.80588235,\n",
              "        0.80588235, 0.80588235, 0.80588235, 0.80508021, 0.80588235,\n",
              "        0.80467914, 0.80588235, 0.80588235, 0.80574866, 0.80588235,\n",
              "        0.80601604, 0.80588235, 0.80588235, 0.80574866, 0.80588235,\n",
              "        0.80588235, 0.80588235, 0.80574866, 0.80588235, 0.80588235,\n",
              "        0.80588235, 0.80601604, 0.80588235, 0.80534759, 0.80601604]),\n",
              " 'split13_test_AUC': array([0.53830214, 0.81477273, 0.81664439, 0.81704545, 0.81664439,\n",
              "        0.81717914, 0.8165107 , 0.81691176, 0.81610963, 0.81597594,\n",
              "        0.81570856, 0.81610963, 0.81610963, 0.81610963, 0.81597594,\n",
              "        0.81597594, 0.8165107 , 0.81610963, 0.81610963, 0.81610963,\n",
              "        0.81610963, 0.81597594, 0.81597594, 0.81597594, 0.81584225,\n",
              "        0.81597594, 0.81610963, 0.81610963, 0.81610963, 0.81597594,\n",
              "        0.81610963, 0.81610963, 0.81570856, 0.81597594, 0.81570856,\n",
              "        0.81570856, 0.81570856, 0.81570856, 0.81557487, 0.81557487,\n",
              "        0.81557487, 0.81570856, 0.81570856, 0.81557487, 0.81570856,\n",
              "        0.81570856, 0.81557487, 0.81557487, 0.81570856, 0.81570856,\n",
              "        0.81557487, 0.81557487, 0.81557487, 0.81570856, 0.81570856]),\n",
              " 'split14_test_AUC': array([0.48856535, 0.84011435, 0.84689536, 0.84902274, 0.85061827,\n",
              "        0.85075123, 0.85061827, 0.85141604, 0.85075123, 0.85075123,\n",
              "        0.85088419, 0.85088419, 0.85088419, 0.85088419, 0.85075123,\n",
              "        0.85075123, 0.85115011, 0.85141604, 0.85061827, 0.85088419,\n",
              "        0.85048531, 0.85075123, 0.85075123, 0.85075123, 0.85088419,\n",
              "        0.85035235, 0.85048531, 0.85061827, 0.85075123, 0.85101715,\n",
              "        0.85021939, 0.85048531, 0.85075123, 0.85075123, 0.85115011,\n",
              "        0.85088419, 0.85061827, 0.85115011, 0.85021939, 0.85115011,\n",
              "        0.85061827, 0.85101715, 0.85115011, 0.85101715, 0.85115011,\n",
              "        0.85128307, 0.85115011, 0.85101715, 0.85101715, 0.85088419,\n",
              "        0.85101715, 0.85115011, 0.85115011, 0.85115011, 0.85115011]),\n",
              " 'split15_test_AUC': array([0.5914361 , 0.87997365, 0.88168643, 0.88142292, 0.88102767,\n",
              "        0.88115942, 0.88089592, 0.88089592, 0.88076416, 0.88063241,\n",
              "        0.88076416, 0.88102767, 0.88115942, 0.88102767, 0.88089592,\n",
              "        0.88102767, 0.88102767, 0.88036891, 0.88036891, 0.87971014,\n",
              "        0.88050066, 0.88050066, 0.88050066, 0.88050066, 0.8798419 ,\n",
              "        0.8798419 , 0.8798419 , 0.8798419 , 0.87997365, 0.87997365,\n",
              "        0.88050066, 0.87997365, 0.87997365, 0.87997365, 0.87997365,\n",
              "        0.87891963, 0.87997365, 0.87905138, 0.87905138, 0.87905138,\n",
              "        0.87905138, 0.87997365, 0.87905138, 0.87891963, 0.87905138,\n",
              "        0.87891963, 0.87891963, 0.87957839, 0.87891963, 0.87891963,\n",
              "        0.87891963, 0.87891963, 0.87891963, 0.87891963, 0.87944664]),\n",
              " 'split16_test_AUC': array([0.51303476, 0.83696524, 0.84070856, 0.84110963, 0.83977273,\n",
              "        0.83963904, 0.84044118, 0.84044118, 0.84057487, 0.84057487,\n",
              "        0.84070856, 0.8415107 , 0.8415107 , 0.84191176, 0.84191176,\n",
              "        0.84191176, 0.84177807, 0.84191176, 0.84204545, 0.8415107 ,\n",
              "        0.8415107 , 0.8415107 , 0.84137701, 0.8415107 , 0.8415107 ,\n",
              "        0.8415107 , 0.84137701, 0.8415107 , 0.84137701, 0.8415107 ,\n",
              "        0.8415107 , 0.8415107 , 0.84137701, 0.8415107 , 0.8415107 ,\n",
              "        0.84137701, 0.84137701, 0.84124332, 0.84137701, 0.84110963,\n",
              "        0.84124332, 0.84137701, 0.84137701, 0.84124332, 0.84124332,\n",
              "        0.84097594, 0.84097594, 0.84137701, 0.84137701, 0.84110963,\n",
              "        0.84110963, 0.84110963, 0.84124332, 0.84137701, 0.84110963]),\n",
              " 'split17_test_AUC': array([0.51717914, 0.84177807, 0.84552139, 0.84712567, 0.84739305,\n",
              "        0.84832888, 0.84886364, 0.84953209, 0.84993316, 0.84966578,\n",
              "        0.84953209, 0.85020053, 0.85020053, 0.85033422, 0.85046791,\n",
              "        0.85046791, 0.8506016 , 0.85073529, 0.85073529, 0.85020053,\n",
              "        0.85046791, 0.85073529, 0.85127005, 0.85086898, 0.85086898,\n",
              "        0.85127005, 0.85113636, 0.85127005, 0.85127005, 0.85153743,\n",
              "        0.85180481, 0.85140374, 0.85180481, 0.85180481, 0.85127005,\n",
              "        0.8519385 , 0.85180481, 0.85180481, 0.85140374, 0.85140374,\n",
              "        0.85180481, 0.85180481, 0.85180481, 0.85180481, 0.85167112,\n",
              "        0.8519385 , 0.85167112, 0.8519385 , 0.85153743, 0.85153743,\n",
              "        0.85180481, 0.85180481, 0.85167112, 0.85153743, 0.85167112]),\n",
              " 'split18_test_AUC': array([0.49411765, 0.81911765, 0.82018717, 0.82259358, 0.82245989,\n",
              "        0.82299465, 0.82299465, 0.82272727, 0.82379679, 0.82339572,\n",
              "        0.82259358, 0.82272727, 0.82219251, 0.82192513, 0.82192513,\n",
              "        0.82219251, 0.8223262 , 0.82205882, 0.82205882, 0.8223262 ,\n",
              "        0.82205882, 0.82219251, 0.82192513, 0.82219251, 0.82179144,\n",
              "        0.82205882, 0.82179144, 0.82165775, 0.82165775, 0.82192513,\n",
              "        0.82179144, 0.82259358, 0.82152406, 0.82112299, 0.82112299,\n",
              "        0.82112299, 0.82112299, 0.82112299, 0.82112299, 0.82112299,\n",
              "        0.82112299, 0.82259358, 0.82112299, 0.82112299, 0.82112299,\n",
              "        0.82112299, 0.82112299, 0.82112299, 0.82112299, 0.82112299,\n",
              "        0.82112299, 0.82112299, 0.82112299, 0.82139037, 0.82112299]),\n",
              " 'split19_test_AUC': array([0.58010903, 0.84377078, 0.84656296, 0.84682888, 0.84736072,\n",
              "        0.84749368, 0.84829145, 0.84842441, 0.84855737, 0.84829145,\n",
              "        0.84908922, 0.84908922, 0.84935514, 0.84855737, 0.84855737,\n",
              "        0.84855737, 0.84842441, 0.84855737, 0.84869033, 0.84869033,\n",
              "        0.84869033, 0.84882329, 0.84802553, 0.84815849, 0.84815849,\n",
              "        0.84802553, 0.84815849, 0.84815849, 0.84749368, 0.84815849,\n",
              "        0.84842441, 0.84842441, 0.84842441, 0.84762665, 0.84829145,\n",
              "        0.84829145, 0.84842441, 0.84842441, 0.84789257, 0.84789257,\n",
              "        0.84802553, 0.84789257, 0.84789257, 0.84789257, 0.84789257,\n",
              "        0.84802553, 0.84789257, 0.84789257, 0.84789257, 0.84789257,\n",
              "        0.84789257, 0.84789257, 0.84789257, 0.84789257, 0.84789257]),\n",
              " 'split20_test_AUC': array([0.49137022, 0.82378129, 0.82523057, 0.82628458, 0.82747036,\n",
              "        0.82852437, 0.82905138, 0.82918314, 0.82944664, 0.82918314,\n",
              "        0.82878788, 0.82905138, 0.82891963, 0.82865613, 0.82878788,\n",
              "        0.82878788, 0.82905138, 0.82918314, 0.82931489, 0.82918314,\n",
              "        0.82918314, 0.82918314, 0.82918314, 0.82931489, 0.82918314,\n",
              "        0.82918314, 0.82918314, 0.82957839, 0.82944664, 0.82944664,\n",
              "        0.82944664, 0.82944664, 0.82957839, 0.82957839, 0.82957839,\n",
              "        0.82957839, 0.82957839, 0.82957839, 0.82957839, 0.82957839,\n",
              "        0.82971014, 0.82971014, 0.82971014, 0.82971014, 0.82971014,\n",
              "        0.82971014, 0.82971014, 0.82971014, 0.82971014, 0.82971014,\n",
              "        0.8298419 , 0.82971014, 0.82971014, 0.8301054 , 0.82971014]),\n",
              " 'split21_test_AUC': array([0.58382353, 0.85387701, 0.85601604, 0.85588235, 0.85508021,\n",
              "        0.85574866, 0.85481283, 0.85494652, 0.85494652, 0.85508021,\n",
              "        0.85494652, 0.85534759, 0.85548128, 0.85494652, 0.85481283,\n",
              "        0.8552139 , 0.8552139 , 0.85481283, 0.85508021, 0.85508021,\n",
              "        0.85494652, 0.85508021, 0.8552139 , 0.8552139 , 0.85534759,\n",
              "        0.85534759, 0.85534759, 0.85534759, 0.8552139 , 0.85467914,\n",
              "        0.85494652, 0.85534759, 0.85494652, 0.8552139 , 0.85481283,\n",
              "        0.85441176, 0.8552139 , 0.85534759, 0.85454545, 0.85494652,\n",
              "        0.85494652, 0.85508021, 0.85508021, 0.85508021, 0.85467914,\n",
              "        0.85494652, 0.85467914, 0.85454545, 0.85467914, 0.85494652,\n",
              "        0.85467914, 0.85467914, 0.85467914, 0.85454545, 0.85494652]),\n",
              " 'split22_test_AUC': array([0.49391711, 0.83643048, 0.83897059, 0.84231283, 0.84324866,\n",
              "        0.84351604, 0.84351604, 0.84378342, 0.84445187, 0.84512032,\n",
              "        0.8453877 , 0.84578877, 0.84578877, 0.84592246, 0.84645722,\n",
              "        0.84645722, 0.84645722, 0.84645722, 0.84605615, 0.84605615,\n",
              "        0.84618984, 0.84605615, 0.84592246, 0.84592246, 0.84605615,\n",
              "        0.84485294, 0.84605615, 0.84618984, 0.8453877 , 0.84512032,\n",
              "        0.84618984, 0.84445187, 0.84645722, 0.84645722, 0.84471925,\n",
              "        0.84498663, 0.8453877 , 0.84645722, 0.84485294, 0.84552139,\n",
              "        0.8453877 , 0.8453877 , 0.8453877 , 0.8453877 , 0.84565508,\n",
              "        0.8453877 , 0.84431818, 0.8453877 , 0.8453877 , 0.84525401,\n",
              "        0.84552139, 0.84552139, 0.84565508, 0.84525401, 0.84565508]),\n",
              " 'split23_test_AUC': array([0.5967246 , 0.84217914, 0.84431818, 0.84552139, 0.84618984,\n",
              "        0.84645722, 0.84578877, 0.84565508, 0.84565508, 0.84565508,\n",
              "        0.84565508, 0.84552139, 0.84565508, 0.84578877, 0.84578877,\n",
              "        0.84592246, 0.84618984, 0.84618984, 0.84645722, 0.84645722,\n",
              "        0.84645722, 0.84659091, 0.84645722, 0.84632353, 0.84578877,\n",
              "        0.84632353, 0.84632353, 0.84632353, 0.84632353, 0.84645722,\n",
              "        0.84659091, 0.84645722, 0.84618984, 0.84645722, 0.84645722,\n",
              "        0.84632353, 0.84645722, 0.8467246 , 0.84659091, 0.84632353,\n",
              "        0.84632353, 0.84645722, 0.84605615, 0.84645722, 0.84632353,\n",
              "        0.84645722, 0.84645722, 0.8467246 , 0.84659091, 0.84659091,\n",
              "        0.84659091, 0.84659091, 0.84659091, 0.84645722, 0.84659091]),\n",
              " 'split24_test_AUC': array([0.54660285, 0.88153171, 0.88033506, 0.88046802, 0.87993618,\n",
              "        0.87993618, 0.8802021 , 0.88006914, 0.8802021 , 0.88046802,\n",
              "        0.88046802, 0.88046802, 0.88060098, 0.8802021 , 0.8802021 ,\n",
              "        0.8802021 , 0.88006914, 0.8802021 , 0.8802021 , 0.88033506,\n",
              "        0.88046802, 0.88046802, 0.88033506, 0.88046802, 0.88046802,\n",
              "        0.88046802, 0.88046802, 0.88046802, 0.88046802, 0.88099987,\n",
              "        0.88060098, 0.88060098, 0.88060098, 0.88060098, 0.88099987,\n",
              "        0.88033506, 0.88046802, 0.88046802, 0.88033506, 0.88033506,\n",
              "        0.88060098, 0.88046802, 0.88073394, 0.88086691, 0.88060098,\n",
              "        0.88086691, 0.88033506, 0.88033506, 0.88073394, 0.88046802,\n",
              "        0.88086691, 0.88086691, 0.88046802, 0.88073394, 0.88086691]),\n",
              " 'mean_test_AUC': array([0.54220972, 0.84512918, 0.84649226, 0.84727212, 0.84726137,\n",
              "        0.847487  , 0.84747151, 0.8475618 , 0.84750503, 0.84746803,\n",
              "        0.84744723, 0.84760168, 0.84759107, 0.8475336 , 0.8475761 ,\n",
              "        0.84761851, 0.84769843, 0.84761356, 0.84765645, 0.84754417,\n",
              "        0.84761863, 0.84768284, 0.84743864, 0.8475238 , 0.84748688,\n",
              "        0.84736958, 0.84745992, 0.84760815, 0.84746529, 0.84742816,\n",
              "        0.84747065, 0.84743869, 0.84743871, 0.84740161, 0.84737455,\n",
              "        0.84729989, 0.84737979, 0.84745508, 0.84727346, 0.84732154,\n",
              "        0.84730582, 0.84747605, 0.84736436, 0.84732723, 0.84733804,\n",
              "        0.84737481, 0.84725749, 0.84735331, 0.8473113 , 0.84735355,\n",
              "        0.84734824, 0.84735368, 0.84727924, 0.84740174, 0.84736433]),\n",
              " 'std_test_AUC': array([0.04433931, 0.02764418, 0.0272509 , 0.02695948, 0.02672598,\n",
              "        0.0263912 , 0.02639788, 0.0264792 , 0.02620841, 0.02622732,\n",
              "        0.02614131, 0.0262388 , 0.02616132, 0.02606877, 0.02609404,\n",
              "        0.02610386, 0.02606873, 0.02608018, 0.02594435, 0.02614291,\n",
              "        0.02608955, 0.02616255, 0.02598775, 0.02614113, 0.02605622,\n",
              "        0.02592205, 0.02598952, 0.02604648, 0.02584489, 0.02593925,\n",
              "        0.02591256, 0.02586855, 0.02592261, 0.02596866, 0.02596118,\n",
              "        0.02597417, 0.02603466, 0.02590788, 0.02591768, 0.02593711,\n",
              "        0.02586798, 0.02592274, 0.02600079, 0.02598335, 0.02593586,\n",
              "        0.02595682, 0.02594059, 0.02595639, 0.02595796, 0.02599207,\n",
              "        0.02596555, 0.02598727, 0.02596332, 0.02582695, 0.02603812]),\n",
              " 'rank_test_AUC': array([55, 54, 53, 50, 51, 16, 19, 11, 15, 21, 25,  8,  9, 13, 10,  5,  1,\n",
              "         6,  3, 12,  4,  2, 28, 14, 17, 35, 23,  7, 22, 29, 20, 27, 26, 31,\n",
              "        34, 47, 32, 24, 49, 44, 46, 18, 36, 43, 42, 33, 52, 40, 45, 39, 41,\n",
              "        38, 48, 30, 37], dtype=int32),\n",
              " 'split0_train_AUC': array([0.5418033 , 0.84740961, 0.84856108, 0.84920357, 0.84962077,\n",
              "        0.84982102, 0.84978765, 0.84954567, 0.84987109, 0.84986274,\n",
              "        0.84978765, 0.84979599, 0.84979599, 0.84979599, 0.84997956,\n",
              "        0.84999625, 0.8499879 , 0.8499879 , 0.84992115, 0.84988777,\n",
              "        0.85002128, 0.85017981, 0.85007134, 0.8502716 , 0.85017981,\n",
              "        0.85020484, 0.85009637, 0.85017981, 0.85036338, 0.85037172,\n",
              "        0.8501965 , 0.85030497, 0.85008803, 0.85014644, 0.84996287,\n",
              "        0.85001293, 0.85018816, 0.85018816, 0.85031332, 0.85029663,\n",
              "        0.85020484, 0.85025491, 0.8501214 , 0.85013809, 0.85022988,\n",
              "        0.85016312, 0.85021319, 0.85007968, 0.85022153, 0.85023822,\n",
              "        0.85017147, 0.85021319, 0.85021319, 0.85010472, 0.850063  ]),\n",
              " 'split1_train_AUC': array([0.54472258, 0.85519928, 0.85754369, 0.85830853, 0.8585995 ,\n",
              "        0.85907338, 0.8593976 , 0.85950568, 0.85918976, 0.85928121,\n",
              "        0.85961375, 0.85968026, 0.85968858, 0.85977171, 0.85972183,\n",
              "        0.85981328, 0.85964701, 0.85987979, 0.85998786, 0.85982991,\n",
              "        0.85984653, 0.85977171, 0.85974677, 0.85992135, 0.85983822,\n",
              "        0.85983822, 0.85981328, 0.85981328, 0.85979665, 0.85982159,\n",
              "        0.85977171, 0.85978834, 0.85982991, 0.85978002, 0.85982991,\n",
              "        0.85982991, 0.85978834, 0.85984653, 0.8598881 , 0.85987979,\n",
              "        0.85985485, 0.8598881 , 0.85982159, 0.85979665, 0.85989641,\n",
              "        0.85990473, 0.85990473, 0.85987147, 0.85985485, 0.85990473,\n",
              "        0.8598881 , 0.8598881 , 0.86024558, 0.85998786, 0.85984653]),\n",
              " 'split2_train_AUC': array([0.53814658, 0.85701162, 0.85820877, 0.858533  , 0.85844986,\n",
              "        0.85870758, 0.85888216, 0.85931447, 0.85944748, 0.85966364,\n",
              "        0.85963038, 0.85963038, 0.85967195, 0.85963038, 0.85954725,\n",
              "        0.8597052 , 0.85978834, 0.85963869, 0.85982991, 0.85978834,\n",
              "        0.85975508, 0.85983822, 0.85981328, 0.85997124, 0.86036197,\n",
              "        0.85999618, 0.86000449, 0.85999618, 0.86000449, 0.85998786,\n",
              "        0.85999618, 0.86021233, 0.86018739, 0.86022895, 0.86017907,\n",
              "        0.86023727, 0.86022064, 0.86022064, 0.86041185, 0.86015413,\n",
              "        0.86039522, 0.86040354, 0.86042017, 0.86041185, 0.86039522,\n",
              "        0.86041185, 0.86044511, 0.86042848, 0.86042848, 0.86047005,\n",
              "        0.86044511, 0.86042848, 0.86041185, 0.86044511, 0.86042848]),\n",
              " 'split3_train_AUC': array([0.54127247, 0.85545699, 0.85684535, 0.85718621, 0.85750212,\n",
              "        0.85760188, 0.85783466, 0.85800093, 0.85823371, 0.85839998,\n",
              "        0.85846649, 0.85845817, 0.85849143, 0.85827528, 0.85832516,\n",
              "        0.85838335, 0.85839998, 0.85840829, 0.85833347, 0.85833347,\n",
              "        0.85833347, 0.85834179, 0.85849974, 0.85849143, 0.85844155,\n",
              "        0.858533  , 0.8586577 , 0.85854131, 0.858533  , 0.858533  ,\n",
              "        0.85850806, 0.85851637, 0.85857456, 0.85851637, 0.85850806,\n",
              "        0.85857456, 0.85852468, 0.85851637, 0.85879903, 0.85861613,\n",
              "        0.85862445, 0.85889879, 0.85860782, 0.85872421, 0.85867433,\n",
              "        0.85868264, 0.85871589, 0.85871589, 0.85874915, 0.85874083,\n",
              "        0.85889879, 0.85858288, 0.85872421, 0.85874083, 0.85871589]),\n",
              " 'split4_train_AUC': array([0.53978105, 0.83750833, 0.8392649 , 0.83952298, 0.84005578,\n",
              "        0.8402639 , 0.84072178, 0.8405969 , 0.84075508, 0.84097153,\n",
              "        0.841163  , 0.84113803, 0.8408633 , 0.84105478, 0.841163  ,\n",
              "        0.84123793, 0.8411963 , 0.84120463, 0.84138778, 0.8414294 ,\n",
              "        0.84138778, 0.84147103, 0.84167915, 0.84147103, 0.84145438,\n",
              "        0.84167083, 0.8416625 , 0.84147103, 0.8416958 , 0.8416958 ,\n",
              "        0.84167915, 0.8417624 , 0.84168748, 0.84167083, 0.8417291 ,\n",
              "        0.8416625 , 0.84177905, 0.84168748, 0.8417957 , 0.84177073,\n",
              "        0.84157093, 0.84181235, 0.84177905, 0.84177905, 0.84171245,\n",
              "        0.84177905, 0.84175408, 0.84171245, 0.84168748, 0.84172078,\n",
              "        0.84172078, 0.841829  , 0.8417291 , 0.8417291 , 0.8417291 ]),\n",
              " 'split5_train_AUC': array([0.54197852, 0.84787688, 0.850063  , 0.85113103, 0.85126453,\n",
              "        0.85141472, 0.85109765, 0.85148147, 0.85134797, 0.85142306,\n",
              "        0.85152319, 0.85153988, 0.85167338, 0.85167338, 0.85174848,\n",
              "        0.85175682, 0.85177351, 0.85183192, 0.85188198, 0.85193205,\n",
              "        0.85178186, 0.85187364, 0.85191536, 0.85179854, 0.85179854,\n",
              "        0.8519988 , 0.85181523, 0.85186529, 0.85187364, 0.85188198,\n",
              "        0.85191536, 0.85188198, 0.85187364, 0.85184026, 0.85195708,\n",
              "        0.85196542, 0.85184026, 0.85185695, 0.85184861, 0.85194039,\n",
              "        0.8519988 , 0.85200714, 0.85200714, 0.85194873, 0.85201549,\n",
              "        0.85199045, 0.85194873, 0.85193205, 0.85201549, 0.85194873,\n",
              "        0.85200714, 0.85200714, 0.8519988 , 0.85209058, 0.85202383]),\n",
              " 'split6_train_AUC': array([0.54562459, 0.84960012, 0.85135427, 0.85078064, 0.85114643,\n",
              "        0.85148729, 0.85167019, 0.85147066, 0.85154548, 0.85158705,\n",
              "        0.85156211, 0.8516203 , 0.85170344, 0.85191128, 0.85193622,\n",
              "        0.85192791, 0.85192791, 0.85189465, 0.85190296, 0.85196947,\n",
              "        0.85179489, 0.85181152, 0.85188634, 0.85178658, 0.85191128,\n",
              "        0.85181983, 0.85182814, 0.8518614 , 0.85182814, 0.85179489,\n",
              "        0.85177826, 0.85177826, 0.8518032 , 0.85176995, 0.85173669,\n",
              "        0.8516785 , 0.85172838, 0.85165356, 0.85164525, 0.85172007,\n",
              "        0.85163693, 0.85167019, 0.85166187, 0.85168681, 0.85172838,\n",
              "        0.85166187, 0.85162862, 0.85162862, 0.85165356, 0.85163693,\n",
              "        0.8516785 , 0.85169513, 0.85192791, 0.85166187, 0.8516785 ]),\n",
              " 'split7_train_AUC': array([0.5635527 , 0.84247128, 0.84436676, 0.84493208, 0.84494871,\n",
              "        0.84532281, 0.84550571, 0.84584657, 0.84599621, 0.84622067,\n",
              "        0.84620405, 0.84604609, 0.84607103, 0.84608766, 0.84616248,\n",
              "        0.84601284, 0.84592139, 0.84602946, 0.8459297 , 0.84592139,\n",
              "        0.84599621, 0.84597127, 0.84603778, 0.84604609, 0.84600452,\n",
              "        0.84600452, 0.8459879 , 0.84597127, 0.8459879 , 0.84604609,\n",
              "        0.84602946, 0.84597958, 0.84599621, 0.84594633, 0.84602115,\n",
              "        0.84601284, 0.84603778, 0.84603778, 0.84603778, 0.84602946,\n",
              "        0.84604609, 0.84593801, 0.84602946, 0.84591307, 0.84597958,\n",
              "        0.84590476, 0.84595464, 0.84589645, 0.84597127, 0.84595464,\n",
              "        0.84595464, 0.84594633, 0.8462955 , 0.84594633, 0.84618742]),\n",
              " 'split8_train_AUC': array([0.53961808, 0.8681268 , 0.86987264, 0.87055435, 0.87094508,\n",
              "        0.87148546, 0.87175149, 0.87195102, 0.87193439, 0.87201752,\n",
              "        0.8720009 , 0.87210066, 0.87205909, 0.87208403, 0.87215054,\n",
              "        0.87224199, 0.87227524, 0.87220042, 0.87241657, 0.87229187,\n",
              "        0.87229187, 0.87229187, 0.87231681, 0.87239995, 0.87239163,\n",
              "        0.87252465, 0.87235007, 0.87236669, 0.87246645, 0.87244983,\n",
              "        0.87246645, 0.87247477, 0.87244151, 0.87245814, 0.87245814,\n",
              "        0.87242489, 0.87211729, 0.87248308, 0.8724914 , 0.87252465,\n",
              "        0.87232513, 0.87246645, 0.87247477, 0.87257453, 0.87248308,\n",
              "        0.8724332 , 0.87244151, 0.8723085 , 0.87244983, 0.87244151,\n",
              "        0.87244983, 0.87244151, 0.87244151, 0.87230018, 0.87247477]),\n",
              " 'split9_train_AUC': array([0.52487096, 0.84523393, 0.84691558, 0.84772311, 0.84830586,\n",
              "        0.84845571, 0.84876374, 0.84891359, 0.84930486, 0.84935481,\n",
              "        0.84945471, 0.84957126, 0.84979604, 0.84967949, 0.84973776,\n",
              "        0.84971279, 0.84987096, 0.84968781, 0.84978771, 0.84983766,\n",
              "        0.84970446, 0.84980436, 0.84977106, 0.84978771, 0.84975441,\n",
              "        0.84977939, 0.84984599, 0.84995421, 0.84983766, 0.84993756,\n",
              "        0.85008741, 0.85004579, 0.85008741, 0.85007076, 0.85007076,\n",
              "        0.85007909, 0.85007076, 0.85007909, 0.85008741, 0.85007909,\n",
              "        0.85007076, 0.85009574, 0.85018731, 0.85007909, 0.85015401,\n",
              "        0.85014569, 0.85011239, 0.85004579, 0.85014569, 0.85015401,\n",
              "        0.85005411, 0.85004579, 0.85010406, 0.85010406, 0.85006244]),\n",
              " 'split10_train_AUC': array([0.54427729, 0.84370906, 0.84612047, 0.84707168, 0.84758067,\n",
              "        0.84825653, 0.84838169, 0.84833997, 0.84822315, 0.84801455,\n",
              "        0.84788105, 0.84783933, 0.84783933, 0.84796449, 0.84797283,\n",
              "        0.84784767, 0.84804793, 0.84782264, 0.84783098, 0.84785602,\n",
              "        0.84789774, 0.84792277, 0.84798118, 0.84809799, 0.8480229 ,\n",
              "        0.84811468, 0.84810634, 0.84814806, 0.84804793, 0.84807296,\n",
              "        0.8480229 , 0.84818978, 0.84818143, 0.84795614, 0.8479478 ,\n",
              "        0.84804793, 0.84804793, 0.84803124, 0.84803958, 0.84803124,\n",
              "        0.84803958, 0.84803958, 0.84800621, 0.84805627, 0.84806462,\n",
              "        0.84804793, 0.84804793, 0.84804793, 0.84807296, 0.84801455,\n",
              "        0.84804793, 0.84804793, 0.84816474, 0.84807296, 0.84808965]),\n",
              " 'split11_train_AUC': array([0.52652013, 0.84268327, 0.84388042, 0.84403838, 0.84460369,\n",
              "        0.84489467, 0.84500274, 0.84496118, 0.84511082, 0.84516901,\n",
              "        0.84501106, 0.84506925, 0.8451607 , 0.84486141, 0.84491129,\n",
              "        0.84496949, 0.84493624, 0.84484479, 0.84498612, 0.84504431,\n",
              "        0.84490298, 0.84505262, 0.84523552, 0.84504431, 0.84488635,\n",
              "        0.84533528, 0.84501106, 0.84532697, 0.84532697, 0.84532697,\n",
              "        0.84545999, 0.84557638, 0.84538517, 0.84542673, 0.8453436 ,\n",
              "        0.84544336, 0.84540179, 0.84536854, 0.84538517, 0.84541842,\n",
              "        0.84573433, 0.84545999, 0.84535191, 0.84560132, 0.845593  ,\n",
              "        0.84549324, 0.84553481, 0.84558469, 0.845593  , 0.84529372,\n",
              "        0.8455265 , 0.845593  , 0.84560132, 0.84560132, 0.845593  ]),\n",
              " 'split12_train_AUC': array([0.54407828, 0.85914404, 0.86020817, 0.86103121, 0.86185425,\n",
              "        0.86209534, 0.86218679, 0.86240294, 0.86282693, 0.86295163,\n",
              "        0.86324261, 0.86324261, 0.8633008 , 0.8634255 , 0.86344213,\n",
              "        0.86358346, 0.86357515, 0.86361671, 0.86370816, 0.86415709,\n",
              "        0.86366659, 0.86369154, 0.86374973, 0.86397419, 0.86399082,\n",
              "        0.86399082, 0.86404902, 0.86408227, 0.86397419, 0.86405733,\n",
              "        0.86406564, 0.8640407 , 0.86409058, 0.86433168, 0.86407396,\n",
              "        0.86419866, 0.86408227, 0.86424023, 0.86414047, 0.86424854,\n",
              "        0.86419035, 0.86423191, 0.86432336, 0.86425685, 0.86431505,\n",
              "        0.86429011, 0.86429842, 0.86430674, 0.86429842, 0.8645312 ,\n",
              "        0.86429842, 0.86429842, 0.86429011, 0.86456445, 0.86429842]),\n",
              " 'split13_train_AUC': array([0.54170893, 0.85832932, 0.85916067, 0.85985069, 0.85983406,\n",
              "        0.85996708, 0.86041601, 0.86060722, 0.86101458, 0.86103952,\n",
              "        0.8609647 , 0.86107278, 0.86098133, 0.86097301, 0.86092313,\n",
              "        0.86081506, 0.86118085, 0.86113928, 0.86118917, 0.86118085,\n",
              "        0.86118085, 0.86118917, 0.86113097, 0.86111434, 0.86128893,\n",
              "        0.86126399, 0.86125567, 0.86129724, 0.86128061, 0.86132218,\n",
              "        0.86132218, 0.86128893, 0.8613305 , 0.8612723 , 0.8613305 ,\n",
              "        0.86128061, 0.86128061, 0.86129724, 0.86132218, 0.8613305 ,\n",
              "        0.86143026, 0.86138038, 0.86138869, 0.86143857, 0.86138038,\n",
              "        0.86138038, 0.86142194, 0.86143026, 0.86138869, 0.86135544,\n",
              "        0.86143026, 0.86143026, 0.86143026, 0.86130556, 0.86142194]),\n",
              " 'split14_train_AUC': array([0.55391692, 0.84968781, 0.85101981, 0.85226024, 0.85291792,\n",
              "        0.85300117, 0.85293457, 0.85310107, 0.85315102, 0.85310939,\n",
              "        0.85309274, 0.85310107, 0.85315934, 0.85320097, 0.85331752,\n",
              "        0.85336747, 0.85348402, 0.85355894, 0.85401682, 0.85390859,\n",
              "        0.85399184, 0.85391692, 0.85391692, 0.85392524, 0.85403347,\n",
              "        0.85426657, 0.85410007, 0.85407509, 0.85408342, 0.85405012,\n",
              "        0.85377539, 0.85384199, 0.85397519, 0.85400849, 0.85393357,\n",
              "        0.85401682, 0.85399184, 0.85408342, 0.85400017, 0.85399184,\n",
              "        0.85405844, 0.85400849, 0.85395854, 0.85395854, 0.85395854,\n",
              "        0.85388362, 0.85385032, 0.85384199, 0.85384199, 0.85384199,\n",
              "        0.85381702, 0.85382534, 0.85383367, 0.85388362, 0.85382534]),\n",
              " 'split15_train_AUC': array([0.52709705, 0.84149791, 0.84299982, 0.84375078, 0.84426811,\n",
              "        0.844702  , 0.84532779, 0.84537786, 0.84546964, 0.84554474,\n",
              "        0.84557811, 0.84592021, 0.84596193, 0.84590353, 0.84584512,\n",
              "        0.84588684, 0.84588684, 0.84596193, 0.84597028, 0.8458785 ,\n",
              "        0.84588684, 0.84588684, 0.84591187, 0.84589518, 0.84587015,\n",
              "        0.84588684, 0.84589518, 0.84592856, 0.84589518, 0.84592021,\n",
              "        0.84588684, 0.8458785 , 0.84588684, 0.8458785 , 0.84588684,\n",
              "        0.8458785 , 0.84588684, 0.84583678, 0.84587015, 0.84587015,\n",
              "        0.84587015, 0.84612881, 0.84587015, 0.84585346, 0.84587015,\n",
              "        0.84587015, 0.8458785 , 0.84582843, 0.84587015, 0.84598697,\n",
              "        0.84585346, 0.84594525, 0.84594525, 0.84596193, 0.84586181]),\n",
              " 'split16_train_AUC': array([0.54688409, 0.85168266, 0.85366959, 0.85425153, 0.85476697,\n",
              "        0.85546531, 0.85530735, 0.85544868, 0.85559832, 0.85563158,\n",
              "        0.85566483, 0.85590592, 0.85598906, 0.85587267, 0.85582279,\n",
              "        0.85583942, 0.85578122, 0.85577291, 0.85575628, 0.85600569,\n",
              "        0.85602231, 0.85618027, 0.85613039, 0.85614702, 0.85607219,\n",
              "        0.85610545, 0.85603894, 0.85608051, 0.85608882, 0.85608882,\n",
              "        0.85611376, 0.85611376, 0.85618027, 0.85610545, 0.85607219,\n",
              "        0.85603894, 0.85606388, 0.85608051, 0.85610545, 0.85606388,\n",
              "        0.85605557, 0.85607219, 0.85606388, 0.85609714, 0.85604725,\n",
              "        0.85605557, 0.85604725, 0.85604725, 0.85608051, 0.85607219,\n",
              "        0.85608051, 0.85608882, 0.85608882, 0.85610545, 0.85608051]),\n",
              " 'split17_train_AUC': array([0.54663469, 0.85032755, 0.85087624, 0.85111734, 0.85142494,\n",
              "        0.85158289, 0.85174085, 0.85166603, 0.8514665 , 0.85130855,\n",
              "        0.85127529, 0.8516494 , 0.85159952, 0.85171591, 0.85164109,\n",
              "        0.85161615, 0.8516494 , 0.85167434, 0.85167434, 0.85138337,\n",
              "        0.85153301, 0.85148313, 0.8515247 , 0.85151639, 0.85153301,\n",
              "        0.85154964, 0.85154133, 0.85153301, 0.85149976, 0.85148313,\n",
              "        0.8516494 , 0.85157458, 0.85150807, 0.85153301, 0.85157458,\n",
              "        0.85172422, 0.85160783, 0.85154964, 0.85163278, 0.85169097,\n",
              "        0.85155795, 0.85160783, 0.85157458, 0.85156627, 0.85159952,\n",
              "        0.85160783, 0.85155795, 0.85158289, 0.85165772, 0.85159121,\n",
              "        0.85154964, 0.85154964, 0.85159952, 0.85159952, 0.85167434]),\n",
              " 'split18_train_AUC': array([0.55252066, 0.85589761, 0.85758526, 0.85825034, 0.8585995 ,\n",
              "        0.85886554, 0.85902349, 0.85907338, 0.85947242, 0.85946411,\n",
              "        0.85951399, 0.85967195, 0.85967195, 0.85966364, 0.85975508,\n",
              "        0.85986316, 0.85985485, 0.85975508, 0.85992967, 0.85982159,\n",
              "        0.85982159, 0.85974677, 0.85986316, 0.85994629, 0.85982159,\n",
              "        0.85992135, 0.85995461, 0.85999618, 0.85997124, 0.86004606,\n",
              "        0.86002943, 0.86002943, 0.85997955, 0.86002943, 0.86002943,\n",
              "        0.86002112, 0.86004606, 0.86004606, 0.86003774, 0.86004606,\n",
              "        0.86005437, 0.86002112, 0.86005437, 0.86008762, 0.860071  ,\n",
              "        0.85995461, 0.86007931, 0.86009594, 0.86008762, 0.86008762,\n",
              "        0.86007931, 0.86013751, 0.86013751, 0.86007931, 0.86008762]),\n",
              " 'split19_train_AUC': array([0.5333042 , 0.85183566, 0.85286797, 0.85304279, 0.85365884,\n",
              "        0.85353397, 0.85366717, 0.85397519, 0.85398352, 0.85406677,\n",
              "        0.85423327, 0.85415834, 0.85424159, 0.85424992, 0.85434149,\n",
              "        0.85433317, 0.85437479, 0.85441642, 0.85437479, 0.85434982,\n",
              "        0.85435814, 0.85434982, 0.85436647, 0.85424992, 0.85425824,\n",
              "        0.85429987, 0.85427489, 0.85424992, 0.85398352, 0.85431652,\n",
              "        0.85428322, 0.85415002, 0.85428322, 0.85390027, 0.85419164,\n",
              "        0.85417499, 0.85417499, 0.85415002, 0.85394189, 0.85395022,\n",
              "        0.85389194, 0.85395022, 0.85389194, 0.85389194, 0.85389194,\n",
              "        0.85399184, 0.85389194, 0.85395854, 0.85399184, 0.85399184,\n",
              "        0.85399184, 0.85399184, 0.85385864, 0.85390859, 0.85390027]),\n",
              " 'split20_train_AUC': array([0.5538061 , 0.85644196, 0.85726802, 0.85780203, 0.85800229,\n",
              "        0.85842783, 0.85880331, 0.85879496, 0.85885337, 0.85902859,\n",
              "        0.85897019, 0.85893681, 0.85897019, 0.85894516, 0.85897019,\n",
              "        0.85891178, 0.8589535 , 0.8589535 , 0.85901191, 0.85902859,\n",
              "        0.8589535 , 0.85899522, 0.85899522, 0.85907031, 0.85902859,\n",
              "        0.85906197, 0.85907866, 0.85942911, 0.85912872, 0.85933732,\n",
              "        0.85932898, 0.85909535, 0.85913707, 0.85912038, 0.85912872,\n",
              "        0.85926223, 0.85923719, 0.85925388, 0.85924554, 0.85926223,\n",
              "        0.85941242, 0.85942911, 0.85941242, 0.85941242, 0.85942911,\n",
              "        0.85944579, 0.85942911, 0.85939573, 0.85939573, 0.85936235,\n",
              "        0.85943745, 0.85936235, 0.85936235, 0.8596377 , 0.85942911]),\n",
              " 'split21_train_AUC': array([0.53248092, 0.84862744, 0.85022363, 0.85089703, 0.8513127 ,\n",
              "        0.8519861 , 0.85220225, 0.85257636, 0.85297541, 0.85306686,\n",
              "        0.85319987, 0.85307517, 0.85305023, 0.85326638, 0.85346591,\n",
              "        0.85361555, 0.8538317 , 0.85354904, 0.85339108, 0.85342434,\n",
              "        0.85386496, 0.85349085, 0.85354073, 0.85354904, 0.85369868,\n",
              "        0.85372363, 0.85375688, 0.85374857, 0.85375688, 0.85378182,\n",
              "        0.85381507, 0.85397303, 0.85374857, 0.85384001, 0.85384833,\n",
              "        0.85367374, 0.85380676, 0.85394809, 0.85371531, 0.8538317 ,\n",
              "        0.85384001, 0.85389821, 0.85374857, 0.85385664, 0.85366543,\n",
              "        0.85375688, 0.85373194, 0.85375688, 0.85377351, 0.85379845,\n",
              "        0.85376519, 0.85377351, 0.85372363, 0.85382339, 0.85382339]),\n",
              " 'split22_train_AUC': array([0.55180154, 0.85350747, 0.8548127 , 0.85500391, 0.85505379,\n",
              "        0.85545284, 0.85532813, 0.85535308, 0.85519512, 0.8554279 ,\n",
              "        0.85538633, 0.85535308, 0.85539464, 0.85547778, 0.85563573,\n",
              "        0.85557754, 0.85561911, 0.85562742, 0.85556923, 0.85568562,\n",
              "        0.8557355 , 0.85575212, 0.85572718, 0.85570224, 0.85577706,\n",
              "        0.85566068, 0.85578538, 0.85578538, 0.85582695, 0.85571887,\n",
              "        0.85577706, 0.85563573, 0.85586851, 0.85588514, 0.85569393,\n",
              "        0.85574381, 0.85577706, 0.85589345, 0.85571056, 0.85561911,\n",
              "        0.85582695, 0.85582695, 0.8558602 , 0.85583526, 0.85571887,\n",
              "        0.85575212, 0.8556773 , 0.85576875, 0.85576044, 0.8556773 ,\n",
              "        0.85572718, 0.85569393, 0.85562742, 0.85569393, 0.85570224]),\n",
              " 'split23_train_AUC': array([0.53379861, 0.84978717, 0.85129192, 0.851957  , 0.85248075,\n",
              "        0.85251401, 0.85238099, 0.85258052, 0.85278835, 0.85268859,\n",
              "        0.85277173, 0.85282992, 0.85289643, 0.85298788, 0.85300451,\n",
              "        0.85274679, 0.85276341, 0.85259714, 0.85261377, 0.85261377,\n",
              "        0.85260546, 0.85278835, 0.85250569, 0.85241425, 0.85238931,\n",
              "        0.85242256, 0.85242256, 0.85249738, 0.85250569, 0.85248075,\n",
              "        0.85248075, 0.85248075, 0.85248907, 0.85248075, 0.85247244,\n",
              "        0.85256389, 0.85248075, 0.85258883, 0.85258883, 0.85249738,\n",
              "        0.85258883, 0.85259714, 0.85250569, 0.85263871, 0.85249738,\n",
              "        0.85259714, 0.85264702, 0.85255558, 0.85264702, 0.85268028,\n",
              "        0.85258883, 0.85259714, 0.85266365, 0.85253064, 0.85267197]),\n",
              " 'split24_train_AUC': array([0.53954379, 0.84319014, 0.84454712, 0.84506327, 0.84552947,\n",
              "        0.84601232, 0.8461372 , 0.84635365, 0.84617882, 0.8462038 ,\n",
              "        0.84625375, 0.84657842, 0.84656177, 0.84666167, 0.84662837,\n",
              "        0.8465701 , 0.84662005, 0.84662005, 0.84662005, 0.84664502,\n",
              "        0.84668665, 0.84667   , 0.8465701 , 0.84658675, 0.84661172,\n",
              "        0.84662005, 0.84662837, 0.84661172, 0.84662005, 0.84666167,\n",
              "        0.84667   , 0.8466034 , 0.84664502, 0.84667   , 0.84667   ,\n",
              "        0.84656177, 0.84667832, 0.84645355, 0.8466034 , 0.84649517,\n",
              "        0.84666167, 0.84661172, 0.84665335, 0.84645355, 0.84655345,\n",
              "        0.84662005, 0.8466034 , 0.84652015, 0.8466367 , 0.84654512,\n",
              "        0.84667832, 0.84647852, 0.84667832, 0.84662837, 0.84661172]),\n",
              " 'mean_train_AUC': array([0.54198976, 0.85048976, 0.85198111, 0.85253055, 0.85290906,\n",
              "        0.85321565, 0.85337012, 0.85348956, 0.85359736, 0.85365991,\n",
              "        0.85369783, 0.85375941, 0.85378372, 0.85380536, 0.85384598,\n",
              "        0.85385328, 0.8538939 , 0.85386695, 0.85392087, 0.85392818,\n",
              "        0.85392086, 0.85393886, 0.8539555 , 0.85396716, 0.85397677,\n",
              "        0.85402374, 0.85399842, 0.85403242, 0.85401508, 0.8540474 ,\n",
              "        0.85404437, 0.85404868, 0.85405034, 0.85403465, 0.85402601,\n",
              "        0.85404434, 0.85403438, 0.85405564, 0.85406631, 0.85405434,\n",
              "        0.85407763, 0.85410796, 0.85407098, 0.85408227, 0.85407698,\n",
              "        0.85407299, 0.85407264, 0.85405365, 0.85409094, 0.85408163,\n",
              "        0.85408561, 0.85407564, 0.85412388, 0.8541003 , 0.85409125]),\n",
              " 'std_train_AUC': array([0.00905276, 0.00674405, 0.00665267, 0.00668611, 0.00663988,\n",
              "        0.00664698, 0.00663948, 0.00668919, 0.00670627, 0.00671932,\n",
              "        0.00673593, 0.00672857, 0.00673448, 0.0067296 , 0.00672025,\n",
              "        0.00675039, 0.00676244, 0.0067634 , 0.00679101, 0.00679607,\n",
              "        0.00676972, 0.00675229, 0.00673792, 0.00679518, 0.00682218,\n",
              "        0.00678185, 0.00679154, 0.00679627, 0.00677668, 0.00678147,\n",
              "        0.00677778, 0.00676337, 0.0067865 , 0.00680709, 0.00679083,\n",
              "        0.0067986 , 0.00674201, 0.00681688, 0.00680602, 0.00680488,\n",
              "        0.00679339, 0.00680535, 0.00682126, 0.00683555, 0.00681866,\n",
              "        0.00681293, 0.00682001, 0.00681979, 0.00681395, 0.00684198,\n",
              "        0.00682906, 0.00681097, 0.00679756, 0.00682065, 0.00680982]),\n",
              " 'split0_test_Log_loss': array([-0.66622307, -0.45029066, -0.43776307, -0.43390121, -0.43225293,\n",
              "        -0.43142038, -0.43095268, -0.43019965, -0.43057566, -0.430426  ,\n",
              "        -0.43038349, -0.43025137, -0.43034165, -0.43037365, -0.43024929,\n",
              "        -0.43030556, -0.43030302, -0.43023751, -0.43017377, -0.43036778,\n",
              "        -0.43025912, -0.43035475, -0.43039912, -0.43043522, -0.43047796,\n",
              "        -0.43046084, -0.43006153, -0.43046638, -0.43048565, -0.43049987,\n",
              "        -0.43023799, -0.43055499, -0.42998777, -0.4305522 , -0.43044526,\n",
              "        -0.43043214, -0.4305736 , -0.4305669 , -0.43024905, -0.43033108,\n",
              "        -0.43061276, -0.43058764, -0.43064261, -0.43064596, -0.43067689,\n",
              "        -0.43048307, -0.43064926, -0.43060549, -0.43073355, -0.43056869,\n",
              "        -0.43063936, -0.43068251, -0.43065883, -0.43065565, -0.43071406]),\n",
              " 'split1_test_Log_loss': array([-0.66444188, -0.50327748, -0.49866718, -0.49857562, -0.49921149,\n",
              "        -0.49997402, -0.50058927, -0.50117454, -0.50172877, -0.50215033,\n",
              "        -0.50249989, -0.50291972, -0.50343282, -0.5035441 , -0.50351744,\n",
              "        -0.50414119, -0.50412801, -0.50450585, -0.50473653, -0.50449948,\n",
              "        -0.5046516 , -0.50487059, -0.50556384, -0.50543663, -0.5051254 ,\n",
              "        -0.50513013, -0.50527886, -0.50544704, -0.50544753, -0.50565503,\n",
              "        -0.50557171, -0.50565547, -0.50577133, -0.50573656, -0.50580466,\n",
              "        -0.50585268, -0.50582857, -0.50588836, -0.50596093, -0.50603826,\n",
              "        -0.50605001, -0.50610055, -0.5061236 , -0.50646943, -0.50630803,\n",
              "        -0.50622555, -0.50621145, -0.50634703, -0.50630053, -0.50632812,\n",
              "        -0.50637449, -0.50639339, -0.50670589, -0.50647645, -0.5067016 ]),\n",
              " 'split2_test_Log_loss': array([-0.66411784, -0.49194877, -0.484653  , -0.48302312, -0.48260854,\n",
              "        -0.482706  , -0.48271003, -0.48281695, -0.48302237, -0.48318154,\n",
              "        -0.48332231, -0.4834314 , -0.48358278, -0.48369948, -0.48382185,\n",
              "        -0.48392832, -0.48400532, -0.48408611, -0.48414612, -0.48428331,\n",
              "        -0.48419121, -0.48434623, -0.48439423, -0.48473237, -0.48509616,\n",
              "        -0.48454749, -0.48460182, -0.48462213, -0.48469987, -0.48463255,\n",
              "        -0.48475157, -0.48476885, -0.48480271, -0.48508324, -0.4848577 ,\n",
              "        -0.48487646, -0.48518259, -0.48494221, -0.48497071, -0.48507566,\n",
              "        -0.48497737, -0.48498181, -0.48508201, -0.48508225, -0.48506159,\n",
              "        -0.48508353, -0.48506857, -0.48508198, -0.48512512, -0.48519684,\n",
              "        -0.48517508, -0.48558227, -0.48514515, -0.48519154, -0.48515343]),\n",
              " 'split3_test_Log_loss': array([-0.66371871, -0.48730436, -0.47776783, -0.47499002, -0.47393881,\n",
              "        -0.47344257, -0.47320398, -0.47312101, -0.47329139, -0.47307086,\n",
              "        -0.47306942, -0.47281462, -0.4731055 , -0.47315501, -0.47336002,\n",
              "        -0.4732081 , -0.47323881, -0.47328154, -0.47328652, -0.47332211,\n",
              "        -0.47335713, -0.47337563, -0.47369675, -0.47341423, -0.47330705,\n",
              "        -0.47348599, -0.47374875, -0.47349186, -0.47351359, -0.47353816,\n",
              "        -0.47354941, -0.47356186, -0.47384913, -0.47358458, -0.47359862,\n",
              "        -0.47394034, -0.47362061, -0.47365062, -0.47413181, -0.47367249,\n",
              "        -0.47376838, -0.47401766, -0.47379924, -0.47376168, -0.47363696,\n",
              "        -0.47367427, -0.47381524, -0.47370161, -0.47373094, -0.4737538 ,\n",
              "        -0.4742449 , -0.47378062, -0.47375186, -0.47369356, -0.4737927 ]),\n",
              " 'split4_test_Log_loss': array([-0.66634825, -0.42838701, -0.41058825, -0.40366366, -0.4001561 ,\n",
              "        -0.39782164, -0.39630149, -0.39518956, -0.39433032, -0.39368596,\n",
              "        -0.39314461, -0.39263966, -0.39237803, -0.39204064, -0.39178593,\n",
              "        -0.39155863, -0.39136857, -0.39122038, -0.39101423, -0.39091603,\n",
              "        -0.39070012, -0.39067888, -0.39050837, -0.39044369, -0.390344  ,\n",
              "        -0.39027224, -0.39022588, -0.3900664 , -0.39005695, -0.38998038,\n",
              "        -0.38999203, -0.38988394, -0.38985389, -0.38984922, -0.38981161,\n",
              "        -0.38967949, -0.38968949, -0.38960448, -0.38957858, -0.38959736,\n",
              "        -0.38980064, -0.38962074, -0.38949457, -0.3894668 , -0.38942858,\n",
              "        -0.38940839, -0.38938247, -0.38936574, -0.38927598, -0.38931622,\n",
              "        -0.38930628, -0.38935684, -0.38922399, -0.38925442, -0.38920329]),\n",
              " 'split5_test_Log_loss': array([-0.66582972, -0.47783735, -0.46886646, -0.46678539, -0.46591291,\n",
              "        -0.46610557, -0.46573229, -0.46578036, -0.46598869, -0.46609895,\n",
              "        -0.46614007, -0.46633512, -0.46662607, -0.46651065, -0.46670201,\n",
              "        -0.46680312, -0.46686002, -0.46683811, -0.46699536, -0.467526  ,\n",
              "        -0.46713287, -0.46718308, -0.46740695, -0.46729985, -0.46735644,\n",
              "        -0.46753091, -0.46746556, -0.46732256, -0.46753641, -0.46760193,\n",
              "        -0.4678705 , -0.46764733, -0.46770212, -0.46769398, -0.46789599,\n",
              "        -0.467886  , -0.46777315, -0.46779628, -0.46782496, -0.4681028 ,\n",
              "        -0.46799853, -0.46892215, -0.46822442, -0.46793817, -0.46792411,\n",
              "        -0.46798268, -0.46798109, -0.46790516, -0.46801853, -0.46805642,\n",
              "        -0.46809265, -0.46804493, -0.46821147, -0.46782074, -0.46829496]),\n",
              " 'split6_test_Log_loss': array([-0.66512795, -0.46447198, -0.45158176, -0.44702949, -0.44496604,\n",
              "        -0.44367803, -0.44288914, -0.44236226, -0.44201036, -0.44167738,\n",
              "        -0.44137808, -0.44119783, -0.44104968, -0.44104633, -0.44079703,\n",
              "        -0.44073947, -0.44064546, -0.44059662, -0.44062297, -0.44066838,\n",
              "        -0.44044481, -0.44040748, -0.44056453, -0.44027358, -0.44053081,\n",
              "        -0.44023681, -0.44015524, -0.4404462 , -0.44018578, -0.44016322,\n",
              "        -0.44014404, -0.44017403, -0.440166  , -0.4401291 , -0.44011969,\n",
              "        -0.44006798, -0.44045197, -0.44009182, -0.44003411, -0.43995209,\n",
              "        -0.43994076, -0.44003924, -0.44003765, -0.44000243, -0.4400149 ,\n",
              "        -0.44001925, -0.44003598, -0.43999983, -0.44001507, -0.43998865,\n",
              "        -0.43997402, -0.43999353, -0.44022429, -0.43996587, -0.43997455]),\n",
              " 'split7_test_Log_loss': array([-0.66601443, -0.45339719, -0.43717003, -0.43116455, -0.42810101,\n",
              "        -0.42637029, -0.42510418, -0.42415102, -0.4236154 , -0.42314299,\n",
              "        -0.42265319, -0.42243277, -0.42213089, -0.4217272 , -0.42177953,\n",
              "        -0.42138271, -0.42134775, -0.42134838, -0.42111332, -0.42090461,\n",
              "        -0.42098698, -0.42089019, -0.4208586 , -0.4203698 , -0.42069666,\n",
              "        -0.42064993, -0.42055019, -0.42020264, -0.42047476, -0.42047242,\n",
              "        -0.42044613, -0.42037096, -0.42034268, -0.42033097, -0.42035875,\n",
              "        -0.42045861, -0.4202313 , -0.42027918, -0.42020029, -0.4201344 ,\n",
              "        -0.42020311, -0.42003368, -0.42013004, -0.42007434, -0.42010679,\n",
              "        -0.42000676, -0.42000027, -0.41999591, -0.42004271, -0.42005532,\n",
              "        -0.41992537, -0.41997691, -0.41979152, -0.41991069, -0.41987629]),\n",
              " 'split8_test_Log_loss': array([-0.66383622, -0.52261418, -0.5227776 , -0.52525703, -0.52751929,\n",
              "        -0.52930595, -0.53092884, -0.53221208, -0.53322016, -0.53416081,\n",
              "        -0.53493584, -0.53550677, -0.53618686, -0.53663921, -0.53717899,\n",
              "        -0.53755011, -0.53798393, -0.53824157, -0.53818602, -0.53884154,\n",
              "        -0.5390727 , -0.53928662, -0.53953366, -0.53974597, -0.53986316,\n",
              "        -0.54006438, -0.54023598, -0.54049209, -0.5405123 , -0.54068409,\n",
              "        -0.54079701, -0.5409099 , -0.54101471, -0.54124017, -0.54171936,\n",
              "        -0.54134752, -0.54135948, -0.5414851 , -0.54194261, -0.54160366,\n",
              "        -0.54183235, -0.54179771, -0.54186466, -0.54190275, -0.54213144,\n",
              "        -0.54203019, -0.54210741, -0.54219363, -0.54219291, -0.54220203,\n",
              "        -0.54228054, -0.54227951, -0.54238456, -0.54193065, -0.54239902]),\n",
              " 'split9_test_Log_loss': array([-0.66637032, -0.46173856, -0.44970951, -0.44573012, -0.44375984,\n",
              "        -0.44271079, -0.44218314, -0.44170151, -0.44138225, -0.44115594,\n",
              "        -0.44101769, -0.44092895, -0.44064241, -0.4407468 , -0.44066511,\n",
              "        -0.44062007, -0.44058145, -0.44050509, -0.44027407, -0.44047517,\n",
              "        -0.44000533, -0.44041771, -0.44024982, -0.44022234, -0.44033606,\n",
              "        -0.44038996, -0.4403424 , -0.43989818, -0.44028809, -0.44031388,\n",
              "        -0.44031064, -0.44030163, -0.44026923, -0.44028698, -0.44027638,\n",
              "        -0.44023459, -0.44026741, -0.44026291, -0.44025787, -0.44026375,\n",
              "        -0.44025327, -0.44024844, -0.44017548, -0.44024088, -0.44023803,\n",
              "        -0.4402274 , -0.44025366, -0.44023228, -0.44022728, -0.44023162,\n",
              "        -0.44021315, -0.44021115, -0.44022082, -0.44024177, -0.4401968 ]),\n",
              " 'split10_test_Log_loss': array([-0.66620669, -0.46145207, -0.44957976, -0.44583176, -0.44414524,\n",
              "        -0.44322736, -0.44272578, -0.44234284, -0.44216675, -0.44189266,\n",
              "        -0.44179908, -0.44170861, -0.44164085, -0.44152974, -0.44153303,\n",
              "        -0.44180274, -0.44148671, -0.44145929, -0.44135299, -0.44142656,\n",
              "        -0.44141047, -0.44136556, -0.44137259, -0.44136811, -0.44133802,\n",
              "        -0.44155716, -0.44134692, -0.44133063, -0.44172717, -0.44142351,\n",
              "        -0.44130958, -0.44132751, -0.44132682, -0.44159631, -0.44162922,\n",
              "        -0.44130127, -0.44130598, -0.44130496, -0.44131776, -0.44133858,\n",
              "        -0.44134402, -0.4412638 , -0.44128293, -0.4412639 , -0.44135679,\n",
              "        -0.44129874, -0.44128923, -0.44124951, -0.4412421 , -0.44128708,\n",
              "        -0.44129585, -0.44129517, -0.44135444, -0.44136008, -0.44128362]),\n",
              " 'split11_test_Log_loss': array([-0.6634596 , -0.44455067, -0.43060569, -0.42589762, -0.42381035,\n",
              "        -0.42257521, -0.42175624, -0.42129405, -0.42093133, -0.42040151,\n",
              "        -0.42053746, -0.4203934 , -0.4203087 , -0.42022624, -0.42014125,\n",
              "        -0.42012778, -0.41994629, -0.41975665, -0.42000656, -0.42004498,\n",
              "        -0.42005186, -0.41969777, -0.42011061, -0.4198063 , -0.41966701,\n",
              "        -0.42004704, -0.42014104, -0.41994591, -0.41992373, -0.41990942,\n",
              "        -0.42004567, -0.42023303, -0.42036274, -0.41975931, -0.41991115,\n",
              "        -0.41990536, -0.41977932, -0.41992714, -0.41988114, -0.41963482,\n",
              "        -0.42012243, -0.41989179, -0.41966775, -0.41992305, -0.41992783,\n",
              "        -0.41982438, -0.41978535, -0.41971097, -0.41988588, -0.41989708,\n",
              "        -0.41984419, -0.41981676, -0.41990223, -0.41990917, -0.41992372]),\n",
              " 'split12_test_Log_loss': array([-0.66346411, -0.48527723, -0.48022429, -0.48018404, -0.48101793,\n",
              "        -0.48186497, -0.48284602, -0.48349561, -0.48409404, -0.48474293,\n",
              "        -0.48557714, -0.48567362, -0.48608277, -0.48641402, -0.48671431,\n",
              "        -0.48709664, -0.48723001, -0.48746368, -0.4877259 , -0.48860034,\n",
              "        -0.48799472, -0.4880858 , -0.4883687 , -0.48852376, -0.48872852,\n",
              "        -0.48884329, -0.48890452, -0.48894648, -0.4892315 , -0.48921425,\n",
              "        -0.48923847, -0.48934779, -0.48947349, -0.49045606, -0.48959188,\n",
              "        -0.49102487, -0.48959259, -0.48977216, -0.48958541, -0.48990209,\n",
              "        -0.49034045, -0.49001353, -0.49006915, -0.49020659, -0.49016789,\n",
              "        -0.49021757, -0.49034056, -0.49038546, -0.49031411, -0.4898817 ,\n",
              "        -0.4904013 , -0.49044668, -0.49045206, -0.49064717, -0.49052446]),\n",
              " 'split13_test_Log_loss': array([-0.66445039, -0.48789875, -0.48072218, -0.47902438, -0.47861336,\n",
              "        -0.47844313, -0.47846889, -0.4784921 , -0.47859555, -0.47868485,\n",
              "        -0.47879919, -0.47887722, -0.47901378, -0.47904074, -0.47913496,\n",
              "        -0.47917918, -0.47918223, -0.47928671, -0.47935207, -0.47934314,\n",
              "        -0.47940972, -0.47954123, -0.47951391, -0.47952225, -0.47965423,\n",
              "        -0.47957123, -0.47959704, -0.47966063, -0.47961524, -0.47975451,\n",
              "        -0.47972415, -0.47972888, -0.47983574, -0.47975813, -0.47989888,\n",
              "        -0.47983784, -0.47980628, -0.47983069, -0.47996676, -0.47998366,\n",
              "        -0.47991739, -0.47989114, -0.47994204, -0.47995621, -0.47991039,\n",
              "        -0.47995376, -0.48004299, -0.48000941, -0.47998725, -0.48007537,\n",
              "        -0.48009789, -0.48010546, -0.48011325, -0.47998652, -0.48003648]),\n",
              " 'split14_test_Log_loss': array([-0.66891875, -0.48914599, -0.47631251, -0.47170084, -0.46948595,\n",
              "        -0.46823614, -0.46754938, -0.46679949, -0.46644157, -0.46611063,\n",
              "        -0.46597267, -0.4657302 , -0.46551122, -0.46546991, -0.46542523,\n",
              "        -0.46528752, -0.46522001, -0.46519291, -0.46510611, -0.46519553,\n",
              "        -0.4651725 , -0.4649754 , -0.46493605, -0.46491051, -0.46489905,\n",
              "        -0.46539831, -0.46521007, -0.46486281, -0.46488004, -0.46486652,\n",
              "        -0.46477176, -0.46526486, -0.46476285, -0.46481514, -0.46466554,\n",
              "        -0.46507772, -0.4648617 , -0.46470227, -0.46534864, -0.46467689,\n",
              "        -0.46533799, -0.46502973, -0.46473763, -0.46460906, -0.46470343,\n",
              "        -0.46464169, -0.46464793, -0.46462806, -0.46462523, -0.46463202,\n",
              "        -0.4646245 , -0.46461915, -0.4646902 , -0.46458992, -0.46459648]),\n",
              " 'split15_test_Log_loss': array([-0.66516845, -0.45081032, -0.43651154, -0.4314028 , -0.42895379,\n",
              "        -0.42740815, -0.42644507, -0.4257462 , -0.4252549 , -0.42485768,\n",
              "        -0.42458942, -0.42433395, -0.42412966, -0.42395972, -0.42379621,\n",
              "        -0.42373524, -0.42360211, -0.42350803, -0.42345015, -0.42335541,\n",
              "        -0.42330441, -0.42323266, -0.42312827, -0.42316205, -0.42308405,\n",
              "        -0.42304161, -0.42301158, -0.42297588, -0.42293248, -0.42293077,\n",
              "        -0.42280205, -0.4228657 , -0.42284702, -0.42287115, -0.42280065,\n",
              "        -0.42268848, -0.42274358, -0.42279102, -0.42274257, -0.42271346,\n",
              "        -0.42270606, -0.42241009, -0.4226846 , -0.4226736 , -0.42267577,\n",
              "        -0.42265068, -0.42262836, -0.4224773 , -0.42262226, -0.42262957,\n",
              "        -0.42261173, -0.42258895, -0.42255583, -0.42259116, -0.42241981]),\n",
              " 'split16_test_Log_loss': array([-0.66426706, -0.47081735, -0.46055559, -0.45761535, -0.4563843 ,\n",
              "        -0.45582531, -0.45551935, -0.45535812, -0.45521653, -0.45521893,\n",
              "        -0.45523672, -0.45522834, -0.45521517, -0.45521155, -0.45525275,\n",
              "        -0.45522416, -0.45523764, -0.45525889, -0.45522997, -0.45528147,\n",
              "        -0.45527123, -0.45528244, -0.45510331, -0.45531412, -0.45539089,\n",
              "        -0.45537913, -0.45510862, -0.45538087, -0.45529778, -0.45535604,\n",
              "        -0.45547706, -0.45542904, -0.45541441, -0.45541882, -0.45543131,\n",
              "        -0.45520384, -0.45547392, -0.45547552, -0.45517929, -0.4551895 ,\n",
              "        -0.45530549, -0.45532909, -0.45550154, -0.45552907, -0.45539607,\n",
              "        -0.4555699 , -0.45546731, -0.45553287, -0.45552686, -0.45558224,\n",
              "        -0.45547093, -0.45557401, -0.4554924 , -0.45572356, -0.45556411]),\n",
              " 'split17_test_Log_loss': array([-0.66433782, -0.47897375, -0.46534093, -0.46025341, -0.45760012,\n",
              "        -0.45605214, -0.45498442, -0.45437536, -0.45373211, -0.45328977,\n",
              "        -0.45298951, -0.45265544, -0.4524696 , -0.45228645, -0.45208144,\n",
              "        -0.4521193 , -0.45190434, -0.45177317, -0.45160874, -0.45190414,\n",
              "        -0.45159145, -0.45156235, -0.45133754, -0.45143754, -0.4513498 ,\n",
              "        -0.45124941, -0.45127806, -0.45123736, -0.45082292, -0.4512682 ,\n",
              "        -0.45112857, -0.45095955, -0.4510783 , -0.45109588, -0.45117787,\n",
              "        -0.45085967, -0.45100912, -0.4510395 , -0.4510289 , -0.45123342,\n",
              "        -0.45093055, -0.45089934, -0.45107986, -0.45090226, -0.45094015,\n",
              "        -0.45080007, -0.45092618, -0.45089947, -0.45071719, -0.45078262,\n",
              "        -0.45078051, -0.45078248, -0.45081076, -0.45083931, -0.45097633]),\n",
              " 'split18_test_Log_loss': array([-0.66589361, -0.48715172, -0.47888707, -0.47683274, -0.47619179,\n",
              "        -0.4759893 , -0.47600079, -0.47596732, -0.47610841, -0.47617424,\n",
              "        -0.47630601, -0.47639887, -0.47652397, -0.47655122, -0.47664684,\n",
              "        -0.4767201 , -0.47675426, -0.47684809, -0.4768644 , -0.47677577,\n",
              "        -0.47707403, -0.4770405 , -0.47708461, -0.47708564, -0.47721279,\n",
              "        -0.47713642, -0.4772455 , -0.47724493, -0.47729821, -0.47701907,\n",
              "        -0.47722642, -0.476944  , -0.47744406, -0.47746147, -0.47746109,\n",
              "        -0.47743176, -0.47749556, -0.47751627, -0.47754453, -0.47754935,\n",
              "        -0.47756972, -0.47700583, -0.47748423, -0.47770772, -0.47764485,\n",
              "        -0.47774424, -0.47759263, -0.47767164, -0.47768781, -0.47768256,\n",
              "        -0.47767105, -0.47772225, -0.47770132, -0.47744802, -0.47773895]),\n",
              " 'split19_test_Log_loss': array([-0.66614784, -0.46730559, -0.45922683, -0.45752548, -0.45719423,\n",
              "        -0.45725109, -0.45744413, -0.45765666, -0.45789849, -0.45812029,\n",
              "        -0.45833964, -0.45849499, -0.4586773 , -0.45881613, -0.45896535,\n",
              "        -0.45907792, -0.45924134, -0.45954515, -0.45939583, -0.45947252,\n",
              "        -0.45955529, -0.45965448, -0.45970843, -0.45978804, -0.45985479,\n",
              "        -0.45987753, -0.4599538 , -0.46000517, -0.46028627, -0.46006536,\n",
              "        -0.46014548, -0.46030376, -0.46021831, -0.46046033, -0.46029786,\n",
              "        -0.46034159, -0.46035063, -0.46040113, -0.46040654, -0.46044461,\n",
              "        -0.46046921, -0.46047515, -0.46051835, -0.4605363 , -0.4605607 ,\n",
              "        -0.46058437, -0.46060546, -0.46062918, -0.46065207, -0.46066392,\n",
              "        -0.4606816 , -0.46069644, -0.46074094, -0.46076436, -0.46074013]),\n",
              " 'split20_test_Log_loss': array([-0.66627136, -0.49100107, -0.48264051, -0.48027959, -0.47943342,\n",
              "        -0.47900148, -0.47884665, -0.47876274, -0.47871709, -0.47871735,\n",
              "        -0.47871506, -0.47874714, -0.47878363, -0.47879969, -0.47876688,\n",
              "        -0.47883146, -0.478851  , -0.47875228, -0.47884625, -0.47892283,\n",
              "        -0.4789541 , -0.47897959, -0.47899258, -0.47901958, -0.47905274,\n",
              "        -0.47903854, -0.47907711, -0.47869937, -0.47909623, -0.47903374,\n",
              "        -0.47889185, -0.47913794, -0.47914002, -0.47914265, -0.47915638,\n",
              "        -0.47915794, -0.4791686 , -0.47917636, -0.4792077 , -0.47922193,\n",
              "        -0.47920011, -0.47921731, -0.47922369, -0.47921037, -0.47924093,\n",
              "        -0.47925731, -0.47925936, -0.47926196, -0.47927053, -0.47928652,\n",
              "        -0.47916445, -0.47928582, -0.47929058, -0.47898321, -0.47927883]),\n",
              " 'split21_test_Log_loss': array([-0.66410923, -0.45946173, -0.44801902, -0.44481498, -0.44337708,\n",
              "        -0.44213886, -0.44231847, -0.44211975, -0.44196502, -0.44192747,\n",
              "        -0.4418963 , -0.44186637, -0.44184097, -0.44185593, -0.44186463,\n",
              "        -0.44176736, -0.44205594, -0.44139531, -0.44192391, -0.4418366 ,\n",
              "        -0.44188178, -0.44195266, -0.44195903, -0.44196644, -0.44197832,\n",
              "        -0.44199248, -0.44201042, -0.44203262, -0.44205713, -0.44176132,\n",
              "        -0.44169526, -0.44223547, -0.44201393, -0.44207577, -0.44163964,\n",
              "        -0.44202082, -0.44210055, -0.44216895, -0.44210739, -0.44210552,\n",
              "        -0.44213903, -0.4421487 , -0.44214248, -0.44220514, -0.44177147,\n",
              "        -0.44215873, -0.44213546, -0.44220182, -0.44218815, -0.44217371,\n",
              "        -0.44216744, -0.44207589, -0.44212237, -0.44212889, -0.44222061]),\n",
              " 'split22_test_Log_loss': array([-0.66588838, -0.47719045, -0.4670978 , -0.46417391, -0.46302944,\n",
              "        -0.46248322, -0.46224071, -0.46209074, -0.46202282, -0.46205328,\n",
              "        -0.46201508, -0.46200851, -0.46206476, -0.46203515, -0.46219315,\n",
              "        -0.46208721, -0.46210628, -0.46221325, -0.46224812, -0.4621396 ,\n",
              "        -0.46220598, -0.46230783, -0.46234169, -0.46235711, -0.46230038,\n",
              "        -0.46238749, -0.462323  , -0.46234347, -0.46249706, -0.4624168 ,\n",
              "        -0.46239282, -0.46244945, -0.46249968, -0.46239735, -0.46273892,\n",
              "        -0.46264846, -0.46247759, -0.46248312, -0.46248304, -0.46275783,\n",
              "        -0.46258255, -0.46252036, -0.46250987, -0.46253767, -0.46237915,\n",
              "        -0.46251946, -0.46277455, -0.46257718, -0.46255019, -0.46254389,\n",
              "        -0.46258932, -0.46257474, -0.46259303, -0.46257655, -0.46260033]),\n",
              " 'split23_test_Log_loss': array([-0.66349556, -0.4803447 , -0.47130085, -0.46867575, -0.46759508,\n",
              "        -0.46712257, -0.46705231, -0.466799  , -0.4667008 , -0.46688761,\n",
              "        -0.46670614, -0.4667353 , -0.46674156, -0.46683365, -0.46678481,\n",
              "        -0.4668291 , -0.4668556 , -0.46690277, -0.46687651, -0.4669342 ,\n",
              "        -0.46700849, -0.46676549, -0.46699496, -0.46706728, -0.46762543,\n",
              "        -0.46707544, -0.46710082, -0.46711123, -0.46713418, -0.46713999,\n",
              "        -0.46712978, -0.46718803, -0.4672195 , -0.46723278, -0.46719513,\n",
              "        -0.46725404, -0.46728484, -0.46711234, -0.46720831, -0.46723647,\n",
              "        -0.46729179, -0.46726205, -0.4679273 , -0.46725977, -0.46770676,\n",
              "        -0.46732037, -0.46733708, -0.46717137, -0.46731842, -0.46736349,\n",
              "        -0.4675062 , -0.46729304, -0.46732346, -0.46753592, -0.46739605]),\n",
              " 'split24_test_Log_loss': array([-0.66646895, -0.44822886, -0.43191249, -0.42588385, -0.42278899,\n",
              "        -0.42088977, -0.41966679, -0.4187868 , -0.41804537, -0.41753177,\n",
              "        -0.41711174, -0.41687265, -0.41648585, -0.41624889, -0.41605005,\n",
              "        -0.41587375, -0.4157444 , -0.4155862 , -0.41549443, -0.41526971,\n",
              "        -0.41527508, -0.41521497, -0.41512332, -0.41502876, -0.41495999,\n",
              "        -0.41490368, -0.41483854, -0.41477111, -0.4147533 , -0.41473036,\n",
              "        -0.41466314, -0.4146343 , -0.41456912, -0.41454733, -0.41451658,\n",
              "        -0.41445106, -0.4143955 , -0.41445308, -0.41437804, -0.41445759,\n",
              "        -0.41451016, -0.41442342, -0.41436133, -0.41440795, -0.41429359,\n",
              "        -0.41425587, -0.41420886, -0.41437738, -0.41420951, -0.41436441,\n",
              "        -0.41422648, -0.41415501, -0.41392511, -0.41414595, -0.41421614]),\n",
              " 'mean_test_Log_loss': array([-0.66522305, -0.47283511, -0.46233927, -0.45920867, -0.45792192,\n",
              "        -0.45728176, -0.4569784 , -0.45675183, -0.45668225, -0.45661447,\n",
              "        -0.45660543, -0.45656731, -0.45659866, -0.45659048, -0.45660832,\n",
              "        -0.45663987, -0.45663522, -0.45663214, -0.45664123, -0.45673229,\n",
              "        -0.45667852, -0.4566988 , -0.45677006, -0.45674925, -0.45680919,\n",
              "        -0.4568107 , -0.45679253, -0.45676016, -0.45683017, -0.45681726,\n",
              "        -0.45681252, -0.45687513, -0.45687862, -0.45694302, -0.45692   ,\n",
              "        -0.45695922, -0.45691296, -0.4569089 , -0.45694148, -0.45692869,\n",
              "        -0.45700817, -0.45696524, -0.45698828, -0.45698053, -0.45696812,\n",
              "        -0.45695753, -0.45698187, -0.45696849, -0.45697841, -0.45698176,\n",
              "        -0.45701437, -0.45701334, -0.45701545, -0.45697484, -0.45703291]),\n",
              " 'std_test_Log_loss': array([0.0013016 , 0.0205802 , 0.02414419, 0.02597799, 0.02711814,\n",
              "        0.02794446, 0.02854216, 0.02901714, 0.02937515, 0.02969953,\n",
              "        0.0299515 , 0.03014252, 0.03036128, 0.03050551, 0.03064114,\n",
              "        0.03078566, 0.0308853 , 0.03100611, 0.03105582, 0.0311778 ,\n",
              "        0.03122689, 0.03129035, 0.03139214, 0.03146954, 0.03149636,\n",
              "        0.03149996, 0.03156827, 0.03162187, 0.03163937, 0.03167825,\n",
              "        0.03171018, 0.03171881, 0.03178669, 0.03185673, 0.03188559,\n",
              "        0.03193818, 0.03187803, 0.03189212, 0.03198988, 0.03197305,\n",
              "        0.03196455, 0.03200194, 0.03202723, 0.03204029, 0.03206572,\n",
              "        0.03206928, 0.03208622, 0.03210502, 0.032102  , 0.03208544,\n",
              "        0.03214328, 0.0321513 , 0.03219255, 0.03209924, 0.03218693]),\n",
              " 'rank_test_Log_loss': array([55, 54, 53, 52, 51, 50, 39, 16, 12,  6,  4,  1,  3,  2,  5,  9,  8,\n",
              "         7, 10, 14, 11, 13, 18, 15, 20, 21, 19, 17, 24, 23, 22, 25, 26, 32,\n",
              "        29, 34, 28, 27, 31, 30, 45, 35, 44, 41, 36, 33, 43, 37, 40, 42, 47,\n",
              "        46, 48, 38, 49], dtype=int32),\n",
              " 'split0_train_Log_loss': array([-0.6644461 , -0.47384532, -0.46212533, -0.45822109, -0.45638723,\n",
              "        -0.45537062, -0.45474928, -0.45432089, -0.45404472, -0.45382027,\n",
              "        -0.45365785, -0.45352078, -0.45344022, -0.45335888, -0.45329588,\n",
              "        -0.45324056, -0.45319923, -0.45317528, -0.45311465, -0.45311966,\n",
              "        -0.45308954, -0.45306408, -0.45305515, -0.4530335 , -0.4530219 ,\n",
              "        -0.45300372, -0.45298832, -0.4529877 , -0.45297685, -0.45296667,\n",
              "        -0.4529483 , -0.45295599, -0.45295131, -0.45294344, -0.45293633,\n",
              "        -0.4529443 , -0.45293023, -0.4529266 , -0.45291391, -0.45291549,\n",
              "        -0.45291816, -0.45291175, -0.45291011, -0.45290688, -0.45290453,\n",
              "        -0.45291368, -0.45290132, -0.45290645, -0.45289621, -0.45289814,\n",
              "        -0.45290472, -0.45289226, -0.45289088, -0.45288881, -0.45288763]),\n",
              " 'split1_train_Log_loss': array([-0.66491722, -0.45651167, -0.44349885, -0.43910432, -0.43703789,\n",
              "        -0.43587828, -0.43515354, -0.43467332, -0.43429736, -0.43410548,\n",
              "        -0.43385327, -0.43377589, -0.4336376 , -0.43358873, -0.43351   ,\n",
              "        -0.43342733, -0.43339471, -0.43336976, -0.43333603, -0.433293  ,\n",
              "        -0.43326929, -0.43323109, -0.433229  , -0.43321348, -0.43318509,\n",
              "        -0.43317511, -0.43316096, -0.43316455, -0.43314051, -0.43312636,\n",
              "        -0.43312106, -0.43311227, -0.43310405, -0.43310811, -0.43309738,\n",
              "        -0.43309044, -0.43309824, -0.43308412, -0.43307695, -0.43306722,\n",
              "        -0.43306997, -0.43306616, -0.43306292, -0.43306262, -0.4330568 ,\n",
              "        -0.43305541, -0.43305419, -0.43304661, -0.43305356, -0.43304538,\n",
              "        -0.4330447 , -0.43304246, -0.43303992, -0.43304025, -0.43303577]),\n",
              " 'split2_train_Log_loss': array([-0.66508718, -0.45995791, -0.44750308, -0.44336408, -0.44141672,\n",
              "        -0.44031511, -0.43967448, -0.43924904, -0.43892019, -0.43869951,\n",
              "        -0.43852903, -0.43839628, -0.43830518, -0.43821901, -0.43814367,\n",
              "        -0.43809266, -0.43804861, -0.43801177, -0.43797181, -0.43795934,\n",
              "        -0.4379254 , -0.4379062 , -0.43789602, -0.4378772 , -0.43790178,\n",
              "        -0.43784607, -0.43782695, -0.43782794, -0.43781293, -0.4378138 ,\n",
              "        -0.43780011, -0.4377914 , -0.43778314, -0.43779629, -0.43777342,\n",
              "        -0.43776929, -0.43777649, -0.43776653, -0.43775641, -0.43776396,\n",
              "        -0.43775073, -0.4377457 , -0.43774119, -0.43774079, -0.43774265,\n",
              "        -0.43773713, -0.43774053, -0.43773428, -0.43773081, -0.43772667,\n",
              "        -0.43772794, -0.43773174, -0.43772521, -0.43772237, -0.4377208 ]),\n",
              " 'split3_train_Log_loss': array([-0.66531447, -0.46211629, -0.44999173, -0.44592671, -0.44405745,\n",
              "        -0.44299958, -0.44234882, -0.4419205 , -0.44159   , -0.44140671,\n",
              "        -0.44124393, -0.44095888, -0.44101624, -0.44094199, -0.44080217,\n",
              "        -0.44082606, -0.44078164, -0.44075092, -0.44071338, -0.44068767,\n",
              "        -0.44066102, -0.44064169, -0.44062414, -0.44060915, -0.44060784,\n",
              "        -0.44058316, -0.44054314, -0.44056173, -0.44055314, -0.44054491,\n",
              "        -0.44053965, -0.44053005, -0.44052672, -0.4405211 , -0.44051435,\n",
              "        -0.44050708, -0.44049848, -0.44050042, -0.4405133 , -0.4404904 ,\n",
              "        -0.44048649, -0.44048717, -0.44048391, -0.4404858 , -0.44048138,\n",
              "        -0.44047877, -0.44047335, -0.44047553, -0.44047535, -0.44046902,\n",
              "        -0.44046167, -0.44046862, -0.44046528, -0.4404615 , -0.44046221]),\n",
              " 'split4_train_Log_loss': array([-0.66469235, -0.48055455, -0.46983395, -0.46634389, -0.46478026,\n",
              "        -0.46389041, -0.46335798, -0.46298975, -0.46276136, -0.46258521,\n",
              "        -0.46248277, -0.46234311, -0.46227866, -0.46221084, -0.46216401,\n",
              "        -0.46212209, -0.46208693, -0.46206118, -0.46203416, -0.46201268,\n",
              "        -0.46198736, -0.46198038, -0.46195912, -0.461951  , -0.46194044,\n",
              "        -0.46192948, -0.46192385, -0.46191343, -0.46190821, -0.46190005,\n",
              "        -0.46189498, -0.46188838, -0.46188426, -0.4618778 , -0.46188248,\n",
              "        -0.461872  , -0.46187085, -0.46186773, -0.46186232, -0.46186134,\n",
              "        -0.46187784, -0.46185162, -0.4618553 , -0.46185258, -0.46184976,\n",
              "        -0.46184875, -0.4618472 , -0.46184703, -0.46184234, -0.46184273,\n",
              "        -0.46184186, -0.46184207, -0.46183826, -0.46183843, -0.46183682]),\n",
              " 'split5_train_Log_loss': array([-0.66463346, -0.46587902, -0.45368435, -0.44955267, -0.4476352 ,\n",
              "        -0.44652762, -0.44586386, -0.44542571, -0.44511498, -0.44489796,\n",
              "        -0.44472719, -0.4445819 , -0.44449134, -0.4443935 , -0.44432148,\n",
              "        -0.44426776, -0.44422717, -0.44417985, -0.44414908, -0.44419667,\n",
              "        -0.44409363, -0.44407181, -0.44404872, -0.44403474, -0.44402037,\n",
              "        -0.44401033, -0.44399618, -0.44399657, -0.44397539, -0.44396649,\n",
              "        -0.44396904, -0.44395095, -0.44394412, -0.44393813, -0.44391501,\n",
              "        -0.44392144, -0.44392323, -0.4439186 , -0.44391489, -0.44390629,\n",
              "        -0.44391019, -0.44390709, -0.443887  , -0.44389836, -0.44389958,\n",
              "        -0.44389324, -0.44389157, -0.44388701, -0.44388523, -0.44388377,\n",
              "        -0.44387977, -0.44388117, -0.44387726, -0.44388167, -0.44386646]),\n",
              " 'split6_train_Log_loss': array([-0.66461575, -0.46908795, -0.4574892 , -0.45366363, -0.45193534,\n",
              "        -0.45093951, -0.45034648, -0.44994311, -0.44968216, -0.44947092,\n",
              "        -0.44932369, -0.44921397, -0.44912438, -0.44904019, -0.44899147,\n",
              "        -0.44894413, -0.44891291, -0.44887444, -0.44885346, -0.4487938 ,\n",
              "        -0.44880033, -0.44878026, -0.44877214, -0.44875593, -0.44874513,\n",
              "        -0.44871899, -0.44870505, -0.44870585, -0.44870219, -0.44868939,\n",
              "        -0.4486789 , -0.44868318, -0.44867692, -0.44867109, -0.44866592,\n",
              "        -0.44866113, -0.4486697 , -0.44865485, -0.44865506, -0.44863666,\n",
              "        -0.44863773, -0.4486433 , -0.44864136, -0.44863348, -0.44864117,\n",
              "        -0.44863338, -0.44863507, -0.44863041, -0.44863069, -0.44862713,\n",
              "        -0.44862795, -0.44862248, -0.44864306, -0.44862165, -0.4486257 ]),\n",
              " 'split7_train_Log_loss': array([-0.66426767, -0.47488067, -0.46390627, -0.46035135, -0.45871518,\n",
              "        -0.4578349 , -0.45727799, -0.45691635, -0.45668774, -0.45651622,\n",
              "        -0.45638229, -0.45628207, -0.45620219, -0.45613234, -0.45609016,\n",
              "        -0.45604163, -0.45601398, -0.45598449, -0.45595037, -0.45593697,\n",
              "        -0.45591947, -0.45590635, -0.45589272, -0.45587557, -0.45587043,\n",
              "        -0.45585689, -0.45584718, -0.45583172, -0.45583376, -0.45582777,\n",
              "        -0.45582375, -0.45581712, -0.45580909, -0.45580874, -0.45580544,\n",
              "        -0.45579959, -0.45579496, -0.45579574, -0.45579209, -0.45579324,\n",
              "        -0.45578553, -0.45577771, -0.45578238, -0.45578023, -0.45577971,\n",
              "        -0.45577426, -0.45577681, -0.4557741 , -0.4557719 , -0.45577379,\n",
              "        -0.45576967, -0.45577025, -0.45576457, -0.45576927, -0.45575984]),\n",
              " 'split8_train_Log_loss': array([-0.66524934, -0.44957513, -0.43575213, -0.4309791 , -0.42869422,\n",
              "        -0.42740843, -0.42660957, -0.42605105, -0.42568792, -0.425407  ,\n",
              "        -0.42519543, -0.42504662, -0.42490466, -0.42481395, -0.42471518,\n",
              "        -0.42464828, -0.42458871, -0.4245474 , -0.42450943, -0.42446717,\n",
              "        -0.42443584, -0.42441204, -0.42438612, -0.42436389, -0.4243468 ,\n",
              "        -0.42433202, -0.42431527, -0.42427273, -0.42428844, -0.42426185,\n",
              "        -0.42426759, -0.42425934, -0.42425131, -0.42423981, -0.42420651,\n",
              "        -0.42422854, -0.42423368, -0.42421736, -0.42419751, -0.42421713,\n",
              "        -0.42421474, -0.42420065, -0.42419734, -0.42419403, -0.4241922 ,\n",
              "        -0.42418736, -0.42418387, -0.42418245, -0.42417935, -0.42417668,\n",
              "        -0.42417589, -0.42417504, -0.42417055, -0.42418641, -0.42416706]),\n",
              " 'split9_train_Log_loss': array([-0.66518466, -0.47106513, -0.45951613, -0.45571835, -0.45397329,\n",
              "        -0.45299215, -0.45238676, -0.45198705, -0.45172021, -0.45151072,\n",
              "        -0.45137196, -0.45125351, -0.45114822, -0.4510852 , -0.45103065,\n",
              "        -0.45098515, -0.45093593, -0.45090333, -0.45087164, -0.45085458,\n",
              "        -0.4508141 , -0.45081056, -0.45080353, -0.45078562, -0.45077549,\n",
              "        -0.45075901, -0.45074896, -0.45073842, -0.45073136, -0.45072499,\n",
              "        -0.45071834, -0.45071368, -0.45070494, -0.45070149, -0.4506967 ,\n",
              "        -0.45069343, -0.4506878 , -0.45068482, -0.45067563, -0.4506775 ,\n",
              "        -0.45067688, -0.45067269, -0.45066664, -0.45066886, -0.45066565,\n",
              "        -0.45066283, -0.45066041, -0.45065747, -0.45065764, -0.45065681,\n",
              "        -0.45065468, -0.45065383, -0.4506547 , -0.45065088, -0.45065009]),\n",
              " 'split10_train_Log_loss': array([-0.66445088, -0.4699848 , -0.45823201, -0.45438642, -0.45261612,\n",
              "        -0.45163052, -0.45103096, -0.45064599, -0.45037688, -0.45017664,\n",
              "        -0.45003744, -0.44992333, -0.4498362 , -0.44975486, -0.44971   ,\n",
              "        -0.44966351, -0.44962319, -0.44958545, -0.44957866, -0.44954452,\n",
              "        -0.44952175, -0.44950543, -0.44948787, -0.44947244, -0.44946198,\n",
              "        -0.44944247, -0.44944152, -0.44943349, -0.44943596, -0.44943025,\n",
              "        -0.44942689, -0.4494076 , -0.4494    , -0.4493883 , -0.44940549,\n",
              "        -0.4493878 , -0.44938431, -0.44938126, -0.44937783, -0.44938032,\n",
              "        -0.44937298, -0.44937133, -0.44936519, -0.44936201, -0.44936139,\n",
              "        -0.44936129, -0.44936002, -0.44935856, -0.44935336, -0.44935507,\n",
              "        -0.44935199, -0.44935203, -0.44935019, -0.44936315, -0.44934776]),\n",
              " 'split11_train_Log_loss': array([-0.66560929, -0.47511767, -0.46351866, -0.45965535, -0.45786671,\n",
              "        -0.45677294, -0.45618142, -0.45575635, -0.45546706, -0.45523476,\n",
              "        -0.45509612, -0.45497002, -0.45487187, -0.45479213, -0.45474999,\n",
              "        -0.4546765 , -0.45463007, -0.45466399, -0.45457972, -0.45453607,\n",
              "        -0.45449375, -0.45452921, -0.45447987, -0.45447243, -0.45445075,\n",
              "        -0.45442804, -0.45442886, -0.45441481, -0.4544033 , -0.45439587,\n",
              "        -0.45439013, -0.45438197, -0.45438311, -0.45436842, -0.45436337,\n",
              "        -0.45435801, -0.4543605 , -0.45435172, -0.45434962, -0.45434447,\n",
              "        -0.4543481 , -0.45433648, -0.45432639, -0.45433236, -0.45432615,\n",
              "        -0.45432542, -0.45432489, -0.45433755, -0.45432036, -0.45437093,\n",
              "        -0.45433386, -0.45431135, -0.45431396, -0.45431273, -0.4543116 ]),\n",
              " 'split12_train_Log_loss': array([-0.66561179, -0.46208205, -0.44906331, -0.44454813, -0.44242458,\n",
              "        -0.44117043, -0.44036746, -0.43989742, -0.43954906, -0.43928009,\n",
              "        -0.43901899, -0.43893767, -0.43879241, -0.43870909, -0.4386311 ,\n",
              "        -0.43857639, -0.43850563, -0.43846123, -0.43841372, -0.43833776,\n",
              "        -0.43836834, -0.43833041, -0.43831102, -0.43829231, -0.43826676,\n",
              "        -0.43825578, -0.43824432, -0.43823055, -0.43822666, -0.43820962,\n",
              "        -0.43820566, -0.43819391, -0.43817375, -0.43817373, -0.43816963,\n",
              "        -0.43821461, -0.43816586, -0.43815551, -0.43817884, -0.43814441,\n",
              "        -0.43814311, -0.43813601, -0.4381323 , -0.43813091, -0.43812616,\n",
              "        -0.43812288, -0.43811481, -0.43811533, -0.43811751, -0.43813534,\n",
              "        -0.43811089, -0.43810892, -0.4381095 , -0.43810456, -0.43810426]),\n",
              " 'split13_train_Log_loss': array([-0.66491466, -0.4613208 , -0.4489976 , -0.44494388, -0.44306059,\n",
              "        -0.44201862, -0.44137468, -0.44096427, -0.44067135, -0.44045858,\n",
              "        -0.44030472, -0.44018024, -0.44008646, -0.44001218, -0.43994664,\n",
              "        -0.43989782, -0.43985562, -0.43982083, -0.43978956, -0.43976459,\n",
              "        -0.43973954, -0.43972375, -0.43970177, -0.43968879, -0.4396788 ,\n",
              "        -0.43966631, -0.43965729, -0.43964637, -0.43964018, -0.43962714,\n",
              "        -0.43962298, -0.43961614, -0.43960866, -0.43960789, -0.43960264,\n",
              "        -0.43959705, -0.43959279, -0.4395923 , -0.43958629, -0.43958359,\n",
              "        -0.43958013, -0.43957626, -0.43957455, -0.43957031, -0.43956995,\n",
              "        -0.43956729, -0.43956273, -0.43956445, -0.43956209, -0.43955993,\n",
              "        -0.43955948, -0.4395577 , -0.43955662, -0.43955514, -0.43955399]),\n",
              " 'split14_train_Log_loss': array([-0.66350984, -0.46355196, -0.45218783, -0.44845767, -0.44670879,\n",
              "        -0.44575497, -0.44515324, -0.44478397, -0.44449861, -0.44428657,\n",
              "        -0.44415098, -0.44403842, -0.44393032, -0.44387894, -0.44382169,\n",
              "        -0.44377301, -0.44373372, -0.44369684, -0.44367097, -0.44366428,\n",
              "        -0.44362946, -0.44361018, -0.44358985, -0.44357839, -0.44356508,\n",
              "        -0.44357069, -0.44354858, -0.4435368 , -0.44352511, -0.44351716,\n",
              "        -0.44354258, -0.44350916, -0.4435008 , -0.44350133, -0.44348576,\n",
              "        -0.44349086, -0.44349548, -0.44347999, -0.44347826, -0.44347242,\n",
              "        -0.44351311, -0.44347268, -0.44346328, -0.44346709, -0.44345672,\n",
              "        -0.44345854, -0.44345712, -0.44345695, -0.44345366, -0.44345093,\n",
              "        -0.44345033, -0.44344877, -0.44345015, -0.44344498, -0.44344476]),\n",
              " 'split15_train_Log_loss': array([-0.66507685, -0.47341713, -0.46202132, -0.45828046, -0.45655201,\n",
              "        -0.45560954, -0.45502737, -0.45464448, -0.45438773, -0.45418479,\n",
              "        -0.45404837, -0.45393752, -0.45384919, -0.45377952, -0.45372639,\n",
              "        -0.45367392, -0.45363856, -0.45360746, -0.45358234, -0.453552  ,\n",
              "        -0.45354008, -0.45351828, -0.45349807, -0.45350198, -0.45347774,\n",
              "        -0.45346687, -0.45345784, -0.45344845, -0.45344222, -0.45343526,\n",
              "        -0.45343265, -0.45342267, -0.4534165 , -0.45341701, -0.45340777,\n",
              "        -0.45339993, -0.45340095, -0.45339946, -0.45339302, -0.45339073,\n",
              "        -0.45338942, -0.45338373, -0.45338423, -0.45337958, -0.45337853,\n",
              "        -0.4533774 , -0.45337559, -0.45337419, -0.45337253, -0.45337091,\n",
              "        -0.45337141, -0.45336792, -0.45336601, -0.45336292, -0.453355  ]),\n",
              " 'split16_train_Log_loss': array([-0.66500756, -0.46666193, -0.45459949, -0.45062523, -0.4487619 ,\n",
              "        -0.44775183, -0.44710655, -0.44668917, -0.4463995 , -0.44619389,\n",
              "        -0.44602818, -0.44590272, -0.4458217 , -0.44574026, -0.44568142,\n",
              "        -0.44563392, -0.44559262, -0.44555856, -0.44553572, -0.44550086,\n",
              "        -0.44548233, -0.44544958, -0.44544343, -0.44542949, -0.44541517,\n",
              "        -0.44540518, -0.44539007, -0.4453834 , -0.44537339, -0.44537187,\n",
              "        -0.44535505, -0.44535436, -0.44535205, -0.44534177, -0.44533853,\n",
              "        -0.44533302, -0.44532481, -0.44532661, -0.44532465, -0.44531406,\n",
              "        -0.4453192 , -0.44531839, -0.44531092, -0.44531009, -0.44531287,\n",
              "        -0.44529568, -0.44530293, -0.44530053, -0.44529971, -0.44529676,\n",
              "        -0.44529337, -0.44529586, -0.44529388, -0.44528856, -0.44528976]),\n",
              " 'split17_train_Log_loss': array([-0.66496285, -0.46586662, -0.45474169, -0.451127  , -0.44940369,\n",
              "        -0.44849255, -0.4479077 , -0.44756127, -0.44729003, -0.44708321,\n",
              "        -0.44692697, -0.44683322, -0.44674541, -0.44667557, -0.44661594,\n",
              "        -0.44659874, -0.44653705, -0.44650358, -0.44647259, -0.44652946,\n",
              "        -0.4464339 , -0.44642361, -0.4464035 , -0.44638221, -0.44637147,\n",
              "        -0.44635788, -0.446349  , -0.44634483, -0.44632698, -0.44632249,\n",
              "        -0.4463119 , -0.44632463, -0.44630612, -0.44630506, -0.44630068,\n",
              "        -0.44627963, -0.44629324, -0.44629541, -0.44629037, -0.44634716,\n",
              "        -0.4462804 , -0.4462804 , -0.44627244, -0.44627353, -0.44627781,\n",
              "        -0.44626275, -0.44626802, -0.44626086, -0.44626507, -0.44627084,\n",
              "        -0.44625953, -0.4462593 , -0.44624726, -0.44625487, -0.44627547]),\n",
              " 'split18_train_Log_loss': array([-0.66431401, -0.46190433, -0.44952282, -0.44536867, -0.44340933,\n",
              "        -0.44232483, -0.44165413, -0.44120982, -0.44091523, -0.44065395,\n",
              "        -0.44052197, -0.44039316, -0.44029149, -0.44020846, -0.44014499,\n",
              "        -0.44007667, -0.44004319, -0.44000623, -0.43997066, -0.43994749,\n",
              "        -0.43990897, -0.43990346, -0.43987877, -0.43986387, -0.43984919,\n",
              "        -0.43984737, -0.43982591, -0.43981911, -0.4398061 , -0.43980081,\n",
              "        -0.43978109, -0.43978448, -0.43977459, -0.43977074, -0.4397648 ,\n",
              "        -0.4397661 , -0.4397572 , -0.43975308, -0.43974718, -0.43974578,\n",
              "        -0.43974077, -0.43974989, -0.43973413, -0.43973075, -0.43972378,\n",
              "        -0.43972225, -0.43972561, -0.4397239 , -0.43972219, -0.4397208 ,\n",
              "        -0.43971909, -0.43971905, -0.43971549, -0.43971989, -0.4397131 ]),\n",
              " 'split19_train_Log_loss': array([-0.66489047, -0.46625156, -0.45358657, -0.44929712, -0.44727225,\n",
              "        -0.44614064, -0.44544052, -0.44496959, -0.44465035, -0.44441159,\n",
              "        -0.44423268, -0.44409804, -0.44399016, -0.44390358, -0.44383037,\n",
              "        -0.44377704, -0.44371593, -0.4436889 , -0.44365136, -0.44361946,\n",
              "        -0.44359116, -0.44357431, -0.44355446, -0.44353606, -0.44352105,\n",
              "        -0.4435048 , -0.44349504, -0.44348326, -0.44348921, -0.44346586,\n",
              "        -0.44345625, -0.44344136, -0.44344361, -0.44346054, -0.44342926,\n",
              "        -0.44342195, -0.44342253, -0.44341607, -0.4434122 , -0.44340808,\n",
              "        -0.44340462, -0.44340042, -0.44339726, -0.44339539, -0.44339278,\n",
              "        -0.44338953, -0.44338784, -0.44338679, -0.44338366, -0.44338122,\n",
              "        -0.44337982, -0.44337798, -0.44337501, -0.44337345, -0.44337336]),\n",
              " 'split20_train_Log_loss': array([-0.6644165 , -0.46037759, -0.44819632, -0.44416663, -0.44230922,\n",
              "        -0.44126934, -0.44065075, -0.44022407, -0.43992728, -0.43971766,\n",
              "        -0.43955328, -0.43943853, -0.43933964, -0.43926773, -0.43920128,\n",
              "        -0.43915489, -0.4391094 , -0.43908017, -0.43904382, -0.43902676,\n",
              "        -0.43899534, -0.4389737 , -0.43895654, -0.43894445, -0.43893092,\n",
              "        -0.43892991, -0.43891235, -0.43887668, -0.43888814, -0.43887315,\n",
              "        -0.43887524, -0.43887202, -0.4388642 , -0.43886203, -0.43885426,\n",
              "        -0.43884883, -0.43885063, -0.43884086, -0.43883804, -0.4388352 ,\n",
              "        -0.43883026, -0.43882822, -0.4388261 , -0.43881772, -0.43882162,\n",
              "        -0.43881898, -0.43881791, -0.43881549, -0.43881416, -0.4388121 ,\n",
              "        -0.43881155, -0.43880884, -0.4388075 , -0.43880785, -0.43880546]),\n",
              " 'split21_train_Log_loss': array([-0.66509358, -0.47014462, -0.45803237, -0.45403774, -0.45214354,\n",
              "        -0.45114334, -0.45044524, -0.45001713, -0.44971181, -0.44949905,\n",
              "        -0.44937485, -0.44918503, -0.44910861, -0.44903042, -0.44896606,\n",
              "        -0.44889532, -0.44880402, -0.44884986, -0.44879893, -0.44877677,\n",
              "        -0.44872992, -0.4487264 , -0.44870883, -0.44868845, -0.44867858,\n",
              "        -0.44866649, -0.4486552 , -0.44864509, -0.44863592, -0.44863426,\n",
              "        -0.44860665, -0.44860747, -0.44861808, -0.44860198, -0.44863012,\n",
              "        -0.4485949 , -0.44858807, -0.44858384, -0.44857681, -0.44857731,\n",
              "        -0.44857319, -0.44856871, -0.44856789, -0.44855701, -0.44857907,\n",
              "        -0.44856056, -0.44855576, -0.44855099, -0.44855406, -0.44855146,\n",
              "        -0.4485449 , -0.44854899, -0.44855351, -0.44854808, -0.44854442]),\n",
              " 'split22_train_Log_loss': array([-0.66431769, -0.46472635, -0.4525611 , -0.44850527, -0.44661864,\n",
              "        -0.44556277, -0.44488176, -0.44447578, -0.44418334, -0.44398122,\n",
              "        -0.44380199, -0.44367797, -0.44357544, -0.44350021, -0.4434355 ,\n",
              "        -0.44338515, -0.44334443, -0.44330335, -0.44327319, -0.44324652,\n",
              "        -0.44321445, -0.44319219, -0.44316369, -0.44312416, -0.44314619,\n",
              "        -0.44314501, -0.44312745, -0.44311399, -0.44309518, -0.44308698,\n",
              "        -0.44309053, -0.44311034, -0.44307113, -0.44307244, -0.44308899,\n",
              "        -0.44305399, -0.44304565, -0.44305368, -0.44305609, -0.44303009,\n",
              "        -0.44304391, -0.44304093, -0.44303844, -0.44303574, -0.44303579,\n",
              "        -0.44303384, -0.44303647, -0.44302423, -0.44302551, -0.44302529,\n",
              "        -0.4430249 , -0.44302176, -0.44301432, -0.44301591, -0.44301547]),\n",
              " 'split23_train_Log_loss': array([-0.66573204, -0.46399707, -0.4519413 , -0.44790541, -0.44604456,\n",
              "        -0.44499408, -0.44433384, -0.4439213 , -0.44362082, -0.44342142,\n",
              "        -0.44324921, -0.44311683, -0.44301901, -0.44294154, -0.44287116,\n",
              "        -0.44282112, -0.44277953, -0.44273928, -0.44271868, -0.44267967,\n",
              "        -0.4426536 , -0.4426668 , -0.44261624, -0.44260246, -0.44260241,\n",
              "        -0.44257843, -0.44256964, -0.44256144, -0.44254812, -0.44254059,\n",
              "        -0.44253412, -0.44252524, -0.44252194, -0.44251395, -0.44250906,\n",
              "        -0.44250252, -0.44249119, -0.44249456, -0.442487  , -0.44248661,\n",
              "        -0.44248578, -0.44248258, -0.44248621, -0.44248192, -0.44248214,\n",
              "        -0.44247245, -0.44247058, -0.44247268, -0.44246521, -0.44245869,\n",
              "        -0.44246681, -0.44246756, -0.4424595 , -0.44246401, -0.4424574 ]),\n",
              " 'split24_train_Log_loss': array([-0.66460313, -0.4747294 , -0.46362502, -0.46004272, -0.45836204,\n",
              "        -0.45746313, -0.45690047, -0.45654968, -0.45628311, -0.45610118,\n",
              "        -0.45596287, -0.45586533, -0.45577415, -0.4557062 , -0.4556556 ,\n",
              "        -0.45561167, -0.45557049, -0.4555409 , -0.45552913, -0.4554859 ,\n",
              "        -0.45547753, -0.45546071, -0.45544463, -0.45543125, -0.45542096,\n",
              "        -0.45541018, -0.45540023, -0.45539397, -0.4553852 , -0.45538031,\n",
              "        -0.45537263, -0.45536859, -0.45536274, -0.45535763, -0.4553532 ,\n",
              "        -0.45535947, -0.45534176, -0.45533155, -0.45534135, -0.45533052,\n",
              "        -0.45533299, -0.45533578, -0.45533348, -0.4553261 , -0.45532188,\n",
              "        -0.45532308, -0.45531936, -0.45531909, -0.45531867, -0.45532671,\n",
              "        -0.45532452, -0.45531512, -0.455338  , -0.45531257, -0.45531316]),\n",
              " 'mean_train_Log_loss': array([-0.66483677, -0.4665443 , -0.45456514, -0.45058292, -0.44872747,\n",
              "        -0.44769025, -0.44704899, -0.44663148, -0.44633755, -0.44612418,\n",
              "        -0.44596304, -0.44583484, -0.44574323, -0.44566741, -0.44560211,\n",
              "        -0.44555245, -0.44550693, -0.4454786 , -0.44544452, -0.44542135,\n",
              "        -0.44539105, -0.4453757 , -0.44535621, -0.44534035, -0.44533009,\n",
              "        -0.44531561, -0.44530237, -0.44529331, -0.44528578, -0.44527656,\n",
              "        -0.44527064, -0.44526489, -0.44525733, -0.44525395, -0.44524788,\n",
              "        -0.44524384, -0.44523995, -0.44523491, -0.44523183, -0.4452288 ,\n",
              "        -0.44522745, -0.44522183, -0.44521764, -0.44521577, -0.4452152 ,\n",
              "        -0.44521107, -0.44520976, -0.44520812, -0.44520603, -0.44520748,\n",
              "        -0.44520365, -0.44520164, -0.44520082, -0.4451996 , -0.44519669]),\n",
              " 'std_train_Log_loss': array([0.00049138, 0.00674278, 0.00733941, 0.00759193, 0.00772614,\n",
              "        0.00780535, 0.00785824, 0.00789232, 0.00792329, 0.00793803,\n",
              "        0.00796347, 0.00796687, 0.00797746, 0.00797936, 0.00799253,\n",
              "        0.00799485, 0.00799782, 0.00800457, 0.00800481, 0.00800839,\n",
              "        0.00800883, 0.00801469, 0.00801456, 0.00801688, 0.00801664,\n",
              "        0.00801686, 0.00802045, 0.00802312, 0.00802215, 0.00802527,\n",
              "        0.00802321, 0.00802427, 0.00802614, 0.00802444, 0.00803045,\n",
              "        0.00802569, 0.00802508, 0.00802708, 0.00802797, 0.00802788,\n",
              "        0.00802922, 0.00802818, 0.00802942, 0.00802921, 0.00802967,\n",
              "        0.0080304 , 0.00803037, 0.0080316 , 0.00803008, 0.00803363,\n",
              "        0.00803266, 0.00803072, 0.00803292, 0.00802993, 0.00803153])}"
            ]
          },
          "metadata": {
            "tags": []
          },
          "execution_count": 42
        }
      ]
    },
    {
      "cell_type": "code",
      "metadata": {
        "execution": {
          "iopub.execute_input": "2020-12-04T04:01:01.416870Z",
          "iopub.status.busy": "2020-12-04T04:01:01.415995Z",
          "iopub.status.idle": "2020-12-04T04:01:01.420129Z",
          "shell.execute_reply": "2020-12-04T04:01:01.420718Z"
        },
        "papermill": {
          "duration": 0.117235,
          "end_time": "2020-12-04T04:01:01.420870",
          "exception": false,
          "start_time": "2020-12-04T04:01:01.303635",
          "status": "completed"
        },
        "tags": [],
        "id": "WSJTCfQb1KTZ",
        "outputId": "72e11b3b-66eb-46ab-db61-2f0e073f4793"
      },
      "source": [
        "[i for i in results.keys() if 'rank_' in i]"
      ],
      "execution_count": null,
      "outputs": [
        {
          "output_type": "execute_result",
          "data": {
            "text/plain": [
              "['rank_test_Accuracy', 'rank_test_AUC', 'rank_test_Log_loss']"
            ]
          },
          "metadata": {
            "tags": []
          },
          "execution_count": 43
        }
      ]
    },
    {
      "cell_type": "code",
      "metadata": {
        "_cell_guid": "e52c3bfb-4325-4c27-9f8e-5514dae799c2",
        "_uuid": "b3d12ca129d816d2434e74ed6574f829f826c3fc",
        "execution": {
          "iopub.execute_input": "2020-12-04T04:01:01.655301Z",
          "iopub.status.busy": "2020-12-04T04:01:01.654492Z",
          "iopub.status.idle": "2020-12-04T04:01:01.995254Z",
          "shell.execute_reply": "2020-12-04T04:01:01.994640Z"
        },
        "papermill": {
          "duration": 0.462485,
          "end_time": "2020-12-04T04:01:01.995386",
          "exception": false,
          "start_time": "2020-12-04T04:01:01.532901",
          "status": "completed"
        },
        "tags": [],
        "id": "ODNodyVP1KTZ",
        "outputId": "fae86745-4ecf-434c-fed3-f0d4b00d3833"
      },
      "source": [
        "final_test['Survived'] = log_clf.predict(final_test[Selected_features])\n",
        "final_test['PassengerId'] = test_df['PassengerId']\n",
        "\n",
        "submission = final_test[['PassengerId','Survived']]\n",
        "\n",
        "submission.to_csv(\"submission.csv\", index=False)\n",
        "\n",
        "submission.tail()"
      ],
      "execution_count": null,
      "outputs": [
        {
          "output_type": "execute_result",
          "data": {
            "text/html": [
              "<div>\n",
              "<style scoped>\n",
              "    .dataframe tbody tr th:only-of-type {\n",
              "        vertical-align: middle;\n",
              "    }\n",
              "\n",
              "    .dataframe tbody tr th {\n",
              "        vertical-align: top;\n",
              "    }\n",
              "\n",
              "    .dataframe thead th {\n",
              "        text-align: right;\n",
              "    }\n",
              "</style>\n",
              "<table border=\"1\" class=\"dataframe\">\n",
              "  <thead>\n",
              "    <tr style=\"text-align: right;\">\n",
              "      <th></th>\n",
              "      <th>PassengerId</th>\n",
              "      <th>Survived</th>\n",
              "    </tr>\n",
              "  </thead>\n",
              "  <tbody>\n",
              "    <tr>\n",
              "      <th>413</th>\n",
              "      <td>1305</td>\n",
              "      <td>0</td>\n",
              "    </tr>\n",
              "    <tr>\n",
              "      <th>414</th>\n",
              "      <td>1306</td>\n",
              "      <td>1</td>\n",
              "    </tr>\n",
              "    <tr>\n",
              "      <th>415</th>\n",
              "      <td>1307</td>\n",
              "      <td>0</td>\n",
              "    </tr>\n",
              "    <tr>\n",
              "      <th>416</th>\n",
              "      <td>1308</td>\n",
              "      <td>0</td>\n",
              "    </tr>\n",
              "    <tr>\n",
              "      <th>417</th>\n",
              "      <td>1309</td>\n",
              "      <td>0</td>\n",
              "    </tr>\n",
              "  </tbody>\n",
              "</table>\n",
              "</div>"
            ],
            "text/plain": [
              "     PassengerId  Survived\n",
              "413         1305         0\n",
              "414         1306         1\n",
              "415         1307         0\n",
              "416         1308         0\n",
              "417         1309         0"
            ]
          },
          "metadata": {
            "tags": []
          },
          "execution_count": 44
        }
      ]
    }
  ]
}